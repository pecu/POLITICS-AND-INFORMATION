{
 "cells": [
  {
   "cell_type": "markdown",
   "metadata": {
    "id": "2o_KOIfYXX6a"
   },
   "source": [
    "輸入立委臉書粉專內容及立法院質詢資料"
   ]
  },
  {
   "cell_type": "code",
   "execution_count": 1,
   "metadata": {
    "id": "IhezagvXRFxZ"
   },
   "outputs": [],
   "source": [
    "import pandas as pd\n",
    "import jieba\n",
    "from tqdm import tqdm\n",
    "FB = pd.read_csv('LegislatorFB.csv')\n",
    "Question = pd.read_csv('TestData.csv')"
   ]
  },
  {
   "cell_type": "markdown",
   "metadata": {
    "id": "6v-V1A0YXmnW"
   },
   "source": [
    "以彰化縣立委謝衣鳳為例，建立發文文字斷詞表"
   ]
  },
  {
   "cell_type": "code",
   "execution_count": 2,
   "metadata": {
    "colab": {
     "base_uri": "https://localhost:8080/",
     "height": 203
    },
    "id": "olISEd7pYNZs",
    "outputId": "560fd564-04da-4628-96ed-bf6955372404"
   },
   "outputs": [
    {
     "data": {
      "text/html": [
       "<div>\n",
       "<style scoped>\n",
       "    .dataframe tbody tr th:only-of-type {\n",
       "        vertical-align: middle;\n",
       "    }\n",
       "\n",
       "    .dataframe tbody tr th {\n",
       "        vertical-align: top;\n",
       "    }\n",
       "\n",
       "    .dataframe thead th {\n",
       "        text-align: right;\n",
       "    }\n",
       "</style>\n",
       "<table border=\"1\" class=\"dataframe\">\n",
       "  <thead>\n",
       "    <tr style=\"text-align: right;\">\n",
       "      <th></th>\n",
       "      <th>post_id</th>\n",
       "      <th>page_id</th>\n",
       "      <th>page_name</th>\n",
       "      <th>page_category</th>\n",
       "      <th>message</th>\n",
       "      <th>story</th>\n",
       "      <th>type</th>\n",
       "      <th>permalink</th>\n",
       "      <th>created_time_gmt</th>\n",
       "      <th>created_time_taipei</th>\n",
       "      <th>...</th>\n",
       "      <th>link_name</th>\n",
       "      <th>link_description</th>\n",
       "      <th>like_count</th>\n",
       "      <th>haha_count</th>\n",
       "      <th>love_count</th>\n",
       "      <th>angry_count</th>\n",
       "      <th>sad_count</th>\n",
       "      <th>wow_count</th>\n",
       "      <th>comment_count</th>\n",
       "      <th>share_count</th>\n",
       "    </tr>\n",
       "  </thead>\n",
       "  <tbody>\n",
       "    <tr>\n",
       "      <th>6060</th>\n",
       "      <td>376687563131189_620555618744381</td>\n",
       "      <td>376687563131189</td>\n",
       "      <td>謝衣鳯</td>\n",
       "      <td>Politician</td>\n",
       "      <td>#衣鳯向第一線防疫人員致敬\\n#您們這段時間辛苦了\\n\\n但是一週2個口罩，\\n對於就醫民眾...</td>\n",
       "      <td>NaN</td>\n",
       "      <td>photo</td>\n",
       "      <td>https://www.facebook.com/376687563131189/posts...</td>\n",
       "      <td>2020-02-05T02:13:24+0000</td>\n",
       "      <td>2020-02-05T10:13:24</td>\n",
       "      <td>...</td>\n",
       "      <td>NaN</td>\n",
       "      <td>#衣鳯向第一線防疫人員致敬\\n#您們這段時間辛苦了\\n\\n但是一週2個口罩，\\n對於就醫民眾...</td>\n",
       "      <td>2333</td>\n",
       "      <td>0</td>\n",
       "      <td>0</td>\n",
       "      <td>0</td>\n",
       "      <td>0</td>\n",
       "      <td>0</td>\n",
       "      <td>114</td>\n",
       "      <td>20</td>\n",
       "    </tr>\n",
       "  </tbody>\n",
       "</table>\n",
       "<p>1 rows × 21 columns</p>\n",
       "</div>"
      ],
      "text/plain": [
       "                              post_id          page_id page_name  \\\n",
       "6060  376687563131189_620555618744381  376687563131189       謝衣鳯   \n",
       "\n",
       "     page_category                                            message story  \\\n",
       "6060    Politician  #衣鳯向第一線防疫人員致敬\\n#您們這段時間辛苦了\\n\\n但是一週2個口罩，\\n對於就醫民眾...   NaN   \n",
       "\n",
       "       type                                          permalink  \\\n",
       "6060  photo  https://www.facebook.com/376687563131189/posts...   \n",
       "\n",
       "              created_time_gmt  created_time_taipei  ... link_name  \\\n",
       "6060  2020-02-05T02:13:24+0000  2020-02-05T10:13:24  ...       NaN   \n",
       "\n",
       "                                       link_description like_count  \\\n",
       "6060  #衣鳯向第一線防疫人員致敬\\n#您們這段時間辛苦了\\n\\n但是一週2個口罩，\\n對於就醫民眾...       2333   \n",
       "\n",
       "      haha_count  love_count  angry_count  sad_count  wow_count  \\\n",
       "6060           0           0            0          0          0   \n",
       "\n",
       "      comment_count  share_count  \n",
       "6060            114           20  \n",
       "\n",
       "[1 rows x 21 columns]"
      ]
     },
     "execution_count": 2,
     "metadata": {},
     "output_type": "execute_result"
    }
   ],
   "source": [
    "Xie = FB[FB.page_name == \"謝衣鳯\"]\n",
    "Xie.head(1)"
   ]
  },
  {
   "cell_type": "markdown",
   "metadata": {
    "id": "SieJFJkFU9hj"
   },
   "source": [
    "結巴斷詞 jieba\n",
    "\n",
    "1.   len(Xie): 看謝衣鳳的貼文總共有幾筆\n",
    "2.   list(Xie['message']): 把要斷詞的內容轉成 list 格式\n",
    "3.   創造一個新的dataframe叫做Xie_docs，型態是pandas.core.frame.DataFrame\n",
    "4.   原本Xie_docs裡面的'jieba_results'欄位型態是pandas.core.series.Series，需要轉成'str'(字串)型態才能做後續處理。"
   ]
  },
  {
   "cell_type": "code",
   "execution_count": 3,
   "metadata": {
    "colab": {
     "base_uri": "https://localhost:8080/"
    },
    "id": "lwh1Lm6qVaQJ",
    "outputId": "1b3585aa-68c7-402b-8393-5a85ee652920"
   },
   "outputs": [
    {
     "data": {
      "text/plain": [
       "range(0, 658)"
      ]
     },
     "execution_count": 3,
     "metadata": {},
     "output_type": "execute_result"
    }
   ],
   "source": [
    "doc_names = range(len(Xie)) #Xie有幾篇文章\n",
    "doc_names"
   ]
  },
  {
   "cell_type": "code",
   "execution_count": 4,
   "metadata": {
    "id": "AGtnAChwV5Af"
   },
   "outputs": [],
   "source": [
    "import numpy as np\n",
    "Xie = Xie.replace(np.nan, '', regex=True) #將nan取代成空白字串\n",
    "\n",
    "text_list = list(Xie['message'])\n",
    "Xie_docs = pd.DataFrame(columns=['jieba_results'])\n",
    "Xie_docs['jieba_results'] = Xie_docs['jieba_results'].astype('str')"
   ]
  },
  {
   "cell_type": "code",
   "execution_count": 5,
   "metadata": {
    "colab": {
     "base_uri": "https://localhost:8080/"
    },
    "id": "jacjMZ-VX4ya",
    "outputId": "2bb10454-7a73-4672-defa-214290336075"
   },
   "outputs": [
    {
     "name": "stderr",
     "output_type": "stream",
     "text": [
      "Building prefix dict from the default dictionary ...\n",
      "Loading model from cache C:\\Users\\pecu6\\AppData\\Local\\Temp\\jieba.cache\n",
      "Loading model cost 0.536 seconds.\n",
      "Prefix dict has been built successfully.\n"
     ]
    },
    {
     "name": "stdout",
     "output_type": "stream",
     "text": [
      "['#', '衣', '鳯', '向', '第一線防疫人員', '致敬', '\\n', '#', '您們', '這段時間', '辛苦', '了', '\\n', '\\n', '但是', '一週', '2', '個', '口罩', '，', '\\n', '對於', '就醫民眾', '及', '陪同家屬', '真是', '杯水車薪', '，', '院長', '不是', '曾', '保證', '國內', '有足夠', '的', '口罩', '？', '\\n', '衷心', '建議', '：', '\\n', '1', '.', ' ', '行政院', '公開', '透明', '公布', '國內', '口罩', '數量', '\\n', ' ', ' ', ' ', ' ', '每天', '有', '多少', '、', '徵用', '多少', '、', '如何', '分配', '\\n', '2', '.', ' ', '根據', '需求', '（', '民眾', '就診單', '或', '處方箋', '）', '提供', '口罩', '\\n', '3', '.', ' ', '徹查', '並重罰', '囤積', '口罩', '\\n', '\\n', '#', '勤洗手', '不觸', '眼口鼻', '遠離病毒']\n"
     ]
    }
   ],
   "source": [
    "jieba.load_userdict(\"dict.txt\")\n",
    "\n",
    "words = jieba.lcut(text_list[0], cut_all = False)\n",
    "print(words)"
   ]
  },
  {
   "cell_type": "code",
   "execution_count": 6,
   "metadata": {
    "colab": {
     "base_uri": "https://localhost:8080/"
    },
    "id": "Bq1I-gyGYjZv",
    "outputId": "e65a6d5a-b695-4604-ce99-15456ba52d0a"
   },
   "outputs": [
    {
     "name": "stdout",
     "output_type": "stream",
     "text": [
      "['#', '不要怪我', '出來', '當烏鴉', '..', '∑', '^', ')', '{', '=', '...', '\\n', '\\n', '因為', '⋯', '全球', 'COVID-19', '變種病毒', '橫行', '，', '大家', '出門', '還是', '要', '戴好口罩', '，', '做好', '手部', '清潔', '，', '個人衛生', '管理', '的', '基本功', '。', ' ', '#', '假日', '出門', '請', '小心', '⚠', '️', '⚠', '️', '\\n', '\\n', '#', '自助', '最', '上策', ' ', ' ', '#', '因為', '人助', '天助', '\\n', '#', '但是', '打疫苗', '突然', '跳過', '大學生', '是', '怎麼', '回事', ' ', '#', '不是', '說好了', '有', '疫苗', '要給', '大家', '打', '的', '不要不要的', '嗎', '？', ' ', '#', '莫德納', '催出來', '吧', '！']\n"
     ]
    }
   ],
   "source": [
    "jieba.load_userdict(\"dict.txt\")\n",
    "\n",
    "words = jieba.lcut(text_list[657], cut_all = False)\n",
    "print(words)"
   ]
  },
  {
   "cell_type": "markdown",
   "metadata": {
    "id": "ztY3Ak16W5Vx"
   },
   "source": [
    "把要存斷詞結果的dataframe準備好之後，就可以開始斷詞了。</br>\n",
    "\n",
    "第一個迴圈</br> 剛才我們知道，謝衣鳳的篇數有658篇： 我們可以用一個for迴圈來跑每一篇文章，i是對應文章的意思，會從0(第一篇)跑到657(第658篇)；</br> 而text_list就是我們剛剛轉成list型態的謝衣鳳貼文內容；text_list[0]，就是取出list第一個元素(第一篇貼文)的意思。</br>\n",
    "\n",
    "第二個迴圈</br> words存的是文章斷詞後的集合物件(object)，我們需要跑第二個for迴圈把集合裡面的字取出來，</br> word代表斷詞集合中的一個字，先把字轉換成str(字串)型態之後，字和字之間加上空格存在一起。\n",
    "\n",
    "append加回斷詞欄位</br> 之後把text內容存到'jieba_results'這個欄位裡面，再和Xie_docs合併。</br> 最後我們Xie_docs，只會一個欄位jieba_results，存斷詞之後的結果。"
   ]
  },
  {
   "cell_type": "code",
   "execution_count": 7,
   "metadata": {
    "id": "EMzkKQuZXNzk"
   },
   "outputs": [],
   "source": [
    "import jieba\n",
    "from tqdm import tqdm\n",
    "import re\n",
    "jieba.load_userdict(\"dict.txt\")\n",
    "\n",
    "punctuation = \"、，：:\"\"()\\n!！？｡＂＃＄％＆＇（）＊＋－／：；＜＝＞＠［＼］＾＿｀｛｜｝～｟｠｢｣､、〃》「」『』【】〔〕〖〗〘〙〚〛〜〝〞〟〰〾〿–—‘'‛“”„‟…‧﹏\"\"\"\n",
    "re_punctuation = \"[{}] \".format(punctuation)\n",
    "\n",
    "for i in doc_names: #從第一篇到最後一篇\n",
    "    words = jieba.cut(text_list[i], cut_all = False)\n",
    "    text = ''\n",
    "    for word in words:\n",
    "        text = text + ' ' + str(word) \n",
    "    #print(words)\n",
    "    #print(i) #第幾篇文章\n",
    "    #print(text) #第幾篇文章的斷詞結果\n",
    "    text = re.sub(re_punctuation, \"\", text)\n",
    "    text = re.sub(r'[0-9]','',text)\n",
    "    text = re.sub(r'[a-zA-Z]','',text)\n",
    "    s = pd.Series({'jieba_results': text})\n",
    "    Xie_docs = Xie_docs.append(s, ignore_index=True) #每次的斷詞結果都加回Xie_docs"
   ]
  },
  {
   "cell_type": "code",
   "execution_count": 8,
   "metadata": {
    "colab": {
     "base_uri": "https://localhost:8080/",
     "height": 415
    },
    "id": "bVd0CyHudGE9",
    "outputId": "bcfb2dde-855a-4698-bd14-5b8735e9fe0c"
   },
   "outputs": [
    {
     "data": {
      "text/html": [
       "<div>\n",
       "<style scoped>\n",
       "    .dataframe tbody tr th:only-of-type {\n",
       "        vertical-align: middle;\n",
       "    }\n",
       "\n",
       "    .dataframe tbody tr th {\n",
       "        vertical-align: top;\n",
       "    }\n",
       "\n",
       "    .dataframe thead th {\n",
       "        text-align: right;\n",
       "    }\n",
       "</style>\n",
       "<table border=\"1\" class=\"dataframe\">\n",
       "  <thead>\n",
       "    <tr style=\"text-align: right;\">\n",
       "      <th></th>\n",
       "      <th>jieba_results</th>\n",
       "    </tr>\n",
       "  </thead>\n",
       "  <tbody>\n",
       "    <tr>\n",
       "      <th>0</th>\n",
       "      <td># 衣 鳯 向 第一線防疫人員 致敬 # 您們 這段時間 辛苦 了 但是 一週  個 口罩...</td>\n",
       "    </tr>\n",
       "    <tr>\n",
       "      <th>1</th>\n",
       "      <td># 衣鳳 關心 身分 證字號 尾數  的 朋友 數學 小學堂  可以 被  整除  可以 ...</td>\n",
       "    </tr>\n",
       "    <tr>\n",
       "      <th>2</th>\n",
       "      <td># 解決 不了 兒童 口罩 # 只好 延 後 開學時間 # 雙薪 家庭 該 怎麼 辦 以下...</td>\n",
       "    </tr>\n",
       "    <tr>\n",
       "      <th>3</th>\n",
       "      <td># 小帥哥 比 爸爸 帥 # 被 蔣得立 圈粉 # 孩子 們 需要 口罩 行政院 在 全面...</td>\n",
       "    </tr>\n",
       "    <tr>\n",
       "      <th>4</th>\n",
       "      <td># 感謝 彰化 鄉親 的 支持 # 第一天 開工馬 不 停蹄 # 腰彎得 越 低 做 得 越 多</td>\n",
       "    </tr>\n",
       "    <tr>\n",
       "      <th>...</th>\n",
       "      <td>...</td>\n",
       "    </tr>\n",
       "    <tr>\n",
       "      <th>653</th>\n",
       "      <td># 感謝華山 基金 會守護 獨居 老寶貝 # 邀請 您 一起 照顧弱 勢長 輩 # 陪 你...</td>\n",
       "    </tr>\n",
       "    <tr>\n",
       "      <th>654</th>\n",
       "      <td># 中元 普渡 # 誠心 祭拜 # 事事 平安 🙏 今天 是 農 曆 七月 十五 號 也 ...</td>\n",
       "    </tr>\n",
       "    <tr>\n",
       "      <th>655</th>\n",
       "      <td># 公益 疫苗  來 了 # 評估 完畢 就 不要 錯過 預約 # 感謝 三大 單位 贈 ...</td>\n",
       "    </tr>\n",
       "    <tr>\n",
       "      <th>656</th>\n",
       "      <td># 氣候 變遷   # 淹水 新常態 # 前瞻 基礎 建設 計畫   # 水環境 建設 由...</td>\n",
       "    </tr>\n",
       "    <tr>\n",
       "      <th>657</th>\n",
       "      <td># 不要怪我 出來 當烏鴉 .. ∑ ^ { = ... 因為 ⋯ 全球 - 變種病毒 橫...</td>\n",
       "    </tr>\n",
       "  </tbody>\n",
       "</table>\n",
       "<p>658 rows × 1 columns</p>\n",
       "</div>"
      ],
      "text/plain": [
       "                                         jieba_results\n",
       "0     # 衣 鳯 向 第一線防疫人員 致敬 # 您們 這段時間 辛苦 了 但是 一週  個 口罩...\n",
       "1     # 衣鳳 關心 身分 證字號 尾數  的 朋友 數學 小學堂  可以 被  整除  可以 ...\n",
       "2     # 解決 不了 兒童 口罩 # 只好 延 後 開學時間 # 雙薪 家庭 該 怎麼 辦 以下...\n",
       "3     # 小帥哥 比 爸爸 帥 # 被 蔣得立 圈粉 # 孩子 們 需要 口罩 行政院 在 全面...\n",
       "4     # 感謝 彰化 鄉親 的 支持 # 第一天 開工馬 不 停蹄 # 腰彎得 越 低 做 得 越 多\n",
       "..                                                 ...\n",
       "653   # 感謝華山 基金 會守護 獨居 老寶貝 # 邀請 您 一起 照顧弱 勢長 輩 # 陪 你...\n",
       "654   # 中元 普渡 # 誠心 祭拜 # 事事 平安 🙏 今天 是 農 曆 七月 十五 號 也 ...\n",
       "655   # 公益 疫苗  來 了 # 評估 完畢 就 不要 錯過 預約 # 感謝 三大 單位 贈 ...\n",
       "656   # 氣候 變遷   # 淹水 新常態 # 前瞻 基礎 建設 計畫   # 水環境 建設 由...\n",
       "657   # 不要怪我 出來 當烏鴉 .. ∑ ^ { = ... 因為 ⋯ 全球 - 變種病毒 橫...\n",
       "\n",
       "[658 rows x 1 columns]"
      ]
     },
     "execution_count": 8,
     "metadata": {},
     "output_type": "execute_result"
    }
   ],
   "source": [
    "Xie_docs"
   ]
  },
  {
   "cell_type": "code",
   "execution_count": 9,
   "metadata": {},
   "outputs": [
    {
     "data": {
      "text/html": [
       "<div>\n",
       "<style scoped>\n",
       "    .dataframe tbody tr th:only-of-type {\n",
       "        vertical-align: middle;\n",
       "    }\n",
       "\n",
       "    .dataframe tbody tr th {\n",
       "        vertical-align: top;\n",
       "    }\n",
       "\n",
       "    .dataframe thead th {\n",
       "        text-align: right;\n",
       "    }\n",
       "</style>\n",
       "<table border=\"1\" class=\"dataframe\">\n",
       "  <thead>\n",
       "    <tr style=\"text-align: right;\">\n",
       "      <th></th>\n",
       "      <th>post_id</th>\n",
       "      <th>page_id</th>\n",
       "      <th>page_name</th>\n",
       "      <th>page_category</th>\n",
       "      <th>message</th>\n",
       "      <th>story</th>\n",
       "      <th>type</th>\n",
       "      <th>permalink</th>\n",
       "      <th>created_time_gmt</th>\n",
       "      <th>created_time_taipei</th>\n",
       "      <th>...</th>\n",
       "      <th>link_description</th>\n",
       "      <th>like_count</th>\n",
       "      <th>haha_count</th>\n",
       "      <th>love_count</th>\n",
       "      <th>angry_count</th>\n",
       "      <th>sad_count</th>\n",
       "      <th>wow_count</th>\n",
       "      <th>comment_count</th>\n",
       "      <th>share_count</th>\n",
       "      <th>jieba_results</th>\n",
       "    </tr>\n",
       "  </thead>\n",
       "  <tbody>\n",
       "    <tr>\n",
       "      <th>6060</th>\n",
       "      <td>376687563131189_620555618744381</td>\n",
       "      <td>376687563131189</td>\n",
       "      <td>謝衣鳯</td>\n",
       "      <td>Politician</td>\n",
       "      <td>#衣鳯向第一線防疫人員致敬\\n#您們這段時間辛苦了\\n\\n但是一週2個口罩，\\n對於就醫民眾...</td>\n",
       "      <td></td>\n",
       "      <td>photo</td>\n",
       "      <td>https://www.facebook.com/376687563131189/posts...</td>\n",
       "      <td>2020-02-05T02:13:24+0000</td>\n",
       "      <td>2020-02-05T10:13:24</td>\n",
       "      <td>...</td>\n",
       "      <td>#衣鳯向第一線防疫人員致敬\\n#您們這段時間辛苦了\\n\\n但是一週2個口罩，\\n對於就醫民眾...</td>\n",
       "      <td>2333</td>\n",
       "      <td>0</td>\n",
       "      <td>0</td>\n",
       "      <td>0</td>\n",
       "      <td>0</td>\n",
       "      <td>0</td>\n",
       "      <td>114</td>\n",
       "      <td>20</td>\n",
       "      <td>NaN</td>\n",
       "    </tr>\n",
       "  </tbody>\n",
       "</table>\n",
       "<p>1 rows × 22 columns</p>\n",
       "</div>"
      ],
      "text/plain": [
       "                              post_id          page_id page_name  \\\n",
       "6060  376687563131189_620555618744381  376687563131189       謝衣鳯   \n",
       "\n",
       "     page_category                                            message story  \\\n",
       "6060    Politician  #衣鳯向第一線防疫人員致敬\\n#您們這段時間辛苦了\\n\\n但是一週2個口罩，\\n對於就醫民眾...         \n",
       "\n",
       "       type                                          permalink  \\\n",
       "6060  photo  https://www.facebook.com/376687563131189/posts...   \n",
       "\n",
       "              created_time_gmt  created_time_taipei  ...  \\\n",
       "6060  2020-02-05T02:13:24+0000  2020-02-05T10:13:24  ...   \n",
       "\n",
       "                                       link_description like_count haha_count  \\\n",
       "6060  #衣鳯向第一線防疫人員致敬\\n#您們這段時間辛苦了\\n\\n但是一週2個口罩，\\n對於就醫民眾...       2333          0   \n",
       "\n",
       "      love_count  angry_count  sad_count  wow_count  comment_count  \\\n",
       "6060           0            0          0          0            114   \n",
       "\n",
       "      share_count  jieba_results  \n",
       "6060           20            NaN  \n",
       "\n",
       "[1 rows x 22 columns]"
      ]
     },
     "execution_count": 9,
     "metadata": {},
     "output_type": "execute_result"
    }
   ],
   "source": [
    "Xie['jieba_results'] = Xie_docs\n",
    "Xie.head(1)"
   ]
  },
  {
   "cell_type": "code",
   "execution_count": 10,
   "metadata": {},
   "outputs": [
    {
     "data": {
      "text/html": [
       "<div>\n",
       "<style scoped>\n",
       "    .dataframe tbody tr th:only-of-type {\n",
       "        vertical-align: middle;\n",
       "    }\n",
       "\n",
       "    .dataframe tbody tr th {\n",
       "        vertical-align: top;\n",
       "    }\n",
       "\n",
       "    .dataframe thead th {\n",
       "        text-align: right;\n",
       "    }\n",
       "</style>\n",
       "<table border=\"1\" class=\"dataframe\">\n",
       "  <thead>\n",
       "    <tr style=\"text-align: right;\">\n",
       "      <th></th>\n",
       "      <th>post_id</th>\n",
       "      <th>page_id</th>\n",
       "      <th>page_name</th>\n",
       "      <th>page_category</th>\n",
       "      <th>message</th>\n",
       "      <th>story</th>\n",
       "      <th>type</th>\n",
       "      <th>permalink</th>\n",
       "      <th>created_time_gmt</th>\n",
       "      <th>created_time_taipei</th>\n",
       "      <th>...</th>\n",
       "      <th>link_description</th>\n",
       "      <th>like_count</th>\n",
       "      <th>haha_count</th>\n",
       "      <th>love_count</th>\n",
       "      <th>angry_count</th>\n",
       "      <th>sad_count</th>\n",
       "      <th>wow_count</th>\n",
       "      <th>comment_count</th>\n",
       "      <th>share_count</th>\n",
       "      <th>jieba_results</th>\n",
       "    </tr>\n",
       "  </thead>\n",
       "  <tbody>\n",
       "    <tr>\n",
       "      <th>0</th>\n",
       "      <td>376687563131189_620555618744381</td>\n",
       "      <td>376687563131189</td>\n",
       "      <td>謝衣鳯</td>\n",
       "      <td>Politician</td>\n",
       "      <td>#衣鳯向第一線防疫人員致敬\\n#您們這段時間辛苦了\\n\\n但是一週2個口罩，\\n對於就醫民眾...</td>\n",
       "      <td></td>\n",
       "      <td>photo</td>\n",
       "      <td>https://www.facebook.com/376687563131189/posts...</td>\n",
       "      <td>2020-02-05T02:13:24+0000</td>\n",
       "      <td>2020-02-05T10:13:24</td>\n",
       "      <td>...</td>\n",
       "      <td>#衣鳯向第一線防疫人員致敬\\n#您們這段時間辛苦了\\n\\n但是一週2個口罩，\\n對於就醫民眾...</td>\n",
       "      <td>2333</td>\n",
       "      <td>0</td>\n",
       "      <td>0</td>\n",
       "      <td>0</td>\n",
       "      <td>0</td>\n",
       "      <td>0</td>\n",
       "      <td>114</td>\n",
       "      <td>20</td>\n",
       "      <td>NaN</td>\n",
       "    </tr>\n",
       "    <tr>\n",
       "      <th>1</th>\n",
       "      <td>376687563131189_619928418807101</td>\n",
       "      <td>376687563131189</td>\n",
       "      <td>謝衣鳯</td>\n",
       "      <td>Politician</td>\n",
       "      <td>#衣鳳關心身分證字號尾數0的朋友\\n\\n數學小學堂：\\n0可以被2整除\\n0可以被等分成兩份...</td>\n",
       "      <td>謝衣鳯 is at 立法院委員研究大樓.</td>\n",
       "      <td>album</td>\n",
       "      <td>https://www.facebook.com/376687563131189/posts...</td>\n",
       "      <td>2020-02-04T02:38:56+0000</td>\n",
       "      <td>2020-02-04T10:38:56</td>\n",
       "      <td>...</td>\n",
       "      <td></td>\n",
       "      <td>1616</td>\n",
       "      <td>0</td>\n",
       "      <td>0</td>\n",
       "      <td>0</td>\n",
       "      <td>0</td>\n",
       "      <td>0</td>\n",
       "      <td>95</td>\n",
       "      <td>25</td>\n",
       "      <td>NaN</td>\n",
       "    </tr>\n",
       "    <tr>\n",
       "      <th>2</th>\n",
       "      <td>376687563131189_618887898911153</td>\n",
       "      <td>376687563131189</td>\n",
       "      <td>謝衣鳯</td>\n",
       "      <td>Politician</td>\n",
       "      <td>#解決不了兒童口罩\\n#只好延後開學時間\\n#雙薪家庭該怎麼辦？\\n\\n以下是幾個防範武漢肺...</td>\n",
       "      <td></td>\n",
       "      <td>photo</td>\n",
       "      <td>https://www.facebook.com/376687563131189/posts...</td>\n",
       "      <td>2020-02-02T12:21:03+0000</td>\n",
       "      <td>2020-02-02T20:21:03</td>\n",
       "      <td>...</td>\n",
       "      <td>#解決不了兒童口罩\\n#只好延後開學時間\\n#雙薪家庭該怎麼辦？\\n\\n以下是幾個防範武漢肺...</td>\n",
       "      <td>1345</td>\n",
       "      <td>0</td>\n",
       "      <td>0</td>\n",
       "      <td>0</td>\n",
       "      <td>0</td>\n",
       "      <td>0</td>\n",
       "      <td>76</td>\n",
       "      <td>17</td>\n",
       "      <td>NaN</td>\n",
       "    </tr>\n",
       "    <tr>\n",
       "      <th>3</th>\n",
       "      <td>376687563131189_618628752270401</td>\n",
       "      <td>376687563131189</td>\n",
       "      <td>謝衣鳯</td>\n",
       "      <td>Politician</td>\n",
       "      <td>#小帥哥比爸爸帥\\n#被蔣得立圈粉\\n#孩子們需要口罩\\n\\n行政院在全面徵用口罩後，全台每...</td>\n",
       "      <td></td>\n",
       "      <td>photo</td>\n",
       "      <td>https://www.facebook.com/376687563131189/posts...</td>\n",
       "      <td>2020-02-02T01:59:38+0000</td>\n",
       "      <td>2020-02-02T09:59:38</td>\n",
       "      <td>...</td>\n",
       "      <td>#小帥哥比爸爸帥\\n#被蔣得立圈粉\\n#孩子們需要口罩\\n\\n行政院在全面徵用口罩後，全台每...</td>\n",
       "      <td>1659</td>\n",
       "      <td>0</td>\n",
       "      <td>0</td>\n",
       "      <td>0</td>\n",
       "      <td>0</td>\n",
       "      <td>0</td>\n",
       "      <td>52</td>\n",
       "      <td>21</td>\n",
       "      <td>NaN</td>\n",
       "    </tr>\n",
       "    <tr>\n",
       "      <th>4</th>\n",
       "      <td>376687563131189_618105605656049</td>\n",
       "      <td>376687563131189</td>\n",
       "      <td>謝衣鳯</td>\n",
       "      <td>Politician</td>\n",
       "      <td>#感謝彰化鄉親的支持\\n#第一天開工馬不停蹄\\n#腰彎得越低做得越多</td>\n",
       "      <td></td>\n",
       "      <td>album</td>\n",
       "      <td>https://www.facebook.com/376687563131189/posts...</td>\n",
       "      <td>2020-02-01T07:43:49+0000</td>\n",
       "      <td>2020-02-01T15:43:49</td>\n",
       "      <td>...</td>\n",
       "      <td></td>\n",
       "      <td>4755</td>\n",
       "      <td>0</td>\n",
       "      <td>0</td>\n",
       "      <td>0</td>\n",
       "      <td>0</td>\n",
       "      <td>0</td>\n",
       "      <td>307</td>\n",
       "      <td>35</td>\n",
       "      <td>NaN</td>\n",
       "    </tr>\n",
       "  </tbody>\n",
       "</table>\n",
       "<p>5 rows × 22 columns</p>\n",
       "</div>"
      ],
      "text/plain": [
       "                           post_id          page_id page_name page_category  \\\n",
       "0  376687563131189_620555618744381  376687563131189       謝衣鳯    Politician   \n",
       "1  376687563131189_619928418807101  376687563131189       謝衣鳯    Politician   \n",
       "2  376687563131189_618887898911153  376687563131189       謝衣鳯    Politician   \n",
       "3  376687563131189_618628752270401  376687563131189       謝衣鳯    Politician   \n",
       "4  376687563131189_618105605656049  376687563131189       謝衣鳯    Politician   \n",
       "\n",
       "                                             message                 story  \\\n",
       "0  #衣鳯向第一線防疫人員致敬\\n#您們這段時間辛苦了\\n\\n但是一週2個口罩，\\n對於就醫民眾...                         \n",
       "1  #衣鳳關心身分證字號尾數0的朋友\\n\\n數學小學堂：\\n0可以被2整除\\n0可以被等分成兩份...  謝衣鳯 is at 立法院委員研究大樓.   \n",
       "2  #解決不了兒童口罩\\n#只好延後開學時間\\n#雙薪家庭該怎麼辦？\\n\\n以下是幾個防範武漢肺...                         \n",
       "3  #小帥哥比爸爸帥\\n#被蔣得立圈粉\\n#孩子們需要口罩\\n\\n行政院在全面徵用口罩後，全台每...                         \n",
       "4                 #感謝彰化鄉親的支持\\n#第一天開工馬不停蹄\\n#腰彎得越低做得越多                         \n",
       "\n",
       "    type                                          permalink  \\\n",
       "0  photo  https://www.facebook.com/376687563131189/posts...   \n",
       "1  album  https://www.facebook.com/376687563131189/posts...   \n",
       "2  photo  https://www.facebook.com/376687563131189/posts...   \n",
       "3  photo  https://www.facebook.com/376687563131189/posts...   \n",
       "4  album  https://www.facebook.com/376687563131189/posts...   \n",
       "\n",
       "           created_time_gmt  created_time_taipei  ...  \\\n",
       "0  2020-02-05T02:13:24+0000  2020-02-05T10:13:24  ...   \n",
       "1  2020-02-04T02:38:56+0000  2020-02-04T10:38:56  ...   \n",
       "2  2020-02-02T12:21:03+0000  2020-02-02T20:21:03  ...   \n",
       "3  2020-02-02T01:59:38+0000  2020-02-02T09:59:38  ...   \n",
       "4  2020-02-01T07:43:49+0000  2020-02-01T15:43:49  ...   \n",
       "\n",
       "                                    link_description like_count haha_count  \\\n",
       "0  #衣鳯向第一線防疫人員致敬\\n#您們這段時間辛苦了\\n\\n但是一週2個口罩，\\n對於就醫民眾...       2333          0   \n",
       "1                                                          1616          0   \n",
       "2  #解決不了兒童口罩\\n#只好延後開學時間\\n#雙薪家庭該怎麼辦？\\n\\n以下是幾個防範武漢肺...       1345          0   \n",
       "3  #小帥哥比爸爸帥\\n#被蔣得立圈粉\\n#孩子們需要口罩\\n\\n行政院在全面徵用口罩後，全台每...       1659          0   \n",
       "4                                                          4755          0   \n",
       "\n",
       "   love_count  angry_count  sad_count  wow_count  comment_count  share_count  \\\n",
       "0           0            0          0          0            114           20   \n",
       "1           0            0          0          0             95           25   \n",
       "2           0            0          0          0             76           17   \n",
       "3           0            0          0          0             52           21   \n",
       "4           0            0          0          0            307           35   \n",
       "\n",
       "   jieba_results  \n",
       "0            NaN  \n",
       "1            NaN  \n",
       "2            NaN  \n",
       "3            NaN  \n",
       "4            NaN  \n",
       "\n",
       "[5 rows x 22 columns]"
      ]
     },
     "execution_count": 10,
     "metadata": {},
     "output_type": "execute_result"
    }
   ],
   "source": [
    "Xie.reset_index(drop=True, inplace=True)\n",
    "Xie.head()"
   ]
  },
  {
   "cell_type": "code",
   "execution_count": 11,
   "metadata": {
    "colab": {
     "base_uri": "https://localhost:8080/",
     "height": 589
    },
    "id": "OSkWrpvLdlIT",
    "outputId": "4cf0f8c5-b0c5-41e5-d0e6-f6c606e0fe0e"
   },
   "outputs": [
    {
     "data": {
      "text/html": [
       "<div>\n",
       "<style scoped>\n",
       "    .dataframe tbody tr th:only-of-type {\n",
       "        vertical-align: middle;\n",
       "    }\n",
       "\n",
       "    .dataframe tbody tr th {\n",
       "        vertical-align: top;\n",
       "    }\n",
       "\n",
       "    .dataframe thead th {\n",
       "        text-align: right;\n",
       "    }\n",
       "</style>\n",
       "<table border=\"1\" class=\"dataframe\">\n",
       "  <thead>\n",
       "    <tr style=\"text-align: right;\">\n",
       "      <th></th>\n",
       "      <th>created_time_taipei</th>\n",
       "      <th>message</th>\n",
       "      <th>jieba_results</th>\n",
       "      <th>like_count</th>\n",
       "    </tr>\n",
       "  </thead>\n",
       "  <tbody>\n",
       "    <tr>\n",
       "      <th>0</th>\n",
       "      <td>2020-02-05T10:13:24</td>\n",
       "      <td>#衣鳯向第一線防疫人員致敬\\n#您們這段時間辛苦了\\n\\n但是一週2個口罩，\\n對於就醫民眾...</td>\n",
       "      <td># 衣 鳯 向 第一線防疫人員 致敬 # 您們 這段時間 辛苦 了 但是 一週  個 口罩...</td>\n",
       "      <td>2333</td>\n",
       "    </tr>\n",
       "    <tr>\n",
       "      <th>1</th>\n",
       "      <td>2020-02-04T10:38:56</td>\n",
       "      <td>#衣鳳關心身分證字號尾數0的朋友\\n\\n數學小學堂：\\n0可以被2整除\\n0可以被等分成兩份...</td>\n",
       "      <td># 衣鳳 關心 身分 證字號 尾數  的 朋友 數學 小學堂  可以 被  整除  可以 ...</td>\n",
       "      <td>1616</td>\n",
       "    </tr>\n",
       "    <tr>\n",
       "      <th>2</th>\n",
       "      <td>2020-02-02T20:21:03</td>\n",
       "      <td>#解決不了兒童口罩\\n#只好延後開學時間\\n#雙薪家庭該怎麼辦？\\n\\n以下是幾個防範武漢肺...</td>\n",
       "      <td># 解決 不了 兒童 口罩 # 只好 延 後 開學時間 # 雙薪 家庭 該 怎麼 辦 以下...</td>\n",
       "      <td>1345</td>\n",
       "    </tr>\n",
       "    <tr>\n",
       "      <th>3</th>\n",
       "      <td>2020-02-02T09:59:38</td>\n",
       "      <td>#小帥哥比爸爸帥\\n#被蔣得立圈粉\\n#孩子們需要口罩\\n\\n行政院在全面徵用口罩後，全台每...</td>\n",
       "      <td># 小帥哥 比 爸爸 帥 # 被 蔣得立 圈粉 # 孩子 們 需要 口罩 行政院 在 全面...</td>\n",
       "      <td>1659</td>\n",
       "    </tr>\n",
       "    <tr>\n",
       "      <th>4</th>\n",
       "      <td>2020-02-01T15:43:49</td>\n",
       "      <td>#感謝彰化鄉親的支持\\n#第一天開工馬不停蹄\\n#腰彎得越低做得越多</td>\n",
       "      <td># 感謝 彰化 鄉親 的 支持 # 第一天 開工馬 不 停蹄 # 腰彎得 越 低 做 得 越 多</td>\n",
       "      <td>4755</td>\n",
       "    </tr>\n",
       "    <tr>\n",
       "      <th>...</th>\n",
       "      <td>...</td>\n",
       "      <td>...</td>\n",
       "      <td>...</td>\n",
       "      <td>...</td>\n",
       "    </tr>\n",
       "    <tr>\n",
       "      <th>653</th>\n",
       "      <td>2021-08-16T10:10:09</td>\n",
       "      <td>#感謝華山基金會守護獨居老寶貝\\n#邀請您一起照顧弱勢長輩\\n#陪你笑伴你老💕💕💕\\n\\n俗...</td>\n",
       "      <td># 感謝華山 基金 會守護 獨居 老寶貝 # 邀請 您 一起 照顧弱 勢長 輩 # 陪 你...</td>\n",
       "      <td>1071</td>\n",
       "    </tr>\n",
       "    <tr>\n",
       "      <th>654</th>\n",
       "      <td>2021-08-22T08:00:50</td>\n",
       "      <td>#中元普渡\\n#誠心祭拜\\n#事事平安🙏\\n\\n今天是農曆七月十五號，也是一年一度的中元節普...</td>\n",
       "      <td># 中元 普渡 # 誠心 祭拜 # 事事 平安 🙏 今天 是 農 曆 七月 十五 號 也 ...</td>\n",
       "      <td>1795</td>\n",
       "    </tr>\n",
       "    <tr>\n",
       "      <th>655</th>\n",
       "      <td>2021-08-27T18:03:46</td>\n",
       "      <td>#公益疫苗BNT來了\\n#評估完畢就不要錯過預約\\n#感謝三大單位贈送疫苗\\n#永齡 #台積...</td>\n",
       "      <td># 公益 疫苗  來 了 # 評估 完畢 就 不要 錯過 預約 # 感謝 三大 單位 贈 ...</td>\n",
       "      <td>2108</td>\n",
       "    </tr>\n",
       "    <tr>\n",
       "      <th>656</th>\n",
       "      <td>2021-08-25T09:50:47</td>\n",
       "      <td>#氣候變遷 \\n#淹水新常態\\n#前瞻基礎建設計畫 #水環境建設\\n\\n由於全球氣候變遷導致...</td>\n",
       "      <td># 氣候 變遷   # 淹水 新常態 # 前瞻 基礎 建設 計畫   # 水環境 建設 由...</td>\n",
       "      <td>1218</td>\n",
       "    </tr>\n",
       "    <tr>\n",
       "      <th>657</th>\n",
       "      <td>2021-08-29T13:00:06</td>\n",
       "      <td>#不要怪我出來當烏鴉..∑^){=...\\n\\n因為⋯全球COVID-19變種病毒橫行，大家...</td>\n",
       "      <td># 不要怪我 出來 當烏鴉 .. ∑ ^ { = ... 因為 ⋯ 全球 - 變種病毒 橫...</td>\n",
       "      <td>1341</td>\n",
       "    </tr>\n",
       "  </tbody>\n",
       "</table>\n",
       "<p>658 rows × 4 columns</p>\n",
       "</div>"
      ],
      "text/plain": [
       "     created_time_taipei                                            message  \\\n",
       "0    2020-02-05T10:13:24  #衣鳯向第一線防疫人員致敬\\n#您們這段時間辛苦了\\n\\n但是一週2個口罩，\\n對於就醫民眾...   \n",
       "1    2020-02-04T10:38:56  #衣鳳關心身分證字號尾數0的朋友\\n\\n數學小學堂：\\n0可以被2整除\\n0可以被等分成兩份...   \n",
       "2    2020-02-02T20:21:03  #解決不了兒童口罩\\n#只好延後開學時間\\n#雙薪家庭該怎麼辦？\\n\\n以下是幾個防範武漢肺...   \n",
       "3    2020-02-02T09:59:38  #小帥哥比爸爸帥\\n#被蔣得立圈粉\\n#孩子們需要口罩\\n\\n行政院在全面徵用口罩後，全台每...   \n",
       "4    2020-02-01T15:43:49                 #感謝彰化鄉親的支持\\n#第一天開工馬不停蹄\\n#腰彎得越低做得越多   \n",
       "..                   ...                                                ...   \n",
       "653  2021-08-16T10:10:09  #感謝華山基金會守護獨居老寶貝\\n#邀請您一起照顧弱勢長輩\\n#陪你笑伴你老💕💕💕\\n\\n俗...   \n",
       "654  2021-08-22T08:00:50  #中元普渡\\n#誠心祭拜\\n#事事平安🙏\\n\\n今天是農曆七月十五號，也是一年一度的中元節普...   \n",
       "655  2021-08-27T18:03:46  #公益疫苗BNT來了\\n#評估完畢就不要錯過預約\\n#感謝三大單位贈送疫苗\\n#永齡 #台積...   \n",
       "656  2021-08-25T09:50:47  #氣候變遷 \\n#淹水新常態\\n#前瞻基礎建設計畫 #水環境建設\\n\\n由於全球氣候變遷導致...   \n",
       "657  2021-08-29T13:00:06  #不要怪我出來當烏鴉..∑^){=...\\n\\n因為⋯全球COVID-19變種病毒橫行，大家...   \n",
       "\n",
       "                                         jieba_results  like_count  \n",
       "0     # 衣 鳯 向 第一線防疫人員 致敬 # 您們 這段時間 辛苦 了 但是 一週  個 口罩...        2333  \n",
       "1     # 衣鳳 關心 身分 證字號 尾數  的 朋友 數學 小學堂  可以 被  整除  可以 ...        1616  \n",
       "2     # 解決 不了 兒童 口罩 # 只好 延 後 開學時間 # 雙薪 家庭 該 怎麼 辦 以下...        1345  \n",
       "3     # 小帥哥 比 爸爸 帥 # 被 蔣得立 圈粉 # 孩子 們 需要 口罩 行政院 在 全面...        1659  \n",
       "4     # 感謝 彰化 鄉親 的 支持 # 第一天 開工馬 不 停蹄 # 腰彎得 越 低 做 得 越 多        4755  \n",
       "..                                                 ...         ...  \n",
       "653   # 感謝華山 基金 會守護 獨居 老寶貝 # 邀請 您 一起 照顧弱 勢長 輩 # 陪 你...        1071  \n",
       "654   # 中元 普渡 # 誠心 祭拜 # 事事 平安 🙏 今天 是 農 曆 七月 十五 號 也 ...        1795  \n",
       "655   # 公益 疫苗  來 了 # 評估 完畢 就 不要 錯過 預約 # 感謝 三大 單位 贈 ...        2108  \n",
       "656   # 氣候 變遷   # 淹水 新常態 # 前瞻 基礎 建設 計畫   # 水環境 建設 由...        1218  \n",
       "657   # 不要怪我 出來 當烏鴉 .. ∑ ^ { = ... 因為 ⋯ 全球 - 變種病毒 橫...        1341  \n",
       "\n",
       "[658 rows x 4 columns]"
      ]
     },
     "execution_count": 11,
     "metadata": {},
     "output_type": "execute_result"
    }
   ],
   "source": [
    "Xie['jieba_results'] = Xie_docs\n",
    "Xie_post = Xie[['created_time_taipei','message','jieba_results','like_count']]\n",
    "Xie_post"
   ]
  },
  {
   "cell_type": "code",
   "execution_count": 12,
   "metadata": {
    "colab": {
     "base_uri": "https://localhost:8080/",
     "height": 265
    },
    "id": "c2UAuxa_wD0U",
    "outputId": "1c162f32-dc64-4616-97eb-2ddd783e4bb0"
   },
   "outputs": [
    {
     "data": {
      "text/plain": [
       "<AxesSubplot:ylabel='Frequency'>"
      ]
     },
     "execution_count": 12,
     "metadata": {},
     "output_type": "execute_result"
    },
    {
     "data": {
      "image/png": "[encoded data removed]",
      "text/plain": [
       "<Figure size 432x288 with 1 Axes>"
      ]
     },
     "metadata": {
      "needs_background": "light"
     },
     "output_type": "display_data"
    }
   ],
   "source": [
    "commutes = Xie_post['like_count']\n",
    "commutes.plot.hist(grid=True, bins=100, rwidth=0.9,\n",
    "color='#607c8e')"
   ]
  },
  {
   "cell_type": "code",
   "execution_count": 13,
   "metadata": {
    "colab": {
     "base_uri": "https://localhost:8080/",
     "height": 589
    },
    "id": "qi_ttW2pxd7X",
    "outputId": "90175272-044e-48a8-9b5a-5cc38dab2ffd"
   },
   "outputs": [
    {
     "data": {
      "text/html": [
       "<div>\n",
       "<style scoped>\n",
       "    .dataframe tbody tr th:only-of-type {\n",
       "        vertical-align: middle;\n",
       "    }\n",
       "\n",
       "    .dataframe tbody tr th {\n",
       "        vertical-align: top;\n",
       "    }\n",
       "\n",
       "    .dataframe thead th {\n",
       "        text-align: right;\n",
       "    }\n",
       "</style>\n",
       "<table border=\"1\" class=\"dataframe\">\n",
       "  <thead>\n",
       "    <tr style=\"text-align: right;\">\n",
       "      <th></th>\n",
       "      <th>created_time_taipei</th>\n",
       "      <th>message</th>\n",
       "      <th>jieba_results</th>\n",
       "      <th>like_count</th>\n",
       "    </tr>\n",
       "  </thead>\n",
       "  <tbody>\n",
       "    <tr>\n",
       "      <th>0</th>\n",
       "      <td>2020-02-05T10:13:24</td>\n",
       "      <td>#衣鳯向第一線防疫人員致敬\\n#您們這段時間辛苦了\\n\\n但是一週2個口罩，\\n對於就醫民眾...</td>\n",
       "      <td># 衣 鳯 向 第一線防疫人員 致敬 # 您們 這段時間 辛苦 了 但是 一週  個 口罩...</td>\n",
       "      <td>2333</td>\n",
       "    </tr>\n",
       "    <tr>\n",
       "      <th>1</th>\n",
       "      <td>2020-02-04T10:38:56</td>\n",
       "      <td>#衣鳳關心身分證字號尾數0的朋友\\n\\n數學小學堂：\\n0可以被2整除\\n0可以被等分成兩份...</td>\n",
       "      <td># 衣鳳 關心 身分 證字號 尾數  的 朋友 數學 小學堂  可以 被  整除  可以 ...</td>\n",
       "      <td>1616</td>\n",
       "    </tr>\n",
       "    <tr>\n",
       "      <th>3</th>\n",
       "      <td>2020-02-02T09:59:38</td>\n",
       "      <td>#小帥哥比爸爸帥\\n#被蔣得立圈粉\\n#孩子們需要口罩\\n\\n行政院在全面徵用口罩後，全台每...</td>\n",
       "      <td># 小帥哥 比 爸爸 帥 # 被 蔣得立 圈粉 # 孩子 們 需要 口罩 行政院 在 全面...</td>\n",
       "      <td>1659</td>\n",
       "    </tr>\n",
       "    <tr>\n",
       "      <th>6</th>\n",
       "      <td>2020-02-08T09:50:39</td>\n",
       "      <td>#元宵佳節慶團圓\\n#祝您快樂又健康\\n\\n元宵節是台灣重要傳統民俗節日，\\n衣鳯祝福大家「...</td>\n",
       "      <td># 元宵 佳節 慶團圓 # 祝您 快樂 又 健康 元宵 節是 台灣 重要 傳統 民俗 節日...</td>\n",
       "      <td>1950</td>\n",
       "    </tr>\n",
       "    <tr>\n",
       "      <th>8</th>\n",
       "      <td>2020-02-06T15:29:32</td>\n",
       "      <td>#協助受衝擊的行業\\n#需要朝野共同合作\\n\\n上午提早出席黨團大會，衣鳯非常關心受到疫情影...</td>\n",
       "      <td># 協助 受 衝擊 的 行業 # 需要 朝野 共同 合作 上午 提早 出席 黨團 大會 衣...</td>\n",
       "      <td>2071</td>\n",
       "    </tr>\n",
       "    <tr>\n",
       "      <th>...</th>\n",
       "      <td>...</td>\n",
       "      <td>...</td>\n",
       "      <td>...</td>\n",
       "      <td>...</td>\n",
       "    </tr>\n",
       "    <tr>\n",
       "      <th>646</th>\n",
       "      <td>2021-08-08T08:00:01</td>\n",
       "      <td>#父親節快樂💖💖💖 \\n\\n今天是八月八日父親節，祝福全天下的父親父親節快樂❣️\\n盧碧颱風...</td>\n",
       "      <td># 父親節 快樂 💖 💖 💖   今天 是 八月八 日父 親節 祝福 全 天下 的 父親 ...</td>\n",
       "      <td>1545</td>\n",
       "    </tr>\n",
       "    <tr>\n",
       "      <th>649</th>\n",
       "      <td>2021-08-11T12:00:23</td>\n",
       "      <td>#中央地方一起勘災\\n#徹底解決淹水問題\\n\\n水利署長說此次芳苑會淹水主要因新街排水大潮來...</td>\n",
       "      <td># 中央 地方 一起 勘災 # 徹底 解決 淹水 問題 水利 署長 說 此次 芳苑 會 淹...</td>\n",
       "      <td>1608</td>\n",
       "    </tr>\n",
       "    <tr>\n",
       "      <th>652</th>\n",
       "      <td>2021-08-09T14:52:51</td>\n",
       "      <td>#盡快落實現金救助\\n#幫助農民度過難關\\n\\n彰化縣素有「臺灣穀倉、農業大縣」的美譽，這次...</td>\n",
       "      <td># 盡快 落實 現金 救助 # 幫助 農民度 過難關 彰化 縣 素有 臺 灣 穀 倉 農業...</td>\n",
       "      <td>1993</td>\n",
       "    </tr>\n",
       "    <tr>\n",
       "      <th>654</th>\n",
       "      <td>2021-08-22T08:00:50</td>\n",
       "      <td>#中元普渡\\n#誠心祭拜\\n#事事平安🙏\\n\\n今天是農曆七月十五號，也是一年一度的中元節普...</td>\n",
       "      <td># 中元 普渡 # 誠心 祭拜 # 事事 平安 🙏 今天 是 農 曆 七月 十五 號 也 ...</td>\n",
       "      <td>1795</td>\n",
       "    </tr>\n",
       "    <tr>\n",
       "      <th>655</th>\n",
       "      <td>2021-08-27T18:03:46</td>\n",
       "      <td>#公益疫苗BNT來了\\n#評估完畢就不要錯過預約\\n#感謝三大單位贈送疫苗\\n#永齡 #台積...</td>\n",
       "      <td># 公益 疫苗  來 了 # 評估 完畢 就 不要 錯過 預約 # 感謝 三大 單位 贈 ...</td>\n",
       "      <td>2108</td>\n",
       "    </tr>\n",
       "  </tbody>\n",
       "</table>\n",
       "<p>281 rows × 4 columns</p>\n",
       "</div>"
      ],
      "text/plain": [
       "     created_time_taipei                                            message  \\\n",
       "0    2020-02-05T10:13:24  #衣鳯向第一線防疫人員致敬\\n#您們這段時間辛苦了\\n\\n但是一週2個口罩，\\n對於就醫民眾...   \n",
       "1    2020-02-04T10:38:56  #衣鳳關心身分證字號尾數0的朋友\\n\\n數學小學堂：\\n0可以被2整除\\n0可以被等分成兩份...   \n",
       "3    2020-02-02T09:59:38  #小帥哥比爸爸帥\\n#被蔣得立圈粉\\n#孩子們需要口罩\\n\\n行政院在全面徵用口罩後，全台每...   \n",
       "6    2020-02-08T09:50:39  #元宵佳節慶團圓\\n#祝您快樂又健康\\n\\n元宵節是台灣重要傳統民俗節日，\\n衣鳯祝福大家「...   \n",
       "8    2020-02-06T15:29:32  #協助受衝擊的行業\\n#需要朝野共同合作\\n\\n上午提早出席黨團大會，衣鳯非常關心受到疫情影...   \n",
       "..                   ...                                                ...   \n",
       "646  2021-08-08T08:00:01  #父親節快樂💖💖💖 \\n\\n今天是八月八日父親節，祝福全天下的父親父親節快樂❣️\\n盧碧颱風...   \n",
       "649  2021-08-11T12:00:23  #中央地方一起勘災\\n#徹底解決淹水問題\\n\\n水利署長說此次芳苑會淹水主要因新街排水大潮來...   \n",
       "652  2021-08-09T14:52:51  #盡快落實現金救助\\n#幫助農民度過難關\\n\\n彰化縣素有「臺灣穀倉、農業大縣」的美譽，這次...   \n",
       "654  2021-08-22T08:00:50  #中元普渡\\n#誠心祭拜\\n#事事平安🙏\\n\\n今天是農曆七月十五號，也是一年一度的中元節普...   \n",
       "655  2021-08-27T18:03:46  #公益疫苗BNT來了\\n#評估完畢就不要錯過預約\\n#感謝三大單位贈送疫苗\\n#永齡 #台積...   \n",
       "\n",
       "                                         jieba_results  like_count  \n",
       "0     # 衣 鳯 向 第一線防疫人員 致敬 # 您們 這段時間 辛苦 了 但是 一週  個 口罩...        2333  \n",
       "1     # 衣鳳 關心 身分 證字號 尾數  的 朋友 數學 小學堂  可以 被  整除  可以 ...        1616  \n",
       "3     # 小帥哥 比 爸爸 帥 # 被 蔣得立 圈粉 # 孩子 們 需要 口罩 行政院 在 全面...        1659  \n",
       "6     # 元宵 佳節 慶團圓 # 祝您 快樂 又 健康 元宵 節是 台灣 重要 傳統 民俗 節日...        1950  \n",
       "8     # 協助 受 衝擊 的 行業 # 需要 朝野 共同 合作 上午 提早 出席 黨團 大會 衣...        2071  \n",
       "..                                                 ...         ...  \n",
       "646   # 父親節 快樂 💖 💖 💖   今天 是 八月八 日父 親節 祝福 全 天下 的 父親 ...        1545  \n",
       "649   # 中央 地方 一起 勘災 # 徹底 解決 淹水 問題 水利 署長 說 此次 芳苑 會 淹...        1608  \n",
       "652   # 盡快 落實 現金 救助 # 幫助 農民度 過難關 彰化 縣 素有 臺 灣 穀 倉 農業...        1993  \n",
       "654   # 中元 普渡 # 誠心 祭拜 # 事事 平安 🙏 今天 是 農 曆 七月 十五 號 也 ...        1795  \n",
       "655   # 公益 疫苗  來 了 # 評估 完畢 就 不要 錯過 預約 # 感謝 三大 單位 贈 ...        2108  \n",
       "\n",
       "[281 rows x 4 columns]"
      ]
     },
     "execution_count": 13,
     "metadata": {},
     "output_type": "execute_result"
    }
   ],
   "source": [
    "temp = Xie_post[(Xie_post['like_count'] <= 2500) & (Xie_post['like_count'] >= 1500)]\n",
    "temp"
   ]
  },
  {
   "cell_type": "markdown",
   "metadata": {
    "id": "3tZOsNJSftr_"
   },
   "source": [
    "TF-IDF\n",
    "我們把剛才斷好詞的貼文，轉成list形式，全部放到corpus變數裡面，方便做tf-idf處理。\n",
    "\n",
    "CountVectorizer算字頻（搭配fit_transform）\n",
    "TfidfTransformer計算TFIDF"
   ]
  },
  {
   "cell_type": "code",
   "execution_count": 14,
   "metadata": {
    "id": "qWp2NjHYf5aG"
   },
   "outputs": [],
   "source": [
    "corpus = temp['jieba_results'].values.tolist()"
   ]
  },
  {
   "cell_type": "code",
   "execution_count": 15,
   "metadata": {
    "id": "1i0uDH-wfxUO"
   },
   "outputs": [],
   "source": [
    "# TF-IDF\n",
    "# coding:utf-8  \n",
    "\n",
    "#算字頻\n",
    "from sklearn.feature_extraction.text import CountVectorizer  \n",
    "vectorizer = CountVectorizer()  \n",
    "X = vectorizer.fit_transform(corpus)  \n",
    "word = vectorizer.get_feature_names()  \n",
    "\n",
    "#計算TFIDF\n",
    "from sklearn.feature_extraction.text import TfidfTransformer  \n",
    "transformer = TfidfTransformer()  \n",
    "tfidf = transformer.fit_transform(X)"
   ]
  },
  {
   "cell_type": "code",
   "execution_count": 24,
   "metadata": {},
   "outputs": [],
   "source": [
    "np.savetxt('logvect.csv', X.toarray(), delimiter=',')"
   ]
  },
  {
   "cell_type": "code",
   "execution_count": 16,
   "metadata": {
    "colab": {
     "base_uri": "https://localhost:8080/"
    },
    "id": "MJKOvMp7jimr",
    "outputId": "03ee7594-8b76-4761-f765-1962dba6bc23"
   },
   "outputs": [
    {
     "name": "stdout",
     "output_type": "stream",
     "text": [
      "TOP 10 WORDS PER TOPIC #0\n",
      "['免疫力', '社會', '做好', '母親節', '彰化', '勞工', '衣起', '防疫', '台灣', '我們']\n",
      "TOP 10 WORDS PER TOPIC #1\n",
      "['住民', '獎勵', '糯米', '畢業', '執行', '瘦肉精', '藥師', '公尺', '大家', '因為']\n",
      "TOP 10 WORDS PER TOPIC #2\n",
      "['因為', '防疫', '保護', '台灣', '重要', '專業', '地方', '未來', '孩子', '彰化']\n",
      "TOP 10 WORDS PER TOPIC #3\n",
      "['台灣', '今天', '感謝', '媽祖', '疫苗', '健康', '口罩', '快樂', '疫情', '生日']\n",
      "TOP 10 WORDS PER TOPIC #4\n",
      "['大家', '活動', '溪湖', '中元', '進口', '所有', '普渡', '使用', '台灣', '彰化']\n",
      "TOP 10 WORDS PER TOPIC #5\n",
      "['運動', '老師', '花海', '葡萄', '他人', '台灣', '自己', '口罩', '彰化', '保護']\n",
      "TOP 10 WORDS PER TOPIC #6\n",
      "['警察', '注意', '小朋友', '疫情', '民眾', '彰化', '台灣', '防疫', '口罩', '疫苗']\n",
      "TOP 10 WORDS PER TOPIC #7\n",
      "['生活', '愛心', '永靖', '老人', '你們', '土地公', '福大', '洗手', '彰化', '口罩']\n"
     ]
    }
   ],
   "source": [
    "#使用LDA演算法\n",
    "from sklearn.decomposition import LatentDirichletAllocation\n",
    "LDA = LatentDirichletAllocation(n_components=8, random_state=None)\n",
    "LDA.fit(tfidf)\n",
    "\n",
    "#觀看結果\n",
    "for i,topic in enumerate(LDA.components_):\n",
    "    print(f\"TOP 10 WORDS PER TOPIC #{i}\")\n",
    "    print([vectorizer.get_feature_names()[index] for index in topic.argsort()[-10:]])"
   ]
  },
  {
   "cell_type": "code",
   "execution_count": 17,
   "metadata": {
    "colab": {
     "base_uri": "https://localhost:8080/"
    },
    "id": "JHD4NkzSkzQR",
    "outputId": "c965976c-0a9c-4e3f-cc4c-9cad5c5645cc"
   },
   "outputs": [
    {
     "name": "stdout",
     "output_type": "stream",
     "text": [
      "TOP 10 WORDS PER TOPIC #0\n",
      "['女性', '多巴胺', '台灣', '使用', '美豬', '民眾', '我們', '政府', '進口', '瘦肉精']\n",
      "TOP 10 WORDS PER TOPIC #1\n",
      "['發展', '今天', '典禮', '我們', '民眾', '可以', '畢業', '彰化', '疫苗', '台灣']\n",
      "TOP 10 WORDS PER TOPIC #2\n",
      "['人口', '應該', '可以', '台灣', '問題', '衛福部', '檢驗', '進口', '防疫', '政府']\n",
      "TOP 10 WORDS PER TOPIC #3\n",
      "['衣起', '我們', '社區', '勞工', '孩子', '大家', '問題', '台灣', '彰化', '口罩']\n",
      "TOP 10 WORDS PER TOPIC #4\n",
      "['災害', '預算', '防疫', '因為', '經濟', '大家', '政府', '彰化', '農業', '台灣']\n",
      "TOP 10 WORDS PER TOPIC #5\n",
      "['活動', '竹塘', '今年', '對於', '家庭', '大家', '企業', '彰化', '台灣', '疫情']\n",
      "TOP 10 WORDS PER TOPIC #6\n",
      "['口罩', '大家', '警察', '可以', '食物', '地方', '溪湖', '感謝', '台灣', '彰化']\n",
      "TOP 10 WORDS PER TOPIC #7\n",
      "['因為', '保護', '需要', '中心', '可以', '彰化', '我們', '疫苗', '台灣', '大家']\n"
     ]
    }
   ],
   "source": [
    "LDA.fit(X)\n",
    "\n",
    "#觀看結果\n",
    "for i,topic in enumerate(LDA.components_):\n",
    "    print(f\"TOP 10 WORDS PER TOPIC #{i}\")\n",
    "    print([vectorizer.get_feature_names()[index] for index in topic.argsort()[-10:]])"
   ]
  },
  {
   "cell_type": "code",
   "execution_count": 18,
   "metadata": {
    "colab": {
     "base_uri": "https://localhost:8080/"
    },
    "id": "A2MJBr_sj618",
    "outputId": "46810a3a-9acb-4455-db15-69b1192ccc41"
   },
   "outputs": [
    {
     "name": "stdout",
     "output_type": "stream",
     "text": [
      "[' ', ' ', ' ', ' ', ' ', ' ', '謝委員', '衣鳳', '：', '（', '時分', '）', '主席', '、', '各位', '列席', '官員', '、', '各位', '同仁', '。', '請', '教主', '委', '，', '我', '看', '紓', '困振興條', '例裡面', '好像', '...', '\\n', ' ', ' ', ' ', ' ', ' ', ' ', '謝委員', '衣鳳', '：', '（', '時分', '）', '主席', '、', '各位', '列席', '官員', '、', '各位', '同仁', '。', '何次長', '，', '本席', '在', '這裡', '要', '再次', '肯定', '衛福部', '，', '因', '...', '\\n', ' ', ' ', ' ', ' ', ' ', ' ', '謝委員', '衣', '鳯', '：', '（', ' ', '時', ' ', ' ', '分', '）', '主席', '、', '各位', '列席', '官員', '、', '各位', '同仁', '。', '沈部長', '，', '本席', '對於', '部長', '跟', '所有', '經', '...', '\\n', ' ', ' ', ' ', ' ', ' ', ' ', '謝委員', '衣', '鳯', '：', '（', ' ', '時', ' ', ' ', '分', '）', '主席', '、', '各位', '列席', '官員', '、', '各位', '同仁', '。', '監', '察院', '正在', '籌設國', '家人', '權委員會', '...', '\\n', ' ', ' ', ' ', ' ', ' ', ' ', '謝委員', '衣', '鳯', '：', '（', ' ', '時', ' ', ' ', '分', '）', '主席', '、', '各位', '列席', '官員', '、', '各位', '同仁', '。', '部長', '，', '辛苦', '了', '。', '主席', '：', '請', '經濟部', '...', '\\n', ' ', ' ', ' ', ' ', ' ', ' ', '謝委員', '衣', '鳯', '：', '（', ' ', '時', ' ', ' ', '分', '）', '主席', '、', '各位', '列席', '官員', '、', '各位', '同仁', '。', '今天', '很多', '委員', '都', '非常', '重視', '財政部', '...', '\\n', ' ', ' ', ' ', ' ', ' ', ' ', '謝委員', '衣', '鳯', '：', '（', ' ', '時', '）', '主席', '、', '各位', '列席', '官員', '、', '各位', '同仁', '。', '本席', '要', '請', '教主', '委與', '海洋', '保育', '署署', '長', '，', '去年', '海', '...', '\\n', ' ', ' ', ' ', ' ', ' ', ' ', '謝委員', '衣', '鳯', '：', '（', ' ', '時', ' ', ' ', '分', '）', '主席', '、', '各位', '列席', '官員', '、', '各位', '同仁', '。', '農委會', '從', '今年', ' ', ' ', '月', '開始', '推出', '...', '\\n', ' ', ' ', ' ', ' ', ' ', ' ', '主席', '：', '報告', '院會', '，', '現在', '繼續', '開會', '，', '進行', '施政', '方針', '及', '施政', '報告', '之質詢', '。', ' ', '鐘', '。', '謝委員', '衣鳳', '：', '（', ' ', '時', '...', '\\n', ' ', ' ', ' ', ' ', ' ', '接下', '來', '請', '謝委員', '衣', '鳯', '發', '言', '；', '我們', '中午', '不', '休息', '。', '謝委員', '衣', '鳯', '：', '（', ' ', '時', ' ', ' ', '分', '）', '主席', '、', '各位', '列席', '官員', '...', '\\n', ' ', ' ', ' ', ' ', ' ', '謝委員', '衣', '鳯', '：', '（', ' ', '時', ' ', ' ', '分', '）', '主席', '、', '各位', '列席', '官員', '、', '各位', '同仁', '。', '我', '發現', '我們', '產業', '目前', '面臨', '一些', '問', '...', '\\n', ' ', ' ', ' ', ' ', ' ', '謝委員', '衣', '鳯', '：', '（', ' ', '時', ' ', ' ', '分', '）', '主席', '、', '各位', '列席', '官員', '、', '各位', '同仁', '。', '次長', '，', '您好', '！', '我', '知道', '現在', '我們', '有', '...', '\\n', ' ', ' ', ' ', ' ', ' ', '謝委員', '衣', '鳯', '：', '（', ' ', '時', ' ', ' ', '分', '）', '主席', '、', '各位', '列席', '官員', '、', '各位', '同仁', '。', '先請', '教', '交通部', '次長', '，', '這', '一次', '客運', '...', '\\n', ' ', ' ', ' ', ' ', ' ', '謝委員', '衣', '鳯', '：', '（', ' ', '時', ' ', ' ', '分', '）', '主席', '、', '各位', '列席', '官員', '、', '各位', '同仁', '。', '今天', '除了', '審查', '地方', '創生計', '畫執', '行情', '...', '\\n', ' ', ' ', ' ', ' ', ' ', '謝委員', '衣', '鳯', '：', '（', ' ', '時', ' ', ' ', '分', '）', '主席', '、', '各位', '列席', '官員', '、', '各位', '同仁', '。', '現在', '各國', '的', '政府', '高層', '都', '面臨', '到', '染疫', '...', '\\n', ' ', ' ', ' ', ' ', ' ', '謝委員', '衣', '鳯', '：', '（', ' ', '時', ' ', ' ', '分', '）', '主席', '、', '各位', '列席', '官員', '、', '各位', '同仁', '。', '我', '相信', '朝野', '對', '農業', '保險', '是', '有共識', '...', '\\n', ' ', ' ', ' ', ' ', ' ', '謝委員', '衣', '鳯', '：', '（', ' ', '時', '）', '主席', '、', '各位', '列席', '官員', '、', '各位', '同仁', '。', '我', '有', '一個', '比', '較屬', '於', '綜合性', '的', '問題', '想要', '請教', '，', '...', '\\n', ' ', ' ', ' ', ' ', ' ', '謝委員', '衣', '鳯', '：', '（', '時分', '）', '主席', '、', '各位', '列席', '官員', '、', '各位', '同仁', '。', '署長', '，', '關於', '彰化', '縣', '焚化', '爐', '從', '今年', '開始', '不', '...', '\\n', ' ', ' ', ' ', ' ', ' ', '謝委員', '衣', '鳯', '：', '（', '時分', '）', '主席', '、', '各位', '列席', '官員', '、', '各位', '同仁', '。', '其實', '我', '不是', '反對', '行動', '支付', '，', '甚至', '我', '也', '希', '...', '\\n', ' ', ' ', ' ', ' ', ' ', '謝委員', '衣', '鳯', '：', '（', '時分', '）', '主席', '、', '各位', '列席', '官員', '、', '各位', '同仁', '。', '勞動', '部將', '於', '月', '中', '推出', '安心', '即時', '上工', '方', '...', '\\n', ' ', ' ', ' ', ' ', ' ', '謝委員', '衣', '鳯', '：', '（', '時分', '）', '主席', '、', '各位', '列席', '官員', '、', '各位', '同仁', '。', '現在', '我們', '可以', '利用', '健保卡', '去', '查詢', '個', '人', '旅', '...', '\\n', ' ', ' ', ' ', ' ', ' ', '謝委員', '衣', '鳯', '：', '（', ' ', '時', ' ', ' ', '分', '）', '主席', '、', '各位', '列席', '官員', '、', '各位', '同仁', '。', '我', '相信', '農民', '退休', '儲金', '條例', '是', '所有', '...', '\\n', ' ', ' ', ' ', ' ', ' ', '謝委員', '衣', '鳯', '：', '（', ' ', '時', '）', '主席', '、', '各位', '列席', '官員', '、', '各位', '同仁', '。', '請', '問署', '長', '，', '就', '你', '所知', '，', '目前', '臺', '灣有', '沒有', '因為', '...', '\\n', ' ', ' ', ' ', ' ', ' ', '謝委員', '衣', '鳯', '：', '（', '時分', '）', '主席', '、', '各位', '列席', '官員', '、', '各位', '同仁', '。', '我', '有', '一個', '問題', '請', '教經濟部', '沈部長', '，', '你', '推', '...', '\\n', ' ', ' ', ' ', ' ', ' ', '謝委員', '衣', '鳯', '：', '（', ' ', '時', ' ', ' ', '分', '）', '主席', '、', '各位', '列席', '官員', '、', '各位', '同仁', '。', '全', '臺', '水利', '會', '的', '灌區', '面積', '有', ' ', '...', '\\n', ' ', ' ', ' ', ' ', ' ', '謝委員', '衣', '鳯', '：', '主席', '、', '各位', '列席', '官員', '、', '各位', '同仁', '。', '目前', '中華民國', '的', '民法', '從', '年', '開始', '施行', '，', '主要', '是', '參考', '...', '\\n', ' ', ' ', ' ', ' ', ' ', '謝委員', '衣', '鳯', '：', '（', ' ', '時', '）', '主席', '、', '各位', '列席', '官員', '、', '各位', '同仁', '。', '根據', '勞動部', ' ', ' ', '年', '的', '調查', '，', '部分', '工時', '...', '\\n', ' ', ' ', ' ', ' ', ' ', '謝委員', '衣', '鳯', '：', '（', ' ', '時', ' ', ' ', '分', '）', '主席', '、', '各位', '列席', '官員', '、', '各位', '同仁', '。', '今年初', '、', '過年', '後', '，', '我', '與', '國立', '故宮', '...', '\\n', ' ', ' ', ' ', ' ', ' ', '謝委員', '衣', '鳯', '：', '（', ' ', '時', ' ', ' ', '分', '）', '主席', '、', '各位', '列席', '官員', '、', '各位', '同仁', '。', '今年初', '、', '過年', '後', '，', '我', '與', '國立', '故宮', '...', '\\n', ' ', ' ', ' ', ' ', ' ', '主席', '：', '請', '謝委員', '衣', '鳯', '發', '言', '。', '（', ' ', '時', ' ', ' ', '分', '）', '主席', '、', '各位', '同仁', '。', '今天', '非常', '高興', '！', '農民是', '靠', '天', '吃', '飯', '的', '產', '...', '\\n', ' ', ' ', ' ', ' ', ' ', '謝委員', '衣', '鳯', '：', '主席', '、', '各位', '被', '提名', '人', '、', '各位', '列席', '官員', '、', '各位', '同仁', '。', '主委', '、', '副', '主委', '被', '提名', '人', '你', '們', '好', '，', '昨天', '我', '看', '...', '\\n', ' ', ' ', ' ', ' ', ' ', '謝委員', '衣', '鳯', '：', '（', ' ', '時', ' ', ' ', '分', '）', '主席', '、', '各位', '列席', '官員', '、', '各位', '同仁', '。', '主委', '，', '國發會', '提供', '給', '立法院', '的', '前', '...', '\\n', ' ', ' ', ' ', ' ', ' ', '謝委員', '衣', '鳯', '：', '（', ' ', '時', ' ', ' ', '分', '）', '主席', '、', '各位', '列席', '官員', '、', '各位', '同仁', '。', ' ', '於', '今年', ' ', ' ', '月', '就要', '滿', '...', '\\n', ' ', ' ', ' ', ' ', ' ', '謝委員', '衣', '鳯', '：', '（', ' ', '時', ' ', ' ', '分', '）', '主席', '、', '各位', '列席', '官員', '、', '各位', '同仁', '。', '部長', '早安', '，', '我想', '請問', '一下', '，', '根據', '...', '\\n', ' ', ' ', ' ', ' ', ' ', '謝委員', '衣', '鳯', '：', '（', ' ', '時', ' ', ' ', '分', '）', '主席', '、', '各位', '列席', '官員', '、', '各位', '同仁', '。', '今天', '是', ' ', '，', '蔡總統', '的', '第二', '...', '\\n', ' ', ' ', ' ', ' ', ' ', '謝委員', '衣', '鳯', '：', '主席', '、', '各位', '列席', '官員', '、', '各位', '同仁', '。', '本席', '提案', '增列', '拆除', '消音器', '以及', '其他', '方式', '造成', '噪音', '，', '於', '半年', '...', '\\n', ' ', ' ', ' ', ' ', ' ', '謝委員', '衣', '鳯', '：', '（', ' ', '時', ' ', ' ', '分', '）', '主席', '、', '各位', '同仁', '。', '感謝', '劉建國委員', '的', '提醒', '，', '衣', '鳯', '和', '國', '民', '黨', '所有', '的', '委', '...', '\\n', ' ', ' ', ' ', ' ', ' ', '謝委員', '衣', '鳯', '：', '（', ' ', '時', ' ', ' ', '分', '）', '主席', '、', '各位', '同仁', '。', '各國', '在', '進行', '貿易', '談判', '的', '時候', '都', '會', '優先', '、', '特別', '的', '保', '...', '\\n', ' ', ' ', ' ', ' ', ' ', '謝委員', '衣', '鳯', '：', '（', ' ', '時', ' ', ' ', '分', '）', '主席', '、', '各位', '同仁', '。', '根據', '本法', '條', '第一', '項', '跟', '第三', '項', '的', '規定', '，', '農田', '水利', '會', '...', '\\n', ' ', ' ', ' ', ' ', ' ', '謝委員', '衣', '鳯', '：', '（', ' ', '時', ' ', ' ', '分', '）', '主席', '、', '各位', '同仁', '。', '對於', '農田', '水利', '法', '草案', '第四', '條', '，', '我表達', '以下', '的', '看法', '...', '\\n', ' ', ' ', ' ', ' ', ' ', '謝委員', '衣', '鳯', '：', '（', ' ', '時', ' ', ' ', '分', '）', '主席', '、', '各位', '同仁', '。', '這部', '農田', '水利', '法', '造成', '農業', '用水', '機關', '的', '混亂', '以及', '人事', '...', '\\n', ' ', ' ', ' ', ' ', ' ', '謝委員', '衣', '鳯', '：', '（', ' ', '時', ' ', ' ', '分', '）', '主席', '、', '各位', '同仁', '。', '大家', '午安', '。', '司法院', '提出', '的', '國民', '法官', '參審法', '，', '它', '是採', '...', '\\n', ' ', ' ', ' ', ' ', ' ', '謝委員', '衣', '鳯', '：', '（', ' ', '時', ' ', ' ', '分', '）', '主席', '、', '各位', '同仁', '。', '我', '重新', '提示', '，', '根據', '昨天', '司', '改會', '所', '公布', '的', '民調', '，', '臺', '...', '\\n', ' ', ' ', ' ', ' ', ' ', '謝委員', '衣', '鳯', '：', '（', ' ', '時', ' ', ' ', '分', '）', '主席', '、', '各位', '同仁', '。', '根據司', '改會', '昨天', '公布', '的', '民調', '，', '臺', '灣', '人民', '對', '法官', '辦', '...', '\\n', ' ', ' ', ' ', ' ', ' ', '謝委員', '衣', '鳯', '：', '（', ' ', '時', ' ', ' ', '分', '）', '主席', '、', '各位', '同仁', '。', '現在', '這個', '草案', '是', '根據', '日本', '裁判', '員', '的', '制度', '，', '所以', '提', '...', '\\n', ' ', ' ', ' ', ' ', ' ', '主席', '：', '請', '謝委員', '衣', '鳯', '發', '言', '謝', '委', '員', '衣', '鳯', '：', '（', ' ', '時', ' ', ' ', '分', '）', '主席', '、', '各位', '同仁', '。', '從', '我們', '司法院', '提出', '的', '草', '...', '\\n', ' ', ' ', ' ', ' ', ' ', '謝委員', '衣', '鳯', '：', '（', ' ', '時', ' ', ' ', '分', '）', '主席', '、', '各位', '列席', '官員', '、', '各位', '同仁', '。', '我', '想要', '請問', '潘部長', '及', '陳', '副', '主委', '，', '...', '\\n', ' ', ' ', ' ', ' ', ' ', '謝委員', '衣', '鳯', '：', '（', ' ', '時', ' ', ' ', '分', '）', '主席', '、', '各位', '列席', '官員', '、', '各位', '同仁', '。', '我們', '根據', '勞動部', '網站', ' ', ' ', '月', '...', '\\n', ' ', ' ', ' ', ' ', ' ', '謝委員', '衣', '鳯', '：', '（', ' ', '時', ' ', ' ', '分', '）', '主席', '、', '行政院', '蘇院長', '、', '主計', '總處', '朱主計長', '、', '財政部', '蘇部長', '、', '國發會', '龔', '...', '\\n', ' ', ' ', ' ', ' ', ' ', '謝委員', '衣', '鳯', '：', '（', ' ', '時', ' ', ' ', '分', '）', '主席', '、', '各位', '列席', '官員', '、', '各位', '同仁', '。', '請教', '農委會', '陳', '主委', '，', '你', '應該', '是', '行', '...', '\\n', ' ', ' ', ' ', ' ', ' ', '謝委員', '衣', '鳯', '：', '（', ' ', '時', ' ', ' ', '分', '）', '主席', '、', '各位', '列席', '官員', '、', '各位', '同仁', '。', '主委', '，', '去年', '政府', '釋出', '了', ' ', ' ', '頻', '...', '\\n', ' ', ' ', ' ', ' ', ' ', '謝委員', '衣', '鳯', '：', '（', ' ', '時', ' ', ' ', '分', '）', '主席', '、', '各位', '列席', '官員', '、', '各位', '同仁', '。', '我', '看到', '立法院', '預算', '中心', '提出', '一個', '...', '\\n', ' ', ' ', ' ', ' ', ' ', '謝委員', '衣', '鳯', '：', '（', ' ', '時', ' ', ' ', '分', '）', '主席', '、', '各位', '列席', '官員', '、', '各位', '同仁', '。', '蘇部長', '，', '我們', '知道', '法國', '已經', '在', ' ', '...', '\\n', ' ', ' ', ' ', ' ', ' ', '謝委員', '衣', '鳯', '：', '（', ' ', '時', ' ', ' ', '分', '）', '主席', '、', '各位', '列席', '官員', '、', '各位', '同仁', '。', '我', '想要', '請', '教主', '委', '，', '如果', '廣告', '主購', '買', '...', '\\n', ' ', ' ', ' ', ' ', ' ', '謝委員', '衣', '鳯', '：', '（', ' ', '時', ' ', ' ', '分', '）', '主席', '、', '各位', '列席', '官員', '、', '各位', '同仁', '。', '我們', '都', '知道', '英國', '是', '臺', '灣在', '歐洲', '的', '第', '...', '\\n', ' ', ' ', ' ', ' ', ' ', '謝委員', '衣', '鳯', '：', '（', ' ', '時', '）', '主席', '、', '各位', '列席', '官員', '、', '各位', '同仁', '。', '今天', '的', '新聞', '大篇幅', '教導', '，', '我們', '用', '漂白', '水來', '泡', '...', '\\n', ' ', ' ', ' ', ' ', ' ', '謝委員', '衣', '鳯', '：', '（', ' ', '時', ' ', ' ', '分', '）', '主席', '、', '各位', '列席', '官員', '、', '各位', '同仁', '。', '請', '問陳部長', '，', '第', ' ', ' ', '次', '食品', '衛', '...', '\\n', ' ', ' ', ' ', ' ', ' ', '謝委員', '衣', '鳯', '：', '主席', '、', '各位', '同仁', '。', '我', '相信', '莊瑞雄委員', '可能', '不', '瞭解', '，', '經濟委員會', '在', '開會', '的', '時候', '，', '針對', '貨品', '號列', '...', '\\n', ' ', ' ', ' ', ' ', ' ', '謝委員', '衣', '鳯', '：', '（', ' ', '時', ' ', ' ', '分', '）', '主席', '、', '各位', '列席', '官員', '、', '各位', '同仁', '。', '先請', '問陳部長', '，', '你', '好像', '也', '看', '過本', '...', '\\n', ' ', ' ', ' ', ' ', ' ', '謝委員', '衣', '鳯', '：', '（', ' ', '時', ' ', ' ', '分', '）', '主席', '、', '各位', '列席', '官員', '、', '各位', '同仁', '。', '總裁', '，', '本席', '想要', '請教', '一下', '，', '因為', '...', '\\n', ' ', ' ', ' ', ' ', ' ', '謝委員', '衣', '鳯', '：', '主席', '、', '各位', '同仁', '。', '我', '再', '重新', '還原', '，', '因為', '剛才', '很多', '委員', '沒', '有', '聽', '到', '過程', '，', '我', '提', '這個', '提案', '其實', '是', '希', '...', '\\n', ' ', ' ', ' ', ' ', ' ', '謝委員', '衣', '鳯', '：', '（', ' ', '時', ' ', ' ', '分', '）', '主席', '、', '各位', '列席', '官員', '、', '各位', '同仁', '。', '王部長', '，', '剛才', '你', '提到', '不', '可以', '增加', '...', '\\n', ' ', ' ', ' ', ' ', ' ', '謝委員', '衣', '鳯', '：', '（', ' ', '時', ' ', ' ', '分', '）', '主席', '、', '各位', '列席', '官員', '、', '各位', '同仁', '。', '主委', '早', '，', ' ', '月', ' ', ' ', '日通過', '了', '...', '\\n', ' ', ' ', ' ', ' ', ' ', '謝委員', '衣', '鳯', '：', '主席', '、', '各位', '列席', '官員', '、', '各位', '同仁', '。', '這次', '衛福', '部委', '外', '的', '開放萊豬', '健康', '風險評', '估報', '告裡面', '，', '主婦', '...', '\\n', ' ', ' ', ' ', ' ', ' ', '謝委員', '衣', '鳯', '：', '（', ' ', '時', ' ', ' ', '分', '）', '主席', '、', '各位', '列席', '官員', '、', '各位', '同仁', '。', '投', '影片', '第一', '頁', '是', '離岸', '風電產業', '發', '...', '\\n', ' ', ' ', ' ', ' ', ' ', '謝委員', '衣', '鳯', '：', '（', ' ', '時', ' ', ' ', '分', '）', '主席', '、', '各位', '列席', '官員', '、', '各位', '同仁', '。', '金管會', '在', ' ', ' ', '月', ' ', ' ', '日發', '...', '\\n', ' ', ' ', ' ', ' ', ' ', '謝委員', '衣', '鳯', '：', '（', ' ', '時', '）', '主席', '、', '各位', '列席', '官員', '、', '各位', '同仁', '。', '我要', '先', '請', '教經濟', '部次長', '、', '農委會', '主委', '以及', '衛', '...', '\\n', ' ', ' ', ' ', ' ', ' ', '謝委員', '衣', '鳯', '：', '主席', '、', '各位', '列席', '官員', '、', '各位', '同仁', '。', '我', '必須', '要講', '，', '我的確', '同意', '剛才', '我們', '時代', '力量', '王婉諭', '委員', '在', '...', '\\n', ' ', ' ', ' ', ' ', ' ', '謝委員', '衣', '鳯', '：', '主席', '、', '各位', '列席', '官員', '、', '各位', '同仁', '。', '今天', '我們', '在', '經濟委員會', '所作', '的', '所有', '討論', '，', '都', '是', '為', '了', '全體國', '...', '\\n', ' ', ' ', ' ', ' ', ' ', '謝委員', '衣', '鳯', '：', '（', ' ', '時', '）', '主席', '、', '各位', '列席', '官員', '、', '各位', '同仁', '。', '部長', '早', '！', '昨天', '媒體', '揭露', '總統', '有', '召開', '國安會議', '...', '\\n', ' ', ' ', ' ', ' ', ' ', '謝委員', '衣', '鳯', '：', '主席', '、', '各位', '列席', '官員', '、', '各位', '同仁', '。', '本席', '所提', '的', '中華民國', '刑法', '第十九', '條及', '第八十七', '條條文', '修正', '...', '\\n', ' ', ' ', ' ', ' ', ' ', '謝委員', '衣', '鳯', '：', '（', ' ', '時', ' ', ' ', '分', '）', '主席', '、', '各位', '列席', '官員', '、', '各位', '同仁', '。', '這', '五年', '以來', '，', '我們', '臺', '灣農產品', '出', '...', '\\n', ' ', ' ', ' ', ' ', ' ', '謝委員', '衣', '鳯', '：', '主席', '、', '各位', '同仁', '。', '我想', '剛才', '大家', '爭論', '的', '是', '，', '這', '一支', '影片', '是不是', '在講', '屠宰', '過程', '當中', '造成', '豬', '隻', '顫', '...', '\\n', ' ', ' ', ' ', ' ', ' ', '謝委員', '衣', '鳯', '：', '（', ' ', '時', ' ', ' ', '分', '）', '主席', '、', '各位', '列席', '官員', '、', '各位', '同仁', '。', '根據', '工研院', '產科國際', '所', '的', '統計', '，', '我', '...', '\\n', ' ', ' ', ' ', ' ', ' ', '謝委員', '衣', '鳯', '：', '（', ' ', '時', ' ', ' ', '分', '）', '主席', '、', '各位', '列席', '官員', '、', '各位', '同仁', '。', '首先', '請問', '外交部', '的', '次長', '，', '剛才北', '...', '\\n', ' ', ' ', ' ', ' ', ' ', '謝委員', '衣', '鳯', '：', '（', ' ', '時', ' ', ' ', '分', '）', '主席', '、', '各位', '列席', '官員', '、', '各位', '同仁', '。', '王部長', '禮拜', '一有', '回應', ' ', ' ', '月', ' ', '...', '\\n', ' ', ' ', ' ', ' ', ' ', '謝委員', '衣', '鳯', '：', '（', ' ', '時', ' ', ' ', '分', '）', '主席', '、', '各位', '列席', '官員', '、', '各位', '同仁', '。', '上禮', '拜', '臺', '美經濟', '繁榮夥伴', '對', '話', '平', '臺', '...', '\\n', ' ', ' ', ' ', ' ', ' ', '謝委員', '衣', '鳯', '：', '（', ' ', '時', ' ', ' ', '分', '）', '主席', '、', '各位', '列席', '官員', '、', '各位', '同仁', '。', '因為現', '在', '行政院', '正在', '討論', '，', '希望', '國', '...', '\\n', ' ', ' ', ' ', ' ', ' ', '謝委員', '衣', '鳯', '：', '（', ' ', '時', ' ', ' ', '分', '）', '主席', '、', '各位', '列席', '官員', '、', '各位', '同仁', '。', '部長', '早', '，', '本席', '要舉', '一個', '例子', '，', '就是', '...', '\\n', ' ', ' ', ' ', ' ', ' ', '謝委員', '衣', '鳯', '：', '（', '時分', '）', '主席', '、', '各位', '列席', '官員', '、', '各位', '同仁', '。', '我', '想', '請', '問楊', '總裁', '，', '因為', '王美花', '部長', '之前', '...', '\\n', ' ', ' ', ' ', ' ', ' ', '謝委員', '衣', '鳯', '：', '主席', '、', '各位', '同仁', '。', '上次', '在', '審食', '藥署', '的', '預算時', '，', '我', '記得', '我們', '有', '一個', '提議', '，', '就是', '希望', '農委會給', '我', '...', '\\n', ' ', ' ', ' ', ' ', ' ', '謝委員', '衣', '鳯', '：', '（', ' ', '時', ' ', ' ', '分', '）', '主席', '、', '行政院', '蘇院長', '、', '沈副院', '長', '、', '各部', '會首長', '、', '各位', '同仁', '。', '蘇院長', '...', '\\n', ' ', ' ', ' ', ' ', ' ', '謝委員', '衣', '鳯', '：', '（', '時分', '）', '主席', '、', '各位', '列席', '官員', '、', '各位', '同仁', '。', '教育部', '林次長', '，', '根據', '財團', '法人', '博幼', '社會', '...', '\\n', ' ', ' ', ' ', ' ', ' ', '謝委員', '衣', '鳯', '：', '（', ' ', '時', ' ', ' ', '分', '）', '主席', '、', '各位', '列席', '官員', '、', '各位', '同仁', '。', '蘇部長', '、', '林', '董事', '長', '，', '剛才', '我', '聽', '到', '...', '\\n', ' ', ' ', ' ', ' ', ' ', '謝委員', '衣', '鳯', '：', '（', ' ', '時', ' ', ' ', '分', '）', '主席', '、', '各位', '列席', '官員', '、', '各位', '同仁', '。', '我們', '知道', '現在', '很多', '印尼', '移工持', '著', '陰', '...', '\\n', ' ', ' ', ' ', ' ', ' ', '謝委員', '衣', '鳯', '：', '（', '時分', '）', '主席', '、', '各位', '同仁', '。', '這次', '國民黨團', '對於', '學校', '衛生法', '的', '修法', '跟', '所有', '民間', '團體', '站', '...', '\\n', ' ', ' ', ' ', ' ', ' ', '謝委員', '衣', '鳯', '：', '（', '時分', '）', '主席', '、', '各位', '列席', '官員', '、', '各位', '同仁', '。', '上個', '月', '我', '有', '請', '問過', '陳', '主委', '有關', '二期稻作', '...', '\\n', ' ', ' ', ' ', ' ', ' ', '謝委員', '衣', '鳯', '：', '（', '時分', '）', '主席', '、', '各位', '列席', '官員', '、', '各位', '同仁', '。', '剛才', '有', '談', '到', '臺', '灣豬', '標章', '的', '切', '結書', '，', '我', '其', '...', '\\n', ' ', ' ', ' ', ' ', ' ', '謝委員', '衣', '鳯', '：', '主席', '、', '各位', '同仁', '。', '我本來', '不想', '說話', '，', '但是', '我', '聽', '了', '陳', '主委', '的', '話', '以', '後', '，', '我', '很', '驚訝', '他', '竟然', '讓', '藍綠', '的', '...', '\\n', ' ', ' ', ' ', ' ', ' ', '謝委員', '衣', '鳯', '：', '（', ' ', '時', ' ', ' ', '分', '）', '院長', '好', '、', '主委', '好', '。', '我', '知道', '現在', '目前', '的', '百億養豬', '基金', '大概', '是', ' ', '...', '\\n', ' ', ' ', ' ', ' ', ' ', '謝委員', '衣', '鳯', '：', '（', ' ', '時', ' ', ' ', '分', '）', '主委', '、', '副', '主委', '早安', '！', '我想', '請問', '一下', '，', '剛才', '大家', '都', '希望', '公平', '會', '可以', '對', '...', '\\n', ' ', ' ', ' ', ' ', ' ', '謝委員', '衣', '鳯', '：', '（', ' ', '時', ' ', ' ', '分', '）', '次長', '、', '主委', '早安', '，', '因為現', '在', '水情', '吃緊', '，', '我', '看', '了', '一些', '氣象', '資料', '，', '好像', ' ', '...', '\\n', ' ', ' ', ' ', ' ', ' ', '謝委員', '衣', '鳯', '：', '（', ' ', '時', ' ', ' ', '分', '）', '總裁', '午安', '。', '主席', '：', '請', '中央', '銀行', '楊', '總裁', '說明', '。', '楊總裁', '金龍', '：', '謝委員', '好', '。', '...', '\\n', ' ', ' ', ' ', ' ', ' ', '謝委員', '衣', '鳯', '：', '（', ' ', '時', ' ', ' ', '分', '）', '蘇院長', '早安', '。', '主席', '：', '請', '行政院', '蘇院長', '答', '復', '。', '蘇院長', '貞昌', '：', '（', ' ', '...', '\\n', ' ', ' ', ' ', ' ', ' ', '謝委員', '衣', '鳯', '：', '（', ' ', '時', ' ', ' ', '分', '）', '主委', '早安', '！', '請問', '主委', '，', '你們', '應該', '是', ' ', ' ', '雙語', '國家', '政策', '的', '主', '...', '\\n', ' ', ' ', ' ', ' ', ' ', '謝委員', '衣', '鳯', '：', '（', ' ', '時', ' ', ' ', '分', '）', '主席', '好', '。', '我', '想', '請', '金管會', '黃', '主委', '備詢', '。', '主席', '：', '請金', '管會', '黃', '主任', '委員', '說', '...', '\\n', ' ', ' ', ' ', ' ', ' ', '謝委員', '衣', '鳯', '：', '（', ' ', '時', ' ', ' ', '分', '）', '請問', '王部長', '，', '經濟部', '是不是', '能源', '政策', '的', '主管', '機關', '？', '主席', '：', '請', '經濟部', '...', '\\n', ' ', ' ', ' ', ' ', '謝委員', '衣', '鳯', '：', '（', ' ', '時', ' ', ' ', '分', '）', '次長', '好', '，', '拜登', '總統', '說', '美國', '在', ' ', ' ', '月', ' ', ' ', '日以', '後', '就要', '恢', '復', '正常', '的', '...', '\\n', ' ', ' ', ' ', ' ', '謝委員', '衣', '鳯', '：', '（', ' ', '時', ' ', ' ', '分', '）', '主席', '好', '，', '我', '想要', '請', '水利', '署及', '農田', '水利', '署', '。', '主席', '：', '請', '經濟部', '水利', '署賴', '...', '\\n', ' ', ' ', ' ', ' ', '謝委員', '衣', '鳯', '：', '（', ' ', '時', ' ', ' ', '分', '）', '主席', '好', '，', '本席', '想', '請', '王美花', '部長', '上', '臺', '備詢', '。', '主席', '：', '請', '經濟部', '王部長', '說明', '...', '\\n', ' ', ' ', ' ', ' ', '謝委員', '衣', '鳯', '：', '（', ' ', '時', ' ', ' ', '分', '）', '主席', '好', '，', '主委', '早安', '，', '我本來', '以', '為', '你', '事情', '比較', '少', '了', '，', '結果', '沒有', '想到', '今', '...', '\\n', ' ', ' ', ' ', ' ', '謝委員', '衣', '鳯', '：', '（', '時分', '）', '主委', '，', '請', '你', '看', '這個', '鳳梨', '的', '照片', '，', '這是', '澳洲', '墨爾本', '一位', '僑界', '人士', '用', '...', '\\n', ' ', ' ', ' ', ' ', '謝委員', '衣', '鳯', '：', '（', ' ', '時', ' ', ' ', '分', '）', '黃', '副', '主委', '好', '，', '我現', '在', '要', '討論', '一件', '事情', '，', '就是', '農委會', '對於', '整體', '循環經', '...', '\\n', ' ', ' ', ' ', ' ', '謝委員', '衣', '鳯', '：', '（', '時分', '）', '主委', '早安', '，', '現在', '國際紙', '漿', '價格', '似乎', '又', '在', '蠢蠢', '欲動', '，', '據', '說', '是', '因為', '運費的關', '係', '，', '...', '\\n', ' ', ' ', ' ', ' ', '謝委員', '衣', '鳯', '：', '與', '會', '同仁', '大家', '。', '我現', '在', '就', '程序', '發言', '，', '我覺', '得', '為', '什麼', '今天', '在', '國家', '還有', '非常', '多國際', '、', '民生', '等等', '重', '...', '\\n', ' ', ' ', ' ', ' ', '謝委員', '衣', '鳯', '：', '（', ' ', '時', ' ', ' ', '分', '）', '主席', '好', '。', '首先', '請', '教經濟', '部陳次', '長', '，', '我', '看到', '了', ' ', '，', '就是', '美國貿', '...', '\\n', ' ', ' ', ' ', ' ', '謝委員', '衣', '鳯', '：', '（', ' ', '時', ' ', ' ', '分', '）', '本席', '想', '請', '原能會', '主委', '、', '食藥署', '署長', '及', '台', '日關', '係', '協會', '的', '秘書長', '上台', '備', '...', '\\n', ' ', ' ', ' ', ' ', '謝委員', '衣', '鳯', '：', '（', '時分', '）', '年', '我們', '要', '達', '到', '淨', '零碳排', '，', '在', '碳', '中', '和', '的', '過程', '當中', '，', '林務局', '應該', '要', '扮', '...', '\\n', ' ', ' ', ' ', ' ', '謝委員', '衣', '鳯', '：', '（', ' ', '時', ' ', ' ', '分', '）', '部長', '，', '早安', '。', '最近', '你', '都', '在', '處理', '缺水', '的', '問題', '，', '所以', '我們', '都', '很少', '請', '你', '到', '...', '\\n', ' ', ' ', ' ', ' ', '謝委員', '衣', '鳯', '：', '（', ' ', '時', ' ', ' ', '分', '）', '部長', '好', '。', '請問', '我們', ' ', ' ', '月', '的', '水情', '如何', '？', '會', '下雨', '嗎', '？', '主席', '：', '請', '經濟', '...', '\\n', ' ', ' ', ' ', ' ', '謝委員', '衣', '鳯', '：', '（', '時分', '）', '陳', '主委', '早安', '，', '今天', '非常', '開心', '聽', '到', '你', '說', '非常', '重視', '食農', '教育', '，', '也', '重視', '食品安全', '...', '\\n', ' ', ' ', ' ', ' ', '謝委員', '衣', '鳯', '：', '（', ' ', '時', ' ', ' ', '分', '）', '我', '想', '請', '問王', '部長', '跟', '財政部', '莊次長', '，', '對於', '歐盟', '規劃', '要', '在', ' ', ' ', '年', '...', '\\n', ' ', ' ', ' ', ' ', '謝委員', '衣', '鳯', '：', '（', ' ', '時', ' ', ' ', '分', '）', '請', '問台電', '董事', '長', '，', '核二廠', '核爐心', '的', '冷', '卻', '水', '跟', '日本', '福島', '電廠', '核災後爐', '...', '\\n', ' ', ' ', ' ', ' ', '謝委員', '衣', '鳯', '：', '（', ' ', '時', ' ', ' ', '分', '）', '主委', '午安', '！', '我', '想', '請', '教', '一下', '，', '英國', '新', '金融', '智庫', '（', ' ', ' ', '...', '\\n', ' ', ' ', ' ', ' ', '謝委員', '衣', '鳯', '：', '（', ' ', '時', ' ', ' ', '分', '）', '主委', '，', '我', '想', '請', '教', '一下', '，', '外國', '專業', '人才', '延攬', '及', '僱用', '專法', '通過', '以', '後', '，', '其', '...', '\\n', ' ', ' ', ' ', ' ', '謝委員', '衣', '鳯', '：', '（', ' ', '時', ' ', ' ', '分', '）', '主委', '早', '。', ' ', '年', '的', '時候', '，', '國發會', '有', '承諾要', '修個', '資法', '，', '力拼', '讓', '...', '\\n', ' ', ' ', ' ', ' ', '謝委員', '衣', '鳯', '：', '（', ' ', '時', ' ', ' ', '分', '）', '陳', '副', '主委', '午安', '，', '我', '這樣子', '聽', '了', '半天', '，', '你', '對於', '本席', '所提', '的', '農民', '健康', '保', '...', '\\n', ' ', ' ', ' ', ' ', '謝委員', '衣', '鳯', '：', '（', ' ', '時', ' ', ' ', '分', '）', '次長', '好', '！', '早上', '陳', '部長', '表示', '宜蘭', '、', '蘆洲', '以及', '諾富特', '三案', '的', '病毒', '定序', '是', '...', '\\n', ' ', ' ', ' ', ' ', '謝委員', '衣', '鳯', '：', '主席', '、', '各位', '與', '會', '同仁', '。', '本席', '提出', '農民', '健康', '保險', '條例', '第五', '條的', '修正', '，', '讓', '沒', '有', '領取', '退休', '俸返', '鄉務', '...', '\\n', ' ', ' ', ' ', ' ', '謝委員', '衣', '鳯', '：', '（', ' ', '時', ' ', ' ', '分', '）', '陳', '主委', '好', '，', '我剛', '才', '聽', '到', '你', '說', '，', '現在', '的', '蔬菜', '還有', '食物', '到', '年底', '都', '是', '沒', '有', '...', '\\n', ' ', ' ', ' ', ' ', '謝委員', '衣', '鳯', '：', '（', ' ', '時', ' ', ' ', '分', '）', '我要', '先', '請', '問勞動', '部長', '，', '關於勞', '工紓困', '，', '你', '早上', '也', '說', '了', '很多', '，', '可是', '我', '...']\n"
     ]
    }
   ],
   "source": [
    "Question_liu = Question[Question.legislatorName == \"謝衣鳯\"].script.to_string()\n",
    "Question_liu = re.sub(re_punctuation, \"\", Question_liu)\n",
    "Question_liu = re.sub(r'[0-9]','',Question_liu)\n",
    "Question_liu = re.sub(r'[a-zA-Z]','',Question_liu)\n",
    "jieba.load_userdict(\"dict.txt\")\n",
    "words = jieba.lcut(Question_liu, cut_all = False)\n",
    "print(words)"
   ]
  },
  {
   "cell_type": "code",
   "execution_count": 19,
   "metadata": {
    "colab": {
     "base_uri": "https://localhost:8080/"
    },
    "id": "rgMlbzV5kVCc",
    "outputId": "5c76ab25-e96f-4ae3-9ca1-ace8f89bcec6"
   },
   "outputs": [
    {
     "name": "stdout",
     "output_type": "stream",
     "text": [
      "TOP 10 WORDS PER TOPIC #0\n",
      "['董事', '所提', '可以', '國發會', '財政部', '總裁', '行政院', '目前', '一個', '對於']\n",
      "TOP 10 WORDS PER TOPIC #1\n",
      "['其實', '條例', '英國', '民調', '開始', '相信', '今年', '非常', '現在', '官員']\n",
      "TOP 10 WORDS PER TOPIC #2\n",
      "['一下', '想要', '知道', '水利', '今天', '本席', '時分', '主委', '主席', '各位']\n",
      "TOP 10 WORDS PER TOPIC #3\n",
      "['去年', '教主', '這個', '以及', '就是', '王部長', '經濟部', '請問', '根據', '早安']\n",
      "TOP 10 WORDS PER TOPIC #4\n",
      "['王美花', '國家', '影片', '金管會', '機關', '希望', '健康', '很多', '農委會', '謝委員']\n",
      "TOP 10 WORDS PER TOPIC #5\n",
      "['討論', '造成', '過程', '大家', '委員', '因為', '所有', '次長', '剛才', '列席']\n",
      "TOP 10 WORDS PER TOPIC #6\n",
      "['推出', '署長', '修正', '先請', '沒有', '時候', '提出', '午安', '蘇院長', '同仁']\n",
      "TOP 10 WORDS PER TOPIC #7\n",
      "['進行', '好像', '重視', '應該', '蘇部長', '我想', '昨天', '農田', '部長', '我們']\n"
     ]
    }
   ],
   "source": [
    "vectorizer = CountVectorizer()  \n",
    "X = vectorizer.fit_transform(words)  \n",
    "word = vectorizer.get_feature_names() \n",
    "transformer = TfidfTransformer()  \n",
    "tfidf = transformer.fit_transform(X)\n",
    "\n",
    "LDA.fit(tfidf)\n",
    "\n",
    "#觀看結果\n",
    "for i,topic in enumerate(LDA.components_):\n",
    "    print(f\"TOP 10 WORDS PER TOPIC #{i}\")\n",
    "    print([vectorizer.get_feature_names()[index] for index in topic.argsort()[-10:]])"
   ]
  }
 ],
 "metadata": {
  "colab": {
   "collapsed_sections": [],
   "name": "20210412.ipynb",
   "provenance": []
  },
  "kernelspec": {
   "display_name": "Python 3",
   "language": "python",
   "name": "python3"
  },
  "language_info": {
   "codemirror_mode": {
    "name": "ipython",
    "version": 3
   },
   "file_extension": ".py",
   "mimetype": "text/x-python",
   "name": "python",
   "nbconvert_exporter": "python",
   "pygments_lexer": "ipython3",
   "version": "3.8.8"
  }
 },
 "nbformat": 4,
 "nbformat_minor": 1
}
