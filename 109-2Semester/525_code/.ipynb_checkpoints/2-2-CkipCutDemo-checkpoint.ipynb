{
 "cells": [
  {
   "cell_type": "markdown",
   "metadata": {},
   "source": [
    "#### Name :  2-2-CkipCutDemo\n",
    "#### Function :  Text segmentation demo using Ckip Tagger\n",
    "#### Data:    (1) KccDict2020.txt - user  dictionary             (2) KccStopWord2020.txt -  stop words"
   ]
  },
  {
   "cell_type": "code",
   "execution_count": 2,
   "metadata": {},
   "outputs": [
    {
     "name": "stdout",
     "output_type": "stream",
     "text": [
      "------------CKIPTagger Word Segment ws(str,....) + 刪除標點及停用字 ---------------\n",
      "小姐 / ， / 大家 / 好 / 。 / 高雄縣市 / 已經 / 合併 / ， / 陳 / 市長 / 一直 / 強調 / 「 / 無縫接軌 / 」 / 強調 / 火星人 / ， / 石化氣爆 / 到 / 目前 / 為止 / ， / 在 / 各 / 方面 / 的 / 交接 / 運作 / ， / 大致上 / 還 / 算 / 不錯 / ； / 但是 / 有 / 一 / 小 / 部分 / ， / 高雄縣 / 、 / 高雄市 / 留下來 / 的 / 法令規範 / 有 / 不 / 一樣 / 的 / 地方 / ， / 教育局長 / 范巽綠 / ： / 要 / 如何 / 做 / 處理 / ， / 我 / 相信 / 還 / 有 / 其他 / 的 / 問題 / ， / 大家 / 要 / 再 / 研議 / 、 / 協商 / ， / 看 / 要 / 如何 / 修改 / 。 / 高雄縣市 / 合併 / 以後 / ， /   / 長期照護協會 / 要 / 何去何從 / ， / 我們 / 都 / 知道\n"
     ]
    }
   ],
   "source": [
    "# -*- coding: utf-8 -*-\n",
    "\"\"\"\n",
    "Created on May 20 2020\n",
    "@author: johnson\n",
    "\"\"\"\n",
    "\n",
    "from ckiptagger import data_utils, construct_dictionary, WS, POS, NER\n",
    "import gc\n",
    "import tensorflow as tf\n",
    "# import keras\n",
    "\n",
    "# 載入 ckiptagger 自訂詞典\n",
    "User_Dict = {}\n",
    "with open(\"KCC Data/Dict/KccDict2020.txt\",\"r\", encoding='utf-8-sig') as UDicts:\n",
    "    for udic in UDicts:\n",
    "        udWord = udic.strip().split(\" \")\n",
    "        if len(udWord) > 1:\n",
    "            User_Dict[udWord[0]] = udWord[1]\n",
    "        else:\n",
    "            User_Dict[udWord[0]] = 150    # 未給定權重者一律賦予預設值 150                \n",
    "dictionary = construct_dictionary(User_Dict)\n",
    "\n",
    "# 載入模型\n",
    "ws = WS(\"./data\")\n",
    "pos = POS(\"./data\")\n",
    "ner = NER(\"./data\")\n",
    "\n",
    "# 載入 StopWord\n",
    "stopword_list = []\n",
    "with open(\"KCC Data/Dict/StopWordTest.txt\",\"r\", encoding='utf-8-sig') as stopwords:\n",
    "    for stopword in stopwords:\n",
    "        stopword_list.append(stopword.strip())\n",
    "        \n",
    "        \n",
    "str = \"小姐，大家好。高雄縣市已經合併，陳市長一直強調「無縫接軌」強調火星人，石化氣爆\"\n",
    "str += \"到目前為止，在各方面的交接運作，大致上還算不錯；但是有一小部分，高雄縣、高雄市留下來的法令規範有不一樣的地方，\"\n",
    "str += \"教育局長范巽綠：要如何做處理，我相信還有其他的問題，大家要再研議、協商，看要如何修改。高雄縣市合併以後， 長期照護協會要何去何從，我們都知道\"\n",
    "\n",
    "\n",
    "str2 = \"這些方向應該沒有問題，我們是往非營利幼兒園的模式所以用人等會一 這些方向應該沒有問題，\"\n",
    "str2 += \"我們是往非營利幼兒園的模式所以用人等會一 這些方向應該沒有問題，\"\n",
    "str2 += \"黃議員石龍,周議員玲妏：我們就往這個方向來邁進，石化氣爆真的不容許再為建設而浪費麼多從中央申請\"\n",
    "    \n",
    "    \n",
    "# 開始斷詞\n",
    "# sentence_segmentation = True,  => To consider delimiters\n",
    "# segment_delimiter_set = {\",\", \"。\", \":\", \"?\", \"!\", \";\"}), # This is the defualt set of delimiters\n",
    "# recommend_dictionary = dictionary1, # words in this dictionary are encouraged\n",
    "# coerce_dictionary = dictionary2, # words in this dictionary are forced\n",
    "strCut = ws([str], sentence_segmentation=True,\n",
    "                 segment_delimiter_set = {'\"',\"\\r\\n\",\"，\",\"「\",\"」\",\",\",\"？\",'\\n', \"。\", \":\", \"?\", \"!\", \";\", \"、\"},\n",
    "                 coerce_dictionary = dictionary)\n",
    "\n",
    "print(\"------------CKIPTagger Word Segment ws(str,....) + 刪除標點及停用字 ---------------\")\n",
    "stayed_lst= []\n",
    "for word in strCut:\n",
    "     # 刪除停用字\n",
    "    if word not in stopword_list:\n",
    "        stayed_lst.append(word)\n",
    "        print(\" / \".join(stayed_lst[0]))\n"
   ]
  },
  {
   "cell_type": "code",
   "execution_count": null,
   "metadata": {},
   "outputs": [],
   "source": []
  }
 ],
 "metadata": {
  "kernelspec": {
   "display_name": "Python 3",
   "language": "python",
   "name": "python3"
  },
  "language_info": {
   "codemirror_mode": {
    "name": "ipython",
    "version": 3
   },
   "file_extension": ".py",
   "mimetype": "text/x-python",
   "name": "python",
   "nbconvert_exporter": "python",
   "pygments_lexer": "ipython3",
   "version": "3.7.3"
  }
 },
 "nbformat": 4,
 "nbformat_minor": 2
}
