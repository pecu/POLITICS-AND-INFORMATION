{
 "cells": [
  {
   "cell_type": "code",
   "execution_count": 7,
   "metadata": {},
   "outputs": [],
   "source": [
    "# -*- coding: utf-8 -*-\n",
    "\"\"\"\n",
    "Created on 2020.2.12 11:00\n",
    "@author: Johnson\n",
    "\n",
    "\"\"\"\n",
    "from ckiptagger import data_utils, construct_dictionary, WS\n",
    "import csv\n",
    "import logging"
   ]
  },
  {
   "cell_type": "code",
   "execution_count": 8,
   "metadata": {},
   "outputs": [
    {
     "name": "stderr",
     "output_type": "stream",
     "text": [
      "Exception ignored in: <bound method WS.__del__ of <ckiptagger.api.WS object at 0x000002D470BC3518>>\n",
      "Traceback (most recent call last):\n",
      "  File \"C:\\Users\\User\\Anaconda3\\envs\\politic\\lib\\site-packages\\ckiptagger\\api.py\", line 65, in __del__\n",
      "    self.model.sess.close()\n",
      "AttributeError: 'WS' object has no attribute 'model'\n"
     ]
    }
   ],
   "source": [
    "logging.basicConfig(format='%(asctime)s : %(levelname)s : %(message)s', level=logging.INFO)\n",
    "\n",
    "# 載入 ckiptagger 自訂詞典\n",
    "User_Dict = {}\n",
    "with open(\"../KCC Data/Dict/KccDict2020.txt\",\"r\", encoding='utf-8-sig') as UDicts:\n",
    "    for udic in UDicts:\n",
    "        udWord = udic.strip().split(\" \")\n",
    "        if len(udWord) > 1:\n",
    "            User_Dict[udWord[0]] = udWord[1]\n",
    "        else:\n",
    "            User_Dict[udWord[0]] = 10    # 未給定權重者一律賦予預設值 10                \n",
    "dictionary = construct_dictionary(User_Dict)\n",
    "\n",
    "ws = WS(\"D:/coding_resource/fourth_grade/politic_python/code/1_temp/code_mine/KCC Data/data\")"
   ]
  },
  {
   "cell_type": "code",
   "execution_count": 6,
   "metadata": {},
   "outputs": [
    {
     "ename": "FileNotFoundError",
     "evalue": "[Errno 2] No such file or directory: '../KCC Data/News-CIS Data/NewsCis18850.csv'",
     "output_type": "error",
     "traceback": [
      "\u001b[1;31m---------------------------------------------------------------------------\u001b[0m",
      "\u001b[1;31mFileNotFoundError\u001b[0m                         Traceback (most recent call last)",
      "\u001b[1;32m<ipython-input-6-2df5f8c988af>\u001b[0m in \u001b[0;36m<module>\u001b[1;34m\u001b[0m\n\u001b[1;32m----> 1\u001b[1;33m \u001b[0mcsvIn\u001b[0m \u001b[1;33m=\u001b[0m \u001b[0mopen\u001b[0m\u001b[1;33m(\u001b[0m\u001b[1;34m\"../KCC Data/News-CIS Data/NewsCis18850.csv\"\u001b[0m\u001b[1;33m,\u001b[0m \u001b[1;34m'r'\u001b[0m\u001b[1;33m,\u001b[0m \u001b[0mnewline\u001b[0m\u001b[1;33m=\u001b[0m\u001b[1;34m''\u001b[0m\u001b[1;33m,\u001b[0m \u001b[0mencoding\u001b[0m\u001b[1;33m=\u001b[0m\u001b[1;34m'utf-8-sig'\u001b[0m\u001b[1;33m)\u001b[0m\u001b[1;33m\u001b[0m\u001b[1;33m\u001b[0m\u001b[0m\n\u001b[0m\u001b[0;32m      2\u001b[0m \u001b[0moutput1\u001b[0m \u001b[1;33m=\u001b[0m \u001b[0mopen\u001b[0m\u001b[1;33m(\u001b[0m\u001b[1;34m\"../KCC Data/News-CIS Data/CkipNewsCis18850-KccDict2020.txt\"\u001b[0m\u001b[1;33m,\u001b[0m \u001b[1;34m'w'\u001b[0m\u001b[1;33m,\u001b[0m \u001b[0mencoding\u001b[0m\u001b[1;33m=\u001b[0m\u001b[1;34m'utf-8-sig'\u001b[0m\u001b[1;33m)\u001b[0m\u001b[1;33m\u001b[0m\u001b[1;33m\u001b[0m\u001b[0m\n\u001b[0;32m      3\u001b[0m \u001b[1;33m\u001b[0m\u001b[0m\n\u001b[0;32m      4\u001b[0m \u001b[1;31m# 載入同義字\u001b[0m\u001b[1;33m\u001b[0m\u001b[1;33m\u001b[0m\u001b[1;33m\u001b[0m\u001b[0m\n\u001b[0;32m      5\u001b[0m \u001b[0mcombine_dict\u001b[0m \u001b[1;33m=\u001b[0m \u001b[1;33m{\u001b[0m\u001b[1;33m}\u001b[0m\u001b[1;33m\u001b[0m\u001b[1;33m\u001b[0m\u001b[0m\n",
      "\u001b[1;31mFileNotFoundError\u001b[0m: [Errno 2] No such file or directory: '../KCC Data/News-CIS Data/NewsCis18850.csv'"
     ]
    }
   ],
   "source": [
    "csvIn = open(\"../KCC Data/News-CIS Data/NewsCis18850.csv\", 'r', newline='', encoding='utf-8-sig')\n",
    "output1 = open(\"../KCC Data/News-CIS Data/CkipNewsCis18850-KccDict2020.txt\", 'w', encoding='utf-8-sig')\n",
    "\n",
    "# 載入同義字\n",
    "combine_dict = {}\n",
    "for line in open(\"../KCC Data/Dict/KccSynonym2020.txt\", \"r\", encoding=\"utf-8-sig\"):\n",
    "    seperate_word = line.strip().split(\"\\t\")\n",
    "    num = len(seperate_word)\n",
    "    for i in range(1, num):\n",
    "        combine_dict[seperate_word[i]] = seperate_word[0]\n",
    "\n",
    "# 載入 StopWord\n",
    "stopword_lst = []\n",
    "with open(\"../KCC Data/Dict/KccStopWord2020.txt\",\"r\", encoding='utf-8-sig') as stopwords:\n",
    "    for stopword in stopwords:\n",
    "        stopword_lst.append(stopword.strip())\n",
    "\n",
    "print(\"------------CKIPTagger Word Segment ws(str,....) + 合併同義字 + 刪除標點及停用字 ---------------\")\n",
    "rowlists = csv.reader(csvIn)\n",
    "i = 0\n",
    "for row in rowlists:\n",
    "    # 刪除標點, 使用自訂強制詞典\n",
    "    strCut = ws([row[2]], \n",
    "                   sentence_segmentation=True,\n",
    "                   segment_delimiter_set = {'\"',\"\\r\\n\",\"，\",\"「\",\"」\",\",\",\"？\",'\\n', \"。\", \":\", \"?\", \"!\", \";\", \"、\"},\n",
    "                   coerce_dictionary = dictionary)\n",
    "    for word in strCut[0]:\n",
    "        # 合併同義字\n",
    "        if word in combine_dict:\n",
    "            word = combine_dict[word]\n",
    "        \n",
    "        # 刪除停用字\n",
    "        if word not in stopword_lst:\n",
    "            output1.write(word + ' ')\n",
    "    output1.write('\\n')                \n",
    "    i += 1\n",
    "    if i % 100 == 0:\n",
    "        logging.info(\"已完成CkipCis  %d 檔案 的斷詞\" % (i + 1))\n",
    "output1.close()\n",
    "csvIn.close()\n",
    "\n"
   ]
  },
  {
   "cell_type": "code",
   "execution_count": null,
   "metadata": {},
   "outputs": [],
   "source": []
  }
 ],
 "metadata": {
  "kernelspec": {
   "display_name": "Python 3",
   "language": "python",
   "name": "python3"
  },
  "language_info": {
   "codemirror_mode": {
    "name": "ipython",
    "version": 3
   },
   "file_extension": ".py",
   "mimetype": "text/x-python",
   "name": "python",
   "nbconvert_exporter": "python",
   "pygments_lexer": "ipython3",
   "version": "3.6.10"
  }
 },
 "nbformat": 4,
 "nbformat_minor": 4
}
