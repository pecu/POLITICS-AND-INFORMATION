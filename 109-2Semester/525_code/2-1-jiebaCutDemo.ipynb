{
 "cells": [
  {
   "cell_type": "markdown",
   "metadata": {},
   "source": [
    "#### Name :  2-1-jiebaCutDemo\n",
    "\n",
    "#### Function :  \n",
    "Text segmentation demo using jieba\n",
    "\n",
    "#### Data:    \n",
    "(1) dict.big.txt - embedded dictionary                \n",
    "(2) KccDict2020.txt - user  dictionary             \n",
    "(3) KccStopWord2020.txt -  stop words"
   ]
  },
  {
   "cell_type": "markdown",
   "metadata": {},
   "source": [
    "## 斷詞套件比較\n",
    "\n",
    "### 2-1  jieba\n",
    "斷詞常是文字分析第一步，因為中文不像英文字和字之間有空格，需要先將句子斷詞，才能做出後續的詞性標註、實體擷取的功能。</br>\n",
    "而斷詞的套件有很多種，一般最常用的是大陸開發的 jieba 套件，或是中研院開發的CKIP套件，在此先簡單示範兩者斷詞效果的不同。</br>\n",
    "在 2-1 我們先用 jieba 示範簡單的斷詞效果。</br>\n",
    "\n",
    "### 斷詞設置\n",
    "\n",
    "在設定斷詞器的時候，通常需要先設定自訂詞典與停用字。\n",
    "\n",
    "+ 自訂詞典</br>\n",
    "為了遇到特殊人名(韓國瑜、蔡英文)或專業術語(市議會、行院院)會斷不出來，</br>\n",
    "通常會載入自訂的詞典，告訴他們哪幾個字應該一起斷開，</br>\n",
    "在這邊用 KCC Data/Dict 裡的 KccDict2020為範例。</br>\n",
    "\n",
    "\n",
    "+ 停用字</br>\n",
    "有些詞比較難看出意義，但常常會大量出現，如果納入斷詞結果，有時候會因為數量太多，</br>\n",
    "不好看出其他重要的詞，像是一般、一個、各種、不論等等。</br>\n",
    "在這邊用 KCC Data/Dict 裡的 StopWordTest.txt為範例。"
   ]
  },
  {
   "cell_type": "code",
   "execution_count": 3,
   "metadata": {},
   "outputs": [
    {
     "name": "stderr",
     "output_type": "stream",
     "text": [
      "Building prefix dict from D:\\coding_resource\\fourth_grade\\politic_python\\code\\1_temp\\code_mine\\KCC Data\\Dict\\dict.big.txt ...\n",
      "Loading model from cache C:\\Users\\User\\AppData\\Local\\Temp\\jieba.u8e60e84e06c644b1f3d269175e8ec7ee.cache\n",
      "Loading model cost 2.548 seconds.\n",
      "Prefix dict has been built successfully.\n"
     ]
    },
    {
     "name": "stdout",
     "output_type": "stream",
     "text": [
      "\n",
      "Word Segmens: \n",
      "小姐 / 大家 / 好 / 高雄縣市 / 已經 / 合併 / 陳市長 / 一直 / 強調 / 無縫接軌 / 強調 / 石化氣爆 / 目前為止 / 在 / 方面 / 交接 / 運作 / 大致 / 上 / 還算 / 不錯 / 有 / 一小部分 / 高雄縣 / 高雄市 / 留下來 / 法令規範 / 有 / 不 / 一樣 / 地方 / 教育局長 / 范巽綠 / 要 / 如何 / 做 / 處理 / 我 / 相信 / 其他 / 問題 / 大家 / 要 / 再 / 研議 / 協商 / 看要 / 如何 / 修改 / 高雄縣市合併 / 以後 /   / 長期照護協會 / 要 / 何去何從 / 我們 / 都 / 知道\n",
      "\n",
      "Keywords: \n",
      "強調 / 火星人 / 高雄縣市 / 已經 / 合併 / 陳市長 / 無縫接軌 / 石化氣爆 / 目前為止 / 運作\n"
     ]
    }
   ],
   "source": [
    "# -*- coding: utf-8 -*-\n",
    "\"\"\"\n",
    "Created on Mon Mar 18 21:01:22 2019\n",
    "@author: johnson\n",
    "\"\"\"\n",
    "import jieba\n",
    "import jieba.analyse\n",
    "\n",
    "jieba.set_dictionary(\"../KCC Data/Dict/dict.big.txt\")\n",
    "jieba.load_userdict(\"../KCC Data/Dict/KccDict2020.txt\")\n",
    "# jieba.analyse.set_stop_words(\"data/stopword.txt\")\n",
    "\n",
    "stopword_list = []\n",
    "with open(\"../KCC Data/Dict/StopWordTest.txt\",\"r\", encoding='utf-8-sig') as stopwords:\n",
    "    for stopword in stopwords:\n",
    "        stopword_list.append(stopword.strip())\n",
    "\n",
    "str = \"小姐，大家好。高雄縣市已經合併，陳市長一直強調「無縫接軌」強調火星人，石化氣爆\"\n",
    "str += \"到目前為止，在各方面的交接運作，大致上還算不錯；但是有一小部分，高雄縣、高雄市留下來的法令規範有不一樣的地方，\"\n",
    "str += \"教育局長范巽綠：要如何做處理，我相信還有其他的問題，大家要再研議、協商，看要如何修改。高雄縣市合併以後， 長期照護協會要何去何從，我們都知道\"\n",
    "\n",
    "\n",
    "str2 = \"這些方向應該沒有問題，我們是往非營利幼兒園的模式所以用人等會一 這些方向應該沒有問題，\"\n",
    "str2 += \"我們是往非營利幼兒園的模式所以用人等會一 這些方向應該沒有問題，\"\n",
    "str2 += \"黃議員石龍,周議員玲妏：我們就往這個方向來邁進，石化氣爆真的不容許再為建設而浪費麼多從中央申請\"\n",
    "\n",
    "# 開始斷詞\n",
    "seg_list = jieba.cut(str,cut_all=False)\n",
    "\n",
    "stayed_lst= []\n",
    "for word in seg_list:\n",
    "    if word not in stopword_list:\n",
    "        stayed_lst.append(word)\n",
    "        \n",
    "print (\"\")\n",
    "print (\"Word Segmens: \")        \n",
    "print(\" / \".join(stayed_lst))\n",
    "\n",
    "print(\"\")\n",
    "keywords = jieba.analyse.extract_tags(str,10)\n",
    "print (\"Keywords: \")\n",
    "print(\" / \".join(keywords))"
   ]
  }
 ],
 "metadata": {
  "kernelspec": {
   "display_name": "Python 3",
   "language": "python",
   "name": "python3"
  },
  "language_info": {
   "codemirror_mode": {
    "name": "ipython",
    "version": 3
   },
   "file_extension": ".py",
   "mimetype": "text/x-python",
   "name": "python",
   "nbconvert_exporter": "python",
   "pygments_lexer": "ipython3",
   "version": "3.6.10"
  }
 },
 "nbformat": 4,
 "nbformat_minor": 4
}
