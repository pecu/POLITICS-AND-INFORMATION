{
 "cells": [
  {
   "cell_type": "code",
   "execution_count": null,
   "metadata": {},
   "outputs": [],
   "source": [
    "import pandas as pd #讀取資料處理套件\n",
    "df = pd.read_csv(\"D:/coding_resource/fourth_grade/politic_python/data/10802_2020_party.csv\") #讀取csv，資料存在df這個變數裡面"
   ]
  },
  {
   "cell_type": "code",
   "execution_count": null,
   "metadata": {},
   "outputs": [],
   "source": [
    "p1 = party.get_group(\"台灣基進\")['LIKE_COUNT'].agg('sum')\n",
    "p2 = party.get_group(\"民主進步黨\")['LIKE_COUNT'].agg('sum')\n",
    "p3 = party.get_group(\"中國國民黨 KMT\")['LIKE_COUNT'].agg('sum')\n",
    "p4 = party.get_group(\"台灣民眾黨\")['LIKE_COUNT'].agg('sum')\n",
    "p5 = party.get_group(\"時代力量 New Power Party\")['LIKE_COUNT'].agg('sum')"
   ]
  },
  {
   "cell_type": "code",
   "execution_count": null,
   "metadata": {},
   "outputs": [],
   "source": [
    "data = {'Name':['台灣基進', '民主進步黨', '中國國民黨 KMT', '台灣民眾黨', '時代力量 New Power Party'],\n",
    "        'LIKE':[p1, p2, p3, p4, p5]}\n",
    "data"
   ]
  },
  {
   "cell_type": "code",
   "execution_count": null,
   "metadata": {},
   "outputs": [],
   "source": [
    "import matplotlib.pyplot as plt #載入要畫畫的套件，之後使用的時候呼叫plt就可以了\n",
    "\n",
    "#設定中文字形\n",
    "plt.rcParams['font.sans-serif']=['SimHei'] \n",
    "#剛剛的likedata，可以利用plot.bar畫圖，設定xy軸的值各是likedata的name和LIKE\n",
    "likedata.plot.bar(x='Name', y='LIKE') "
   ]
  }
 ],
 "metadata": {
  "kernelspec": {
   "display_name": "Python 3",
   "language": "python",
   "name": "python3"
  },
  "language_info": {
   "codemirror_mode": {
    "name": "ipython",
    "version": 3
   },
   "file_extension": ".py",
   "mimetype": "text/x-python",
   "name": "python",
   "nbconvert_exporter": "python",
   "pygments_lexer": "ipython3",
   "version": "3.7.3"
  }
 },
 "nbformat": 4,
 "nbformat_minor": 2
}
