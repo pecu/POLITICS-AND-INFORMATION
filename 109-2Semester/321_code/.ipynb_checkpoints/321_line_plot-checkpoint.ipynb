{
 "cells": [
  {
   "cell_type": "markdown",
   "metadata": {},
   "source": [
    "## 資料型態介紹"
   ]
  },
  {
   "cell_type": "markdown",
   "metadata": {},
   "source": [
    "1. Panda基本介紹\n",
    "    \n",
    "    Pandas是一個基於Numpy的package，普遍用於數據操作\n",
    "    有兩種特殊的資料型態dataframe和serises的差別\n",
    "\n",
    "    > serises是一個一維的資料結構；dataframe則是二維的，像是表格的存在\n",
    "    > 不同的數據處理函式，會需要不同的數據類型    \n",
    "\n",
    "2. 基本數據類型介紹\n",
    "    \n",
    "    數值型態：\n",
    "    > int：整數 integer，ex:1, 34, 50....，這次資料的All_Reaction_Count、LIKE_COUNT\n",
    "    > float：浮點數 floating-point，含有小數點的,ex:1.4, 3.14\n",
    "    > bool：布林值 boolean，判斷是或否，只會有兩種 TRUE/FALSE，另外索引後回傳的結果也是\n",
    "    \n",
    "    字串型態：\n",
    "    > str：字串 string，用''或\"\"包起來的文字資料，ex:\"台灣基進\"、\"台灣民進黨\"...或像是這次的Page_Name、Message\n",
    "    > chr：字元 character，組成字串的元素，ex:\"台\"、\"灣\"...\n",
    "    \n",
    "    時間型態\n",
    "    > timestamp：存時間的格式，像是這次的Date，雖然看起來是時間的格式，但會被電腦認為是str，需要後續轉換\n",
    "    \n",
    "    容器型態\n",
    "    > list："
   ]
  },
  {
   "cell_type": "code",
   "execution_count": 52,
   "metadata": {},
   "outputs": [
    {
     "data": {
      "text/html": [
       "<div>\n",
       "<style scoped>\n",
       "    .dataframe tbody tr th:only-of-type {\n",
       "        vertical-align: middle;\n",
       "    }\n",
       "\n",
       "    .dataframe tbody tr th {\n",
       "        vertical-align: top;\n",
       "    }\n",
       "\n",
       "    .dataframe thead th {\n",
       "        text-align: right;\n",
       "    }\n",
       "</style>\n",
       "<table border=\"1\" class=\"dataframe\">\n",
       "  <thead>\n",
       "    <tr style=\"text-align: right;\">\n",
       "      <th></th>\n",
       "      <th>Date</th>\n",
       "      <th>Page_Name</th>\n",
       "      <th>Page_ID</th>\n",
       "      <th>Link</th>\n",
       "      <th>Type</th>\n",
       "      <th>All_Reaction_Count</th>\n",
       "      <th>LIKE_COUNT</th>\n",
       "      <th>WOW_COUNT</th>\n",
       "      <th>LOVE_COUNT</th>\n",
       "      <th>HAHA_COUNT</th>\n",
       "      <th>SAD_COUNT</th>\n",
       "      <th>ANGRY_COUNT</th>\n",
       "      <th>Comment_Count</th>\n",
       "      <th>Share_Count</th>\n",
       "      <th>Message</th>\n",
       "      <th>Link_Title</th>\n",
       "      <th>Link Description</th>\n",
       "      <th>created_time</th>\n",
       "    </tr>\n",
       "  </thead>\n",
       "  <tbody>\n",
       "    <tr>\n",
       "      <th>0</th>\n",
       "      <td>2020/01/11 20:07:46</td>\n",
       "      <td>台灣基進</td>\n",
       "      <td>348571125292077</td>\n",
       "      <td>NaN</td>\n",
       "      <td>photo</td>\n",
       "      <td>80928</td>\n",
       "      <td>74991</td>\n",
       "      <td>98</td>\n",
       "      <td>3847</td>\n",
       "      <td>1925</td>\n",
       "      <td>34</td>\n",
       "      <td>33</td>\n",
       "      <td>5732</td>\n",
       "      <td>4092</td>\n",
       "      <td>選舉過後，台灣基進不會停歇。\\n　\\n縱使韓國瑜沒有當選，他仍然在高雄破壞著我們的城市，仍會...</td>\n",
       "      <td>NaN</td>\n",
       "      <td>NaN</td>\n",
       "      <td>1578744466000</td>\n",
       "    </tr>\n",
       "  </tbody>\n",
       "</table>\n",
       "</div>"
      ],
      "text/plain": [
       "                  Date Page_Name          Page_ID  Link   Type  \\\n",
       "0  2020/01/11 20:07:46      台灣基進  348571125292077   NaN  photo   \n",
       "\n",
       "   All_Reaction_Count  LIKE_COUNT  WOW_COUNT  LOVE_COUNT  HAHA_COUNT  \\\n",
       "0               80928       74991         98        3847        1925   \n",
       "\n",
       "   SAD_COUNT  ANGRY_COUNT  Comment_Count  Share_Count  \\\n",
       "0         34           33           5732         4092   \n",
       "\n",
       "                                             Message Link_Title  \\\n",
       "0  選舉過後，台灣基進不會停歇。\\n　\\n縱使韓國瑜沒有當選，他仍然在高雄破壞著我們的城市，仍會...        NaN   \n",
       "\n",
       "  Link Description   created_time  \n",
       "0              NaN  1578744466000  "
      ]
     },
     "execution_count": 52,
     "metadata": {},
     "output_type": "execute_result"
    }
   ],
   "source": [
    "import pandas as pd\n",
    "csv_file = \"D:/coding_resource/fourth_grade/politic_python/data/10802_2020_party.csv\"\n",
    "df = pd.read_csv(csv_file)\n",
    "\n",
    "df.head(1)"
   ]
  },
  {
   "cell_type": "markdown",
   "metadata": {},
   "source": [
    "這邊先拿Date欄位，當作series和dataframe比較的例子，\n",
    "另外我們可以發現Date裡面雖然儲存的是日期，但卻是「字串」的形式。\n",
    "所以後續在處理的時候，必須要再經過轉換才行。"
   ]
  },
  {
   "cell_type": "code",
   "execution_count": 125,
   "metadata": {},
   "outputs": [
    {
     "data": {
      "text/plain": [
       "pandas._libs.tslibs.timestamps.Timestamp"
      ]
     },
     "execution_count": 125,
     "metadata": {},
     "output_type": "execute_result"
    }
   ],
   "source": [
    "#series和dataframe\n",
    "ser_a = df['Date']\n",
    "type(ser_a)\n",
    "\n",
    "df_a = pd.DataFrame(df['Date'])\n",
    "type(df_a)\n",
    "\n",
    "#看一下各自的資料型態\n",
    "ser_a \n",
    "df_a\n",
    "\n",
    "#Date原本的資料型太\n",
    "ser_a\n",
    "ser_a[0] #拿出index第0個的值\n",
    "\n",
    "#從str轉換到Timestamp\n",
    "type(ser_a[0])\n",
    "\n",
    "ser_a = pd.to_datetime(ser_a)\n",
    "type(ser_a[0])"
   ]
  },
  {
   "cell_type": "markdown",
   "metadata": {},
   "source": [
    "# 畫出各政黨每個月的發文趨勢"
   ]
  },
  {
   "cell_type": "code",
   "execution_count": 189,
   "metadata": {},
   "outputs": [
    {
     "data": {
      "text/html": [
       "<div>\n",
       "<style scoped>\n",
       "    .dataframe tbody tr th:only-of-type {\n",
       "        vertical-align: middle;\n",
       "    }\n",
       "\n",
       "    .dataframe tbody tr th {\n",
       "        vertical-align: top;\n",
       "    }\n",
       "\n",
       "    .dataframe thead th {\n",
       "        text-align: right;\n",
       "    }\n",
       "</style>\n",
       "<table border=\"1\" class=\"dataframe\">\n",
       "  <thead>\n",
       "    <tr style=\"text-align: right;\">\n",
       "      <th></th>\n",
       "      <th>Date</th>\n",
       "      <th>Page_Name</th>\n",
       "      <th>Page_ID</th>\n",
       "      <th>Link</th>\n",
       "      <th>Type</th>\n",
       "      <th>All_Reaction_Count</th>\n",
       "      <th>LIKE_COUNT</th>\n",
       "      <th>WOW_COUNT</th>\n",
       "      <th>LOVE_COUNT</th>\n",
       "      <th>HAHA_COUNT</th>\n",
       "      <th>SAD_COUNT</th>\n",
       "      <th>ANGRY_COUNT</th>\n",
       "      <th>Comment_Count</th>\n",
       "      <th>Share_Count</th>\n",
       "      <th>Message</th>\n",
       "      <th>Link_Title</th>\n",
       "      <th>Link Description</th>\n",
       "      <th>created_time</th>\n",
       "    </tr>\n",
       "  </thead>\n",
       "  <tbody>\n",
       "    <tr>\n",
       "      <th>0</th>\n",
       "      <td>2020/01/11 20:07:46</td>\n",
       "      <td>台灣基進</td>\n",
       "      <td>348571125292077</td>\n",
       "      <td>NaN</td>\n",
       "      <td>photo</td>\n",
       "      <td>80928</td>\n",
       "      <td>74991</td>\n",
       "      <td>98</td>\n",
       "      <td>3847</td>\n",
       "      <td>1925</td>\n",
       "      <td>34</td>\n",
       "      <td>33</td>\n",
       "      <td>5732</td>\n",
       "      <td>4092</td>\n",
       "      <td>選舉過後，台灣基進不會停歇。\\n　\\n縱使韓國瑜沒有當選，他仍然在高雄破壞著我們的城市，仍會...</td>\n",
       "      <td>NaN</td>\n",
       "      <td>NaN</td>\n",
       "      <td>1578744466000</td>\n",
       "    </tr>\n",
       "  </tbody>\n",
       "</table>\n",
       "</div>"
      ],
      "text/plain": [
       "                  Date Page_Name          Page_ID  Link   Type  \\\n",
       "0  2020/01/11 20:07:46      台灣基進  348571125292077   NaN  photo   \n",
       "\n",
       "   All_Reaction_Count  LIKE_COUNT  WOW_COUNT  LOVE_COUNT  HAHA_COUNT  \\\n",
       "0               80928       74991         98        3847        1925   \n",
       "\n",
       "   SAD_COUNT  ANGRY_COUNT  Comment_Count  Share_Count  \\\n",
       "0         34           33           5732         4092   \n",
       "\n",
       "                                             Message Link_Title  \\\n",
       "0  選舉過後，台灣基進不會停歇。\\n　\\n縱使韓國瑜沒有當選，他仍然在高雄破壞著我們的城市，仍會...        NaN   \n",
       "\n",
       "  Link Description   created_time  \n",
       "0              NaN  1578744466000  "
      ]
     },
     "execution_count": 189,
     "metadata": {},
     "output_type": "execute_result"
    }
   ],
   "source": [
    "import pandas as pd\n",
    "csv_file = \"D:/coding_resource/fourth_grade/politic_python/data/10802_2020_party.csv\"\n",
    "df = pd.read_csv(csv_file)\n",
    "\n",
    "df.head(1)"
   ]
  },
  {
   "cell_type": "markdown",
   "metadata": {},
   "source": [
    "首先我們把日期取出來，存到另外一個欄位Post_Date和Post_Year\n",
    "注意：這裡是因為Date還是str的型態才可以這樣切，如果之後轉成datetime就會出現錯誤。"
   ]
  },
  {
   "cell_type": "code",
   "execution_count": 190,
   "metadata": {},
   "outputs": [
    {
     "data": {
      "text/html": [
       "<div>\n",
       "<style scoped>\n",
       "    .dataframe tbody tr th:only-of-type {\n",
       "        vertical-align: middle;\n",
       "    }\n",
       "\n",
       "    .dataframe tbody tr th {\n",
       "        vertical-align: top;\n",
       "    }\n",
       "\n",
       "    .dataframe thead th {\n",
       "        text-align: right;\n",
       "    }\n",
       "</style>\n",
       "<table border=\"1\" class=\"dataframe\">\n",
       "  <thead>\n",
       "    <tr style=\"text-align: right;\">\n",
       "      <th></th>\n",
       "      <th>Date</th>\n",
       "      <th>Page_Name</th>\n",
       "      <th>Page_ID</th>\n",
       "      <th>Link</th>\n",
       "      <th>Type</th>\n",
       "      <th>All_Reaction_Count</th>\n",
       "      <th>LIKE_COUNT</th>\n",
       "      <th>WOW_COUNT</th>\n",
       "      <th>LOVE_COUNT</th>\n",
       "      <th>HAHA_COUNT</th>\n",
       "      <th>SAD_COUNT</th>\n",
       "      <th>ANGRY_COUNT</th>\n",
       "      <th>Comment_Count</th>\n",
       "      <th>Share_Count</th>\n",
       "      <th>Message</th>\n",
       "      <th>Link_Title</th>\n",
       "      <th>Link Description</th>\n",
       "      <th>created_time</th>\n",
       "      <th>Post_Date</th>\n",
       "      <th>Hour</th>\n",
       "    </tr>\n",
       "  </thead>\n",
       "  <tbody>\n",
       "    <tr>\n",
       "      <th>0</th>\n",
       "      <td>2020/01/11 20:07:46</td>\n",
       "      <td>台灣基進</td>\n",
       "      <td>348571125292077</td>\n",
       "      <td>NaN</td>\n",
       "      <td>photo</td>\n",
       "      <td>80928</td>\n",
       "      <td>74991</td>\n",
       "      <td>98</td>\n",
       "      <td>3847</td>\n",
       "      <td>1925</td>\n",
       "      <td>34</td>\n",
       "      <td>33</td>\n",
       "      <td>5732</td>\n",
       "      <td>4092</td>\n",
       "      <td>選舉過後，台灣基進不會停歇。\\n　\\n縱使韓國瑜沒有當選，他仍然在高雄破壞著我們的城市，仍會...</td>\n",
       "      <td>NaN</td>\n",
       "      <td>NaN</td>\n",
       "      <td>1578744466000</td>\n",
       "      <td>2020/01/11</td>\n",
       "      <td>20</td>\n",
       "    </tr>\n",
       "  </tbody>\n",
       "</table>\n",
       "</div>"
      ],
      "text/plain": [
       "                  Date Page_Name          Page_ID  Link   Type  \\\n",
       "0  2020/01/11 20:07:46      台灣基進  348571125292077   NaN  photo   \n",
       "\n",
       "   All_Reaction_Count  LIKE_COUNT  WOW_COUNT  LOVE_COUNT  HAHA_COUNT  \\\n",
       "0               80928       74991         98        3847        1925   \n",
       "\n",
       "   SAD_COUNT  ANGRY_COUNT  Comment_Count  Share_Count  \\\n",
       "0         34           33           5732         4092   \n",
       "\n",
       "                                             Message Link_Title  \\\n",
       "0  選舉過後，台灣基進不會停歇。\\n　\\n縱使韓國瑜沒有當選，他仍然在高雄破壞著我們的城市，仍會...        NaN   \n",
       "\n",
       "  Link Description   created_time   Post_Date Hour  \n",
       "0              NaN  1578744466000  2020/01/11   20  "
      ]
     },
     "execution_count": 190,
     "metadata": {},
     "output_type": "execute_result"
    }
   ],
   "source": [
    "df[\"Post_Date\"] = df[\"Date\"].str.split(\" \").str.get(0).str.title() \n",
    "#df.head(1)\n",
    "\n",
    "df[\"Hour\"] = df[\"Date\"].str.split(\" \").str.get(1).str.title().str.split(\":\").str.get(0)\n",
    "df.head(1)"
   ]
  },
  {
   "cell_type": "code",
   "execution_count": 191,
   "metadata": {},
   "outputs": [
    {
     "data": {
      "text/html": [
       "<div>\n",
       "<style scoped>\n",
       "    .dataframe tbody tr th:only-of-type {\n",
       "        vertical-align: middle;\n",
       "    }\n",
       "\n",
       "    .dataframe tbody tr th {\n",
       "        vertical-align: top;\n",
       "    }\n",
       "\n",
       "    .dataframe thead th {\n",
       "        text-align: right;\n",
       "    }\n",
       "</style>\n",
       "<table border=\"1\" class=\"dataframe\">\n",
       "  <thead>\n",
       "    <tr style=\"text-align: right;\">\n",
       "      <th></th>\n",
       "      <th>Date</th>\n",
       "      <th>Page_Name</th>\n",
       "      <th>Page_ID</th>\n",
       "      <th>Link</th>\n",
       "      <th>Type</th>\n",
       "      <th>All_Reaction_Count</th>\n",
       "      <th>LIKE_COUNT</th>\n",
       "      <th>WOW_COUNT</th>\n",
       "      <th>LOVE_COUNT</th>\n",
       "      <th>HAHA_COUNT</th>\n",
       "      <th>...</th>\n",
       "      <th>ANGRY_COUNT</th>\n",
       "      <th>Comment_Count</th>\n",
       "      <th>Share_Count</th>\n",
       "      <th>Message</th>\n",
       "      <th>Link_Title</th>\n",
       "      <th>Link Description</th>\n",
       "      <th>created_time</th>\n",
       "      <th>Post_Date</th>\n",
       "      <th>Hour</th>\n",
       "      <th>Week</th>\n",
       "    </tr>\n",
       "  </thead>\n",
       "  <tbody>\n",
       "    <tr>\n",
       "      <th>0</th>\n",
       "      <td>2020-01-11 20:07:46</td>\n",
       "      <td>台灣基進</td>\n",
       "      <td>348571125292077</td>\n",
       "      <td>NaN</td>\n",
       "      <td>photo</td>\n",
       "      <td>80928</td>\n",
       "      <td>74991</td>\n",
       "      <td>98</td>\n",
       "      <td>3847</td>\n",
       "      <td>1925</td>\n",
       "      <td>...</td>\n",
       "      <td>33</td>\n",
       "      <td>5732</td>\n",
       "      <td>4092</td>\n",
       "      <td>選舉過後，台灣基進不會停歇。\\n　\\n縱使韓國瑜沒有當選，他仍然在高雄破壞著我們的城市，仍會...</td>\n",
       "      <td>NaN</td>\n",
       "      <td>NaN</td>\n",
       "      <td>1578744466000</td>\n",
       "      <td>2020/01/11</td>\n",
       "      <td>20</td>\n",
       "      <td>Saturday</td>\n",
       "    </tr>\n",
       "  </tbody>\n",
       "</table>\n",
       "<p>1 rows × 21 columns</p>\n",
       "</div>"
      ],
      "text/plain": [
       "                 Date Page_Name          Page_ID  Link   Type  \\\n",
       "0 2020-01-11 20:07:46      台灣基進  348571125292077   NaN  photo   \n",
       "\n",
       "   All_Reaction_Count  LIKE_COUNT  WOW_COUNT  LOVE_COUNT  HAHA_COUNT  ...  \\\n",
       "0               80928       74991         98        3847        1925  ...   \n",
       "\n",
       "   ANGRY_COUNT  Comment_Count  Share_Count  \\\n",
       "0           33           5732         4092   \n",
       "\n",
       "                                             Message Link_Title  \\\n",
       "0  選舉過後，台灣基進不會停歇。\\n　\\n縱使韓國瑜沒有當選，他仍然在高雄破壞著我們的城市，仍會...        NaN   \n",
       "\n",
       "  Link Description   created_time   Post_Date Hour      Week  \n",
       "0              NaN  1578744466000  2020/01/11   20  Saturday  \n",
       "\n",
       "[1 rows x 21 columns]"
      ]
     },
     "execution_count": 191,
     "metadata": {},
     "output_type": "execute_result"
    }
   ],
   "source": [
    "#格式化時間\n",
    "df['Date'] = pd.to_datetime(df['Date'])\n",
    "\n",
    "df['Week'] = df['Date'].dt.strftime('%A')\n",
    "df.head(1)"
   ]
  },
  {
   "cell_type": "markdown",
   "metadata": {},
   "source": [
    "## 折線圖\n",
    "依據日期計算各政黨每個月的貼文成效\n",
    "包括讚數、心情、留言等\n",
    "p.s.注意有些欄位數字級距相差太大，放在同一張圖表會不好比較(ex:LIKE_COUNT、WOW_COUNT)"
   ]
  },
  {
   "cell_type": "markdown",
   "metadata": {},
   "source": [
    "### 單個政黨貼文成效比較\n",
    "#### 每個月民進黨獲得多少讚?"
   ]
  },
  {
   "cell_type": "markdown",
   "metadata": {},
   "source": [
    "#### 畫法一：內建plot"
   ]
  },
  {
   "cell_type": "code",
   "execution_count": 159,
   "metadata": {},
   "outputs": [
    {
     "data": {
      "text/plain": [
       "<matplotlib.axes._subplots.AxesSubplot at 0x1bc580782b0>"
      ]
     },
     "execution_count": 159,
     "metadata": {},
     "output_type": "execute_result"
    },
    {
     "data": {
      "image/png": "[encoded data removed]",
      "text/plain": [
       "<Figure size 432x288 with 1 Axes>"
      ]
     },
     "metadata": {},
     "output_type": "display_data"
    }
   ],
   "source": [
    "#篩選各政黨的資料\n",
    "df_green = df[(df[\"Page_Name\"] == \"民主進步黨\" )]\n",
    "\n",
    "#一次抓很多筆\n",
    "like_green = df_green.groupby(df['Date'].dt.strftime('%Y/%m'))['All_Reaction_Count','LIKE_COUNT','WOW_COUNT','HAHA_COUNT','SAD_COUNT','ANGRY_COUNT','Comment_Count','Share_Count'].sum().reset_index()\n",
    "like_green\n",
    "\n",
    "#比較按讚數和留言數的數量\n",
    "like_green.plot(x='Date',y=['LIKE_COUNT','Comment_Count','All_Reaction_Count'])"
   ]
  },
  {
   "cell_type": "markdown",
   "metadata": {},
   "source": [
    "#### 畫法二：套件matplotlib"
   ]
  },
  {
   "cell_type": "code",
   "execution_count": 103,
   "metadata": {},
   "outputs": [
    {
     "data": {
      "text/plain": [
       "[<matplotlib.lines.Line2D at 0x1bc579dc7f0>]"
      ]
     },
     "execution_count": 103,
     "metadata": {},
     "output_type": "execute_result"
    },
    {
     "data": {
      "image/png": "[encoded data removed]",
      "text/plain": [
       "<Figure size 1080x288 with 1 Axes>"
      ]
     },
     "metadata": {},
     "output_type": "display_data"
    }
   ],
   "source": [
    "import matplotlib.pyplot as plt\n",
    "\n",
    "plt.figure(figsize=(15,4)) #設定圖表大小\n",
    "\n",
    "plt.title(\"number of like\") # 加標題\n",
    "plt.xlabel(\"Post Time\")     # 加x軸標題\n",
    "plt.ylabel(\"number\")        # 加y軸標題   \n",
    "\n",
    "#可以用疊加的方式，把想要的變數畫上去\n",
    "plt.plot(like_green['Date'],like_green['LIKE_COUNT'])\n",
    "plt.plot(like_green['Date'],like_green['Comment_Count'])\n",
    "plt.plot(like_green['Date'],like_green['All_Reaction_Count'])"
   ]
  },
  {
   "cell_type": "markdown",
   "metadata": {},
   "source": [
    "## Your turn！"
   ]
  },
  {
   "cell_type": "markdown",
   "metadata": {},
   "source": [
    "。請問基進黨的按讚數和留言數有相似的趨勢嗎？"
   ]
  },
  {
   "cell_type": "markdown",
   "metadata": {},
   "source": [
    "### 每天國民黨發出多少文?\n",
    "在這邊我們用groupby的方式，把每個政黨一天會發幾篇文算出來\n",
    "再用matplotlib畫出來比較"
   ]
  },
  {
   "cell_type": "code",
   "execution_count": 104,
   "metadata": {},
   "outputs": [
    {
     "data": {
      "text/html": [
       "<div>\n",
       "<style scoped>\n",
       "    .dataframe tbody tr th:only-of-type {\n",
       "        vertical-align: middle;\n",
       "    }\n",
       "\n",
       "    .dataframe tbody tr th {\n",
       "        vertical-align: top;\n",
       "    }\n",
       "\n",
       "    .dataframe thead th {\n",
       "        text-align: right;\n",
       "    }\n",
       "</style>\n",
       "<table border=\"1\" class=\"dataframe\">\n",
       "  <thead>\n",
       "    <tr style=\"text-align: right;\">\n",
       "      <th></th>\n",
       "      <th>Page_Name</th>\n",
       "      <th>Post_Date</th>\n",
       "      <th>count</th>\n",
       "    </tr>\n",
       "  </thead>\n",
       "  <tbody>\n",
       "    <tr>\n",
       "      <th>0</th>\n",
       "      <td>中國國民黨 KMT</td>\n",
       "      <td>2019/01/01</td>\n",
       "      <td>2</td>\n",
       "    </tr>\n",
       "    <tr>\n",
       "      <th>1</th>\n",
       "      <td>中國國民黨 KMT</td>\n",
       "      <td>2019/01/02</td>\n",
       "      <td>1</td>\n",
       "    </tr>\n",
       "    <tr>\n",
       "      <th>2</th>\n",
       "      <td>中國國民黨 KMT</td>\n",
       "      <td>2019/01/03</td>\n",
       "      <td>1</td>\n",
       "    </tr>\n",
       "    <tr>\n",
       "      <th>3</th>\n",
       "      <td>中國國民黨 KMT</td>\n",
       "      <td>2019/01/04</td>\n",
       "      <td>1</td>\n",
       "    </tr>\n",
       "    <tr>\n",
       "      <th>4</th>\n",
       "      <td>中國國民黨 KMT</td>\n",
       "      <td>2019/01/09</td>\n",
       "      <td>2</td>\n",
       "    </tr>\n",
       "    <tr>\n",
       "      <th>...</th>\n",
       "      <td>...</td>\n",
       "      <td>...</td>\n",
       "      <td>...</td>\n",
       "    </tr>\n",
       "    <tr>\n",
       "      <th>298</th>\n",
       "      <td>中國國民黨 KMT</td>\n",
       "      <td>2020/01/17</td>\n",
       "      <td>1</td>\n",
       "    </tr>\n",
       "    <tr>\n",
       "      <th>299</th>\n",
       "      <td>中國國民黨 KMT</td>\n",
       "      <td>2020/01/20</td>\n",
       "      <td>1</td>\n",
       "    </tr>\n",
       "    <tr>\n",
       "      <th>300</th>\n",
       "      <td>中國國民黨 KMT</td>\n",
       "      <td>2020/01/22</td>\n",
       "      <td>2</td>\n",
       "    </tr>\n",
       "    <tr>\n",
       "      <th>301</th>\n",
       "      <td>中國國民黨 KMT</td>\n",
       "      <td>2020/01/24</td>\n",
       "      <td>1</td>\n",
       "    </tr>\n",
       "    <tr>\n",
       "      <th>302</th>\n",
       "      <td>中國國民黨 KMT</td>\n",
       "      <td>2020/01/30</td>\n",
       "      <td>1</td>\n",
       "    </tr>\n",
       "  </tbody>\n",
       "</table>\n",
       "<p>303 rows × 3 columns</p>\n",
       "</div>"
      ],
      "text/plain": [
       "     Page_Name   Post_Date  count\n",
       "0    中國國民黨 KMT  2019/01/01      2\n",
       "1    中國國民黨 KMT  2019/01/02      1\n",
       "2    中國國民黨 KMT  2019/01/03      1\n",
       "3    中國國民黨 KMT  2019/01/04      1\n",
       "4    中國國民黨 KMT  2019/01/09      2\n",
       "..         ...         ...    ...\n",
       "298  中國國民黨 KMT  2020/01/17      1\n",
       "299  中國國民黨 KMT  2020/01/20      1\n",
       "300  中國國民黨 KMT  2020/01/22      2\n",
       "301  中國國民黨 KMT  2020/01/24      1\n",
       "302  中國國民黨 KMT  2020/01/30      1\n",
       "\n",
       "[303 rows x 3 columns]"
      ]
     },
     "execution_count": 104,
     "metadata": {},
     "output_type": "execute_result"
    }
   ],
   "source": [
    "#把每個政黨每天發幾篇文算一次\n",
    "df_post = df.groupby(['Page_Name','Post_Date'])['LIKE_COUNT'].count().reset_index(name='count')\n",
    "#注意要加'reset_index(name='count')'才會變成dataframe\n",
    "#df_post\n",
    "\n",
    "#把國民黨單獨拿出來\n",
    "df_blue = df_post[df_post['Page_Name']=='中國國民黨 KMT']\n",
    "#df_tw = df_post[df_post['Page_Name']=='台灣基進']\n",
    "#df_green = df_post[df_post['Page_Name']=='民主進步黨']\n",
    "\n",
    "df_blue"
   ]
  },
  {
   "cell_type": "code",
   "execution_count": 105,
   "metadata": {},
   "outputs": [
    {
     "data": {
      "image/png": "[encoded data removed]",
      "text/plain": [
       "<Figure size 1080x288 with 1 Axes>"
      ]
     },
     "metadata": {},
     "output_type": "display_data"
    }
   ],
   "source": [
    "import matplotlib.ticker as ticker\n",
    "\n",
    "plt.figure(figsize=(15,4)) #設定圖表大小\n",
    "\n",
    "plt.title(\"Number of Post\") # 加標題\n",
    "plt.xlabel(\"Time\")          # 加x軸標題\n",
    "plt.ylabel(\"Number of Post\")        # 加y軸標題   \n",
    "\n",
    "plt.plot(df_blue['Post_Date'],df_blue['count'])\n",
    "plt.gca().xaxis.set_major_locator(ticker.MultipleLocator(40)) #調整x軸要顯示幾個值\n",
    "plt.show()"
   ]
  },
  {
   "cell_type": "markdown",
   "metadata": {},
   "source": [
    "## Your turn！"
   ]
  },
  {
   "cell_type": "markdown",
   "metadata": {},
   "source": [
    "請畫出民進黨每天的發文折線圖"
   ]
  },
  {
   "cell_type": "markdown",
   "metadata": {},
   "source": [
    "## 畫出各政黨每個月的發文熱圖\n",
    "\n",
    "這次我們抓出單一政黨，看該粉專哪個時間的發文頻率最高\n",
    "顏色最深的色塊代表發文熱度最高"
   ]
  },
  {
   "cell_type": "code",
   "execution_count": 192,
   "metadata": {},
   "outputs": [
    {
     "data": {
      "text/html": [
       "<div>\n",
       "<style scoped>\n",
       "    .dataframe tbody tr th:only-of-type {\n",
       "        vertical-align: middle;\n",
       "    }\n",
       "\n",
       "    .dataframe tbody tr th {\n",
       "        vertical-align: top;\n",
       "    }\n",
       "\n",
       "    .dataframe thead th {\n",
       "        text-align: right;\n",
       "    }\n",
       "</style>\n",
       "<table border=\"1\" class=\"dataframe\">\n",
       "  <thead>\n",
       "    <tr style=\"text-align: right;\">\n",
       "      <th></th>\n",
       "      <th>Week</th>\n",
       "      <th>Hour</th>\n",
       "      <th>count</th>\n",
       "    </tr>\n",
       "  </thead>\n",
       "  <tbody>\n",
       "    <tr>\n",
       "      <th>0</th>\n",
       "      <td>Friday</td>\n",
       "      <td>00</td>\n",
       "      <td>6</td>\n",
       "    </tr>\n",
       "    <tr>\n",
       "      <th>1</th>\n",
       "      <td>Friday</td>\n",
       "      <td>01</td>\n",
       "      <td>2</td>\n",
       "    </tr>\n",
       "    <tr>\n",
       "      <th>2</th>\n",
       "      <td>Friday</td>\n",
       "      <td>07</td>\n",
       "      <td>5</td>\n",
       "    </tr>\n",
       "    <tr>\n",
       "      <th>3</th>\n",
       "      <td>Friday</td>\n",
       "      <td>08</td>\n",
       "      <td>12</td>\n",
       "    </tr>\n",
       "    <tr>\n",
       "      <th>4</th>\n",
       "      <td>Friday</td>\n",
       "      <td>09</td>\n",
       "      <td>42</td>\n",
       "    </tr>\n",
       "    <tr>\n",
       "      <th>...</th>\n",
       "      <td>...</td>\n",
       "      <td>...</td>\n",
       "      <td>...</td>\n",
       "    </tr>\n",
       "    <tr>\n",
       "      <th>143</th>\n",
       "      <td>Wednesday</td>\n",
       "      <td>19</td>\n",
       "      <td>57</td>\n",
       "    </tr>\n",
       "    <tr>\n",
       "      <th>144</th>\n",
       "      <td>Wednesday</td>\n",
       "      <td>20</td>\n",
       "      <td>44</td>\n",
       "    </tr>\n",
       "    <tr>\n",
       "      <th>145</th>\n",
       "      <td>Wednesday</td>\n",
       "      <td>21</td>\n",
       "      <td>36</td>\n",
       "    </tr>\n",
       "    <tr>\n",
       "      <th>146</th>\n",
       "      <td>Wednesday</td>\n",
       "      <td>22</td>\n",
       "      <td>14</td>\n",
       "    </tr>\n",
       "    <tr>\n",
       "      <th>147</th>\n",
       "      <td>Wednesday</td>\n",
       "      <td>23</td>\n",
       "      <td>13</td>\n",
       "    </tr>\n",
       "  </tbody>\n",
       "</table>\n",
       "<p>148 rows × 3 columns</p>\n",
       "</div>"
      ],
      "text/plain": [
       "          Week Hour  count\n",
       "0       Friday   00      6\n",
       "1       Friday   01      2\n",
       "2       Friday   07      5\n",
       "3       Friday   08     12\n",
       "4       Friday   09     42\n",
       "..         ...  ...    ...\n",
       "143  Wednesday   19     57\n",
       "144  Wednesday   20     44\n",
       "145  Wednesday   21     36\n",
       "146  Wednesday   22     14\n",
       "147  Wednesday   23     13\n",
       "\n",
       "[148 rows x 3 columns]"
      ]
     },
     "execution_count": 192,
     "metadata": {},
     "output_type": "execute_result"
    }
   ],
   "source": [
    "#選出國民黨的發文\n",
    "df_blue = df[df['Page_Name']=='中國國民黨 KMT']\n",
    "\n",
    "#算每星期每小時發了幾篇\n",
    "df_post_blue = df.groupby(['Week','Hour'])['LIKE_COUNT'].count().reset_index(name='count')\n",
    "\n",
    "df_post_blue"
   ]
  },
  {
   "cell_type": "code",
   "execution_count": 193,
   "metadata": {},
   "outputs": [
    {
     "data": {
      "image/png": "[encoded data removed]",
      "text/plain": [
       "<Figure size 648x432 with 2 Axes>"
      ]
     },
     "metadata": {},
     "output_type": "display_data"
    }
   ],
   "source": [
    "import matplotlib.pyplot as plt\n",
    "import seaborn as sns\n",
    "sns.set()\n",
    "\n",
    "flights = df_post_blue.pivot(\"Week\", \"Hour\", \"count\")\n",
    "# 畫出x-y-z的圖，比如 年-月-銷量 的熱圖\n",
    "f, ax = plt.subplots(figsize=(9, 6))\n",
    "#使用不同的顏色\n",
    "sns.heatmap(flights, fmt=\"d\",cmap='YlGnBu', ax=ax)\n",
    "#設置座標字體方向\n",
    "label_y = ax.get_yticklabels()\n",
    "plt.setp(label_y, rotation=360, horizontalalignment='right')\n",
    "label_x = ax.get_xticklabels()\n",
    "plt.setp(label_x, rotation=45, horizontalalignment='right')\n",
    "plt.show()"
   ]
  },
  {
   "cell_type": "markdown",
   "metadata": {},
   "source": [
    "## Your turn！"
   ]
  },
  {
   "cell_type": "markdown",
   "metadata": {},
   "source": [
    "。請問總體來看，最熱門的發文時段是哪時候？"
   ]
  }
 ],
 "metadata": {
  "kernelspec": {
   "display_name": "Python 3",
   "language": "python",
   "name": "python3"
  },
  "language_info": {
   "codemirror_mode": {
    "name": "ipython",
    "version": 3
   },
   "file_extension": ".py",
   "mimetype": "text/x-python",
   "name": "python",
   "nbconvert_exporter": "python",
   "pygments_lexer": "ipython3",
   "version": "3.7.3"
  }
 },
 "nbformat": 4,
 "nbformat_minor": 2
}
