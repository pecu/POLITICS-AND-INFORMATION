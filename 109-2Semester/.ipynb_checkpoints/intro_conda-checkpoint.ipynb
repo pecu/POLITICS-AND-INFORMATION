{
 "cells": [
  {
   "cell_type": "markdown",
   "metadata": {},
   "source": [
    "## 開發環境控制"
   ]
  },
  {
   "cell_type": "markdown",
   "metadata": {},
   "source": [
    "## anaconda prompt 操作"
   ]
  },
  {
   "cell_type": "markdown",
   "metadata": {},
   "source": [
    "+ 看目前的環境有哪些</br>\n",
    "conda env list\n",
    "\n",
    "+ 創環境；–n後面填自己要的名字(ex:my_env)；最後面可以指定版本 </br>\n",
    "conda create –n my_env python=3.6\n",
    "\n",
    "+ 進入環境\n",
    "    + windows </br>\n",
    "     activate my_env\n",
    "    + macOS/linux </br>\n",
    "    source activate my_env\n",
    "\n",
    "+ 離開環境</br>\n",
    "    + windows </br>\n",
    "    conda deactivate\n",
    "    + macOS/linux </br>\n",
    "    source deactivate\n",
    "\n",
    "+ 刪掉環境裡面的某個套件</br>\n",
    "conda remove --name my_env numpy\n",
    "\n",
    "+ 刪掉整個環境</br>\n",
    "conda env remove --name my_env"
   ]
  },
  {
   "cell_type": "markdown",
   "metadata": {},
   "source": [
    "## anaconda"
   ]
  },
  {
   "cell_type": "markdown",
   "metadata": {},
   "source": [
    "![title](anaconda.png)"
   ]
  }
 ],
 "metadata": {
  "kernelspec": {
   "display_name": "Python 3",
   "language": "python",
   "name": "python3"
  },
  "language_info": {
   "codemirror_mode": {
    "name": "ipython",
    "version": 3
   },
   "file_extension": ".py",
   "mimetype": "text/x-python",
   "name": "python",
   "nbconvert_exporter": "python",
   "pygments_lexer": "ipython3",
   "version": "3.7.3"
  }
 },
 "nbformat": 4,
 "nbformat_minor": 2
}
