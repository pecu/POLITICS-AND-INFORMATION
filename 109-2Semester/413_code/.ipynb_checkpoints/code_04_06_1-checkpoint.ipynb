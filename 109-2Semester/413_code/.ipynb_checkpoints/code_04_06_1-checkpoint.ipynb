{
 "cells": [
  {
   "cell_type": "markdown",
   "metadata": {},
   "source": [
    "## 4/16 範例程式"
   ]
  },
  {
   "cell_type": "markdown",
   "metadata": {},
   "source": [
    "### 讀取資料"
   ]
  },
  {
   "cell_type": "code",
   "execution_count": 2,
   "metadata": {},
   "outputs": [],
   "source": [
    "import pandas as pd \n",
    "df = pd.read_csv(\"10802_2020.csv\") #匯資料\n",
    "df[\"Post_Date\"] = df[\"Date\"].str.split(\" \").str.get(0).str.title() #加Post_Date欄位\n",
    "df['Post_Date'] = pd.to_datetime(df['Post_Date'])\n",
    "\n",
    "df_blue_New = df[df['Page_Name']=='中國國民黨 KMT'][['Message','Post_Date']] #只要國民黨的文章和時間\n",
    "df_blue_New = df_blue_New.dropna()"
   ]
  },
  {
   "cell_type": "markdown",
   "metadata": {},
   "source": [
    "### 結巴斷詞 jieba\n",
    "+ len(df_blue_New)：看國民黨的貼文總共有幾筆，單獨把doc_names印出來發現有482篇\n",
    "+ 原本df_blue_New['Message']型態是pandas.core.series.Series，需要先轉成list的形式才可以加進去。\n",
    "+ 接下來我們創造一個新的dataframe叫做df_blue_docs，型態是pandas.core.frame.DataFrame\n",
    "+ 原本df_blue_docs裡面的'jieba_results'欄位型態是pandas.core.series.Series，需要轉成'str'(字串)型態才能做後續處理。"
   ]
  },
  {
   "cell_type": "code",
   "execution_count": 3,
   "metadata": {},
   "outputs": [],
   "source": [
    "doc_names = range(len(df_blue_New)) #有幾篇文章\n",
    "text_list = list(df_blue_New['Message']) #把要斷的東西轉list\n",
    "\n",
    "#創造空的dataframe叫做df_blue_docs\n",
    "df_blue_docs = pd.DataFrame(columns=['jieba_results'])\n",
    "\n",
    "df_blue_docs['jieba_results'] = df_blue_docs['jieba_results'].astype('str')"
   ]
  },
  {
   "cell_type": "markdown",
   "metadata": {},
   "source": [
    "把要存斷詞結果的dataframe準備好之後，就可以開始斷詞了。</br>\n",
    "\n",
    "+ 第一個迴圈</br>\n",
    "剛才我們知道，國民黨的篇數有482篇：\n",
    "我們可以用一個for迴圈來跑每一篇文章，i是對應文章的意思，會從1(第一篇)跑到482(第482篇)；</br>\n",
    "而text_list就是我們剛剛轉成list型態的國民黨貼文內容；text_list[1]，就是取出list第一個元素(第一篇貼文)的意思。</br>\n",
    "\n",
    "+ 第二個迴圈</br>\n",
    "words存的是文章斷詞後的集合物件(object)，我們需要跑第二個for迴圈把集合裡面的字取出來，</br>\n",
    "word代表斷詞集合中的一個字，先把字轉換成str(字串)型態之後，字和字之間加上空格存在一起。\n",
    "\n",
    "+ append加回斷詞欄位</br>\n",
    "之後把text內容存到'jieba_results'這個欄位裡面，再和df_blue_docs合併。</br>\n",
    "最後我們df_blue_docs，只會一個欄位jieba_results，存斷詞之後的結果。"
   ]
  },
  {
   "cell_type": "code",
   "execution_count": 4,
   "metadata": {},
   "outputs": [
    {
     "name": "stderr",
     "output_type": "stream",
     "text": [
      "Building prefix dict from the default dictionary ...\n",
      "Loading model from cache C:\\Users\\User\\AppData\\Local\\Temp\\jieba.cache\n",
      "Loading model cost 0.656 seconds.\n",
      "Prefix dict has been built succesfully.\n"
     ]
    }
   ],
   "source": [
    "import jieba\n",
    "from tqdm import tqdm\n",
    "\n",
    "for i in doc_names: #從第一篇到最後一篇\n",
    "    words = jieba.cut(text_list[i], cut_all = False)\n",
    "    \n",
    "    text = ''\n",
    "    for word in words:\n",
    "        text = text + ' ' + str(word)    \n",
    "    #print(words)\n",
    "    #print(i) #第幾篇文章\n",
    "    #print(text) #第幾篇文章的斷詞結果\n",
    "    \n",
    "    s = pd.Series({'jieba_results': text})\n",
    "    df_blue_docs = df_blue_docs.append(s, ignore_index=True)#每次的斷詞結果都加回df_blue_docs"
   ]
  },
  {
   "cell_type": "markdown",
   "metadata": {},
   "source": [
    "+ 注意\n",
    "在最後生成的df_blue_docs，因為是ignore_index=True有重置過index</br>\n",
    "所以在和df_blue_New合併之前，需要先重置df_blue_New的index</br>\n",
    "> 可以參考：https://ithelp.ithome.com.tw/m/articles/10200052"
   ]
  },
  {
   "cell_type": "code",
   "execution_count": 5,
   "metadata": {},
   "outputs": [],
   "source": [
    "df_blue_New.reset_index(inplace=True)"
   ]
  },
  {
   "cell_type": "markdown",
   "metadata": {},
   "source": [
    "我們把最後得到的df_blue_docs，加到df_blue_New裡面"
   ]
  },
  {
   "cell_type": "code",
   "execution_count": 6,
   "metadata": {},
   "outputs": [
    {
     "data": {
      "text/html": [
       "<div>\n",
       "<style scoped>\n",
       "    .dataframe tbody tr th:only-of-type {\n",
       "        vertical-align: middle;\n",
       "    }\n",
       "\n",
       "    .dataframe tbody tr th {\n",
       "        vertical-align: top;\n",
       "    }\n",
       "\n",
       "    .dataframe thead th {\n",
       "        text-align: right;\n",
       "    }\n",
       "</style>\n",
       "<table border=\"1\" class=\"dataframe\">\n",
       "  <thead>\n",
       "    <tr style=\"text-align: right;\">\n",
       "      <th></th>\n",
       "      <th>index</th>\n",
       "      <th>Message</th>\n",
       "      <th>Post_Date</th>\n",
       "      <th>jieba_results</th>\n",
       "    </tr>\n",
       "  </thead>\n",
       "  <tbody>\n",
       "    <tr>\n",
       "      <th>0</th>\n",
       "      <td>31</td>\n",
       "      <td>今日挺韓「南方崛起高雄光榮周年慶大遊行」 下午1點11分準時出發\\n全程我們都是秉持著理性且...</td>\n",
       "      <td>2019-12-21</td>\n",
       "      <td>今日 挺韓 「 南方 崛起 高雄 光榮 周年 慶大遊行 」   下午 1 點 11 分準 ...</td>\n",
       "    </tr>\n",
       "    <tr>\n",
       "      <th>1</th>\n",
       "      <td>100</td>\n",
       "      <td>【元旦升旗，不見不散】\\n\\n你有多久沒有唱國歌、升國旗了？迎接明年元旦，我們一起升旗吧！國...</td>\n",
       "      <td>2019-12-29</td>\n",
       "      <td>【 元旦 升旗 ， 不見 不散 】 \\n \\n 你 有 多久 沒有 唱國歌 、 升國旗 了...</td>\n",
       "    </tr>\n",
       "  </tbody>\n",
       "</table>\n",
       "</div>"
      ],
      "text/plain": [
       "   index                                            Message  Post_Date  \\\n",
       "0     31  今日挺韓「南方崛起高雄光榮周年慶大遊行」 下午1點11分準時出發\\n全程我們都是秉持著理性且... 2019-12-21   \n",
       "1    100  【元旦升旗，不見不散】\\n\\n你有多久沒有唱國歌、升國旗了？迎接明年元旦，我們一起升旗吧！國... 2019-12-29   \n",
       "\n",
       "                                       jieba_results  \n",
       "0   今日 挺韓 「 南方 崛起 高雄 光榮 周年 慶大遊行 」   下午 1 點 11 分準 ...  \n",
       "1   【 元旦 升旗 ， 不見 不散 】 \\n \\n 你 有 多久 沒有 唱國歌 、 升國旗 了...  "
      ]
     },
     "execution_count": 6,
     "metadata": {},
     "output_type": "execute_result"
    }
   ],
   "source": [
    "df_blue_New['jieba_results'] = df_blue_docs\n",
    "df_blue_New_select = df_blue_New[['jieba_results','Post_Date']]\n",
    "df_blue_New.head(2)\n",
    "\n",
    "#可以查看個別貼文的斷詞情況\n",
    "#df_blue_New['jieba_results'][477]"
   ]
  },
  {
   "cell_type": "markdown",
   "metadata": {},
   "source": [
    "### 分析 民主進步黨 與 台灣民眾黨  \n",
    "\n",
    "> #### 1. 資料前處理 \n",
    "> #### 2. TF-IDF\n",
    "> #### 3. PCA    \n",
    "> #### 4. 關聯圖"
   ]
  },
  {
   "cell_type": "markdown",
   "metadata": {},
   "source": [
    "### 資料前處理\n",
    "選出民進黨的發文，處理方式和上面一樣"
   ]
  },
  {
   "cell_type": "code",
   "execution_count": 7,
   "metadata": {},
   "outputs": [
    {
     "data": {
      "text/html": [
       "<div>\n",
       "<style scoped>\n",
       "    .dataframe tbody tr th:only-of-type {\n",
       "        vertical-align: middle;\n",
       "    }\n",
       "\n",
       "    .dataframe tbody tr th {\n",
       "        vertical-align: top;\n",
       "    }\n",
       "\n",
       "    .dataframe thead th {\n",
       "        text-align: right;\n",
       "    }\n",
       "</style>\n",
       "<table border=\"1\" class=\"dataframe\">\n",
       "  <thead>\n",
       "    <tr style=\"text-align: right;\">\n",
       "      <th></th>\n",
       "      <th>index</th>\n",
       "      <th>Post_Date</th>\n",
       "      <th>Message</th>\n",
       "      <th>jieba_results</th>\n",
       "      <th>df_class</th>\n",
       "    </tr>\n",
       "  </thead>\n",
       "  <tbody>\n",
       "    <tr>\n",
       "      <th>0</th>\n",
       "      <td>3</td>\n",
       "      <td>2020-01-11</td>\n",
       "      <td>《2020 台灣要贏 LET'S WIN 開票之夜》</td>\n",
       "      <td>《 2020   台灣 要贏   LET ' S   WIN   開票 之夜 》</td>\n",
       "      <td>green</td>\n",
       "    </tr>\n",
       "    <tr>\n",
       "      <th>1</th>\n",
       "      <td>10</td>\n",
       "      <td>2020-01-10</td>\n",
       "      <td>總統票3號蔡英文、賴清德，立委票請支持民主進步黨提名或推薦的候選人，第三張政黨票最重要，請集...</td>\n",
       "      <td>總統票 3 號蔡 英文 、 賴清德 ， 立委 票 請 支持 民主 進步 黨 提名 或 推薦...</td>\n",
       "      <td>green</td>\n",
       "    </tr>\n",
       "    <tr>\n",
       "      <th>2</th>\n",
       "      <td>11</td>\n",
       "      <td>2020-01-07</td>\n",
       "      <td>#這是我的投票意志\\n\\n總統票3號、政黨票14號，\\n3.14是圓周率，守護民主需要投票率...</td>\n",
       "      <td># 這是 我 的 投票 意志 \\n \\n 總統票 3 號 、 政黨票 14 號 ， \\n ...</td>\n",
       "      <td>green</td>\n",
       "    </tr>\n",
       "    <tr>\n",
       "      <th>3</th>\n",
       "      <td>14</td>\n",
       "      <td>2020-01-10</td>\n",
       "      <td>🔥蔡英文賴清德 #光復高雄 選前之夜🔥\\n\\n2020 高雄大贏！2020 台灣要贏！\\n高...</td>\n",
       "      <td>🔥 蔡 英文 賴清德   # 光 復 高雄   選前 之夜 🔥 \\n \\n 2020   ...</td>\n",
       "      <td>green</td>\n",
       "    </tr>\n",
       "    <tr>\n",
       "      <th>4</th>\n",
       "      <td>19</td>\n",
       "      <td>2020-01-05</td>\n",
       "      <td>1月11日，我們一起回家投票！\\n\\n這一天的你，早起搭上返鄉的列車，檢查身份證是否帶上，我...</td>\n",
       "      <td>1 月 11 日 ， 我們 一起 回家 投票 ！ \\n \\n 這 一天 的 你 ， 早起 ...</td>\n",
       "      <td>green</td>\n",
       "    </tr>\n",
       "  </tbody>\n",
       "</table>\n",
       "</div>"
      ],
      "text/plain": [
       "   index  Post_Date                                            Message  \\\n",
       "0      3 2020-01-11                         《2020 台灣要贏 LET'S WIN 開票之夜》   \n",
       "1     10 2020-01-10  總統票3號蔡英文、賴清德，立委票請支持民主進步黨提名或推薦的候選人，第三張政黨票最重要，請集...   \n",
       "2     11 2020-01-07  #這是我的投票意志\\n\\n總統票3號、政黨票14號，\\n3.14是圓周率，守護民主需要投票率...   \n",
       "3     14 2020-01-10  🔥蔡英文賴清德 #光復高雄 選前之夜🔥\\n\\n2020 高雄大贏！2020 台灣要贏！\\n高...   \n",
       "4     19 2020-01-05  1月11日，我們一起回家投票！\\n\\n這一天的你，早起搭上返鄉的列車，檢查身份證是否帶上，我...   \n",
       "\n",
       "                                       jieba_results df_class  \n",
       "0           《 2020   台灣 要贏   LET ' S   WIN   開票 之夜 》    green  \n",
       "1   總統票 3 號蔡 英文 、 賴清德 ， 立委 票 請 支持 民主 進步 黨 提名 或 推薦...    green  \n",
       "2   # 這是 我 的 投票 意志 \\n \\n 總統票 3 號 、 政黨票 14 號 ， \\n ...    green  \n",
       "3   🔥 蔡 英文 賴清德   # 光 復 高雄   選前 之夜 🔥 \\n \\n 2020   ...    green  \n",
       "4   1 月 11 日 ， 我們 一起 回家 投票 ！ \\n \\n 這 一天 的 你 ， 早起 ...    green  "
      ]
     },
     "execution_count": 7,
     "metadata": {},
     "output_type": "execute_result"
    }
   ],
   "source": [
    "df_green = df[df['Page_Name']=='民主進步黨']\n",
    "df_green_New = df_green[['Post_Date', 'Message']]\n",
    "df_green_New = df_green_New.dropna()\n",
    "df_green_New['Message']\n",
    "\n",
    "doc_names = range(len(df_green_New))\n",
    "text_list = list(df_green_New['Message'])\n",
    "df_green_docs = pd.DataFrame(columns=['jieba_results'])\n",
    "df_green_docs['jieba_results'] = df_green_docs['jieba_results'].astype('str')\n",
    "\n",
    "for i in doc_names:\n",
    "    words = jieba.cut(text_list[i], cut_all = False)\n",
    "    text = ''\n",
    "    for word in words:\n",
    "        text = text + ' ' + str(word)\n",
    "    s = pd.Series({'jieba_results': text})\n",
    "    df_green_docs = df_green_docs.append(s, ignore_index=True)  \n",
    "    \n",
    "df_green_New.reset_index(inplace=True)  #不設定的話會有錯亂的情形，data對不起來\n",
    "df_green_New['jieba_results'] = df_green_docs\n",
    "df_green_New['df_class'] = 'green'\n",
    "df_green_New.head()"
   ]
  },
  {
   "cell_type": "markdown",
   "metadata": {},
   "source": [
    "選出台灣民眾黨的發文，處理方式和上面一樣"
   ]
  },
  {
   "cell_type": "code",
   "execution_count": 8,
   "metadata": {},
   "outputs": [
    {
     "data": {
      "text/html": [
       "<div>\n",
       "<style scoped>\n",
       "    .dataframe tbody tr th:only-of-type {\n",
       "        vertical-align: middle;\n",
       "    }\n",
       "\n",
       "    .dataframe tbody tr th {\n",
       "        vertical-align: top;\n",
       "    }\n",
       "\n",
       "    .dataframe thead th {\n",
       "        text-align: right;\n",
       "    }\n",
       "</style>\n",
       "<table border=\"1\" class=\"dataframe\">\n",
       "  <thead>\n",
       "    <tr style=\"text-align: right;\">\n",
       "      <th></th>\n",
       "      <th>index</th>\n",
       "      <th>Post_Date</th>\n",
       "      <th>Message</th>\n",
       "      <th>jieba_results</th>\n",
       "      <th>df_class</th>\n",
       "    </tr>\n",
       "  </thead>\n",
       "  <tbody>\n",
       "    <tr>\n",
       "      <th>0</th>\n",
       "      <td>0</td>\n",
       "      <td>2020-01-11</td>\n",
       "      <td>選舉過後，台灣基進不會停歇。\\n　\\n縱使韓國瑜沒有當選，他仍然在高雄破壞著我們的城市，仍會...</td>\n",
       "      <td>選舉過 後 ， 台灣 基進 不會 停歇 。 \\n 　 \\n 縱使 韓國瑜 沒有 當選 ， ...</td>\n",
       "      <td>white</td>\n",
       "    </tr>\n",
       "    <tr>\n",
       "      <th>1</th>\n",
       "      <td>1</td>\n",
       "      <td>2020-01-10</td>\n",
       "      <td>謝謝吳念真支持陳柏惟❤️！</td>\n",
       "      <td>謝謝 吳念 真 支持 陳 柏惟 ❤ ️ ！</td>\n",
       "      <td>white</td>\n",
       "    </tr>\n",
       "    <tr>\n",
       "      <th>2</th>\n",
       "      <td>2</td>\n",
       "      <td>2020-01-12</td>\n",
       "      <td>【 3Q 陳柏惟-勝選感言】\\n\\n謝謝你們，你們做到了。\\n\\n半年前，我來到這邊的時候，...</td>\n",
       "      <td>【   3Q   陳 柏惟 - 勝選 感言 】 \\n \\n 謝謝 你 們 ， 你們 做到 ...</td>\n",
       "      <td>white</td>\n",
       "    </tr>\n",
       "    <tr>\n",
       "      <th>3</th>\n",
       "      <td>4</td>\n",
       "      <td>2020-01-08</td>\n",
       "      <td>從台灣基進創立以來，高雄一直是我們最溫暖的家鄉。\\n　\\n一路走來，我們從一個小木箱一隻麥克...</td>\n",
       "      <td>從 台灣 基進 創立 以來 ， 高雄 一直 是 我們 最溫 暖 的 家 鄉 。 \\n 　 ...</td>\n",
       "      <td>white</td>\n",
       "    </tr>\n",
       "    <tr>\n",
       "      <th>4</th>\n",
       "      <td>6</td>\n",
       "      <td>2020-01-12</td>\n",
       "      <td>首先，感謝每一張堅定投給台灣基進的政黨票。\\n\\n感謝每一位支持柏惟的選民。\\n\\n感謝因為...</td>\n",
       "      <td>首先 ， 感謝 每 一張 堅定 投給 台灣 基進 的 政黨票 。 \\n \\n 感謝 每 一...</td>\n",
       "      <td>white</td>\n",
       "    </tr>\n",
       "  </tbody>\n",
       "</table>\n",
       "</div>"
      ],
      "text/plain": [
       "   index  Post_Date                                            Message  \\\n",
       "0      0 2020-01-11  選舉過後，台灣基進不會停歇。\\n　\\n縱使韓國瑜沒有當選，他仍然在高雄破壞著我們的城市，仍會...   \n",
       "1      1 2020-01-10                                      謝謝吳念真支持陳柏惟❤️！   \n",
       "2      2 2020-01-12  【 3Q 陳柏惟-勝選感言】\\n\\n謝謝你們，你們做到了。\\n\\n半年前，我來到這邊的時候，...   \n",
       "3      4 2020-01-08  從台灣基進創立以來，高雄一直是我們最溫暖的家鄉。\\n　\\n一路走來，我們從一個小木箱一隻麥克...   \n",
       "4      6 2020-01-12  首先，感謝每一張堅定投給台灣基進的政黨票。\\n\\n感謝每一位支持柏惟的選民。\\n\\n感謝因為...   \n",
       "\n",
       "                                       jieba_results df_class  \n",
       "0   選舉過 後 ， 台灣 基進 不會 停歇 。 \\n 　 \\n 縱使 韓國瑜 沒有 當選 ， ...    white  \n",
       "1                              謝謝 吳念 真 支持 陳 柏惟 ❤ ️ ！    white  \n",
       "2   【   3Q   陳 柏惟 - 勝選 感言 】 \\n \\n 謝謝 你 們 ， 你們 做到 ...    white  \n",
       "3   從 台灣 基進 創立 以來 ， 高雄 一直 是 我們 最溫 暖 的 家 鄉 。 \\n 　 ...    white  \n",
       "4   首先 ， 感謝 每 一張 堅定 投給 台灣 基進 的 政黨票 。 \\n \\n 感謝 每 一...    white  "
      ]
     },
     "execution_count": 8,
     "metadata": {},
     "output_type": "execute_result"
    }
   ],
   "source": [
    "df_white = df[df['Page_Name']=='台灣基進']\n",
    "\n",
    "df_white_New = df_white[['Post_Date', 'Message']]\n",
    "df_white_New = df_white_New.dropna()\n",
    "df_white_New['Message']\n",
    "\n",
    "doc_names = range(len(df_white_New))\n",
    "text_list = list(df_white_New['Message'])\n",
    "df_white_docs = pd.DataFrame(columns=['jieba_results'])\n",
    "df_white_docs['jieba_results'] = df_white_docs['jieba_results'].astype('str')\n",
    "\n",
    "for i in doc_names:\n",
    "    words = jieba.cut(text_list[i], cut_all = False)\n",
    "    text = ''\n",
    "    for word in words:\n",
    "        text = text + ' ' + str(word)\n",
    "    s = pd.Series({'jieba_results': text})\n",
    "    if(text=='NAN'):\n",
    "        print(text_list[i])\n",
    "    elif(text==''):\n",
    "        print(text_list[i])\n",
    "    df_white_docs = df_white_docs.append(s, ignore_index=True)  \n",
    "    \n",
    "df_white_New.reset_index(inplace=True)        \n",
    "df_white_New['jieba_results'] = df_white_docs\n",
    "df_white_New['df_class'] = 'white'\n",
    "df_white_New.head()"
   ]
  },
  {
   "cell_type": "markdown",
   "metadata": {},
   "source": [
    "合併上面兩個dataframe"
   ]
  },
  {
   "cell_type": "code",
   "execution_count": 9,
   "metadata": {},
   "outputs": [
    {
     "data": {
      "text/html": [
       "<div>\n",
       "<style scoped>\n",
       "    .dataframe tbody tr th:only-of-type {\n",
       "        vertical-align: middle;\n",
       "    }\n",
       "\n",
       "    .dataframe tbody tr th {\n",
       "        vertical-align: top;\n",
       "    }\n",
       "\n",
       "    .dataframe thead th {\n",
       "        text-align: right;\n",
       "    }\n",
       "</style>\n",
       "<table border=\"1\" class=\"dataframe\">\n",
       "  <thead>\n",
       "    <tr style=\"text-align: right;\">\n",
       "      <th></th>\n",
       "      <th>index</th>\n",
       "      <th>Post_Date</th>\n",
       "      <th>Message</th>\n",
       "      <th>jieba_results</th>\n",
       "      <th>df_class</th>\n",
       "    </tr>\n",
       "  </thead>\n",
       "  <tbody>\n",
       "    <tr>\n",
       "      <th>0</th>\n",
       "      <td>0</td>\n",
       "      <td>2020-01-11</td>\n",
       "      <td>選舉過後，台灣基進不會停歇。\\n　\\n縱使韓國瑜沒有當選，他仍然在高雄破壞著我們的城市，仍會...</td>\n",
       "      <td>選舉過 後 ， 台灣 基進 不會 停歇 。 \\n 　 \\n 縱使 韓國瑜 沒有 當選 ， ...</td>\n",
       "      <td>white</td>\n",
       "    </tr>\n",
       "    <tr>\n",
       "      <th>1</th>\n",
       "      <td>1</td>\n",
       "      <td>2020-01-10</td>\n",
       "      <td>謝謝吳念真支持陳柏惟❤️！</td>\n",
       "      <td>謝謝 吳念 真 支持 陳 柏惟 ❤ ️ ！</td>\n",
       "      <td>white</td>\n",
       "    </tr>\n",
       "    <tr>\n",
       "      <th>2</th>\n",
       "      <td>2</td>\n",
       "      <td>2020-01-12</td>\n",
       "      <td>【 3Q 陳柏惟-勝選感言】\\n\\n謝謝你們，你們做到了。\\n\\n半年前，我來到這邊的時候，...</td>\n",
       "      <td>【   3Q   陳 柏惟 - 勝選 感言 】 \\n \\n 謝謝 你 們 ， 你們 做到 ...</td>\n",
       "      <td>white</td>\n",
       "    </tr>\n",
       "    <tr>\n",
       "      <th>3</th>\n",
       "      <td>4</td>\n",
       "      <td>2020-01-08</td>\n",
       "      <td>從台灣基進創立以來，高雄一直是我們最溫暖的家鄉。\\n　\\n一路走來，我們從一個小木箱一隻麥克...</td>\n",
       "      <td>從 台灣 基進 創立 以來 ， 高雄 一直 是 我們 最溫 暖 的 家 鄉 。 \\n 　 ...</td>\n",
       "      <td>white</td>\n",
       "    </tr>\n",
       "    <tr>\n",
       "      <th>4</th>\n",
       "      <td>6</td>\n",
       "      <td>2020-01-12</td>\n",
       "      <td>首先，感謝每一張堅定投給台灣基進的政黨票。\\n\\n感謝每一位支持柏惟的選民。\\n\\n感謝因為...</td>\n",
       "      <td>首先 ， 感謝 每 一張 堅定 投給 台灣 基進 的 政黨票 。 \\n \\n 感謝 每 一...</td>\n",
       "      <td>white</td>\n",
       "    </tr>\n",
       "    <tr>\n",
       "      <th>...</th>\n",
       "      <td>...</td>\n",
       "      <td>...</td>\n",
       "      <td>...</td>\n",
       "      <td>...</td>\n",
       "      <td>...</td>\n",
       "    </tr>\n",
       "    <tr>\n",
       "      <th>850</th>\n",
       "      <td>3770</td>\n",
       "      <td>2019-12-15</td>\n",
       "      <td>【護國會 保台灣】中央助講團–彰化場\\n守住國會保平安  集中選票挺台灣</td>\n",
       "      <td>【 護國會   保台灣 】 中央 助講團 – 彰化 場 \\n 守住 國會 保平安     ...</td>\n",
       "      <td>green</td>\n",
       "    </tr>\n",
       "    <tr>\n",
       "      <th>851</th>\n",
       "      <td>3775</td>\n",
       "      <td>2019-07-14</td>\n",
       "      <td>#你知道戒嚴是什麼嗎\\n#你知道台灣戒嚴多久嗎\\n#你知道戒嚴時禁止哪些行為嗎\\n\\n明天7...</td>\n",
       "      <td># 你 知道 戒嚴 是 什麼 嗎 \\n # 你 知道 台灣 戒嚴 多久 嗎 \\n # 你 ...</td>\n",
       "      <td>green</td>\n",
       "    </tr>\n",
       "    <tr>\n",
       "      <th>852</th>\n",
       "      <td>3779</td>\n",
       "      <td>2019-10-29</td>\n",
       "      <td>｜小民怎麼了？邀請你看懶人包幫助更多人｜\\n\\n人吃五穀雜糧，難免有年紀漸長的一天\\n即使不...</td>\n",
       "      <td>｜ 小民 怎麼 了 ？ 邀請 你 看 懶人 包幫助 更 多 人 ｜ \\n \\n 人 吃 五...</td>\n",
       "      <td>green</td>\n",
       "    </tr>\n",
       "    <tr>\n",
       "      <th>853</th>\n",
       "      <td>3784</td>\n",
       "      <td>2019-12-15</td>\n",
       "      <td>【護國會 保台灣】中央助講團–彰化場</td>\n",
       "      <td>【 護國會   保台灣 】 中央 助講團 – 彰化 場</td>\n",
       "      <td>green</td>\n",
       "    </tr>\n",
       "    <tr>\n",
       "      <th>854</th>\n",
       "      <td>3785</td>\n",
       "      <td>2019-11-05</td>\n",
       "      <td>【韓氏夫妻 歧視成性 扼殺母語 踐踏文化】記者會（完整版上傳）\\n\\n針對國民黨總統參選人韓...</td>\n",
       "      <td>【 韓氏 夫妻   歧視 成性   扼殺 母語   踐 踏 文化 】 記者 會 （ 完整版...</td>\n",
       "      <td>green</td>\n",
       "    </tr>\n",
       "  </tbody>\n",
       "</table>\n",
       "<p>1881 rows × 5 columns</p>\n",
       "</div>"
      ],
      "text/plain": [
       "     index  Post_Date                                            Message  \\\n",
       "0        0 2020-01-11  選舉過後，台灣基進不會停歇。\\n　\\n縱使韓國瑜沒有當選，他仍然在高雄破壞著我們的城市，仍會...   \n",
       "1        1 2020-01-10                                      謝謝吳念真支持陳柏惟❤️！   \n",
       "2        2 2020-01-12  【 3Q 陳柏惟-勝選感言】\\n\\n謝謝你們，你們做到了。\\n\\n半年前，我來到這邊的時候，...   \n",
       "3        4 2020-01-08  從台灣基進創立以來，高雄一直是我們最溫暖的家鄉。\\n　\\n一路走來，我們從一個小木箱一隻麥克...   \n",
       "4        6 2020-01-12  首先，感謝每一張堅定投給台灣基進的政黨票。\\n\\n感謝每一位支持柏惟的選民。\\n\\n感謝因為...   \n",
       "..     ...        ...                                                ...   \n",
       "850   3770 2019-12-15               【護國會 保台灣】中央助講團–彰化場\\n守住國會保平安  集中選票挺台灣   \n",
       "851   3775 2019-07-14  #你知道戒嚴是什麼嗎\\n#你知道台灣戒嚴多久嗎\\n#你知道戒嚴時禁止哪些行為嗎\\n\\n明天7...   \n",
       "852   3779 2019-10-29  ｜小民怎麼了？邀請你看懶人包幫助更多人｜\\n\\n人吃五穀雜糧，難免有年紀漸長的一天\\n即使不...   \n",
       "853   3784 2019-12-15                                 【護國會 保台灣】中央助講團–彰化場   \n",
       "854   3785 2019-11-05  【韓氏夫妻 歧視成性 扼殺母語 踐踏文化】記者會（完整版上傳）\\n\\n針對國民黨總統參選人韓...   \n",
       "\n",
       "                                         jieba_results df_class  \n",
       "0     選舉過 後 ， 台灣 基進 不會 停歇 。 \\n 　 \\n 縱使 韓國瑜 沒有 當選 ， ...    white  \n",
       "1                                謝謝 吳念 真 支持 陳 柏惟 ❤ ️ ！    white  \n",
       "2     【   3Q   陳 柏惟 - 勝選 感言 】 \\n \\n 謝謝 你 們 ， 你們 做到 ...    white  \n",
       "3     從 台灣 基進 創立 以來 ， 高雄 一直 是 我們 最溫 暖 的 家 鄉 。 \\n 　 ...    white  \n",
       "4     首先 ， 感謝 每 一張 堅定 投給 台灣 基進 的 政黨票 。 \\n \\n 感謝 每 一...    white  \n",
       "..                                                 ...      ...  \n",
       "850   【 護國會   保台灣 】 中央 助講團 – 彰化 場 \\n 守住 國會 保平安     ...    green  \n",
       "851   # 你 知道 戒嚴 是 什麼 嗎 \\n # 你 知道 台灣 戒嚴 多久 嗎 \\n # 你 ...    green  \n",
       "852   ｜ 小民 怎麼 了 ？ 邀請 你 看 懶人 包幫助 更 多 人 ｜ \\n \\n 人 吃 五...    green  \n",
       "853                        【 護國會   保台灣 】 中央 助講團 – 彰化 場    green  \n",
       "854   【 韓氏 夫妻   歧視 成性   扼殺 母語   踐 踏 文化 】 記者 會 （ 完整版...    green  \n",
       "\n",
       "[1881 rows x 5 columns]"
      ]
     },
     "execution_count": 9,
     "metadata": {},
     "output_type": "execute_result"
    }
   ],
   "source": [
    "mergeData = df_white_New.append(df_green_New)\n",
    "mergeData = mergeData.dropna() #刪除有NAN值的data\n",
    "mergeData"
   ]
  },
  {
   "cell_type": "markdown",
   "metadata": {},
   "source": [
    "## TF-IDF\n",
    "我們把剛才斷好詞的貼文，轉成list形式，全部放到corpus變數裡面，方便做tf-idf處理。\n",
    "+ CountVectorizer算字頻（搭配fit_transform）\n",
    "+ TfidfTransformer計算TFIDF\n",
    ">　可以參考文章：https://ithelp.ithome.com.tw/articles/10228481?sc=iThelpR"
   ]
  },
  {
   "cell_type": "code",
   "execution_count": 10,
   "metadata": {},
   "outputs": [],
   "source": [
    "corpus = mergeData['jieba_results'].values.tolist()"
   ]
  },
  {
   "cell_type": "code",
   "execution_count": 11,
   "metadata": {},
   "outputs": [],
   "source": [
    "# TF-IDF\n",
    "# coding:utf-8  \n",
    "\n",
    "#算字頻\n",
    "from sklearn.feature_extraction.text import CountVectorizer  \n",
    "vectorizer = CountVectorizer()  \n",
    "X = vectorizer.fit_transform(corpus)  \n",
    "word = vectorizer.get_feature_names()  \n",
    "\n",
    "#計算TFIDF\n",
    "from sklearn.feature_extraction.text import TfidfTransformer  \n",
    "transformer = TfidfTransformer()  \n",
    "tfidf = transformer.fit_transform(X)"
   ]
  },
  {
   "cell_type": "markdown",
   "metadata": {},
   "source": [
    "把文章的日期當作是待會畫PCA的特徵，一個點就會代表同一天的文"
   ]
  },
  {
   "cell_type": "code",
   "execution_count": 12,
   "metadata": {},
   "outputs": [
    {
     "data": {
      "text/plain": [
       "array(['2020-01-11T00:00:00.000000000', '2020-01-10T00:00:00.000000000',\n",
       "       '2020-01-12T00:00:00.000000000', ...,\n",
       "       '2019-10-29T00:00:00.000000000', '2019-12-15T00:00:00.000000000',\n",
       "       '2019-11-05T00:00:00.000000000'], dtype='datetime64[ns]')"
      ]
     },
     "execution_count": 12,
     "metadata": {},
     "output_type": "execute_result"
    }
   ],
   "source": [
    "len(corpus)\n",
    "features = tfidf.toarray() #轉矩陣\n",
    "labels = mergeData['Post_Date'].values #Post_Date\n",
    "labels"
   ]
  },
  {
   "cell_type": "markdown",
   "metadata": {},
   "source": [
    "### PCA"
   ]
  },
  {
   "cell_type": "code",
   "execution_count": 13,
   "metadata": {},
   "outputs": [
    {
     "name": "stdout",
     "output_type": "stream",
     "text": [
      "[[0. 0. 0. ... 0. 0. 0.]\n",
      " [0. 0. 0. ... 0. 0. 0.]\n",
      " [0. 0. 0. ... 0. 0. 0.]\n",
      " ...\n",
      " [0. 0. 0. ... 0. 0. 0.]\n",
      " [0. 0. 0. ... 0. 0. 0.]\n",
      " [0. 0. 0. ... 0. 0. 0.]]\n",
      "[[-0.09319652  0.02391827]\n",
      " [ 0.02960842  0.0105217 ]\n",
      " [-0.11970982 -0.07239379]\n",
      " ...\n",
      " [ 0.03275209  0.01276773]\n",
      " [ 0.10264909 -0.042941  ]\n",
      " [ 0.06303178 -0.02926956]]\n"
     ]
    }
   ],
   "source": [
    "from pandas import DataFrame, read_csv\n",
    "import numpy as np\n",
    "from sklearn.decomposition import PCA\n",
    "pca = PCA(n_components=2)\n",
    "transData = pca.fit_transform(features, labels)\n",
    "type(transData)\n",
    "mergeData['pca1'] = DataFrame(transData[:,0])\n",
    "mergeData['pca2'] = DataFrame(transData[:,1])\n",
    "#mergeData.head()\n",
    "print(features)\n",
    "print(transData)"
   ]
  },
  {
   "cell_type": "code",
   "execution_count": 14,
   "metadata": {},
   "outputs": [
    {
     "data": {
      "text/plain": [
       "<seaborn.axisgrid.PairGrid at 0x236a00a6588>"
      ]
     },
     "execution_count": 14,
     "metadata": {},
     "output_type": "execute_result"
    },
    {
     "data": {
      "image/png": "[encoded data removed]",
      "text/plain": [
       "<Figure size 605.125x540 with 12 Axes>"
      ]
     },
     "metadata": {
      "needs_background": "light"
     },
     "output_type": "display_data"
    }
   ],
   "source": [
    "import seaborn as sns\n",
    "import matplotlib.pyplot as plt\n",
    "sns.pairplot(kind = 'scatter',data=mergeData,hue=\"df_class\", diag_kind=\"kde\",height=2.5)"
   ]
  },
  {
   "cell_type": "code",
   "execution_count": 15,
   "metadata": {},
   "outputs": [
    {
     "data": {
      "text/html": [
       "<div>\n",
       "<style scoped>\n",
       "    .dataframe tbody tr th:only-of-type {\n",
       "        vertical-align: middle;\n",
       "    }\n",
       "\n",
       "    .dataframe tbody tr th {\n",
       "        vertical-align: top;\n",
       "    }\n",
       "\n",
       "    .dataframe thead th {\n",
       "        text-align: right;\n",
       "    }\n",
       "</style>\n",
       "<table border=\"1\" class=\"dataframe\">\n",
       "  <thead>\n",
       "    <tr style=\"text-align: right;\">\n",
       "      <th></th>\n",
       "      <th>00</th>\n",
       "      <th>000</th>\n",
       "      <th>0000</th>\n",
       "      <th>0005</th>\n",
       "      <th>01</th>\n",
       "      <th>010</th>\n",
       "      <th>0103</th>\n",
       "      <th>0105</th>\n",
       "      <th>0110</th>\n",
       "      <th>0127</th>\n",
       "      <th>...</th>\n",
       "      <th>龍門</th>\n",
       "      <th>龐克</th>\n",
       "      <th>龐克音樂</th>\n",
       "      <th>龐大</th>\n",
       "      <th>龐大市場</th>\n",
       "      <th>龐大資產</th>\n",
       "      <th>龐大軍餉</th>\n",
       "      <th>龔青</th>\n",
       "      <th>龜山</th>\n",
       "      <th>龜笑</th>\n",
       "    </tr>\n",
       "  </thead>\n",
       "  <tbody>\n",
       "    <tr>\n",
       "      <th>0</th>\n",
       "      <td>0.0</td>\n",
       "      <td>0.0</td>\n",
       "      <td>0.0</td>\n",
       "      <td>0.0</td>\n",
       "      <td>0.0</td>\n",
       "      <td>0.0</td>\n",
       "      <td>0.0</td>\n",
       "      <td>0.0</td>\n",
       "      <td>0.0</td>\n",
       "      <td>0.0</td>\n",
       "      <td>...</td>\n",
       "      <td>0.0</td>\n",
       "      <td>0.0</td>\n",
       "      <td>0.0</td>\n",
       "      <td>0.0</td>\n",
       "      <td>0.0</td>\n",
       "      <td>0.0</td>\n",
       "      <td>0.0</td>\n",
       "      <td>0.0</td>\n",
       "      <td>0.0</td>\n",
       "      <td>0.0</td>\n",
       "    </tr>\n",
       "    <tr>\n",
       "      <th>1</th>\n",
       "      <td>0.0</td>\n",
       "      <td>0.0</td>\n",
       "      <td>0.0</td>\n",
       "      <td>0.0</td>\n",
       "      <td>0.0</td>\n",
       "      <td>0.0</td>\n",
       "      <td>0.0</td>\n",
       "      <td>0.0</td>\n",
       "      <td>0.0</td>\n",
       "      <td>0.0</td>\n",
       "      <td>...</td>\n",
       "      <td>0.0</td>\n",
       "      <td>0.0</td>\n",
       "      <td>0.0</td>\n",
       "      <td>0.0</td>\n",
       "      <td>0.0</td>\n",
       "      <td>0.0</td>\n",
       "      <td>0.0</td>\n",
       "      <td>0.0</td>\n",
       "      <td>0.0</td>\n",
       "      <td>0.0</td>\n",
       "    </tr>\n",
       "    <tr>\n",
       "      <th>2</th>\n",
       "      <td>0.0</td>\n",
       "      <td>0.0</td>\n",
       "      <td>0.0</td>\n",
       "      <td>0.0</td>\n",
       "      <td>0.0</td>\n",
       "      <td>0.0</td>\n",
       "      <td>0.0</td>\n",
       "      <td>0.0</td>\n",
       "      <td>0.0</td>\n",
       "      <td>0.0</td>\n",
       "      <td>...</td>\n",
       "      <td>0.0</td>\n",
       "      <td>0.0</td>\n",
       "      <td>0.0</td>\n",
       "      <td>0.0</td>\n",
       "      <td>0.0</td>\n",
       "      <td>0.0</td>\n",
       "      <td>0.0</td>\n",
       "      <td>0.0</td>\n",
       "      <td>0.0</td>\n",
       "      <td>0.0</td>\n",
       "    </tr>\n",
       "    <tr>\n",
       "      <th>3</th>\n",
       "      <td>0.0</td>\n",
       "      <td>0.0</td>\n",
       "      <td>0.0</td>\n",
       "      <td>0.0</td>\n",
       "      <td>0.0</td>\n",
       "      <td>0.0</td>\n",
       "      <td>0.0</td>\n",
       "      <td>0.0</td>\n",
       "      <td>0.0</td>\n",
       "      <td>0.0</td>\n",
       "      <td>...</td>\n",
       "      <td>0.0</td>\n",
       "      <td>0.0</td>\n",
       "      <td>0.0</td>\n",
       "      <td>0.0</td>\n",
       "      <td>0.0</td>\n",
       "      <td>0.0</td>\n",
       "      <td>0.0</td>\n",
       "      <td>0.0</td>\n",
       "      <td>0.0</td>\n",
       "      <td>0.0</td>\n",
       "    </tr>\n",
       "    <tr>\n",
       "      <th>4</th>\n",
       "      <td>0.0</td>\n",
       "      <td>0.0</td>\n",
       "      <td>0.0</td>\n",
       "      <td>0.0</td>\n",
       "      <td>0.0</td>\n",
       "      <td>0.0</td>\n",
       "      <td>0.0</td>\n",
       "      <td>0.0</td>\n",
       "      <td>0.0</td>\n",
       "      <td>0.0</td>\n",
       "      <td>...</td>\n",
       "      <td>0.0</td>\n",
       "      <td>0.0</td>\n",
       "      <td>0.0</td>\n",
       "      <td>0.0</td>\n",
       "      <td>0.0</td>\n",
       "      <td>0.0</td>\n",
       "      <td>0.0</td>\n",
       "      <td>0.0</td>\n",
       "      <td>0.0</td>\n",
       "      <td>0.0</td>\n",
       "    </tr>\n",
       "    <tr>\n",
       "      <th>...</th>\n",
       "      <td>...</td>\n",
       "      <td>...</td>\n",
       "      <td>...</td>\n",
       "      <td>...</td>\n",
       "      <td>...</td>\n",
       "      <td>...</td>\n",
       "      <td>...</td>\n",
       "      <td>...</td>\n",
       "      <td>...</td>\n",
       "      <td>...</td>\n",
       "      <td>...</td>\n",
       "      <td>...</td>\n",
       "      <td>...</td>\n",
       "      <td>...</td>\n",
       "      <td>...</td>\n",
       "      <td>...</td>\n",
       "      <td>...</td>\n",
       "      <td>...</td>\n",
       "      <td>...</td>\n",
       "      <td>...</td>\n",
       "      <td>...</td>\n",
       "    </tr>\n",
       "    <tr>\n",
       "      <th>1876</th>\n",
       "      <td>0.0</td>\n",
       "      <td>0.0</td>\n",
       "      <td>0.0</td>\n",
       "      <td>0.0</td>\n",
       "      <td>0.0</td>\n",
       "      <td>0.0</td>\n",
       "      <td>0.0</td>\n",
       "      <td>0.0</td>\n",
       "      <td>0.0</td>\n",
       "      <td>0.0</td>\n",
       "      <td>...</td>\n",
       "      <td>0.0</td>\n",
       "      <td>0.0</td>\n",
       "      <td>0.0</td>\n",
       "      <td>0.0</td>\n",
       "      <td>0.0</td>\n",
       "      <td>0.0</td>\n",
       "      <td>0.0</td>\n",
       "      <td>0.0</td>\n",
       "      <td>0.0</td>\n",
       "      <td>0.0</td>\n",
       "    </tr>\n",
       "    <tr>\n",
       "      <th>1877</th>\n",
       "      <td>0.0</td>\n",
       "      <td>0.0</td>\n",
       "      <td>0.0</td>\n",
       "      <td>0.0</td>\n",
       "      <td>0.0</td>\n",
       "      <td>0.0</td>\n",
       "      <td>0.0</td>\n",
       "      <td>0.0</td>\n",
       "      <td>0.0</td>\n",
       "      <td>0.0</td>\n",
       "      <td>...</td>\n",
       "      <td>0.0</td>\n",
       "      <td>0.0</td>\n",
       "      <td>0.0</td>\n",
       "      <td>0.0</td>\n",
       "      <td>0.0</td>\n",
       "      <td>0.0</td>\n",
       "      <td>0.0</td>\n",
       "      <td>0.0</td>\n",
       "      <td>0.0</td>\n",
       "      <td>0.0</td>\n",
       "    </tr>\n",
       "    <tr>\n",
       "      <th>1878</th>\n",
       "      <td>0.0</td>\n",
       "      <td>0.0</td>\n",
       "      <td>0.0</td>\n",
       "      <td>0.0</td>\n",
       "      <td>0.0</td>\n",
       "      <td>0.0</td>\n",
       "      <td>0.0</td>\n",
       "      <td>0.0</td>\n",
       "      <td>0.0</td>\n",
       "      <td>0.0</td>\n",
       "      <td>...</td>\n",
       "      <td>0.0</td>\n",
       "      <td>0.0</td>\n",
       "      <td>0.0</td>\n",
       "      <td>0.0</td>\n",
       "      <td>0.0</td>\n",
       "      <td>0.0</td>\n",
       "      <td>0.0</td>\n",
       "      <td>0.0</td>\n",
       "      <td>0.0</td>\n",
       "      <td>0.0</td>\n",
       "    </tr>\n",
       "    <tr>\n",
       "      <th>1879</th>\n",
       "      <td>0.0</td>\n",
       "      <td>0.0</td>\n",
       "      <td>0.0</td>\n",
       "      <td>0.0</td>\n",
       "      <td>0.0</td>\n",
       "      <td>0.0</td>\n",
       "      <td>0.0</td>\n",
       "      <td>0.0</td>\n",
       "      <td>0.0</td>\n",
       "      <td>0.0</td>\n",
       "      <td>...</td>\n",
       "      <td>0.0</td>\n",
       "      <td>0.0</td>\n",
       "      <td>0.0</td>\n",
       "      <td>0.0</td>\n",
       "      <td>0.0</td>\n",
       "      <td>0.0</td>\n",
       "      <td>0.0</td>\n",
       "      <td>0.0</td>\n",
       "      <td>0.0</td>\n",
       "      <td>0.0</td>\n",
       "    </tr>\n",
       "    <tr>\n",
       "      <th>1880</th>\n",
       "      <td>0.0</td>\n",
       "      <td>0.0</td>\n",
       "      <td>0.0</td>\n",
       "      <td>0.0</td>\n",
       "      <td>0.0</td>\n",
       "      <td>0.0</td>\n",
       "      <td>0.0</td>\n",
       "      <td>0.0</td>\n",
       "      <td>0.0</td>\n",
       "      <td>0.0</td>\n",
       "      <td>...</td>\n",
       "      <td>0.0</td>\n",
       "      <td>0.0</td>\n",
       "      <td>0.0</td>\n",
       "      <td>0.0</td>\n",
       "      <td>0.0</td>\n",
       "      <td>0.0</td>\n",
       "      <td>0.0</td>\n",
       "      <td>0.0</td>\n",
       "      <td>0.0</td>\n",
       "      <td>0.0</td>\n",
       "    </tr>\n",
       "  </tbody>\n",
       "</table>\n",
       "<p>1881 rows × 32876 columns</p>\n",
       "</div>"
      ],
      "text/plain": [
       "       00  000  0000  0005   01  010  0103  0105  0110  0127  ...   龍門   龐克  \\\n",
       "0     0.0  0.0   0.0   0.0  0.0  0.0   0.0   0.0   0.0   0.0  ...  0.0  0.0   \n",
       "1     0.0  0.0   0.0   0.0  0.0  0.0   0.0   0.0   0.0   0.0  ...  0.0  0.0   \n",
       "2     0.0  0.0   0.0   0.0  0.0  0.0   0.0   0.0   0.0   0.0  ...  0.0  0.0   \n",
       "3     0.0  0.0   0.0   0.0  0.0  0.0   0.0   0.0   0.0   0.0  ...  0.0  0.0   \n",
       "4     0.0  0.0   0.0   0.0  0.0  0.0   0.0   0.0   0.0   0.0  ...  0.0  0.0   \n",
       "...   ...  ...   ...   ...  ...  ...   ...   ...   ...   ...  ...  ...  ...   \n",
       "1876  0.0  0.0   0.0   0.0  0.0  0.0   0.0   0.0   0.0   0.0  ...  0.0  0.0   \n",
       "1877  0.0  0.0   0.0   0.0  0.0  0.0   0.0   0.0   0.0   0.0  ...  0.0  0.0   \n",
       "1878  0.0  0.0   0.0   0.0  0.0  0.0   0.0   0.0   0.0   0.0  ...  0.0  0.0   \n",
       "1879  0.0  0.0   0.0   0.0  0.0  0.0   0.0   0.0   0.0   0.0  ...  0.0  0.0   \n",
       "1880  0.0  0.0   0.0   0.0  0.0  0.0   0.0   0.0   0.0   0.0  ...  0.0  0.0   \n",
       "\n",
       "      龐克音樂   龐大  龐大市場  龐大資產  龐大軍餉   龔青   龜山   龜笑  \n",
       "0      0.0  0.0   0.0   0.0   0.0  0.0  0.0  0.0  \n",
       "1      0.0  0.0   0.0   0.0   0.0  0.0  0.0  0.0  \n",
       "2      0.0  0.0   0.0   0.0   0.0  0.0  0.0  0.0  \n",
       "3      0.0  0.0   0.0   0.0   0.0  0.0  0.0  0.0  \n",
       "4      0.0  0.0   0.0   0.0   0.0  0.0  0.0  0.0  \n",
       "...    ...  ...   ...   ...   ...  ...  ...  ...  \n",
       "1876   0.0  0.0   0.0   0.0   0.0  0.0  0.0  0.0  \n",
       "1877   0.0  0.0   0.0   0.0   0.0  0.0  0.0  0.0  \n",
       "1878   0.0  0.0   0.0   0.0   0.0  0.0  0.0  0.0  \n",
       "1879   0.0  0.0   0.0   0.0   0.0  0.0  0.0  0.0  \n",
       "1880   0.0  0.0   0.0   0.0   0.0  0.0  0.0  0.0  \n",
       "\n",
       "[1881 rows x 32876 columns]"
      ]
     },
     "execution_count": 15,
     "metadata": {},
     "output_type": "execute_result"
    }
   ],
   "source": [
    "textFrame = pd.DataFrame(features, columns = word)\n",
    "textFrame"
   ]
  },
  {
   "cell_type": "code",
   "execution_count": 16,
   "metadata": {},
   "outputs": [],
   "source": [
    "allF = features.flatten()\n",
    "nonZero = allF[np.nonzero(allF)]\n",
    "m = np.median(nonZero)"
   ]
  },
  {
   "cell_type": "code",
   "execution_count": 17,
   "metadata": {},
   "outputs": [
    {
     "data": {
      "text/plain": [
       "array([0.05516442, 0.09013344, 0.08264244, ..., 0.13475274, 0.13839339,\n",
       "       0.14284919])"
      ]
     },
     "execution_count": 17,
     "metadata": {},
     "output_type": "execute_result"
    }
   ],
   "source": [
    "allF[np.nonzero(allF)]"
   ]
  },
  {
   "cell_type": "code",
   "execution_count": 18,
   "metadata": {},
   "outputs": [
    {
     "data": {
      "image/png": "[encoded data removed]",
      "text/plain": [
       "<Figure size 432x288 with 1 Axes>"
      ]
     },
     "metadata": {
      "needs_background": "light"
     },
     "output_type": "display_data"
    },
    {
     "data": {
      "text/plain": [
       "0.0717932086358178"
      ]
     },
     "execution_count": 18,
     "metadata": {},
     "output_type": "execute_result"
    }
   ],
   "source": [
    "plt.hist(nonZero, bins=500)\n",
    "plt.show()\n",
    "m"
   ]
  },
  {
   "cell_type": "markdown",
   "metadata": {},
   "source": [
    "## kmeans"
   ]
  },
  {
   "cell_type": "code",
   "execution_count": 19,
   "metadata": {},
   "outputs": [],
   "source": [
    "from sklearn.feature_extraction.text import CountVectorizer, TfidfTransformer\n",
    "from sklearn.manifold import TSNE\n",
    "from sklearn.cluster import KMeans\n",
    "#from data_utils import *\n",
    "import jieba\n",
    "import matplotlib.pyplot as plt"
   ]
  },
  {
   "cell_type": "code",
   "execution_count": 20,
   "metadata": {},
   "outputs": [
    {
     "data": {
      "text/plain": [
       "KMeans(algorithm='auto', copy_x=True, init='k-means++', max_iter=300,\n",
       "       n_clusters=7, n_init=10, n_jobs=None, precompute_distances='auto',\n",
       "       random_state=None, tol=0.0001, verbose=0)"
      ]
     },
     "execution_count": 20,
     "metadata": {},
     "output_type": "execute_result"
    }
   ],
   "source": [
    "tfidf_weight = tfidf.toarray()\n",
    "\n",
    "kmeans = KMeans(n_clusters=7)\n",
    "kmeans.fit(tfidf_weight)\n",
    "\n",
    "# 印每群的中心點\n",
    "#print(kmeans.cluster_centers_)\n",
    "#for index, label in enumerate(kmeans.labels_, 1):\n",
    "    #print(\"index: {}, label: {}\".format(index, label))\n",
    "\n",
    "# 可以把每筆data和距離中心的距離算出來，看看分類的狀況怎麼樣\n",
    "#print(\"inertia: {}\".format(kmeans.inertia_))"
   ]
  },
  {
   "cell_type": "code",
   "execution_count": 21,
   "metadata": {},
   "outputs": [
    {
     "ename": "KeyboardInterrupt",
     "evalue": "",
     "output_type": "error",
     "traceback": [
      "\u001b[1;31m---------------------------------------------------------------------------\u001b[0m",
      "\u001b[1;31mKeyboardInterrupt\u001b[0m                         Traceback (most recent call last)",
      "\u001b[1;32m<ipython-input-21-a7ff6921f029>\u001b[0m in \u001b[0;36m<module>\u001b[1;34m\u001b[0m\n\u001b[0;32m      1\u001b[0m \u001b[1;31m# 用T-SNE降維，比PCA準但比較久\u001b[0m\u001b[1;33m\u001b[0m\u001b[1;33m\u001b[0m\u001b[1;33m\u001b[0m\u001b[0m\n\u001b[0;32m      2\u001b[0m \u001b[0mtsne\u001b[0m \u001b[1;33m=\u001b[0m \u001b[0mTSNE\u001b[0m\u001b[1;33m(\u001b[0m\u001b[0mn_components\u001b[0m\u001b[1;33m=\u001b[0m\u001b[1;36m2\u001b[0m\u001b[1;33m)\u001b[0m\u001b[1;33m\u001b[0m\u001b[1;33m\u001b[0m\u001b[0m\n\u001b[1;32m----> 3\u001b[1;33m \u001b[0mdecomposition_data\u001b[0m \u001b[1;33m=\u001b[0m \u001b[0mtsne\u001b[0m\u001b[1;33m.\u001b[0m\u001b[0mfit_transform\u001b[0m\u001b[1;33m(\u001b[0m\u001b[0mtfidf_weight\u001b[0m\u001b[1;33m)\u001b[0m\u001b[1;33m\u001b[0m\u001b[1;33m\u001b[0m\u001b[0m\n\u001b[0m\u001b[0;32m      4\u001b[0m \u001b[1;33m\u001b[0m\u001b[0m\n\u001b[0;32m      5\u001b[0m \u001b[0mx\u001b[0m \u001b[1;33m=\u001b[0m \u001b[1;33m[\u001b[0m\u001b[1;33m]\u001b[0m\u001b[1;33m\u001b[0m\u001b[1;33m\u001b[0m\u001b[0m\n",
      "\u001b[1;32m~\\Anaconda3\\lib\\site-packages\\sklearn\\manifold\\t_sne.py\u001b[0m in \u001b[0;36mfit_transform\u001b[1;34m(self, X, y)\u001b[0m\n\u001b[0;32m    893\u001b[0m             \u001b[0mEmbedding\u001b[0m \u001b[0mof\u001b[0m \u001b[0mthe\u001b[0m \u001b[0mtraining\u001b[0m \u001b[0mdata\u001b[0m \u001b[1;32min\u001b[0m \u001b[0mlow\u001b[0m\u001b[1;33m-\u001b[0m\u001b[0mdimensional\u001b[0m \u001b[0mspace\u001b[0m\u001b[1;33m.\u001b[0m\u001b[1;33m\u001b[0m\u001b[1;33m\u001b[0m\u001b[0m\n\u001b[0;32m    894\u001b[0m         \"\"\"\n\u001b[1;32m--> 895\u001b[1;33m         \u001b[0membedding\u001b[0m \u001b[1;33m=\u001b[0m \u001b[0mself\u001b[0m\u001b[1;33m.\u001b[0m\u001b[0m_fit\u001b[0m\u001b[1;33m(\u001b[0m\u001b[0mX\u001b[0m\u001b[1;33m)\u001b[0m\u001b[1;33m\u001b[0m\u001b[1;33m\u001b[0m\u001b[0m\n\u001b[0m\u001b[0;32m    896\u001b[0m         \u001b[0mself\u001b[0m\u001b[1;33m.\u001b[0m\u001b[0membedding_\u001b[0m \u001b[1;33m=\u001b[0m \u001b[0membedding\u001b[0m\u001b[1;33m\u001b[0m\u001b[1;33m\u001b[0m\u001b[0m\n\u001b[0;32m    897\u001b[0m         \u001b[1;32mreturn\u001b[0m \u001b[0mself\u001b[0m\u001b[1;33m.\u001b[0m\u001b[0membedding_\u001b[0m\u001b[1;33m\u001b[0m\u001b[1;33m\u001b[0m\u001b[0m\n",
      "\u001b[1;32m~\\Anaconda3\\lib\\site-packages\\sklearn\\manifold\\t_sne.py\u001b[0m in \u001b[0;36m_fit\u001b[1;34m(self, X, skip_num_points)\u001b[0m\n\u001b[0;32m    811\u001b[0m                           \u001b[0mX_embedded\u001b[0m\u001b[1;33m=\u001b[0m\u001b[0mX_embedded\u001b[0m\u001b[1;33m,\u001b[0m\u001b[1;33m\u001b[0m\u001b[1;33m\u001b[0m\u001b[0m\n\u001b[0;32m    812\u001b[0m                           \u001b[0mneighbors\u001b[0m\u001b[1;33m=\u001b[0m\u001b[0mneighbors_nn\u001b[0m\u001b[1;33m,\u001b[0m\u001b[1;33m\u001b[0m\u001b[1;33m\u001b[0m\u001b[0m\n\u001b[1;32m--> 813\u001b[1;33m                           skip_num_points=skip_num_points)\n\u001b[0m\u001b[0;32m    814\u001b[0m \u001b[1;33m\u001b[0m\u001b[0m\n\u001b[0;32m    815\u001b[0m     def _tsne(self, P, degrees_of_freedom, n_samples, X_embedded,\n",
      "\u001b[1;32m~\\Anaconda3\\lib\\site-packages\\sklearn\\manifold\\t_sne.py\u001b[0m in \u001b[0;36m_tsne\u001b[1;34m(self, P, degrees_of_freedom, n_samples, X_embedded, neighbors, skip_num_points)\u001b[0m\n\u001b[0;32m    847\u001b[0m         \u001b[0mP\u001b[0m \u001b[1;33m*=\u001b[0m \u001b[0mself\u001b[0m\u001b[1;33m.\u001b[0m\u001b[0mearly_exaggeration\u001b[0m\u001b[1;33m\u001b[0m\u001b[1;33m\u001b[0m\u001b[0m\n\u001b[0;32m    848\u001b[0m         params, kl_divergence, it = _gradient_descent(obj_func, params,\n\u001b[1;32m--> 849\u001b[1;33m                                                       **opt_args)\n\u001b[0m\u001b[0;32m    850\u001b[0m         \u001b[1;32mif\u001b[0m \u001b[0mself\u001b[0m\u001b[1;33m.\u001b[0m\u001b[0mverbose\u001b[0m\u001b[1;33m:\u001b[0m\u001b[1;33m\u001b[0m\u001b[1;33m\u001b[0m\u001b[0m\n\u001b[0;32m    851\u001b[0m             print(\"[t-SNE] KL divergence after %d iterations with early \"\n",
      "\u001b[1;32m~\\Anaconda3\\lib\\site-packages\\sklearn\\manifold\\t_sne.py\u001b[0m in \u001b[0;36m_gradient_descent\u001b[1;34m(objective, p0, it, n_iter, n_iter_check, n_iter_without_progress, momentum, learning_rate, min_gain, min_grad_norm, verbose, args, kwargs)\u001b[0m\n\u001b[0;32m    352\u001b[0m         \u001b[0mkwargs\u001b[0m\u001b[1;33m[\u001b[0m\u001b[1;34m'compute_error'\u001b[0m\u001b[1;33m]\u001b[0m \u001b[1;33m=\u001b[0m \u001b[0mcheck_convergence\u001b[0m \u001b[1;32mor\u001b[0m \u001b[0mi\u001b[0m \u001b[1;33m==\u001b[0m \u001b[0mn_iter\u001b[0m \u001b[1;33m-\u001b[0m \u001b[1;36m1\u001b[0m\u001b[1;33m\u001b[0m\u001b[1;33m\u001b[0m\u001b[0m\n\u001b[0;32m    353\u001b[0m \u001b[1;33m\u001b[0m\u001b[0m\n\u001b[1;32m--> 354\u001b[1;33m         \u001b[0merror\u001b[0m\u001b[1;33m,\u001b[0m \u001b[0mgrad\u001b[0m \u001b[1;33m=\u001b[0m \u001b[0mobjective\u001b[0m\u001b[1;33m(\u001b[0m\u001b[0mp\u001b[0m\u001b[1;33m,\u001b[0m \u001b[1;33m*\u001b[0m\u001b[0margs\u001b[0m\u001b[1;33m,\u001b[0m \u001b[1;33m**\u001b[0m\u001b[0mkwargs\u001b[0m\u001b[1;33m)\u001b[0m\u001b[1;33m\u001b[0m\u001b[1;33m\u001b[0m\u001b[0m\n\u001b[0m\u001b[0;32m    355\u001b[0m         \u001b[0mgrad_norm\u001b[0m \u001b[1;33m=\u001b[0m \u001b[0mlinalg\u001b[0m\u001b[1;33m.\u001b[0m\u001b[0mnorm\u001b[0m\u001b[1;33m(\u001b[0m\u001b[0mgrad\u001b[0m\u001b[1;33m)\u001b[0m\u001b[1;33m\u001b[0m\u001b[1;33m\u001b[0m\u001b[0m\n\u001b[0;32m    356\u001b[0m \u001b[1;33m\u001b[0m\u001b[0m\n",
      "\u001b[1;32m~\\Anaconda3\\lib\\site-packages\\sklearn\\manifold\\t_sne.py\u001b[0m in \u001b[0;36m_kl_divergence_bh\u001b[1;34m(params, P, degrees_of_freedom, n_samples, n_components, angle, skip_num_points, verbose, compute_error)\u001b[0m\n\u001b[0;32m    248\u001b[0m     \u001b[0mX_embedded\u001b[0m \u001b[1;33m=\u001b[0m \u001b[0mparams\u001b[0m\u001b[1;33m.\u001b[0m\u001b[0mreshape\u001b[0m\u001b[1;33m(\u001b[0m\u001b[0mn_samples\u001b[0m\u001b[1;33m,\u001b[0m \u001b[0mn_components\u001b[0m\u001b[1;33m)\u001b[0m\u001b[1;33m\u001b[0m\u001b[1;33m\u001b[0m\u001b[0m\n\u001b[0;32m    249\u001b[0m \u001b[1;33m\u001b[0m\u001b[0m\n\u001b[1;32m--> 250\u001b[1;33m     \u001b[0mval_P\u001b[0m \u001b[1;33m=\u001b[0m \u001b[0mP\u001b[0m\u001b[1;33m.\u001b[0m\u001b[0mdata\u001b[0m\u001b[1;33m.\u001b[0m\u001b[0mastype\u001b[0m\u001b[1;33m(\u001b[0m\u001b[0mnp\u001b[0m\u001b[1;33m.\u001b[0m\u001b[0mfloat32\u001b[0m\u001b[1;33m,\u001b[0m \u001b[0mcopy\u001b[0m\u001b[1;33m=\u001b[0m\u001b[1;32mFalse\u001b[0m\u001b[1;33m)\u001b[0m\u001b[1;33m\u001b[0m\u001b[1;33m\u001b[0m\u001b[0m\n\u001b[0m\u001b[0;32m    251\u001b[0m     \u001b[0mneighbors\u001b[0m \u001b[1;33m=\u001b[0m \u001b[0mP\u001b[0m\u001b[1;33m.\u001b[0m\u001b[0mindices\u001b[0m\u001b[1;33m.\u001b[0m\u001b[0mastype\u001b[0m\u001b[1;33m(\u001b[0m\u001b[0mnp\u001b[0m\u001b[1;33m.\u001b[0m\u001b[0mint64\u001b[0m\u001b[1;33m,\u001b[0m \u001b[0mcopy\u001b[0m\u001b[1;33m=\u001b[0m\u001b[1;32mFalse\u001b[0m\u001b[1;33m)\u001b[0m\u001b[1;33m\u001b[0m\u001b[1;33m\u001b[0m\u001b[0m\n\u001b[0;32m    252\u001b[0m     \u001b[0mindptr\u001b[0m \u001b[1;33m=\u001b[0m \u001b[0mP\u001b[0m\u001b[1;33m.\u001b[0m\u001b[0mindptr\u001b[0m\u001b[1;33m.\u001b[0m\u001b[0mastype\u001b[0m\u001b[1;33m(\u001b[0m\u001b[0mnp\u001b[0m\u001b[1;33m.\u001b[0m\u001b[0mint64\u001b[0m\u001b[1;33m,\u001b[0m \u001b[0mcopy\u001b[0m\u001b[1;33m=\u001b[0m\u001b[1;32mFalse\u001b[0m\u001b[1;33m)\u001b[0m\u001b[1;33m\u001b[0m\u001b[1;33m\u001b[0m\u001b[0m\n",
      "\u001b[1;31mKeyboardInterrupt\u001b[0m: "
     ]
    }
   ],
   "source": [
    "# 用T-SNE降維，比PCA準但比較久\n",
    "tsne = TSNE(n_components=2)\n",
    "decomposition_data = tsne.fit_transform(tfidf_weight)\n",
    "\n",
    "x = []\n",
    "y = []\n",
    "\n",
    "for i in decomposition_data:\n",
    "    x.append(i[0])\n",
    "    y.append(i[1])\n",
    "\n",
    "fig = plt.figure(figsize=(10, 10))\n",
    "ax = plt.axes()\n",
    "plt.scatter(x, y, c=kmeans.labels_, marker=\"x\")\n",
    "plt.xticks(())\n",
    "plt.yticks(())\n",
    "# plt.show()\n",
    "plt.savefig('img/kmeans.png', aspect=1)"
   ]
  },
  {
   "cell_type": "markdown",
   "metadata": {},
   "source": [
    "![title](img/kmeans.png)"
   ]
  }
 ],
 "metadata": {
  "kernelspec": {
   "display_name": "Python 3",
   "language": "python",
   "name": "python3"
  },
  "language_info": {
   "codemirror_mode": {
    "name": "ipython",
    "version": 3
   },
   "file_extension": ".py",
   "mimetype": "text/x-python",
   "name": "python",
   "nbconvert_exporter": "python",
   "pygments_lexer": "ipython3",
   "version": "3.7.3"
  }
 },
 "nbformat": 4,
 "nbformat_minor": 2
}
