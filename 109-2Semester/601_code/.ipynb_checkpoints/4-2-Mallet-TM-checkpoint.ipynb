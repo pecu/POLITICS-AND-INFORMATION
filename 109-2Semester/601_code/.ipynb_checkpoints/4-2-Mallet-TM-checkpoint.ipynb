{
 "cells": [
  {
   "cell_type": "markdown",
   "metadata": {},
   "source": [
    "## Mallet-TM : \n",
    "### Extract Topic Model with LdaMallet from KCC News and CIS test data"
   ]
  },
  {
   "cell_type": "code",
   "execution_count": 1,
   "metadata": {},
   "outputs": [],
   "source": [
    "# -*- coding: utf-8 -*-\n",
    "\"\"\"\n",
    "Input: \"../KCC Data/CkipNewsCisTest-KccDict2020.txt\"\n",
    "Output: \"../KCC Data/NewsCisTest-KccDict2020-MalletNum10.txt\"\n",
    "\n",
    "@author: johnson\n",
    "\"\"\"\n",
    "from gensim import corpora, models, utils\n",
    "from gensim.models import LdaModel\n",
    "from gensim.models import CoherenceModel"
   ]
  },
  {
   "cell_type": "markdown",
   "metadata": {},
   "source": [
    "### read data from txt file, and tokenize words, clean-up text"
   ]
  },
  {
   "cell_type": "code",
   "execution_count": 3,
   "metadata": {},
   "outputs": [
    {
     "name": "stdout",
     "output_type": "stream",
     "text": [
      "fList[:1] =  [['馬英九', '昨天', '上午', '視察', '衛武營藝術文化中心', '文化部', '洪孟啟', '工程', '副主委', '顏久榮', '高雄市', '副市長', '吳宏謀', '一同', '到場', '聽取', '衛武營', '興建', '工程', '簡報', '瞭解', '工程進度', '執行', '情形', '完成', '百分之九十五', '工程進度', '共計', '投入', '新臺幣', '一百零五億八千萬', '經費', '預計', '六月', '竣工', '明年', '開館', '營運', '目標', '馬英九', '指出', '衛武營', '案子', '九十四年', '編列', '預算', '核定', '施工', '正式', '完工', '時間', '長達', '十三', '原先', '預計', '故宮', '南院', '工程', '單位', '部門', '克服', '困難', '值得', '檢討', '總統', '致詞', '民國', '九十九年', '主持', '動土', '典禮', '原從', '黃土', '生長出', '有如', '魟魚', '悠遊', '海浪', '建築', '實在', '驚豔', '過程', '包含', '團隊', '付出', '努力', '籌建', '過程', '艱辛', '各界', '關注', '投入', '新建', '工程', '幾近', '完工', '特別', '肯定', '文化部', '籌建', '過程', '付出', '辛勞', '高雄市政府', '各界', '支持', '配合', '總統', '文化', '城市', '期許', '衛武營藝術文化中心', '臺灣', '藝術', '力量', '南方', '集結地', '臺北', '國家兩廳院', '臺中', '國家歌劇院', '攜手', '並進', '打造', '台灣', '國際', '藝文', '版圖', '地標', '文化部', '洪孟啟', '衛武營', '考驗', '面臨', '營運', '壓力', '文化部', '衛武營', '南部', '高雄市文化中心', '嘉義', '文化', '園區', '故宮', '南院', '台南', '地方', '藝文', '團體', '高雄大東文化藝術中心', '屏東', '演藝廳', '結合成', '文化', '廊帶', '衛武營', '國際', '接軌', '文化部', '邀請', '台灣', '旅德', '指揮家', '簡文彬', '擔任', '衛武', '國家', '藝術', '高雄市文化中心', '藝術', '總監', '接洽', '國外', '藝文', '團隊', '國際', '表演', '節目', '第一', '高雄', '演出', '衛武營', '台灣', '文化', '指標', '場館']]\n",
      "------------------------------\n"
     ]
    }
   ],
   "source": [
    "fList = []\n",
    "with open(\"../KCC Data/News-CIS Data/CkipNewsCisTest-KccDict2020.txt\",\"r\", encoding='utf-8-sig') as files:\n",
    "     for file in files:\n",
    "        #simple_preprocess: tokenize,去除標點 - gensim.utils.simple_preprocess(doc, deacc=False, min_len=2, max_len=15)\n",
    "        fList.append(list(utils.simple_preprocess(file, deacc=True, min_len=2,)))\n",
    "print(\"fList[:1] = \", fList[:1])\n",
    "print(\"------------------------------\")"
   ]
  },
  {
   "cell_type": "markdown",
   "metadata": {},
   "source": [
    "### creat dictionary for corpus"
   ]
  },
  {
   "cell_type": "code",
   "execution_count": 4,
   "metadata": {},
   "outputs": [
    {
     "name": "stdout",
     "output_type": "stream",
     "text": [
      "dict =  Dictionary(1528 unique tokens: ['一同', '一百零五億八千萬', '上午', '並進', '主持']...)\n",
      "------------------------------\n"
     ]
    }
   ],
   "source": [
    "# creat a unique id for each word segment\n",
    "dict = corpora.Dictionary(list(fList))\n",
    "print(\"dict = \", dict)\n",
    "print(\"------------------------------\")"
   ]
  },
  {
   "cell_type": "markdown",
   "metadata": {},
   "source": [
    "### creat corpus need for Topic Modeling"
   ]
  },
  {
   "cell_type": "code",
   "execution_count": 5,
   "metadata": {},
   "outputs": [
    {
     "name": "stdout",
     "output_type": "stream",
     "text": [
      "corpus[:1] =  [[(0, 1), (1, 1), (2, 1), (3, 1), (4, 1), (5, 1), (6, 1), (7, 2), (8, 1), (9, 1), (10, 1), (11, 1), (12, 1), (13, 1), (14, 1), (15, 1), (16, 1), (17, 1), (18, 1), (19, 1), (20, 1), (21, 1), (22, 1), (23, 2), (24, 1), (25, 1), (26, 1), (27, 3), (28, 2), (29, 1), (30, 1), (31, 1), (32, 1), (33, 1), (34, 1), (35, 1), (36, 1), (37, 3), (38, 1), (39, 2), (40, 1), (41, 1), (42, 1), (43, 1), (44, 1), (45, 1), (46, 1), (47, 2), (48, 1), (49, 1), (50, 1), (51, 4), (52, 2), (53, 1), (54, 1), (55, 1), (56, 1), (57, 1), (58, 1), (59, 2), (60, 1), (61, 1), (62, 1), (63, 1), (64, 1), (65, 1), (66, 1), (67, 1), (68, 2), (69, 4), (70, 5), (71, 1), (72, 1), (73, 1), (74, 1), (75, 1), (76, 1), (77, 1), (78, 1), (79, 1), (80, 1), (81, 1), (82, 1), (83, 1), (84, 1), (85, 2), (86, 1), (87, 1), (88, 1), (89, 2), (90, 1), (91, 1), (92, 1), (93, 1), (94, 1), (95, 1), (96, 1), (97, 1), (98, 1), (99, 1), (100, 1), (101, 2), (102, 1), (103, 1), (104, 1), (105, 1), (106, 2), (107, 1), (108, 1), (109, 1), (110, 1), (111, 1), (112, 1), (113, 1), (114, 1), (115, 1), (116, 3), (117, 3), (118, 1), (119, 6), (120, 2), (121, 1), (122, 1), (123, 1), (124, 3), (125, 1), (126, 1), (127, 1), (128, 1), (129, 1), (130, 1), (131, 1), (132, 1), (133, 1), (134, 2), (135, 1), (136, 2), (137, 1), (138, 1), (139, 1), (140, 1), (141, 1), (142, 2), (143, 1), (144, 1)]]\n",
      "================================================\n",
      "print lists of [word:frequency]\n",
      "('一同', 1)\n",
      "('一百零五億八千萬', 1)\n",
      "('上午', 1)\n",
      "('並進', 1)\n",
      "('主持', 1)\n",
      "('九十九年', 1)\n",
      "('九十四年', 1)\n",
      "('付出', 2)\n",
      "('值得', 1)\n",
      "('克服', 1)\n",
      "('六月', 1)\n",
      "('共計', 1)\n",
      "('典禮', 1)\n",
      "('到場', 1)\n",
      "('副主委', 1)\n",
      "('副市長', 1)\n",
      "('力量', 1)\n",
      "('努力', 1)\n",
      "('動土', 1)\n",
      "('包含', 1)\n",
      "('十三', 1)\n",
      "('南方', 1)\n",
      "('南部', 1)\n",
      "('南院', 2)\n",
      "('原先', 1)\n",
      "('原從', 1)\n",
      "('台南', 1)\n",
      "('台灣', 3)\n",
      "('各界', 2)\n",
      "('吳宏謀', 1)\n",
      "('單位', 1)\n",
      "('嘉義', 1)\n",
      "('困難', 1)\n",
      "('國外', 1)\n",
      "('國家', 1)\n",
      "('國家兩廳院', 1)\n",
      "('國家歌劇院', 1)\n",
      "('國際', 3)\n",
      "('園區', 1)\n",
      "('團隊', 2)\n",
      "('團體', 1)\n",
      "('地方', 1)\n",
      "('地標', 1)\n",
      "('城市', 1)\n",
      "('執行', 1)\n",
      "('場館', 1)\n",
      "('壓力', 1)\n",
      "('完工', 2)\n",
      "('完成', 1)\n",
      "('實在', 1)\n",
      "('屏東', 1)\n",
      "('工程', 4)\n",
      "('工程進度', 2)\n",
      "('幾近', 1)\n",
      "('廊帶', 1)\n",
      "('建築', 1)\n",
      "('悠遊', 1)\n",
      "('情形', 1)\n",
      "('打造', 1)\n",
      "('投入', 2)\n",
      "('指出', 1)\n",
      "('指揮家', 1)\n",
      "('指標', 1)\n",
      "('接洽', 1)\n",
      "('接軌', 1)\n",
      "('擔任', 1)\n",
      "('攜手', 1)\n",
      "('支持', 1)\n",
      "('故宮', 2)\n",
      "('文化', 4)\n",
      "('文化部', 5)\n",
      "('新建', 1)\n",
      "('新臺幣', 1)\n",
      "('施工', 1)\n",
      "('旅德', 1)\n",
      "('明年', 1)\n",
      "('昨天', 1)\n",
      "('時間', 1)\n",
      "('有如', 1)\n",
      "('期許', 1)\n",
      "('核定', 1)\n",
      "('案子', 1)\n",
      "('檢討', 1)\n",
      "('正式', 1)\n",
      "('民國', 1)\n",
      "('洪孟啟', 2)\n",
      "('海浪', 1)\n",
      "('演出', 1)\n",
      "('演藝廳', 1)\n",
      "('營運', 2)\n",
      "('版圖', 1)\n",
      "('特別', 1)\n",
      "('生長出', 1)\n",
      "('百分之九十五', 1)\n",
      "('目標', 1)\n",
      "('瞭解', 1)\n",
      "('竣工', 1)\n",
      "('第一', 1)\n",
      "('節目', 1)\n",
      "('簡報', 1)\n",
      "('簡文彬', 1)\n",
      "('籌建', 2)\n",
      "('結合成', 1)\n",
      "('經費', 1)\n",
      "('編列', 1)\n",
      "('總監', 1)\n",
      "('總統', 2)\n",
      "('考驗', 1)\n",
      "('聽取', 1)\n",
      "('肯定', 1)\n",
      "('致詞', 1)\n",
      "('臺中', 1)\n",
      "('臺北', 1)\n",
      "('臺灣', 1)\n",
      "('興建', 1)\n",
      "('艱辛', 1)\n",
      "('藝文', 3)\n",
      "('藝術', 3)\n",
      "('衛武', 1)\n",
      "('衛武營', 6)\n",
      "('衛武營藝術文化中心', 2)\n",
      "('表演', 1)\n",
      "('視察', 1)\n",
      "('辛勞', 1)\n",
      "('過程', 3)\n",
      "('邀請', 1)\n",
      "('部門', 1)\n",
      "('配合', 1)\n",
      "('長達', 1)\n",
      "('開館', 1)\n",
      "('關注', 1)\n",
      "('集結地', 1)\n",
      "('面臨', 1)\n",
      "('預算', 1)\n",
      "('預計', 2)\n",
      "('顏久榮', 1)\n",
      "('馬英九', 2)\n",
      "('驚豔', 1)\n",
      "('高雄', 1)\n",
      "('高雄大東文化藝術中心', 1)\n",
      "('高雄市', 1)\n",
      "('高雄市政府', 1)\n",
      "('高雄市文化中心', 2)\n",
      "('魟魚', 1)\n",
      "('黃土', 1)\n",
      "======================================================\n"
     ]
    }
   ],
   "source": [
    "# creat mapping matrix of [word_id, word_frequency] for each word segment\n",
    "corpus = [dict.doc2bow(text) for text in fList]   \n",
    "print(\"corpus[:1] = \", corpus[:1])  \n",
    "print(\"================================================\")\n",
    "\n",
    "print(\"print lists of [word:frequency]\")\n",
    "[[print((dict[id], freq)) for id,freq in cp] for cp in corpus[:1]]\n",
    "print(\"======================================================\")"
   ]
  },
  {
   "cell_type": "markdown",
   "metadata": {},
   "source": [
    "### building the Topic Model from MALLET\n",
    "#### enviroment setting for Mallet LDA: https://programminghistorian.org/en/lessons/topic-modeling-and-mallet#installing-mallet"
   ]
  },
  {
   "cell_type": "code",
   "execution_count": 15,
   "metadata": {},
   "outputs": [
    {
     "ename": "CalledProcessError",
     "evalue": "Command 'C:/mallet-2.0.8/bin import-file --preserve-case --keep-sequence --remove-stopwords --token-regex \"\\S+\" --input C:\\Users\\User\\AppData\\Local\\Temp\\758f42_corpus.txt --output C:\\Users\\User\\AppData\\Local\\Temp\\758f42_corpus.mallet' returned non-zero exit status 1.",
     "output_type": "error",
     "traceback": [
      "\u001b[1;31m---------------------------------------------------------------------------\u001b[0m",
      "\u001b[1;31mCalledProcessError\u001b[0m                        Traceback (most recent call last)",
      "\u001b[1;32m<ipython-input-15-7a58547ef1cf>\u001b[0m in \u001b[0;36m<module>\u001b[1;34m\u001b[0m\n\u001b[0;32m      2\u001b[0m \u001b[1;33m\u001b[0m\u001b[0m\n\u001b[0;32m      3\u001b[0m \u001b[0mmallet_path\u001b[0m \u001b[1;33m=\u001b[0m \u001b[1;34m\"C:/mallet-2.0.8/bin\"\u001b[0m\u001b[1;33m\u001b[0m\u001b[1;33m\u001b[0m\u001b[0m\n\u001b[1;32m----> 4\u001b[1;33m \u001b[0mldamal\u001b[0m \u001b[1;33m=\u001b[0m \u001b[0mmodels\u001b[0m\u001b[1;33m.\u001b[0m\u001b[0mwrappers\u001b[0m\u001b[1;33m.\u001b[0m\u001b[0mLdaMallet\u001b[0m\u001b[1;33m(\u001b[0m\u001b[0mmallet_path\u001b[0m\u001b[1;33m,\u001b[0m \u001b[0mcorpus\u001b[0m\u001b[1;33m=\u001b[0m\u001b[0mcorpus\u001b[0m\u001b[1;33m,\u001b[0m \u001b[0mid2word\u001b[0m\u001b[1;33m=\u001b[0m\u001b[0mdict\u001b[0m\u001b[1;33m,\u001b[0m \u001b[0mnum_topics\u001b[0m\u001b[1;33m=\u001b[0m\u001b[1;36m10\u001b[0m\u001b[1;33m)\u001b[0m\u001b[1;33m\u001b[0m\u001b[1;33m\u001b[0m\u001b[0m\n\u001b[0m\u001b[0;32m      5\u001b[0m \u001b[0moutput\u001b[0m \u001b[1;33m=\u001b[0m \u001b[0mopen\u001b[0m\u001b[1;33m(\u001b[0m\u001b[1;34m\"../KCC Data/NewsCisTest-KccDict2020-MalletNum10.txt\"\u001b[0m\u001b[1;33m,\u001b[0m \u001b[1;34m'w'\u001b[0m\u001b[1;33m,\u001b[0m \u001b[0mencoding\u001b[0m\u001b[1;33m=\u001b[0m\u001b[1;34m'utf-8-sig'\u001b[0m\u001b[1;33m)\u001b[0m\u001b[1;33m\u001b[0m\u001b[1;33m\u001b[0m\u001b[0m\n\u001b[0;32m      6\u001b[0m \u001b[1;33m\u001b[0m\u001b[0m\n",
      "\u001b[1;32m~\\Anaconda3\\envs\\politic\\lib\\site-packages\\gensim\\models\\wrappers\\ldamallet.py\u001b[0m in \u001b[0;36m__init__\u001b[1;34m(self, mallet_path, corpus, num_topics, alpha, id2word, workers, prefix, optimize_interval, iterations, topic_threshold, random_seed)\u001b[0m\n\u001b[0;32m    129\u001b[0m         \u001b[0mself\u001b[0m\u001b[1;33m.\u001b[0m\u001b[0mrandom_seed\u001b[0m \u001b[1;33m=\u001b[0m \u001b[0mrandom_seed\u001b[0m\u001b[1;33m\u001b[0m\u001b[1;33m\u001b[0m\u001b[0m\n\u001b[0;32m    130\u001b[0m         \u001b[1;32mif\u001b[0m \u001b[0mcorpus\u001b[0m \u001b[1;32mis\u001b[0m \u001b[1;32mnot\u001b[0m \u001b[1;32mNone\u001b[0m\u001b[1;33m:\u001b[0m\u001b[1;33m\u001b[0m\u001b[1;33m\u001b[0m\u001b[0m\n\u001b[1;32m--> 131\u001b[1;33m             \u001b[0mself\u001b[0m\u001b[1;33m.\u001b[0m\u001b[0mtrain\u001b[0m\u001b[1;33m(\u001b[0m\u001b[0mcorpus\u001b[0m\u001b[1;33m)\u001b[0m\u001b[1;33m\u001b[0m\u001b[1;33m\u001b[0m\u001b[0m\n\u001b[0m\u001b[0;32m    132\u001b[0m \u001b[1;33m\u001b[0m\u001b[0m\n\u001b[0;32m    133\u001b[0m     \u001b[1;32mdef\u001b[0m \u001b[0mfinferencer\u001b[0m\u001b[1;33m(\u001b[0m\u001b[0mself\u001b[0m\u001b[1;33m)\u001b[0m\u001b[1;33m:\u001b[0m\u001b[1;33m\u001b[0m\u001b[1;33m\u001b[0m\u001b[0m\n",
      "\u001b[1;32m~\\Anaconda3\\envs\\politic\\lib\\site-packages\\gensim\\models\\wrappers\\ldamallet.py\u001b[0m in \u001b[0;36mtrain\u001b[1;34m(self, corpus)\u001b[0m\n\u001b[0;32m    270\u001b[0m \u001b[1;33m\u001b[0m\u001b[0m\n\u001b[0;32m    271\u001b[0m         \"\"\"\n\u001b[1;32m--> 272\u001b[1;33m         \u001b[0mself\u001b[0m\u001b[1;33m.\u001b[0m\u001b[0mconvert_input\u001b[0m\u001b[1;33m(\u001b[0m\u001b[0mcorpus\u001b[0m\u001b[1;33m,\u001b[0m \u001b[0minfer\u001b[0m\u001b[1;33m=\u001b[0m\u001b[1;32mFalse\u001b[0m\u001b[1;33m)\u001b[0m\u001b[1;33m\u001b[0m\u001b[1;33m\u001b[0m\u001b[0m\n\u001b[0m\u001b[0;32m    273\u001b[0m         \u001b[0mcmd\u001b[0m \u001b[1;33m=\u001b[0m \u001b[0mself\u001b[0m\u001b[1;33m.\u001b[0m\u001b[0mmallet_path\u001b[0m \u001b[1;33m+\u001b[0m \u001b[1;34m' train-topics --input %s --num-topics %s  --alpha %s --optimize-interval %s '\u001b[0m\u001b[0;31m\\\u001b[0m\u001b[1;33m\u001b[0m\u001b[1;33m\u001b[0m\u001b[0m\n\u001b[0;32m    274\u001b[0m             \u001b[1;34m'--num-threads %s --output-state %s --output-doc-topics %s --output-topic-keys %s '\u001b[0m\u001b[0;31m\\\u001b[0m\u001b[1;33m\u001b[0m\u001b[1;33m\u001b[0m\u001b[0m\n",
      "\u001b[1;32m~\\Anaconda3\\envs\\politic\\lib\\site-packages\\gensim\\models\\wrappers\\ldamallet.py\u001b[0m in \u001b[0;36mconvert_input\u001b[1;34m(self, corpus, infer, serialize_corpus)\u001b[0m\n\u001b[0;32m    259\u001b[0m             \u001b[0mcmd\u001b[0m \u001b[1;33m=\u001b[0m \u001b[0mcmd\u001b[0m \u001b[1;33m%\u001b[0m \u001b[1;33m(\u001b[0m\u001b[0mself\u001b[0m\u001b[1;33m.\u001b[0m\u001b[0mfcorpustxt\u001b[0m\u001b[1;33m(\u001b[0m\u001b[1;33m)\u001b[0m\u001b[1;33m,\u001b[0m \u001b[0mself\u001b[0m\u001b[1;33m.\u001b[0m\u001b[0mfcorpusmallet\u001b[0m\u001b[1;33m(\u001b[0m\u001b[1;33m)\u001b[0m\u001b[1;33m)\u001b[0m\u001b[1;33m\u001b[0m\u001b[1;33m\u001b[0m\u001b[0m\n\u001b[0;32m    260\u001b[0m         \u001b[0mlogger\u001b[0m\u001b[1;33m.\u001b[0m\u001b[0minfo\u001b[0m\u001b[1;33m(\u001b[0m\u001b[1;34m\"converting temporary corpus to MALLET format with %s\"\u001b[0m\u001b[1;33m,\u001b[0m \u001b[0mcmd\u001b[0m\u001b[1;33m)\u001b[0m\u001b[1;33m\u001b[0m\u001b[1;33m\u001b[0m\u001b[0m\n\u001b[1;32m--> 261\u001b[1;33m         \u001b[0mcheck_output\u001b[0m\u001b[1;33m(\u001b[0m\u001b[0margs\u001b[0m\u001b[1;33m=\u001b[0m\u001b[0mcmd\u001b[0m\u001b[1;33m,\u001b[0m \u001b[0mshell\u001b[0m\u001b[1;33m=\u001b[0m\u001b[1;32mTrue\u001b[0m\u001b[1;33m)\u001b[0m\u001b[1;33m\u001b[0m\u001b[1;33m\u001b[0m\u001b[0m\n\u001b[0m\u001b[0;32m    262\u001b[0m \u001b[1;33m\u001b[0m\u001b[0m\n\u001b[0;32m    263\u001b[0m     \u001b[1;32mdef\u001b[0m \u001b[0mtrain\u001b[0m\u001b[1;33m(\u001b[0m\u001b[0mself\u001b[0m\u001b[1;33m,\u001b[0m \u001b[0mcorpus\u001b[0m\u001b[1;33m)\u001b[0m\u001b[1;33m:\u001b[0m\u001b[1;33m\u001b[0m\u001b[1;33m\u001b[0m\u001b[0m\n",
      "\u001b[1;32m~\\Anaconda3\\envs\\politic\\lib\\site-packages\\gensim\\utils.py\u001b[0m in \u001b[0;36mcheck_output\u001b[1;34m(stdout, *popenargs, **kwargs)\u001b[0m\n\u001b[0;32m   1930\u001b[0m             \u001b[0merror\u001b[0m \u001b[1;33m=\u001b[0m \u001b[0msubprocess\u001b[0m\u001b[1;33m.\u001b[0m\u001b[0mCalledProcessError\u001b[0m\u001b[1;33m(\u001b[0m\u001b[0mretcode\u001b[0m\u001b[1;33m,\u001b[0m \u001b[0mcmd\u001b[0m\u001b[1;33m)\u001b[0m\u001b[1;33m\u001b[0m\u001b[1;33m\u001b[0m\u001b[0m\n\u001b[0;32m   1931\u001b[0m             \u001b[0merror\u001b[0m\u001b[1;33m.\u001b[0m\u001b[0moutput\u001b[0m \u001b[1;33m=\u001b[0m \u001b[0moutput\u001b[0m\u001b[1;33m\u001b[0m\u001b[1;33m\u001b[0m\u001b[0m\n\u001b[1;32m-> 1932\u001b[1;33m             \u001b[1;32mraise\u001b[0m \u001b[0merror\u001b[0m\u001b[1;33m\u001b[0m\u001b[1;33m\u001b[0m\u001b[0m\n\u001b[0m\u001b[0;32m   1933\u001b[0m         \u001b[1;32mreturn\u001b[0m \u001b[0moutput\u001b[0m\u001b[1;33m\u001b[0m\u001b[1;33m\u001b[0m\u001b[0m\n\u001b[0;32m   1934\u001b[0m     \u001b[1;32mexcept\u001b[0m \u001b[0mKeyboardInterrupt\u001b[0m\u001b[1;33m:\u001b[0m\u001b[1;33m\u001b[0m\u001b[1;33m\u001b[0m\u001b[0m\n",
      "\u001b[1;31mCalledProcessError\u001b[0m: Command 'C:/mallet-2.0.8/bin import-file --preserve-case --keep-sequence --remove-stopwords --token-regex \"\\S+\" --input C:\\Users\\User\\AppData\\Local\\Temp\\758f42_corpus.txt --output C:\\Users\\User\\AppData\\Local\\Temp\\758f42_corpus.mallet' returned non-zero exit status 1."
     ]
    }
   ],
   "source": [
    "#mallet_path = \"C://mallet/bin/mallet\"\n",
    "\n",
    "mallet_path = \"C:/mallet-2.0.8/bin/mallet\"\n",
    "ldamal = models.wrappers.LdaMallet(mallet_path, corpus=corpus, id2word=dict, num_topics=10)\n",
    "output = open(\"../KCC Data/NewsCisTest-KccDict2020-MalletNum10.txt\", 'w', encoding='utf-8-sig')\n",
    "\n",
    "#print(ldamal.show_topics(formatted=False))\n",
    "# 列出最重要的前若干个主题\n",
    "lsTM = ldamal.show_topics(num_topics=10, num_words=20, log=False, formatted=False)\n",
    "for tupleTM in lsTM:\n",
    "        str1 = \"\".join(str(x) for x in tupleTM)\n",
    "        #print(\"type(str1) = \", type(str1))\n",
    "        str1 += \"\\n\"\n",
    "        print(\"strTM = \", str1)\n",
    "        output.write(str1)\n",
    "output.close()\n",
    " \n",
    "#  print(\"------------------------------\")\n",
    "#  print(\"Perplexity = \", ldamal.log_perplexity(corpus))\n",
    "\n",
    "print(\"------------------------------\")\n",
    "cm = models.CoherenceModel(model=ldamal, texts=list(fList), dictionary= dict, coherence= 'c_v')\n",
    "coher_lda = cm.get_coherence()\n",
    "print(\"\\n Coherence Score: \", coher_lda)\n"
   ]
  },
  {
   "cell_type": "markdown",
   "metadata": {},
   "source": [
    "### Finding the optimal number of topics"
   ]
  },
  {
   "cell_type": "code",
   "execution_count": 8,
   "metadata": {},
   "outputs": [],
   "source": [
    "def compute_coherence_values(dictionary, corpus, texts, limit, start, step):\n",
    "    \"\"\"\n",
    "    Compute c_v coherence for various number of topics\n",
    "\n",
    "    Parameters:\n",
    "    ----------\n",
    "    dictionary : Gensim dictionary\n",
    "    corpus : Gensim corpus\n",
    "    texts : List of input texts\n",
    "    limit : Max num of topics\n",
    "\n",
    "    Returns:\n",
    "    -------\n",
    "    model_list : List of LDA topic models\n",
    "    coherence_values : Coherence values corresponding to the LDA model with respective number of topics\n",
    "    \"\"\"\n",
    "    # global mallet_path, dict\n",
    "    coherence_values = []\n",
    "    model_list = []\n",
    "    for num_topics in range(start, limit, step):\n",
    "        model = models.wrappers.LdaMallet(mallet_path, corpus=corpus, num_topics=num_topics, id2word=dict)\n",
    "        model_list.append(model)\n",
    "        coherencemodel = CoherenceModel(model=model, texts=texts, dictionary=dictionary, coherence='c_v')\n",
    "        coherence_values.append(coherencemodel.get_coherence())\n",
    "        coher = coherencemodel.get_coherence()\n",
    "        print(\"Num_topics: \", num_topics, \" Coherence Score= \", coher)\n",
    "    return model_list, coherence_values"
   ]
  },
  {
   "cell_type": "code",
   "execution_count": 9,
   "metadata": {
    "scrolled": true
   },
   "outputs": [
    {
     "ename": "CalledProcessError",
     "evalue": "Command 'C:/Users/User/Anaconda3/envs/politic/Lib/site-packages/gensim/corpora import-file --preserve-case --keep-sequence --remove-stopwords --token-regex \"\\S+\" --input C:\\Users\\User\\AppData\\Local\\Temp\\3da751_corpus.txt --output C:\\Users\\User\\AppData\\Local\\Temp\\3da751_corpus.mallet' returned non-zero exit status 1.",
     "output_type": "error",
     "traceback": [
      "\u001b[1;31m---------------------------------------------------------------------------\u001b[0m",
      "\u001b[1;31mCalledProcessError\u001b[0m                        Traceback (most recent call last)",
      "\u001b[1;32m<ipython-input-9-341987bb2e6c>\u001b[0m in \u001b[0;36m<module>\u001b[1;34m\u001b[0m\n\u001b[1;32m----> 1\u001b[1;33m \u001b[0mmodel_list\u001b[0m\u001b[1;33m,\u001b[0m \u001b[0mcoherence_values\u001b[0m \u001b[1;33m=\u001b[0m \u001b[0mcompute_coherence_values\u001b[0m\u001b[1;33m(\u001b[0m\u001b[0mdictionary\u001b[0m\u001b[1;33m=\u001b[0m\u001b[0mdict\u001b[0m\u001b[1;33m,\u001b[0m \u001b[0mcorpus\u001b[0m\u001b[1;33m=\u001b[0m\u001b[0mcorpus\u001b[0m\u001b[1;33m,\u001b[0m \u001b[0mtexts\u001b[0m\u001b[1;33m=\u001b[0m\u001b[0mlist\u001b[0m\u001b[1;33m(\u001b[0m\u001b[0mfList\u001b[0m\u001b[1;33m)\u001b[0m\u001b[1;33m,\u001b[0m \u001b[0mlimit\u001b[0m\u001b[1;33m=\u001b[0m\u001b[1;36m50\u001b[0m\u001b[1;33m,\u001b[0m \u001b[0mstart\u001b[0m\u001b[1;33m=\u001b[0m\u001b[1;36m5\u001b[0m\u001b[1;33m,\u001b[0m \u001b[0mstep\u001b[0m\u001b[1;33m=\u001b[0m\u001b[1;36m5\u001b[0m\u001b[1;33m)\u001b[0m\u001b[1;33m\u001b[0m\u001b[1;33m\u001b[0m\u001b[0m\n\u001b[0m",
      "\u001b[1;32m<ipython-input-8-09e4abe5a4d5>\u001b[0m in \u001b[0;36mcompute_coherence_values\u001b[1;34m(dictionary, corpus, texts, limit, start, step)\u001b[0m\n\u001b[0;32m     19\u001b[0m     \u001b[0mmodel_list\u001b[0m \u001b[1;33m=\u001b[0m \u001b[1;33m[\u001b[0m\u001b[1;33m]\u001b[0m\u001b[1;33m\u001b[0m\u001b[1;33m\u001b[0m\u001b[0m\n\u001b[0;32m     20\u001b[0m     \u001b[1;32mfor\u001b[0m \u001b[0mnum_topics\u001b[0m \u001b[1;32min\u001b[0m \u001b[0mrange\u001b[0m\u001b[1;33m(\u001b[0m\u001b[0mstart\u001b[0m\u001b[1;33m,\u001b[0m \u001b[0mlimit\u001b[0m\u001b[1;33m,\u001b[0m \u001b[0mstep\u001b[0m\u001b[1;33m)\u001b[0m\u001b[1;33m:\u001b[0m\u001b[1;33m\u001b[0m\u001b[1;33m\u001b[0m\u001b[0m\n\u001b[1;32m---> 21\u001b[1;33m         \u001b[0mmodel\u001b[0m \u001b[1;33m=\u001b[0m \u001b[0mmodels\u001b[0m\u001b[1;33m.\u001b[0m\u001b[0mwrappers\u001b[0m\u001b[1;33m.\u001b[0m\u001b[0mLdaMallet\u001b[0m\u001b[1;33m(\u001b[0m\u001b[0mmallet_path\u001b[0m\u001b[1;33m,\u001b[0m \u001b[0mcorpus\u001b[0m\u001b[1;33m=\u001b[0m\u001b[0mcorpus\u001b[0m\u001b[1;33m,\u001b[0m \u001b[0mnum_topics\u001b[0m\u001b[1;33m=\u001b[0m\u001b[0mnum_topics\u001b[0m\u001b[1;33m,\u001b[0m \u001b[0mid2word\u001b[0m\u001b[1;33m=\u001b[0m\u001b[0mdict\u001b[0m\u001b[1;33m)\u001b[0m\u001b[1;33m\u001b[0m\u001b[1;33m\u001b[0m\u001b[0m\n\u001b[0m\u001b[0;32m     22\u001b[0m         \u001b[0mmodel_list\u001b[0m\u001b[1;33m.\u001b[0m\u001b[0mappend\u001b[0m\u001b[1;33m(\u001b[0m\u001b[0mmodel\u001b[0m\u001b[1;33m)\u001b[0m\u001b[1;33m\u001b[0m\u001b[1;33m\u001b[0m\u001b[0m\n\u001b[0;32m     23\u001b[0m         \u001b[0mcoherencemodel\u001b[0m \u001b[1;33m=\u001b[0m \u001b[0mCoherenceModel\u001b[0m\u001b[1;33m(\u001b[0m\u001b[0mmodel\u001b[0m\u001b[1;33m=\u001b[0m\u001b[0mmodel\u001b[0m\u001b[1;33m,\u001b[0m \u001b[0mtexts\u001b[0m\u001b[1;33m=\u001b[0m\u001b[0mtexts\u001b[0m\u001b[1;33m,\u001b[0m \u001b[0mdictionary\u001b[0m\u001b[1;33m=\u001b[0m\u001b[0mdictionary\u001b[0m\u001b[1;33m,\u001b[0m \u001b[0mcoherence\u001b[0m\u001b[1;33m=\u001b[0m\u001b[1;34m'c_v'\u001b[0m\u001b[1;33m)\u001b[0m\u001b[1;33m\u001b[0m\u001b[1;33m\u001b[0m\u001b[0m\n",
      "\u001b[1;32m~\\Anaconda3\\envs\\politic\\lib\\site-packages\\gensim\\models\\wrappers\\ldamallet.py\u001b[0m in \u001b[0;36m__init__\u001b[1;34m(self, mallet_path, corpus, num_topics, alpha, id2word, workers, prefix, optimize_interval, iterations, topic_threshold, random_seed)\u001b[0m\n\u001b[0;32m    129\u001b[0m         \u001b[0mself\u001b[0m\u001b[1;33m.\u001b[0m\u001b[0mrandom_seed\u001b[0m \u001b[1;33m=\u001b[0m \u001b[0mrandom_seed\u001b[0m\u001b[1;33m\u001b[0m\u001b[1;33m\u001b[0m\u001b[0m\n\u001b[0;32m    130\u001b[0m         \u001b[1;32mif\u001b[0m \u001b[0mcorpus\u001b[0m \u001b[1;32mis\u001b[0m \u001b[1;32mnot\u001b[0m \u001b[1;32mNone\u001b[0m\u001b[1;33m:\u001b[0m\u001b[1;33m\u001b[0m\u001b[1;33m\u001b[0m\u001b[0m\n\u001b[1;32m--> 131\u001b[1;33m             \u001b[0mself\u001b[0m\u001b[1;33m.\u001b[0m\u001b[0mtrain\u001b[0m\u001b[1;33m(\u001b[0m\u001b[0mcorpus\u001b[0m\u001b[1;33m)\u001b[0m\u001b[1;33m\u001b[0m\u001b[1;33m\u001b[0m\u001b[0m\n\u001b[0m\u001b[0;32m    132\u001b[0m \u001b[1;33m\u001b[0m\u001b[0m\n\u001b[0;32m    133\u001b[0m     \u001b[1;32mdef\u001b[0m \u001b[0mfinferencer\u001b[0m\u001b[1;33m(\u001b[0m\u001b[0mself\u001b[0m\u001b[1;33m)\u001b[0m\u001b[1;33m:\u001b[0m\u001b[1;33m\u001b[0m\u001b[1;33m\u001b[0m\u001b[0m\n",
      "\u001b[1;32m~\\Anaconda3\\envs\\politic\\lib\\site-packages\\gensim\\models\\wrappers\\ldamallet.py\u001b[0m in \u001b[0;36mtrain\u001b[1;34m(self, corpus)\u001b[0m\n\u001b[0;32m    270\u001b[0m \u001b[1;33m\u001b[0m\u001b[0m\n\u001b[0;32m    271\u001b[0m         \"\"\"\n\u001b[1;32m--> 272\u001b[1;33m         \u001b[0mself\u001b[0m\u001b[1;33m.\u001b[0m\u001b[0mconvert_input\u001b[0m\u001b[1;33m(\u001b[0m\u001b[0mcorpus\u001b[0m\u001b[1;33m,\u001b[0m \u001b[0minfer\u001b[0m\u001b[1;33m=\u001b[0m\u001b[1;32mFalse\u001b[0m\u001b[1;33m)\u001b[0m\u001b[1;33m\u001b[0m\u001b[1;33m\u001b[0m\u001b[0m\n\u001b[0m\u001b[0;32m    273\u001b[0m         \u001b[0mcmd\u001b[0m \u001b[1;33m=\u001b[0m \u001b[0mself\u001b[0m\u001b[1;33m.\u001b[0m\u001b[0mmallet_path\u001b[0m \u001b[1;33m+\u001b[0m \u001b[1;34m' train-topics --input %s --num-topics %s  --alpha %s --optimize-interval %s '\u001b[0m\u001b[0;31m\\\u001b[0m\u001b[1;33m\u001b[0m\u001b[1;33m\u001b[0m\u001b[0m\n\u001b[0;32m    274\u001b[0m             \u001b[1;34m'--num-threads %s --output-state %s --output-doc-topics %s --output-topic-keys %s '\u001b[0m\u001b[0;31m\\\u001b[0m\u001b[1;33m\u001b[0m\u001b[1;33m\u001b[0m\u001b[0m\n",
      "\u001b[1;32m~\\Anaconda3\\envs\\politic\\lib\\site-packages\\gensim\\models\\wrappers\\ldamallet.py\u001b[0m in \u001b[0;36mconvert_input\u001b[1;34m(self, corpus, infer, serialize_corpus)\u001b[0m\n\u001b[0;32m    259\u001b[0m             \u001b[0mcmd\u001b[0m \u001b[1;33m=\u001b[0m \u001b[0mcmd\u001b[0m \u001b[1;33m%\u001b[0m \u001b[1;33m(\u001b[0m\u001b[0mself\u001b[0m\u001b[1;33m.\u001b[0m\u001b[0mfcorpustxt\u001b[0m\u001b[1;33m(\u001b[0m\u001b[1;33m)\u001b[0m\u001b[1;33m,\u001b[0m \u001b[0mself\u001b[0m\u001b[1;33m.\u001b[0m\u001b[0mfcorpusmallet\u001b[0m\u001b[1;33m(\u001b[0m\u001b[1;33m)\u001b[0m\u001b[1;33m)\u001b[0m\u001b[1;33m\u001b[0m\u001b[1;33m\u001b[0m\u001b[0m\n\u001b[0;32m    260\u001b[0m         \u001b[0mlogger\u001b[0m\u001b[1;33m.\u001b[0m\u001b[0minfo\u001b[0m\u001b[1;33m(\u001b[0m\u001b[1;34m\"converting temporary corpus to MALLET format with %s\"\u001b[0m\u001b[1;33m,\u001b[0m \u001b[0mcmd\u001b[0m\u001b[1;33m)\u001b[0m\u001b[1;33m\u001b[0m\u001b[1;33m\u001b[0m\u001b[0m\n\u001b[1;32m--> 261\u001b[1;33m         \u001b[0mcheck_output\u001b[0m\u001b[1;33m(\u001b[0m\u001b[0margs\u001b[0m\u001b[1;33m=\u001b[0m\u001b[0mcmd\u001b[0m\u001b[1;33m,\u001b[0m \u001b[0mshell\u001b[0m\u001b[1;33m=\u001b[0m\u001b[1;32mTrue\u001b[0m\u001b[1;33m)\u001b[0m\u001b[1;33m\u001b[0m\u001b[1;33m\u001b[0m\u001b[0m\n\u001b[0m\u001b[0;32m    262\u001b[0m \u001b[1;33m\u001b[0m\u001b[0m\n\u001b[0;32m    263\u001b[0m     \u001b[1;32mdef\u001b[0m \u001b[0mtrain\u001b[0m\u001b[1;33m(\u001b[0m\u001b[0mself\u001b[0m\u001b[1;33m,\u001b[0m \u001b[0mcorpus\u001b[0m\u001b[1;33m)\u001b[0m\u001b[1;33m:\u001b[0m\u001b[1;33m\u001b[0m\u001b[1;33m\u001b[0m\u001b[0m\n",
      "\u001b[1;32m~\\Anaconda3\\envs\\politic\\lib\\site-packages\\gensim\\utils.py\u001b[0m in \u001b[0;36mcheck_output\u001b[1;34m(stdout, *popenargs, **kwargs)\u001b[0m\n\u001b[0;32m   1930\u001b[0m             \u001b[0merror\u001b[0m \u001b[1;33m=\u001b[0m \u001b[0msubprocess\u001b[0m\u001b[1;33m.\u001b[0m\u001b[0mCalledProcessError\u001b[0m\u001b[1;33m(\u001b[0m\u001b[0mretcode\u001b[0m\u001b[1;33m,\u001b[0m \u001b[0mcmd\u001b[0m\u001b[1;33m)\u001b[0m\u001b[1;33m\u001b[0m\u001b[1;33m\u001b[0m\u001b[0m\n\u001b[0;32m   1931\u001b[0m             \u001b[0merror\u001b[0m\u001b[1;33m.\u001b[0m\u001b[0moutput\u001b[0m \u001b[1;33m=\u001b[0m \u001b[0moutput\u001b[0m\u001b[1;33m\u001b[0m\u001b[1;33m\u001b[0m\u001b[0m\n\u001b[1;32m-> 1932\u001b[1;33m             \u001b[1;32mraise\u001b[0m \u001b[0merror\u001b[0m\u001b[1;33m\u001b[0m\u001b[1;33m\u001b[0m\u001b[0m\n\u001b[0m\u001b[0;32m   1933\u001b[0m         \u001b[1;32mreturn\u001b[0m \u001b[0moutput\u001b[0m\u001b[1;33m\u001b[0m\u001b[1;33m\u001b[0m\u001b[0m\n\u001b[0;32m   1934\u001b[0m     \u001b[1;32mexcept\u001b[0m \u001b[0mKeyboardInterrupt\u001b[0m\u001b[1;33m:\u001b[0m\u001b[1;33m\u001b[0m\u001b[1;33m\u001b[0m\u001b[0m\n",
      "\u001b[1;31mCalledProcessError\u001b[0m: Command 'C:/Users/User/Anaconda3/envs/politic/Lib/site-packages/gensim/corpora import-file --preserve-case --keep-sequence --remove-stopwords --token-regex \"\\S+\" --input C:\\Users\\User\\AppData\\Local\\Temp\\3da751_corpus.txt --output C:\\Users\\User\\AppData\\Local\\Temp\\3da751_corpus.mallet' returned non-zero exit status 1."
     ]
    }
   ],
   "source": [
    "model_list, coherence_values = compute_coherence_values(dictionary=dict, corpus=corpus, texts=list(fList), limit=50, start=5, step=5)"
   ]
  },
  {
   "cell_type": "code",
   "execution_count": 10,
   "metadata": {},
   "outputs": [
    {
     "ename": "NameError",
     "evalue": "name 'coherence_values' is not defined",
     "output_type": "error",
     "traceback": [
      "\u001b[1;31m---------------------------------------------------------------------------\u001b[0m",
      "\u001b[1;31mNameError\u001b[0m                                 Traceback (most recent call last)",
      "\u001b[1;32m<ipython-input-10-576beba45c48>\u001b[0m in \u001b[0;36m<module>\u001b[1;34m\u001b[0m\n\u001b[0;32m      4\u001b[0m \u001b[0mlimit\u001b[0m\u001b[1;33m=\u001b[0m\u001b[1;36m50\u001b[0m\u001b[1;33m;\u001b[0m \u001b[0mstart\u001b[0m\u001b[1;33m=\u001b[0m\u001b[1;36m5\u001b[0m\u001b[1;33m;\u001b[0m \u001b[0mstep\u001b[0m\u001b[1;33m=\u001b[0m\u001b[1;36m5\u001b[0m\u001b[1;33m;\u001b[0m\u001b[1;33m\u001b[0m\u001b[1;33m\u001b[0m\u001b[0m\n\u001b[0;32m      5\u001b[0m \u001b[0mx\u001b[0m \u001b[1;33m=\u001b[0m \u001b[0mrange\u001b[0m\u001b[1;33m(\u001b[0m\u001b[0mstart\u001b[0m\u001b[1;33m,\u001b[0m \u001b[0mlimit\u001b[0m\u001b[1;33m,\u001b[0m \u001b[0mstep\u001b[0m\u001b[1;33m)\u001b[0m\u001b[1;33m\u001b[0m\u001b[1;33m\u001b[0m\u001b[0m\n\u001b[1;32m----> 6\u001b[1;33m \u001b[0mplt\u001b[0m\u001b[1;33m.\u001b[0m\u001b[0mplot\u001b[0m\u001b[1;33m(\u001b[0m\u001b[0mx\u001b[0m\u001b[1;33m,\u001b[0m \u001b[0mcoherence_values\u001b[0m\u001b[1;33m)\u001b[0m\u001b[1;33m\u001b[0m\u001b[1;33m\u001b[0m\u001b[0m\n\u001b[0m\u001b[0;32m      7\u001b[0m \u001b[0mplt\u001b[0m\u001b[1;33m.\u001b[0m\u001b[0mxlabel\u001b[0m\u001b[1;33m(\u001b[0m\u001b[1;34m\"Num Topics\"\u001b[0m\u001b[1;33m)\u001b[0m\u001b[1;33m\u001b[0m\u001b[1;33m\u001b[0m\u001b[0m\n\u001b[0;32m      8\u001b[0m \u001b[0mplt\u001b[0m\u001b[1;33m.\u001b[0m\u001b[0mylabel\u001b[0m\u001b[1;33m(\u001b[0m\u001b[1;34m\"Coherence score\"\u001b[0m\u001b[1;33m)\u001b[0m\u001b[1;33m\u001b[0m\u001b[1;33m\u001b[0m\u001b[0m\n",
      "\u001b[1;31mNameError\u001b[0m: name 'coherence_values' is not defined"
     ]
    }
   ],
   "source": [
    "# Show graph\n",
    "import matplotlib.pyplot as plt\n",
    "\n",
    "limit=50; start=5; step=5;\n",
    "x = range(start, limit, step)\n",
    "plt.plot(x, coherence_values)\n",
    "plt.xlabel(\"Num Topics\")\n",
    "plt.ylabel(\"Coherence score\")\n",
    "plt.legend((\"coherence_values\"), loc='best')\n",
    "plt.show()"
   ]
  },
  {
   "cell_type": "code",
   "execution_count": 9,
   "metadata": {},
   "outputs": [
    {
     "name": "stdout",
     "output_type": "stream",
     "text": [
      "Num Topics = 5  has Coherence Value of 0.3015\n",
      "Num Topics = 10  has Coherence Value of 0.5013\n",
      "Num Topics = 15  has Coherence Value of 0.6123\n",
      "Num Topics = 20  has Coherence Value of 0.6452\n",
      "Num Topics = 25  has Coherence Value of 0.6101\n",
      "Num Topics = 30  has Coherence Value of 0.6436\n",
      "Num Topics = 35  has Coherence Value of 0.6227\n",
      "Num Topics = 40  has Coherence Value of 0.5986\n",
      "Num Topics = 45  has Coherence Value of 0.5971\n",
      "Optimal Topic Num = 20  Highest Value = 0.6452261698223308\n"
     ]
    }
   ],
   "source": [
    "# Print the coherence scores\n",
    "optNum = 0\n",
    "maxCV = 0\n",
    "for m, cv in zip(x, coherence_values):\n",
    "    # maxCV = lambda cv, maxCV: cv if cv > maxCV else maxCV\n",
    "    if cv > maxCV:\n",
    "        optNum = m\n",
    "        maxCV = cv \n",
    "    print(\"Num Topics =\", m, \" has Coherence Value of\", round(cv, 4))\n",
    "print(\"Optimal Topic Num =\", optNum, \" Highest Value =\", maxCV)"
   ]
  },
  {
   "cell_type": "markdown",
   "metadata": {},
   "source": [
    "###  Select the model and print the topics"
   ]
  },
  {
   "cell_type": "code",
   "execution_count": 10,
   "metadata": {},
   "outputs": [
    {
     "name": "stdout",
     "output_type": "stream",
     "text": [
      "[(10,\n",
      "  '0.185*\"公園\" + 0.083*\"媽媽\" + 0.064*\"小朋友\" + 0.057*\"特色\" + 0.045*\"小孩\" + '\n",
      "  '0.045*\"沖繩\" + 0.038*\"廁所\" + 0.032*\"管理\" + 0.025*\"親子公園\" + 0.025*\"生日公園\" + '\n",
      "  '0.019*\"交換\" + 0.019*\"親子\" + 0.019*\"享受\" + 0.019*\"中型\" + 0.013*\"主題\" + 0.013*\"裡面\" '\n",
      "  '+ 0.013*\"石頭椅\" + 0.013*\"涼亭\" + 0.013*\"台中\" + 0.013*\"網路\"'),\n",
      " (21,\n",
      "  '0.081*\"民眾\" + 0.081*\"公車\" + 0.054*\"優惠\" + 0.054*\"服務\" + 0.054*\"措施\" + 0.036*\"品質\" '\n",
      "  '+ 0.027*\"推動\" + 0.027*\"民調\" + 0.027*\"正面\" + 0.027*\"期間\" + 0.027*\"票價\" + '\n",
      "  '0.018*\"路線\" + 0.018*\"民營\" + 0.018*\"駕駛長\" + 0.018*\"公車駕駛\" + 0.018*\"提升\" + '\n",
      "  '0.018*\"優良\" + 0.018*\"搭乘\" + 0.018*\"業者\" + 0.018*\"駕駛\"'),\n",
      " (6,\n",
      "  '0.181*\"高雄市\" + 0.128*\"第一\" + 0.043*\"新興\" + 0.032*\"提供\" + 0.021*\"給予\" + '\n",
      "  '0.021*\"協助\" + 0.021*\"困難\" + 0.021*\"需要\" + 0.011*\"宿舍\" + 0.011*\"科幻\" + 0.011*\"長間\" '\n",
      "  '+ 0.011*\"女警\" + 0.011*\"林全\" + 0.011*\"改善\" + 0.011*\"白天\" + 0.011*\"教育局\" + '\n",
      "  '0.011*\"賴清德\" + 0.011*\"七時\" + 0.011*\"想到\" + 0.011*\"剝奪\"'),\n",
      " (17,\n",
      "  '0.264*\"台灣\" + 0.151*\"日本\" + 0.038*\"網友\" + 0.038*\"留言\" + 0.028*\"新聞\" + 0.028*\"發生\" '\n",
      "  '+ 0.019*\"縣政府\" + 0.019*\"消息\" + 0.019*\"接連\" + 0.019*\"親愛\" + 0.019*\"支援\" + '\n",
      "  '0.019*\"晚上\" + 0.009*\"中華民國\" + 0.009*\"使命\" + 0.009*\"放上\" + 0.009*\"移轉\" + '\n",
      "  '0.009*\"字樣\" + 0.009*\"百分之七點五\" + 0.009*\"協助\" + 0.009*\"台北\"'),\n",
      " (4,\n",
      "  '0.070*\"衛武營\" + 0.060*\"工程\" + 0.060*\"文化\" + 0.050*\"文化部\" + 0.040*\"過程\" + '\n",
      "  '0.030*\"馬英九\" + 0.030*\"藝術\" + 0.030*\"付出\" + 0.030*\"總統\" + 0.020*\"預計\" + '\n",
      "  '0.020*\"工程進度\" + 0.020*\"營運\" + 0.020*\"考驗\" + 0.020*\"故宮\" + 0.020*\"籌建\" + '\n",
      "  '0.020*\"瞭解\" + 0.020*\"衛武營藝術文化中心\" + 0.010*\"搜救隊\" + 0.010*\"案子\" + 0.010*\"三十分\"'),\n",
      " (1,\n",
      "  '0.078*\"陳宜民\" + 0.069*\"擔任\" + 0.069*\"服務\" + 0.059*\"研究\" + 0.039*\"立委\" + '\n",
      "  '0.039*\"中國國民黨\" + 0.029*\"分區\" + 0.020*\"高雄醫學大學\" + 0.020*\"問政\" + 0.020*\"收益\" + '\n",
      "  '0.020*\"形象\" + 0.020*\"公衛所\" + 0.020*\"服務處\" + 0.020*\"市長選舉\" + 0.010*\"時代\" + '\n",
      "  '0.010*\"政壇\" + 0.010*\"生醫所\" + 0.010*\"國內\" + 0.010*\"朱立倫\" + 0.010*\"族群\"'),\n",
      " (18,\n",
      "  '0.097*\"鼓勵\" + 0.054*\"剛剛\" + 0.043*\"改善\" + 0.043*\"市政府\" + 0.032*\"回來\" + '\n",
      "  '0.032*\"做過去\" + 0.032*\"簡單\" + 0.032*\"第三\" + 0.022*\"指示\" + 0.022*\"前金\" + '\n",
      "  '0.022*\"第五\" + 0.022*\"友善\" + 0.011*\"東京\" + 0.011*\"轉乘\" + 0.011*\"危急\" + 0.011*\"新興\" '\n",
      "  '+ 0.011*\"迴響\" + 0.011*\"員工\" + 0.011*\"牽絆\" + 0.011*\"準備好\"'),\n",
      " (0,\n",
      "  '0.035*\"包括\" + 0.035*\"投入\" + 0.035*\"陽明\" + 0.035*\"連任\" + 0.035*\"設攤\" + 0.035*\"捐贈\" '\n",
      "  '+ 0.018*\"軌跡\" + 0.018*\"人選\" + 0.018*\"心目中\" + 0.018*\"版圖\" + 0.018*\"發揮\" + '\n",
      "  '0.018*\"縱走\" + 0.018*\"粉床式\" + 0.018*\"農水路\" + 0.018*\"有沒有\" + 0.018*\"新台幣\" + '\n",
      "  '0.018*\"日圓\" + 0.018*\"嘗試\" + 0.018*\"留下\" + 0.018*\"美國\"'),\n",
      " (8,\n",
      "  '0.104*\"天坑\" + 0.104*\"永遠\" + 0.062*\"生活\" + 0.042*\"路平\" + 0.042*\"民生路\" + '\n",
      "  '0.042*\"回答\" + 0.031*\"忠孝\" + 0.021*\"號稱\" + 0.021*\"停車位\" + 0.021*\"之間\" + '\n",
      "  '0.021*\"老化\" + 0.021*\"後續\" + 0.010*\"人類\" + 0.010*\"十點\" + 0.010*\"意涵\" + 0.010*\"破洞\" '\n",
      "  '+ 0.010*\"執行\" + 0.010*\"息息相關\" + 0.010*\"前金\" + 0.010*\"工法\"'),\n",
      " (13,\n",
      "  '0.100*\"國際\" + 0.062*\"競爭\" + 0.050*\"成立\" + 0.037*\"回到\" + 0.025*\"國家\" + 0.025*\"注意\" '\n",
      "  '+ 0.025*\"管理\" + 0.025*\"九州熊本\" + 0.013*\"接洽\" + 0.013*\"污水\" + 0.013*\"二十萬\" + '\n",
      "  '0.013*\"建築\" + 0.013*\"海浪\" + 0.013*\"震災\" + 0.013*\"印象\" + 0.013*\"旅德\" + 0.013*\"效益\" '\n",
      "  '+ 0.013*\"睽違\" + 0.013*\"熊本市\" + 0.013*\"稻米\"'),\n",
      " (16,\n",
      "  '0.409*\"高雄\" + 0.065*\"中央\" + 0.043*\"世界\" + 0.032*\"契機\" + 0.022*\"歷史\" + 0.022*\"座位\" '\n",
      "  '+ 0.022*\"尋求\" + 0.022*\"宜居\" + 0.022*\"交通\" + 0.022*\"第四\" + 0.011*\"定位\" + '\n",
      "  '0.011*\"官職\" + 0.011*\"公園\" + 0.011*\"場館\" + 0.011*\"臺北\" + 0.011*\"之中\" + 0.011*\"青年\" '\n",
      "  '+ 0.011*\"指揮家\" + 0.011*\"硬生生\" + 0.011*\"把握\"'),\n",
      " (12,\n",
      "  '0.237*\"空間\" + 0.042*\"停車\" + 0.025*\"計畫\" + 0.025*\"可惜\" + 0.025*\"生意\" + 0.025*\"違法\" '\n",
      "  '+ 0.025*\"鳳山\" + 0.025*\"周邊\" + 0.025*\"障礙\" + 0.025*\"完整\" + 0.017*\"透天厝\" + '\n",
      "  '0.017*\"輪椅\" + 0.017*\"提供出來\" + 0.017*\"蓋好\" + 0.017*\"事業\" + 0.017*\"案件\" + '\n",
      "  '0.017*\"早期\" + 0.017*\"區域\" + 0.017*\"都市\" + 0.017*\"通盤\"'),\n",
      " (15,\n",
      "  '0.148*\"地方\" + 0.045*\"協助\" + 0.023*\"太多\" + 0.023*\"父親\" + 0.023*\"慢慢\" + 0.023*\"深耕\" '\n",
      "  '+ 0.023*\"期待\" + 0.023*\"檢討\" + 0.011*\"計程車\" + 0.011*\"外交部\" + 0.011*\"哈佛\" + '\n",
      "  '0.011*\"幫忙\" + 0.011*\"所長\" + 0.011*\"強震\" + 0.011*\"大雨\" + 0.011*\"路幅\" + 0.011*\"東京\" '\n",
      "  '+ 0.011*\"車輛\" + 0.011*\"角落\" + 0.011*\"提供\"'),\n",
      " (29,\n",
      "  '0.110*\"學校\" + 0.076*\"方向\" + 0.051*\"透過\" + 0.051*\"方式\" + 0.042*\"港口\" + 0.042*\"市長\" '\n",
      "  '+ 0.025*\"務實\" + 0.025*\"真的\" + 0.025*\"閒置\" + 0.025*\"利用\" + 0.017*\"發展\" + '\n",
      "  '0.017*\"社會局\" + 0.017*\"災情\" + 0.017*\"港區\" + 0.017*\"調整\" + 0.017*\"機能\" + '\n",
      "  '0.017*\"需要\" + 0.017*\"期待\" + 0.017*\"力氣\" + 0.017*\"興盛\"'),\n",
      " (25,\n",
      "  '0.100*\"動物\" + 0.075*\"團體\" + 0.058*\"持續\" + 0.058*\"企業\" + 0.050*\"認養\" + 0.042*\"單位\" '\n",
      "  '+ 0.033*\"保育\" + 0.033*\"壽山動物園\" + 0.025*\"加入\" + 0.025*\"福祉\" + 0.025*\"經費\" + '\n",
      "  '0.025*\"增進\" + 0.017*\"動物園\" + 0.017*\"進駐\" + 0.017*\"得以\" + 0.017*\"設立\" + '\n",
      "  '0.017*\"行列\" + 0.017*\"相關\" + 0.017*\"野生動物\" + 0.017*\"展場\"'),\n",
      " (24,\n",
      "  '0.130*\"陳菊\" + 0.111*\"政府\" + 0.111*\"支持\" + 0.056*\"翻轉\" + 0.037*\"力量\" + 0.028*\"一六\" '\n",
      "  '+ 0.028*\"面臨\" + 0.028*\"政治\" + 0.019*\"民主進步黨\" + 0.019*\"期盼\" + 0.009*\"要不要\" + '\n",
      "  '0.009*\"產品\" + 0.009*\"園區\" + 0.009*\"截取\" + 0.009*\"綠地\" + 0.009*\"情勢\" + 0.009*\"永續\" '\n",
      "  '+ 0.009*\"聚賭\" + 0.009*\"地下室\" + 0.009*\"援贈款\"'),\n",
      " (26,\n",
      "  '0.074*\"熊本\" + 0.047*\"捐款\" + 0.041*\"專戶\" + 0.041*\"各界\" + 0.034*\"社會\" + 0.027*\"工作\" '\n",
      "  '+ 0.027*\"一同\" + 0.027*\"昨天\" + 0.027*\"收據\" + 0.020*\"匯款\" + 0.020*\"高市府\" + '\n",
      "  '0.020*\"指出\" + 0.020*\"高雄市政府社會局\" + 0.020*\"捐助\" + 0.020*\"援助\" + 0.020*\"震災\" + '\n",
      "  '0.014*\"民眾\" + 0.014*\"救助金\" + 0.014*\"捐出\" + 0.014*\"捐款人\"'),\n",
      " (3,\n",
      "  '0.163*\"人口\" + 0.062*\"縣市合併\" + 0.054*\"數字\" + 0.054*\"建設\" + 0.039*\"減少\" + '\n",
      "  '0.031*\"社會\" + 0.031*\"品質\" + 0.031*\"苓雅\" + 0.031*\"老人\" + 0.031*\"質詢\" + 0.031*\"國家\" '\n",
      "  '+ 0.023*\"比例\" + 0.023*\"前金區\" + 0.023*\"硬體\" + 0.023*\"快速\" + 0.023*\"重點\" + '\n",
      "  '0.016*\"空洞化\" + 0.016*\"首長\" + 0.016*\"當初\" + 0.016*\"會期\"'),\n",
      " (7,\n",
      "  '0.225*\"騎樓\" + 0.090*\"公共\" + 0.079*\"社區\" + 0.045*\"告訴\" + 0.034*\"淨空\" + 0.034*\"理想\" '\n",
      "  '+ 0.022*\"房子\" + 0.022*\"登革熱\" + 0.022*\"汽車\" + 0.022*\"開單\" + 0.022*\"人物\" + '\n",
      "  '0.022*\"裡面\" + 0.022*\"政治\" + 0.011*\"新興分局\" + 0.011*\"指標\" + 0.011*\"國艦國造\" + '\n",
      "  '0.011*\"社團\" + 0.011*\"落實\" + 0.011*\"極權\" + 0.011*\"擴展\"'),\n",
      " (23,\n",
      "  '0.146*\"產業\" + 0.081*\"研發\" + 0.065*\"發展\" + 0.065*\"公司\" + 0.041*\"競爭力\" + '\n",
      "  '0.041*\"升級\" + 0.041*\"提升\" + 0.033*\"金屬\" + 0.024*\"傳統\" + 0.024*\"東台\" + 0.024*\"製造\" '\n",
      "  '+ 0.024*\"精機\" + 0.024*\"設備\" + 0.016*\"提出\" + 0.016*\"積層\" + 0.016*\"資源\" + '\n",
      "  '0.016*\"成功\" + 0.016*\"創新\" + 0.016*\"廠商\" + 0.016*\"前往\"')]\n"
     ]
    }
   ],
   "source": [
    "from pprint import pprint\n",
    "\n",
    "optimal_model = model_list[5]\n",
    "# model_topics = optimal_model.show_topics(formatted=False)\n",
    "# 把分好的主題印出來，先印20個字\n",
    "pprint(optimal_model.print_topics(num_words=20))"
   ]
  }
 ],
 "metadata": {
  "kernelspec": {
   "display_name": "Python 3",
   "language": "python",
   "name": "python3"
  },
  "language_info": {
   "codemirror_mode": {
    "name": "ipython",
    "version": 3
   },
   "file_extension": ".py",
   "mimetype": "text/x-python",
   "name": "python",
   "nbconvert_exporter": "python",
   "pygments_lexer": "ipython3",
   "version": "3.6.10"
  }
 },
 "nbformat": 4,
 "nbformat_minor": 4
}
