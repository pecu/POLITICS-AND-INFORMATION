{
 "cells": [
  {
   "cell_type": "markdown",
   "metadata": {},
   "source": [
    "### Name :  1-1-CisPdf2CsvByIndiv :\n",
    "### Function :  Extract text content from CIS PDF files \n",
    "### Source Data :  高雄市議會1屆1次至2屆8次市政總質詢"
   ]
  },
  {
   "cell_type": "code",
   "execution_count": 1,
   "metadata": {},
   "outputs": [],
   "source": [
    "# -*- coding: utf-8 -*-\n",
    "\"\"\"\n",
    "Created on May 13 2020\n",
    "@author: johnson\n",
    "\"\"\"\n",
    "\n",
    "# Extract PDF by Page\n",
    "from pdfminer.pdfinterp import PDFResourceManager, PDFPageInterpreter\n",
    "from pdfminer.converter import TextConverter\n",
    "from pdfminer.pdfpage import PDFPage\n",
    "import io\n",
    "import glob\n",
    "import csv\n",
    "import os.path"
   ]
  },
  {
   "cell_type": "markdown",
   "metadata": {},
   "source": [
    "###  user function : extract text data from PDF file via pdfminer \n",
    "定義第一個函式，extract_text_by_page，把pdf的文字抓出來"
   ]
  },
  {
   "cell_type": "code",
   "execution_count": 2,
   "metadata": {},
   "outputs": [],
   "source": [
    "#定義把pdf轉文字的function\n",
    "def extract_text_by_page(pdfFile):\n",
    "\n",
    "    with open(pdfFile, 'rb') as fh:\n",
    "        \n",
    "        for page in PDFPage.get_pages(fh, caching=True, check_extractable=True):\n",
    "            \n",
    "            resource_manager = PDFResourceManager()\n",
    "            \n",
    "            #codec = 'utf-8'\n",
    "            #再系統裡面虛擬一個檔案處理\n",
    "            fake_file_handle = io.StringIO()\n",
    "            converter = TextConverter(resource_manager, fake_file_handle)\n",
    "            \n",
    "            #  via TextConvert or HTMLConverter or XMLConverter\n",
    "            page_interpreter = PDFPageInterpreter(resource_manager, converter)\n",
    "            \n",
    "            #開始抓出檔案內的文字\n",
    "            page_interpreter.process_page(page)\n",
    "            text = fake_file_handle.getvalue()\n",
    "            # print(text)\n",
    "            yield text\n",
    "\n",
    "            # close open handles\n",
    "            converter.close()\n",
    "            fake_file_handle.close()"
   ]
  },
  {
   "cell_type": "markdown",
   "metadata": {},
   "source": [
    "### user function : \n",
    "###        1) receive PDF file\n",
    "###        2) pass to  user function extract_text_by_page()   \n",
    "###        3) write into output file"
   ]
  },
  {
   "cell_type": "code",
   "execution_count": 3,
   "metadata": {},
   "outputs": [],
   "source": [
    "#傳三個參數:pdf_file(要處理的pdf), csv_path(輸出csv的檔案位子), isNew(是不是新的pdf)\n",
    "def export_as_csv(pdf_file, csv_path, isNew):\n",
    "    global FSeqNo #pdf的編號\n",
    "    \n",
    "    if isNew:\n",
    "        opMode = \"w\"\n",
    "    else:\n",
    "        opMode = 'a'\n",
    "\n",
    "    #把pdf讀進去    \n",
    "    with open(csv_path, opMode, newline='', encoding='utf-8-sig') as csv_file:\n",
    "\n",
    "        #存輸出csv的變數\n",
    "        writer = csv.writer(csv_file)\n",
    "        \n",
    "        # 每處理一個pdf就把那個檔案的名字印出來\n",
    "        print(\"PDF File: %s\" % pdf_file)\n",
    "        \n",
    "        # 如果是新的一欄，就寫欄位\n",
    "        # 會輸出成三個欄位: FileNo(檔案編號), FileName(檔案名稱), Text(pdf文字內容)\n",
    "        if isNew:\n",
    "            writer.writerow(['FileNo', 'FileName', 'Text'])   # write fields name into CSV file head\n",
    "            \n",
    "        pdfName = os.path.basename(pdf_file) #把pdf的名字存到pdfName這個變數裡面\n",
    "        FSeqNo += 1\n",
    "        contain = \"\"\n",
    "        \n",
    "        # pdf_file 是檔案路徑\n",
    "        #呼叫剛剛定義的extract_text_by_page函式處理\n",
    "        for page in extract_text_by_page(pdf_file):\n",
    "            contain = contain + page \n",
    "            \n",
    "        writer.writerow([FSeqNo, pdfName, contain])"
   ]
  },
  {
   "cell_type": "markdown",
   "metadata": {},
   "source": [
    "### main "
   ]
  },
  {
   "cell_type": "markdown",
   "metadata": {},
   "source": [
    "下面這段開始處理資料，首先設定要讀入的檔案路徑，處理完後，會輸出一個叫做CisPdf2CsvbyIndiv的csv檔案"
   ]
  },
  {
   "cell_type": "code",
   "execution_count": 4,
   "metadata": {},
   "outputs": [
    {
     "name": "stdout",
     "output_type": "stream",
     "text": [
      "PDF File: KCC Data/input_chen_fu\\chen_fu.pdf\n"
     ]
    }
   ],
   "source": [
    "#設定要處理的pdf的所在路徑\n",
    "#抓取某個資料夾底下所有某一類型(ex:csv、pdf)的檔案\n",
    "pdf_path = \"KCC Data/input_chen_fu/\" \n",
    "\n",
    "# glob 會回傳資料夾裡面文件的檔案路徑\n",
    "# {}裡面放的是上面pdf_path定義的位子\n",
    "pdfs = glob.glob(\"{}/*.pdf\".format(pdf_path))\n",
    "\n",
    "#讀入pad的設定\n",
    "newFlag = True #pdf是不是新的(一開始預設true是)\n",
    "FSeqNo = 0 #設定pdf的編號(預設是0)\n",
    "\n",
    "#設定要輸出的csv名字和路徑\n",
    "#csv_path = \"KCC Data/output/CisPdf2CsvbyIndiv.csv\" \n",
    "csv_path = \"KCC Data/output/chen_fu.csv\" \n",
    "\n",
    "#用export_as_csv這個function輸出成csv檔案\n",
    "for pdf in pdfs:\n",
    "    export_as_csv(pdf, csv_path, newFlag)\n",
    "    newFlag = False"
   ]
  },
  {
   "cell_type": "code",
   "execution_count": 7,
   "metadata": {},
   "outputs": [
    {
     "data": {
      "text/html": [
       "<div>\n",
       "<style scoped>\n",
       "    .dataframe tbody tr th:only-of-type {\n",
       "        vertical-align: middle;\n",
       "    }\n",
       "\n",
       "    .dataframe tbody tr th {\n",
       "        vertical-align: top;\n",
       "    }\n",
       "\n",
       "    .dataframe thead th {\n",
       "        text-align: right;\n",
       "    }\n",
       "</style>\n",
       "<table border=\"1\" class=\"dataframe\">\n",
       "  <thead>\n",
       "    <tr style=\"text-align: right;\">\n",
       "      <th></th>\n",
       "      <th>FileNo</th>\n",
       "      <th>FileName</th>\n",
       "      <th>Text</th>\n",
       "    </tr>\n",
       "  </thead>\n",
       "  <tbody>\n",
       "    <tr>\n",
       "      <th>0</th>\n",
       "      <td>1</td>\n",
       "      <td>chen_fu.pdf</td>\n",
       "      <td>165 立法院公報 第107卷 第93期 委員會紀錄 十一條之一及第四十三條條文修正草案...</td>\n",
       "    </tr>\n",
       "  </tbody>\n",
       "</table>\n",
       "</div>"
      ],
      "text/plain": [
       "   FileNo     FileName                                               Text\n",
       "0       1  chen_fu.pdf    165 立法院公報 第107卷 第93期 委員會紀錄 十一條之一及第四十三條條文修正草案..."
      ]
     },
     "execution_count": 7,
     "metadata": {},
     "output_type": "execute_result"
    }
   ],
   "source": [
    "import pandas as pd \n",
    "#加 header=None 是要和pyhon說這個csv沒有欄位標頭\n",
    "#記得要用encoding='utf-8'讀檔，不然會有亂碼，\n",
    "#df = pd.read_csv(\"CisPdf2CsvByIndivSeg.csv\", sep='delimiter', header=None, encoding='utf-8') #匯資料\n",
    "\n",
    "df2 = pd.read_csv(\"KCC Data/output/chen_fu.csv\",encoding='utf-8') #匯資料\n",
    "df2"
   ]
  }
 ],
 "metadata": {
  "kernelspec": {
   "display_name": "Python 3",
   "language": "python",
   "name": "python3"
  },
  "language_info": {
   "codemirror_mode": {
    "name": "ipython",
    "version": 3
   },
   "file_extension": ".py",
   "mimetype": "text/x-python",
   "name": "python",
   "nbconvert_exporter": "python",
   "pygments_lexer": "ipython3",
   "version": "3.7.3"
  }
 },
 "nbformat": 4,
 "nbformat_minor": 4
}
