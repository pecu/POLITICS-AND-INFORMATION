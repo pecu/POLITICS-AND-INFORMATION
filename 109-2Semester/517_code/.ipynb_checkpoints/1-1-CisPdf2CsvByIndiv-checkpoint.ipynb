{
 "cells": [
  {
   "cell_type": "markdown",
   "metadata": {},
   "source": [
    "### Name :  1-1-CisPdf2CsvByIndiv :\n",
    "### Function :  Extract text content from CIS PDF files \n",
    "### Source Data :  高雄市議會1屆1次至2屆8次市政總質詢"
   ]
  },
  {
   "cell_type": "code",
   "execution_count": 6,
   "metadata": {},
   "outputs": [],
   "source": [
    "# -*- coding: utf-8 -*-\n",
    "\"\"\"\n",
    "Created on May 13 2020\n",
    "@author: johnson\n",
    "\"\"\"\n",
    "\n",
    "# Extract PDF by Page\n",
    "from pdfminer.pdfinterp import PDFResourceManager, PDFPageInterpreter\n",
    "from pdfminer.converter import TextConverter\n",
    "from pdfminer.pdfpage import PDFPage\n",
    "import io\n",
    "import glob\n",
    "import csv\n",
    "import os.path"
   ]
  },
  {
   "cell_type": "markdown",
   "metadata": {},
   "source": [
    "###  user function : extract text data from PDF file via pdfminer \n",
    "定義第一個函式，extract_text_by_page，把pdf的文字抓出來"
   ]
  },
  {
   "cell_type": "code",
   "execution_count": 7,
   "metadata": {},
   "outputs": [],
   "source": [
    "#定義把pdf轉文字的function\n",
    "def extract_text_by_page(pdfFile):\n",
    "    with open(pdfFile, 'rb') as fh:\n",
    "        for page in PDFPage.get_pages(fh, caching=True, check_extractable=True):\n",
    "            resource_manager = PDFResourceManager()\n",
    "            \n",
    "            #codec = 'utf-8'\n",
    "            fake_file_handle = io.StringIO()\n",
    "            converter = TextConverter(resource_manager, fake_file_handle)\n",
    "            \n",
    "            #  via TextConvert or HTMLConverter or XMLConverter\n",
    "            page_interpreter = PDFPageInterpreter(resource_manager, converter)\n",
    "            page_interpreter.process_page(page)\n",
    "            text = fake_file_handle.getvalue()\n",
    "            # print(text)\n",
    "            yield text\n",
    "\n",
    "            # close open handles\n",
    "            converter.close()\n",
    "            fake_file_handle.close()"
   ]
  },
  {
   "cell_type": "markdown",
   "metadata": {},
   "source": [
    "### user function : \n",
    "###        1) receive PDF file\n",
    "###        2) pass to  user function extract_text_by_page()   \n",
    "###        3) write into output file"
   ]
  },
  {
   "cell_type": "code",
   "execution_count": 8,
   "metadata": {},
   "outputs": [],
   "source": [
    "def export_as_csv(pdf_file, csv_path, isNew):\n",
    "    global FSeqNo\n",
    "    if isNew:\n",
    "        opMode = \"w\"\n",
    "    else:\n",
    "        opMode = 'a'\n",
    "    with open(csv_path, opMode, newline='', encoding='utf-8-sig') as csv_file:\n",
    "        writer = csv.writer(csv_file)\n",
    "        \n",
    "        # 每處理一個pdf就把那個檔案的名字印出來\n",
    "        print(\"PDF File: %s\" % pdf_file)\n",
    "        \n",
    "        #會輸出成三個欄位: FileNo(檔案編號), FileName(檔案名稱), Text(pdf文字內容)\n",
    "        if isNew:\n",
    "            writer.writerow(['FileNo', 'FileName', 'Text'])   # write fields name into CSV file head\n",
    "            \n",
    "        pdfName = os.path.basename(pdf_file)\n",
    "        FSeqNo += 1\n",
    "        contain = \"\"\n",
    "        \n",
    "        #呼叫剛剛定義的extract_text_by_page函式處理\n",
    "        for page in extract_text_by_page(pdf_file):\n",
    "            contain = contain + page \n",
    "            \n",
    "        writer.writerow([FSeqNo, pdfName, contain])"
   ]
  },
  {
   "cell_type": "markdown",
   "metadata": {},
   "source": [
    "### main "
   ]
  },
  {
   "cell_type": "markdown",
   "metadata": {},
   "source": [
    "下面這段開始處理資料，首先設定要讀入的檔案路徑，處理完後，會輸出一個叫做CisPdf2CsvbyIndiv的csv檔案"
   ]
  },
  {
   "cell_type": "code",
   "execution_count": 23,
   "metadata": {},
   "outputs": [
    {
     "name": "stdout",
     "output_type": "stream",
     "text": [
      "PDF File: KCC Data/input\\1-1-1000516-1-蘇炎城.pdf\n",
      "PDF File: KCC Data/input\\1-1-1000516-2-張勝富.pdf\n"
     ]
    }
   ],
   "source": [
    "#設定要處理的pdf的所在路徑\n",
    "pdf_path = \"KCC Data/input/\" \n",
    "pdfs = glob.glob(\"{}/*.pdf\".format(pdf_path))\n",
    "newFlag = True\n",
    "FSeqNo = 0\n",
    "\n",
    "#設定要輸出的csv名字和路徑\n",
    "csv_path = \"KCC Data/output/CisPdf2CsvbyIndiv.csv\" \n",
    "\n",
    "#用export_as_csv這個function輸出成csv檔案\n",
    "for pdf in pdfs:\n",
    "    export_as_csv(pdf, csv_path, newFlag)\n",
    "    newFlag = False"
   ]
  },
  {
   "cell_type": "code",
   "execution_count": 19,
   "metadata": {},
   "outputs": [
    {
     "name": "stderr",
     "output_type": "stream",
     "text": [
      "C:\\Users\\User\\Anaconda3\\lib\\site-packages\\ipykernel_launcher.py:4: ParserWarning: Falling back to the 'python' engine because the 'c' engine does not support regex separators (separators > 1 char and different from '\\s+' are interpreted as regex); you can avoid this warning by specifying engine='python'.\n",
      "  after removing the cwd from sys.path.\n"
     ]
    },
    {
     "data": {
      "text/html": [
       "<div>\n",
       "<style scoped>\n",
       "    .dataframe tbody tr th:only-of-type {\n",
       "        vertical-align: middle;\n",
       "    }\n",
       "\n",
       "    .dataframe tbody tr th {\n",
       "        vertical-align: top;\n",
       "    }\n",
       "\n",
       "    .dataframe thead th {\n",
       "        text-align: right;\n",
       "    }\n",
       "</style>\n",
       "<table border=\"1\" class=\"dataframe\">\n",
       "  <thead>\n",
       "    <tr style=\"text-align: right;\">\n",
       "      <th></th>\n",
       "      <th>0</th>\n",
       "    </tr>\n",
       "  </thead>\n",
       "  <tbody>\n",
       "    <tr>\n",
       "      <th>0</th>\n",
       "      <td>1,1-1-1000516-1-蘇炎城-1,'蘇議員炎城：大會主席許議長、陳市長、各位局長、...</td>\n",
       "    </tr>\n",
       "    <tr>\n",
       "      <th>1</th>\n",
       "      <td>2,1-1-1000516-1-蘇炎城-2,'高雄縣市合併後，高雄市對於國中、小的學童上下課...</td>\n",
       "    </tr>\n",
       "    <tr>\n",
       "      <th>2</th>\n",
       "      <td>3,1-1-1000516-1-蘇炎城-3,'一個新社區也是需要有其他的建設共同配合，提升社...</td>\n",
       "    </tr>\n",
       "    <tr>\n",
       "      <th>3</th>\n",
       "      <td>4,1-1-1000516-1-蘇炎城-4,'這是鳳山第二公有市場，是光復後民國初期的照片，...</td>\n",
       "    </tr>\n",
       "    <tr>\n",
       "      <th>4</th>\n",
       "      <td>5,1-1-1000516-1-蘇炎城-5,'伊斯坦大﹒貝雅夫﹒正福議員：主席、陳市長、三位...</td>\n",
       "    </tr>\n",
       "    <tr>\n",
       "      <th>...</th>\n",
       "      <td>...</td>\n",
       "    </tr>\n",
       "    <tr>\n",
       "      <th>7291</th>\n",
       "      <td>7292,2-8-1071023-4-周玲妏-6,'周議員玲妏：好，謝謝。接下來一點點時間，...</td>\n",
       "    </tr>\n",
       "    <tr>\n",
       "      <th>7292</th>\n",
       "      <td>7293,2-8-1071023-4-周玲妏-7,'另外一個部分包含停車的問題，這個也是我一...</td>\n",
       "    </tr>\n",
       "    <tr>\n",
       "      <th>7293</th>\n",
       "      <td>7294,2-8-1071023-4-周玲妏-8,'我再補充一下剛提到坑洞的部分，我最近跟工...</td>\n",
       "    </tr>\n",
       "    <tr>\n",
       "      <th>7294</th>\n",
       "      <td>7295,2-8-1071023-4-周玲妏-9,'其他的問題，老實說有些真的講起來有點複雜...</td>\n",
       "    </tr>\n",
       "    <tr>\n",
       "      <th>7295</th>\n",
       "      <td>7296,2-8-1071023-4-周玲妏-10,'特色公園的部分，我們也都持續在努力，當...</td>\n",
       "    </tr>\n",
       "  </tbody>\n",
       "</table>\n",
       "<p>7296 rows × 1 columns</p>\n",
       "</div>"
      ],
      "text/plain": [
       "                                                      0\n",
       "0     1,1-1-1000516-1-蘇炎城-1,'蘇議員炎城：大會主席許議長、陳市長、各位局長、...\n",
       "1     2,1-1-1000516-1-蘇炎城-2,'高雄縣市合併後，高雄市對於國中、小的學童上下課...\n",
       "2     3,1-1-1000516-1-蘇炎城-3,'一個新社區也是需要有其他的建設共同配合，提升社...\n",
       "3     4,1-1-1000516-1-蘇炎城-4,'這是鳳山第二公有市場，是光復後民國初期的照片，...\n",
       "4     5,1-1-1000516-1-蘇炎城-5,'伊斯坦大﹒貝雅夫﹒正福議員：主席、陳市長、三位...\n",
       "...                                                 ...\n",
       "7291  7292,2-8-1071023-4-周玲妏-6,'周議員玲妏：好，謝謝。接下來一點點時間，...\n",
       "7292  7293,2-8-1071023-4-周玲妏-7,'另外一個部分包含停車的問題，這個也是我一...\n",
       "7293  7294,2-8-1071023-4-周玲妏-8,'我再補充一下剛提到坑洞的部分，我最近跟工...\n",
       "7294  7295,2-8-1071023-4-周玲妏-9,'其他的問題，老實說有些真的講起來有點複雜...\n",
       "7295  7296,2-8-1071023-4-周玲妏-10,'特色公園的部分，我們也都持續在努力，當...\n",
       "\n",
       "[7296 rows x 1 columns]"
      ]
     },
     "execution_count": 19,
     "metadata": {},
     "output_type": "execute_result"
    }
   ],
   "source": [
    "import pandas as pd \n",
    "#加 header=None 是要和pyhon說這個csv沒有欄位標頭\n",
    "#記得要用encoding='utf-8'讀檔，不然會有亂碼，\n",
    "df = pd.read_csv(\"CisPdf2CsvByIndivSeg.csv\", sep='delimiter', header=None, encoding='utf-8') #匯資料\n",
    "df"
   ]
  }
 ],
 "metadata": {
  "kernelspec": {
   "display_name": "Python 3",
   "language": "python",
   "name": "python3"
  },
  "language_info": {
   "codemirror_mode": {
    "name": "ipython",
    "version": 3
   },
   "file_extension": ".py",
   "mimetype": "text/x-python",
   "name": "python",
   "nbconvert_exporter": "python",
   "pygments_lexer": "ipython3",
   "version": "3.7.3"
  }
 },
 "nbformat": 4,
 "nbformat_minor": 2
}
