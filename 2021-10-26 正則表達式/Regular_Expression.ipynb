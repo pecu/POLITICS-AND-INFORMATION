{
 "cells": [
  {
   "cell_type": "markdown",
   "metadata": {},
   "source": [
    "# 正則表達式\n",
    "https://selflearningsuccess.com/python-regex/"
   ]
  },
  {
   "cell_type": "code",
   "execution_count": 1,
   "metadata": {},
   "outputs": [],
   "source": [
    "#匯入模組\n",
    "import re"
   ]
  },
  {
   "cell_type": "code",
   "execution_count": 2,
   "metadata": {},
   "outputs": [
    {
     "name": "stdout",
     "output_type": "stream",
     "text": [
      "<re.Match object; span=(12, 15), match='cat'>\n",
      "<re.Match object; span=(0, 3), match='dog'>\n"
     ]
    }
   ],
   "source": [
    "#尋找配對 - search\n",
    "pattern1 = \"cat\"\n",
    "pattern2 = \"dog\"\n",
    "string = \"dog runs to cat\"\n",
    "print(re.search(pattern1, string))\n",
    "print(re.search(pattern2, string))"
   ]
  },
  {
   "cell_type": "code",
   "execution_count": 3,
   "metadata": {},
   "outputs": [
    {
     "name": "stdout",
     "output_type": "stream",
     "text": [
      "<re.Match object; span=(4, 7), match='run'>\n",
      "None\n",
      "<re.Match object; span=(4, 7), match='run'>\n",
      "None\n",
      "<re.Match object; span=(4, 7), match='run'>\n"
     ]
    }
   ],
   "source": [
    "#考慮多種情況\n",
    "pattern3 = r\"r[au]n\"\n",
    "print(re.search(pattern3, string))\n",
    "\n",
    "#匹配更多種可能\n",
    "print(re.search(r\"r[A-Z]n\", string))\n",
    "print(re.search(r\"r[a-z]n\", string))\n",
    "print(re.search(r\"r[0-9]n\", string))\n",
    "print(re.search(r\"r[0-9a-z]n\", string))"
   ]
  },
  {
   "cell_type": "markdown",
   "metadata": {},
   "source": [
    "# 特殊字元符號\n",
    "- 空白 - s\n",
    "- 非空白 - S\n",
    "- 數字 - d\n",
    "- 非數字 - D\n",
    "- 開始 - ^\n",
    "- 結尾 - $"
   ]
  },
  {
   "cell_type": "code",
   "execution_count": 5,
   "metadata": {},
   "outputs": [
    {
     "name": "stdout",
     "output_type": "stream",
     "text": [
      "<re.Match object; span=(4, 7), match='r0n'>\n",
      "<re.Match object; span=(0, 3), match='run'>\n",
      "<re.Match object; span=(0, 3), match='r n'>\n",
      "<re.Match object; span=(4, 7), match='r0n'>\n",
      "<re.Match object; span=(4, 7), match='r0n'>\n"
     ]
    }
   ],
   "source": [
    "print(re.search(r\"r\\dn\", \"run r0n\"))\n",
    "print(re.search(r\"r\\Dn\", \"run r0n\"))\n",
    "\n",
    "print(re.search(r\"r\\sn\", \"r n r0n\"))\n",
    "print(re.search(r\"r\\Sn\", \"r n r0n\"))\n",
    "\n",
    "print(re.search(r\"r\\wn\", \"r n r0n\"))"
   ]
  },
  {
   "cell_type": "markdown",
   "metadata": {},
   "source": [
    "# 數量字元符號\n",
    "- 零次或多次 - *\n",
    "- 一次或多次 - +\n",
    "- 零次或一次 - ?\n",
    "- n次 - {n}"
   ]
  },
  {
   "cell_type": "code",
   "execution_count": 6,
   "metadata": {},
   "outputs": [
    {
     "name": "stdout",
     "output_type": "stream",
     "text": [
      "<re.Match object; span=(0, 3), match='aaa'>\n",
      "<re.Match object; span=(0, 0), match=''>\n",
      "<re.Match object; span=(0, 1), match='a'>\n",
      "<re.Match object; span=(0, 2), match='aa'>\n"
     ]
    }
   ],
   "source": [
    "# * : 零次或多次\n",
    "print(re.search(r\"a*\", \"aaab\"))\n",
    "print(re.search(r\"a*\", \"b\"))\n",
    "\n",
    "# ? : 零次或一次\n",
    "print(re.search(r\"a?\", \"aaab\"))\n",
    "\n",
    "# {n} : 指定n次\n",
    "print(re.search(r\"a{2}\", \"aaab\"))\n",
    "\n"
   ]
  },
  {
   "cell_type": "markdown",
   "metadata": {},
   "source": [
    "# 函式介紹\n",
    "- group : 返回群組，可賦予id名稱尋找\n",
    "- findall : 尋找所有匹配\n",
    "- sub : 替換字元\n",
    "- split : 拆開\n",
    "- compile : 包裝"
   ]
  },
  {
   "cell_type": "code",
   "execution_count": 7,
   "metadata": {},
   "outputs": [
    {
     "name": "stdout",
     "output_type": "stream",
     "text": [
      "08170000\n",
      "June/6/2021\n"
     ]
    }
   ],
   "source": [
    "#賦予 id 時 ，加入固定格式 \"?P<id名稱>\"\n",
    "match = re.search(r\"(?P<id>\\d+), Date: (?P<date>.+)\", \"ID:08170000, Date: June/6/2021\" )\n",
    "print(match.group('id'))\n",
    "print(match.group('date'))"
   ]
  },
  {
   "cell_type": "code",
   "execution_count": 8,
   "metadata": {},
   "outputs": [
    {
     "name": "stdout",
     "output_type": "stream",
     "text": [
      "['run', 'ran']\n",
      "['run', 'ran']\n"
     ]
    }
   ],
   "source": [
    "# re.findall() \n",
    "print(re.findall(r\"r[ua]n\",\"run ran ren \"))\n",
    "print(re.findall(r\"run|ran\",\"run ran ren \"))"
   ]
  },
  {
   "cell_type": "code",
   "execution_count": 9,
   "metadata": {},
   "outputs": [
    {
     "name": "stdout",
     "output_type": "stream",
     "text": [
      "dog catches to cat\n"
     ]
    }
   ],
   "source": [
    "# re.sub() \n",
    "print(re.sub(r\"r[au]ns\", \"catches\", \"dog runs to cat\"))"
   ]
  },
  {
   "cell_type": "code",
   "execution_count": 10,
   "metadata": {},
   "outputs": [
    {
     "name": "stdout",
     "output_type": "stream",
     "text": [
      "['a', 'b', 'c', 'd', 'e']\n"
     ]
    }
   ],
   "source": [
    "# re.split()\n",
    "print(re.split(r\"[,;\\.]\",\"a;b,c.d;e\"))"
   ]
  },
  {
   "cell_type": "code",
   "execution_count": 11,
   "metadata": {},
   "outputs": [
    {
     "name": "stdout",
     "output_type": "stream",
     "text": [
      "['run', 'ran']\n",
      "['a', 'b', 'c', 'd', 'e']\n"
     ]
    }
   ],
   "source": [
    "# re.compile()\n",
    "compile_re = re.compile(r\"r[ua]n\")\n",
    "print(compile_re.findall(\"run ran ren \"))\n",
    "\n",
    "compile_re_split = re.compile(r\"[,;\\.]\")\n",
    "print(compile_re_split.split(\"a;b,c.d;e\"))"
   ]
  },
  {
   "cell_type": "markdown",
   "metadata": {},
   "source": [
    "# 實戰練習"
   ]
  },
  {
   "cell_type": "code",
   "execution_count": 4,
   "metadata": {},
   "outputs": [
    {
     "data": {
      "text/plain": [
       "658"
      ]
     },
     "execution_count": 4,
     "metadata": {},
     "output_type": "execute_result"
    }
   ],
   "source": [
    "import pandas as pd\n",
    "fb = pd.read_csv('Xie.csv')\n",
    "len(fb)"
   ]
  },
  {
   "cell_type": "code",
   "execution_count": 5,
   "metadata": {},
   "outputs": [
    {
     "data": {
      "text/html": [
       "<div>\n",
       "<style scoped>\n",
       "    .dataframe tbody tr th:only-of-type {\n",
       "        vertical-align: middle;\n",
       "    }\n",
       "\n",
       "    .dataframe tbody tr th {\n",
       "        vertical-align: top;\n",
       "    }\n",
       "\n",
       "    .dataframe thead th {\n",
       "        text-align: right;\n",
       "    }\n",
       "</style>\n",
       "<table border=\"1\" class=\"dataframe\">\n",
       "  <thead>\n",
       "    <tr style=\"text-align: right;\">\n",
       "      <th></th>\n",
       "      <th>Unnamed: 0</th>\n",
       "      <th>post_id</th>\n",
       "      <th>page_id</th>\n",
       "      <th>page_name</th>\n",
       "      <th>page_category</th>\n",
       "      <th>message</th>\n",
       "      <th>story</th>\n",
       "      <th>type</th>\n",
       "      <th>permalink</th>\n",
       "      <th>created_time_gmt</th>\n",
       "      <th>...</th>\n",
       "      <th>link_name</th>\n",
       "      <th>link_description</th>\n",
       "      <th>like_count</th>\n",
       "      <th>haha_count</th>\n",
       "      <th>love_count</th>\n",
       "      <th>angry_count</th>\n",
       "      <th>sad_count</th>\n",
       "      <th>wow_count</th>\n",
       "      <th>comment_count</th>\n",
       "      <th>share_count</th>\n",
       "    </tr>\n",
       "  </thead>\n",
       "  <tbody>\n",
       "    <tr>\n",
       "      <th>0</th>\n",
       "      <td>6060</td>\n",
       "      <td>376687563131189_620555618744381</td>\n",
       "      <td>376687563131189</td>\n",
       "      <td>謝衣鳯</td>\n",
       "      <td>Politician</td>\n",
       "      <td>#衣鳯向第一線防疫人員致敬\\n#您們這段時間辛苦了\\n\\n但是一週2個口罩，\\n對於就醫民眾...</td>\n",
       "      <td>NaN</td>\n",
       "      <td>photo</td>\n",
       "      <td>https://www.facebook.com/376687563131189/posts...</td>\n",
       "      <td>2020-02-05T02:13:24+0000</td>\n",
       "      <td>...</td>\n",
       "      <td>NaN</td>\n",
       "      <td>#衣鳯向第一線防疫人員致敬\\n#您們這段時間辛苦了\\n\\n但是一週2個口罩，\\n對於就醫民眾...</td>\n",
       "      <td>2333</td>\n",
       "      <td>0</td>\n",
       "      <td>0</td>\n",
       "      <td>0</td>\n",
       "      <td>0</td>\n",
       "      <td>0</td>\n",
       "      <td>114</td>\n",
       "      <td>20</td>\n",
       "    </tr>\n",
       "    <tr>\n",
       "      <th>1</th>\n",
       "      <td>6061</td>\n",
       "      <td>376687563131189_619928418807101</td>\n",
       "      <td>376687563131189</td>\n",
       "      <td>謝衣鳯</td>\n",
       "      <td>Politician</td>\n",
       "      <td>#衣鳳關心身分證字號尾數0的朋友\\n\\n數學小學堂：\\n0可以被2整除\\n0可以被等分成兩份...</td>\n",
       "      <td>謝衣鳯 is at 立法院委員研究大樓.</td>\n",
       "      <td>album</td>\n",
       "      <td>https://www.facebook.com/376687563131189/posts...</td>\n",
       "      <td>2020-02-04T02:38:56+0000</td>\n",
       "      <td>...</td>\n",
       "      <td>Photos from 謝衣鳯's post</td>\n",
       "      <td>NaN</td>\n",
       "      <td>1616</td>\n",
       "      <td>0</td>\n",
       "      <td>0</td>\n",
       "      <td>0</td>\n",
       "      <td>0</td>\n",
       "      <td>0</td>\n",
       "      <td>95</td>\n",
       "      <td>25</td>\n",
       "    </tr>\n",
       "    <tr>\n",
       "      <th>2</th>\n",
       "      <td>6062</td>\n",
       "      <td>376687563131189_618887898911153</td>\n",
       "      <td>376687563131189</td>\n",
       "      <td>謝衣鳯</td>\n",
       "      <td>Politician</td>\n",
       "      <td>#解決不了兒童口罩\\n#只好延後開學時間\\n#雙薪家庭該怎麼辦？\\n\\n以下是幾個防範武漢肺...</td>\n",
       "      <td>NaN</td>\n",
       "      <td>photo</td>\n",
       "      <td>https://www.facebook.com/376687563131189/posts...</td>\n",
       "      <td>2020-02-02T12:21:03+0000</td>\n",
       "      <td>...</td>\n",
       "      <td>NaN</td>\n",
       "      <td>#解決不了兒童口罩\\n#只好延後開學時間\\n#雙薪家庭該怎麼辦？\\n\\n以下是幾個防範武漢肺...</td>\n",
       "      <td>1345</td>\n",
       "      <td>0</td>\n",
       "      <td>0</td>\n",
       "      <td>0</td>\n",
       "      <td>0</td>\n",
       "      <td>0</td>\n",
       "      <td>76</td>\n",
       "      <td>17</td>\n",
       "    </tr>\n",
       "    <tr>\n",
       "      <th>3</th>\n",
       "      <td>6063</td>\n",
       "      <td>376687563131189_618628752270401</td>\n",
       "      <td>376687563131189</td>\n",
       "      <td>謝衣鳯</td>\n",
       "      <td>Politician</td>\n",
       "      <td>#小帥哥比爸爸帥\\n#被蔣得立圈粉\\n#孩子們需要口罩\\n\\n行政院在全面徵用口罩後，全台每...</td>\n",
       "      <td>NaN</td>\n",
       "      <td>photo</td>\n",
       "      <td>https://www.facebook.com/376687563131189/posts...</td>\n",
       "      <td>2020-02-02T01:59:38+0000</td>\n",
       "      <td>...</td>\n",
       "      <td>NaN</td>\n",
       "      <td>#小帥哥比爸爸帥\\n#被蔣得立圈粉\\n#孩子們需要口罩\\n\\n行政院在全面徵用口罩後，全台每...</td>\n",
       "      <td>1659</td>\n",
       "      <td>0</td>\n",
       "      <td>0</td>\n",
       "      <td>0</td>\n",
       "      <td>0</td>\n",
       "      <td>0</td>\n",
       "      <td>52</td>\n",
       "      <td>21</td>\n",
       "    </tr>\n",
       "    <tr>\n",
       "      <th>4</th>\n",
       "      <td>6064</td>\n",
       "      <td>376687563131189_618105605656049</td>\n",
       "      <td>376687563131189</td>\n",
       "      <td>謝衣鳯</td>\n",
       "      <td>Politician</td>\n",
       "      <td>#感謝彰化鄉親的支持\\n#第一天開工馬不停蹄\\n#腰彎得越低做得越多</td>\n",
       "      <td>NaN</td>\n",
       "      <td>album</td>\n",
       "      <td>https://www.facebook.com/376687563131189/posts...</td>\n",
       "      <td>2020-02-01T07:43:49+0000</td>\n",
       "      <td>...</td>\n",
       "      <td>Photos from 謝衣鳯's post</td>\n",
       "      <td>NaN</td>\n",
       "      <td>4755</td>\n",
       "      <td>0</td>\n",
       "      <td>0</td>\n",
       "      <td>0</td>\n",
       "      <td>0</td>\n",
       "      <td>0</td>\n",
       "      <td>307</td>\n",
       "      <td>35</td>\n",
       "    </tr>\n",
       "  </tbody>\n",
       "</table>\n",
       "<p>5 rows × 22 columns</p>\n",
       "</div>"
      ],
      "text/plain": [
       "   Unnamed: 0                          post_id          page_id page_name  \\\n",
       "0        6060  376687563131189_620555618744381  376687563131189       謝衣鳯   \n",
       "1        6061  376687563131189_619928418807101  376687563131189       謝衣鳯   \n",
       "2        6062  376687563131189_618887898911153  376687563131189       謝衣鳯   \n",
       "3        6063  376687563131189_618628752270401  376687563131189       謝衣鳯   \n",
       "4        6064  376687563131189_618105605656049  376687563131189       謝衣鳯   \n",
       "\n",
       "  page_category                                            message  \\\n",
       "0    Politician  #衣鳯向第一線防疫人員致敬\\n#您們這段時間辛苦了\\n\\n但是一週2個口罩，\\n對於就醫民眾...   \n",
       "1    Politician  #衣鳳關心身分證字號尾數0的朋友\\n\\n數學小學堂：\\n0可以被2整除\\n0可以被等分成兩份...   \n",
       "2    Politician  #解決不了兒童口罩\\n#只好延後開學時間\\n#雙薪家庭該怎麼辦？\\n\\n以下是幾個防範武漢肺...   \n",
       "3    Politician  #小帥哥比爸爸帥\\n#被蔣得立圈粉\\n#孩子們需要口罩\\n\\n行政院在全面徵用口罩後，全台每...   \n",
       "4    Politician                 #感謝彰化鄉親的支持\\n#第一天開工馬不停蹄\\n#腰彎得越低做得越多   \n",
       "\n",
       "                  story   type  \\\n",
       "0                   NaN  photo   \n",
       "1  謝衣鳯 is at 立法院委員研究大樓.  album   \n",
       "2                   NaN  photo   \n",
       "3                   NaN  photo   \n",
       "4                   NaN  album   \n",
       "\n",
       "                                           permalink  \\\n",
       "0  https://www.facebook.com/376687563131189/posts...   \n",
       "1  https://www.facebook.com/376687563131189/posts...   \n",
       "2  https://www.facebook.com/376687563131189/posts...   \n",
       "3  https://www.facebook.com/376687563131189/posts...   \n",
       "4  https://www.facebook.com/376687563131189/posts...   \n",
       "\n",
       "           created_time_gmt  ...               link_name  \\\n",
       "0  2020-02-05T02:13:24+0000  ...                     NaN   \n",
       "1  2020-02-04T02:38:56+0000  ...  Photos from 謝衣鳯's post   \n",
       "2  2020-02-02T12:21:03+0000  ...                     NaN   \n",
       "3  2020-02-02T01:59:38+0000  ...                     NaN   \n",
       "4  2020-02-01T07:43:49+0000  ...  Photos from 謝衣鳯's post   \n",
       "\n",
       "                                    link_description like_count haha_count  \\\n",
       "0  #衣鳯向第一線防疫人員致敬\\n#您們這段時間辛苦了\\n\\n但是一週2個口罩，\\n對於就醫民眾...       2333          0   \n",
       "1                                                NaN       1616          0   \n",
       "2  #解決不了兒童口罩\\n#只好延後開學時間\\n#雙薪家庭該怎麼辦？\\n\\n以下是幾個防範武漢肺...       1345          0   \n",
       "3  #小帥哥比爸爸帥\\n#被蔣得立圈粉\\n#孩子們需要口罩\\n\\n行政院在全面徵用口罩後，全台每...       1659          0   \n",
       "4                                                NaN       4755          0   \n",
       "\n",
       "   love_count  angry_count  sad_count  wow_count  comment_count  share_count  \n",
       "0           0            0          0          0            114           20  \n",
       "1           0            0          0          0             95           25  \n",
       "2           0            0          0          0             76           17  \n",
       "3           0            0          0          0             52           21  \n",
       "4           0            0          0          0            307           35  \n",
       "\n",
       "[5 rows x 22 columns]"
      ]
     },
     "execution_count": 5,
     "metadata": {},
     "output_type": "execute_result"
    }
   ],
   "source": [
    "fb.head()"
   ]
  },
  {
   "cell_type": "code",
   "execution_count": 6,
   "metadata": {},
   "outputs": [],
   "source": [
    "# 建立 NER 自定義專有名詞辨識\n",
    "# 防疫相關: 口罩、武漢肺炎、疫情、covid、防疫\n",
    "# r'(口罩)|(防疫)|(武漢肺炎)|(疫情)|[Cc]ovid'\n",
    "# 謝衣鳳政見\n",
    "# 青年相關：青年、地方再生、職場"
   ]
  },
  {
   "cell_type": "markdown",
   "metadata": {},
   "source": [
    "https://regex101.com/"
   ]
  },
  {
   "cell_type": "markdown",
   "metadata": {},
   "source": [
    "http://eebulletin.cec.gov.tw/109/02%E5%8D%80%E5%9F%9F%E7%AB%8B%E6%B3%95%E5%A7%94%E5%93%A1/10%E5%BD%B0%E5%8C%96%E7%B8%A3/%E5%BD%B0%E5%8C%96%E7%B8%A3%E7%AB%8B%E5%A7%94%E7%AC%AC3.4%E9%81%B8%E8%88%89%E5%8D%80.pdf"
   ]
  },
  {
   "cell_type": "code",
   "execution_count": null,
   "metadata": {},
   "outputs": [],
   "source": [
    "# 用【紓困】來搜尋謝衣鳳臉書相關發文\n",
    "bool = fb['message'].str.contains('紓困')\n",
    "bool.value_counts()"
   ]
  },
  {
   "cell_type": "code",
   "execution_count": 23,
   "metadata": {},
   "outputs": [
    {
     "data": {
      "text/plain": [
       "'#衣鳯向第一線防疫人員致敬\\n#您們這段時間辛苦了\\n\\n但是一週2個口罩，\\n對於就醫民眾及陪同家屬真是杯水車薪，院長不是曾保證國內有足夠的口罩？\\n衷心建議：\\n1. 行政院公開透明公布國內口罩數量\\n    每天有多少、徵用多少、如何分配\\n2. 根據需求（民眾就診單或處方箋）提供口罩\\n3. 徹查並重罰囤積口罩\\n\\n#勤洗手不觸眼口鼻遠離病毒'"
      ]
     },
     "execution_count": 23,
     "metadata": {},
     "output_type": "execute_result"
    }
   ],
   "source": [
    "fb['message'][0]"
   ]
  },
  {
   "cell_type": "code",
   "execution_count": 11,
   "metadata": {},
   "outputs": [
    {
     "name": "stdout",
     "output_type": "stream",
     "text": [
      "0\n"
     ]
    }
   ],
   "source": [
    "print(len(re.findall(r'(口罩)|(防疫)|(武漢肺炎)|(疫情)|[Cc]ovid', fb['message'][4])))"
   ]
  },
  {
   "cell_type": "code",
   "execution_count": 12,
   "metadata": {},
   "outputs": [
    {
     "data": {
      "text/plain": [
       "[]"
      ]
     },
     "execution_count": 12,
     "metadata": {},
     "output_type": "execute_result"
    }
   ],
   "source": [
    "re.findall(r'(口罩)|(防疫)|(武漢肺炎)|(疫情)|[Cc]ovid', fb['message'][4])"
   ]
  },
  {
   "cell_type": "code",
   "execution_count": 19,
   "metadata": {},
   "outputs": [
    {
     "data": {
      "text/plain": [
       "True"
      ]
     },
     "execution_count": 19,
     "metadata": {},
     "output_type": "execute_result"
    }
   ],
   "source": [
    "pd.isna(fb['message'][47])"
   ]
  },
  {
   "cell_type": "code",
   "execution_count": 21,
   "metadata": {},
   "outputs": [
    {
     "data": {
      "text/plain": [
       "'photo'"
      ]
     },
     "execution_count": 21,
     "metadata": {},
     "output_type": "execute_result"
    }
   ],
   "source": [
    "fb['type'][47]"
   ]
  },
  {
   "cell_type": "code",
   "execution_count": 29,
   "metadata": {},
   "outputs": [],
   "source": [
    "temp = []\n",
    "for i in range(0,len(fb)):    \n",
    "    if( pd.isna(fb['message'][i]) == True ):\n",
    "        temp.append(\"不存在文字\")\n",
    "    else:\n",
    "        try:\n",
    "            if( len(re.findall(r'(口罩)|(防疫)|(武漢肺炎)|(疫情)|[Cc]ovid|(洗手)|(疫苗)', fb['message'][i])) > 0 ):\n",
    "                temp.append(\"防疫相關\")\n",
    "            elif( len(re.findall(r'(青年)|(地方再生)|(職場)', fb['message'][i])) > 0 ):\n",
    "                temp.append(\"青年返鄉\")\n",
    "            elif( len(re.findall(r'(生態)|(東螺溪)|(農業)|(溪湖)|(埔鹽)|(二林)', fb['message'][i])) > 0 ):\n",
    "                temp.append(\"生態復育\")\n",
    "            elif( len(re.findall(r'(教育)|(長照)|(偏遠)|(偏鄉)', fb['message'][i])) > 0 ):\n",
    "                temp.append(\"教育長照\")\n",
    "            else:\n",
    "                temp.append(\"與政見無關\")\n",
    "        except ValueError:\n",
    "            print(fb['message'][i])\n",
    "            print(i)\n",
    "fb['NER'] = temp"
   ]
  },
  {
   "cell_type": "code",
   "execution_count": 30,
   "metadata": {},
   "outputs": [
    {
     "data": {
      "text/html": [
       "<div>\n",
       "<style scoped>\n",
       "    .dataframe tbody tr th:only-of-type {\n",
       "        vertical-align: middle;\n",
       "    }\n",
       "\n",
       "    .dataframe tbody tr th {\n",
       "        vertical-align: top;\n",
       "    }\n",
       "\n",
       "    .dataframe thead th {\n",
       "        text-align: right;\n",
       "    }\n",
       "</style>\n",
       "<table border=\"1\" class=\"dataframe\">\n",
       "  <thead>\n",
       "    <tr style=\"text-align: right;\">\n",
       "      <th></th>\n",
       "      <th>Unnamed: 0</th>\n",
       "      <th>post_id</th>\n",
       "      <th>page_id</th>\n",
       "      <th>page_name</th>\n",
       "      <th>page_category</th>\n",
       "      <th>message</th>\n",
       "      <th>story</th>\n",
       "      <th>type</th>\n",
       "      <th>permalink</th>\n",
       "      <th>created_time_gmt</th>\n",
       "      <th>...</th>\n",
       "      <th>link_description</th>\n",
       "      <th>like_count</th>\n",
       "      <th>haha_count</th>\n",
       "      <th>love_count</th>\n",
       "      <th>angry_count</th>\n",
       "      <th>sad_count</th>\n",
       "      <th>wow_count</th>\n",
       "      <th>comment_count</th>\n",
       "      <th>share_count</th>\n",
       "      <th>NER</th>\n",
       "    </tr>\n",
       "  </thead>\n",
       "  <tbody>\n",
       "    <tr>\n",
       "      <th>0</th>\n",
       "      <td>6060</td>\n",
       "      <td>376687563131189_620555618744381</td>\n",
       "      <td>376687563131189</td>\n",
       "      <td>謝衣鳯</td>\n",
       "      <td>Politician</td>\n",
       "      <td>#衣鳯向第一線防疫人員致敬\\n#您們這段時間辛苦了\\n\\n但是一週2個口罩，\\n對於就醫民眾...</td>\n",
       "      <td>NaN</td>\n",
       "      <td>photo</td>\n",
       "      <td>https://www.facebook.com/376687563131189/posts...</td>\n",
       "      <td>2020-02-05T02:13:24+0000</td>\n",
       "      <td>...</td>\n",
       "      <td>#衣鳯向第一線防疫人員致敬\\n#您們這段時間辛苦了\\n\\n但是一週2個口罩，\\n對於就醫民眾...</td>\n",
       "      <td>2333</td>\n",
       "      <td>0</td>\n",
       "      <td>0</td>\n",
       "      <td>0</td>\n",
       "      <td>0</td>\n",
       "      <td>0</td>\n",
       "      <td>114</td>\n",
       "      <td>20</td>\n",
       "      <td>防疫相關</td>\n",
       "    </tr>\n",
       "    <tr>\n",
       "      <th>1</th>\n",
       "      <td>6061</td>\n",
       "      <td>376687563131189_619928418807101</td>\n",
       "      <td>376687563131189</td>\n",
       "      <td>謝衣鳯</td>\n",
       "      <td>Politician</td>\n",
       "      <td>#衣鳳關心身分證字號尾數0的朋友\\n\\n數學小學堂：\\n0可以被2整除\\n0可以被等分成兩份...</td>\n",
       "      <td>謝衣鳯 is at 立法院委員研究大樓.</td>\n",
       "      <td>album</td>\n",
       "      <td>https://www.facebook.com/376687563131189/posts...</td>\n",
       "      <td>2020-02-04T02:38:56+0000</td>\n",
       "      <td>...</td>\n",
       "      <td>NaN</td>\n",
       "      <td>1616</td>\n",
       "      <td>0</td>\n",
       "      <td>0</td>\n",
       "      <td>0</td>\n",
       "      <td>0</td>\n",
       "      <td>0</td>\n",
       "      <td>95</td>\n",
       "      <td>25</td>\n",
       "      <td>防疫相關</td>\n",
       "    </tr>\n",
       "    <tr>\n",
       "      <th>2</th>\n",
       "      <td>6062</td>\n",
       "      <td>376687563131189_618887898911153</td>\n",
       "      <td>376687563131189</td>\n",
       "      <td>謝衣鳯</td>\n",
       "      <td>Politician</td>\n",
       "      <td>#解決不了兒童口罩\\n#只好延後開學時間\\n#雙薪家庭該怎麼辦？\\n\\n以下是幾個防範武漢肺...</td>\n",
       "      <td>NaN</td>\n",
       "      <td>photo</td>\n",
       "      <td>https://www.facebook.com/376687563131189/posts...</td>\n",
       "      <td>2020-02-02T12:21:03+0000</td>\n",
       "      <td>...</td>\n",
       "      <td>#解決不了兒童口罩\\n#只好延後開學時間\\n#雙薪家庭該怎麼辦？\\n\\n以下是幾個防範武漢肺...</td>\n",
       "      <td>1345</td>\n",
       "      <td>0</td>\n",
       "      <td>0</td>\n",
       "      <td>0</td>\n",
       "      <td>0</td>\n",
       "      <td>0</td>\n",
       "      <td>76</td>\n",
       "      <td>17</td>\n",
       "      <td>防疫相關</td>\n",
       "    </tr>\n",
       "    <tr>\n",
       "      <th>3</th>\n",
       "      <td>6063</td>\n",
       "      <td>376687563131189_618628752270401</td>\n",
       "      <td>376687563131189</td>\n",
       "      <td>謝衣鳯</td>\n",
       "      <td>Politician</td>\n",
       "      <td>#小帥哥比爸爸帥\\n#被蔣得立圈粉\\n#孩子們需要口罩\\n\\n行政院在全面徵用口罩後，全台每...</td>\n",
       "      <td>NaN</td>\n",
       "      <td>photo</td>\n",
       "      <td>https://www.facebook.com/376687563131189/posts...</td>\n",
       "      <td>2020-02-02T01:59:38+0000</td>\n",
       "      <td>...</td>\n",
       "      <td>#小帥哥比爸爸帥\\n#被蔣得立圈粉\\n#孩子們需要口罩\\n\\n行政院在全面徵用口罩後，全台每...</td>\n",
       "      <td>1659</td>\n",
       "      <td>0</td>\n",
       "      <td>0</td>\n",
       "      <td>0</td>\n",
       "      <td>0</td>\n",
       "      <td>0</td>\n",
       "      <td>52</td>\n",
       "      <td>21</td>\n",
       "      <td>防疫相關</td>\n",
       "    </tr>\n",
       "    <tr>\n",
       "      <th>4</th>\n",
       "      <td>6064</td>\n",
       "      <td>376687563131189_618105605656049</td>\n",
       "      <td>376687563131189</td>\n",
       "      <td>謝衣鳯</td>\n",
       "      <td>Politician</td>\n",
       "      <td>#感謝彰化鄉親的支持\\n#第一天開工馬不停蹄\\n#腰彎得越低做得越多</td>\n",
       "      <td>NaN</td>\n",
       "      <td>album</td>\n",
       "      <td>https://www.facebook.com/376687563131189/posts...</td>\n",
       "      <td>2020-02-01T07:43:49+0000</td>\n",
       "      <td>...</td>\n",
       "      <td>NaN</td>\n",
       "      <td>4755</td>\n",
       "      <td>0</td>\n",
       "      <td>0</td>\n",
       "      <td>0</td>\n",
       "      <td>0</td>\n",
       "      <td>0</td>\n",
       "      <td>307</td>\n",
       "      <td>35</td>\n",
       "      <td>與政見無關</td>\n",
       "    </tr>\n",
       "  </tbody>\n",
       "</table>\n",
       "<p>5 rows × 23 columns</p>\n",
       "</div>"
      ],
      "text/plain": [
       "   Unnamed: 0                          post_id          page_id page_name  \\\n",
       "0        6060  376687563131189_620555618744381  376687563131189       謝衣鳯   \n",
       "1        6061  376687563131189_619928418807101  376687563131189       謝衣鳯   \n",
       "2        6062  376687563131189_618887898911153  376687563131189       謝衣鳯   \n",
       "3        6063  376687563131189_618628752270401  376687563131189       謝衣鳯   \n",
       "4        6064  376687563131189_618105605656049  376687563131189       謝衣鳯   \n",
       "\n",
       "  page_category                                            message  \\\n",
       "0    Politician  #衣鳯向第一線防疫人員致敬\\n#您們這段時間辛苦了\\n\\n但是一週2個口罩，\\n對於就醫民眾...   \n",
       "1    Politician  #衣鳳關心身分證字號尾數0的朋友\\n\\n數學小學堂：\\n0可以被2整除\\n0可以被等分成兩份...   \n",
       "2    Politician  #解決不了兒童口罩\\n#只好延後開學時間\\n#雙薪家庭該怎麼辦？\\n\\n以下是幾個防範武漢肺...   \n",
       "3    Politician  #小帥哥比爸爸帥\\n#被蔣得立圈粉\\n#孩子們需要口罩\\n\\n行政院在全面徵用口罩後，全台每...   \n",
       "4    Politician                 #感謝彰化鄉親的支持\\n#第一天開工馬不停蹄\\n#腰彎得越低做得越多   \n",
       "\n",
       "                  story   type  \\\n",
       "0                   NaN  photo   \n",
       "1  謝衣鳯 is at 立法院委員研究大樓.  album   \n",
       "2                   NaN  photo   \n",
       "3                   NaN  photo   \n",
       "4                   NaN  album   \n",
       "\n",
       "                                           permalink  \\\n",
       "0  https://www.facebook.com/376687563131189/posts...   \n",
       "1  https://www.facebook.com/376687563131189/posts...   \n",
       "2  https://www.facebook.com/376687563131189/posts...   \n",
       "3  https://www.facebook.com/376687563131189/posts...   \n",
       "4  https://www.facebook.com/376687563131189/posts...   \n",
       "\n",
       "           created_time_gmt  ...  \\\n",
       "0  2020-02-05T02:13:24+0000  ...   \n",
       "1  2020-02-04T02:38:56+0000  ...   \n",
       "2  2020-02-02T12:21:03+0000  ...   \n",
       "3  2020-02-02T01:59:38+0000  ...   \n",
       "4  2020-02-01T07:43:49+0000  ...   \n",
       "\n",
       "                                    link_description like_count haha_count  \\\n",
       "0  #衣鳯向第一線防疫人員致敬\\n#您們這段時間辛苦了\\n\\n但是一週2個口罩，\\n對於就醫民眾...       2333          0   \n",
       "1                                                NaN       1616          0   \n",
       "2  #解決不了兒童口罩\\n#只好延後開學時間\\n#雙薪家庭該怎麼辦？\\n\\n以下是幾個防範武漢肺...       1345          0   \n",
       "3  #小帥哥比爸爸帥\\n#被蔣得立圈粉\\n#孩子們需要口罩\\n\\n行政院在全面徵用口罩後，全台每...       1659          0   \n",
       "4                                                NaN       4755          0   \n",
       "\n",
       "  love_count  angry_count  sad_count  wow_count  comment_count  share_count  \\\n",
       "0          0            0          0          0            114           20   \n",
       "1          0            0          0          0             95           25   \n",
       "2          0            0          0          0             76           17   \n",
       "3          0            0          0          0             52           21   \n",
       "4          0            0          0          0            307           35   \n",
       "\n",
       "     NER  \n",
       "0   防疫相關  \n",
       "1   防疫相關  \n",
       "2   防疫相關  \n",
       "3   防疫相關  \n",
       "4  與政見無關  \n",
       "\n",
       "[5 rows x 23 columns]"
      ]
     },
     "execution_count": 30,
     "metadata": {},
     "output_type": "execute_result"
    }
   ],
   "source": [
    "fb.head()"
   ]
  },
  {
   "cell_type": "code",
   "execution_count": 31,
   "metadata": {},
   "outputs": [
    {
     "data": {
      "application/vnd.plotly.v1+json": {
       "config": {
        "plotlyServerURL": "https://plot.ly"
       },
       "data": [
        {
         "alignmentgroup": "True",
         "hovertemplate": "NER=%{x}<br>count=%{y}<extra></extra>",
         "legendgroup": "",
         "marker": {
          "color": "#636efa",
          "pattern": {
           "shape": ""
          }
         },
         "name": "",
         "offsetgroup": "",
         "orientation": "v",
         "showlegend": false,
         "textposition": "auto",
         "type": "bar",
         "x": [
          "防疫相關",
          "防疫相關",
          "防疫相關",
          "防疫相關",
          "與政見無關",
          "生態復育",
          "防疫相關",
          "與政見無關",
          "防疫相關",
          "防疫相關",
          "防疫相關",
          "與政見無關",
          "與政見無關",
          "與政見無關",
          "與政見無關",
          "防疫相關",
          "與政見無關",
          "與政見無關",
          "防疫相關",
          "防疫相關",
          "防疫相關",
          "生態復育",
          "防疫相關",
          "與政見無關",
          "生態復育",
          "青年返鄉",
          "防疫相關",
          "與政見無關",
          "防疫相關",
          "防疫相關",
          "與政見無關",
          "防疫相關",
          "與政見無關",
          "防疫相關",
          "防疫相關",
          "防疫相關",
          "與政見無關",
          "生態復育",
          "生態復育",
          "防疫相關",
          "生態復育",
          "防疫相關",
          "防疫相關",
          "防疫相關",
          "生態復育",
          "防疫相關",
          "防疫相關",
          "不存在文字",
          "防疫相關",
          "防疫相關",
          "防疫相關",
          "與政見無關",
          "與政見無關",
          "與政見無關",
          "與政見無關",
          "生態復育",
          "防疫相關",
          "防疫相關",
          "與政見無關",
          "與政見無關",
          "生態復育",
          "與政見無關",
          "防疫相關",
          "防疫相關",
          "防疫相關",
          "防疫相關",
          "與政見無關",
          "防疫相關",
          "防疫相關",
          "防疫相關",
          "與政見無關",
          "防疫相關",
          "防疫相關",
          "防疫相關",
          "防疫相關",
          "防疫相關",
          "防疫相關",
          "與政見無關",
          "生態復育",
          "青年返鄉",
          "防疫相關",
          "防疫相關",
          "防疫相關",
          "防疫相關",
          "防疫相關",
          "防疫相關",
          "與政見無關",
          "生態復育",
          "與政見無關",
          "與政見無關",
          "與政見無關",
          "防疫相關",
          "防疫相關",
          "防疫相關",
          "防疫相關",
          "防疫相關",
          "防疫相關",
          "防疫相關",
          "防疫相關",
          "與政見無關",
          "防疫相關",
          "防疫相關",
          "防疫相關",
          "防疫相關",
          "與政見無關",
          "防疫相關",
          "防疫相關",
          "防疫相關",
          "防疫相關",
          "與政見無關",
          "防疫相關",
          "防疫相關",
          "防疫相關",
          "防疫相關",
          "防疫相關",
          "防疫相關",
          "防疫相關",
          "與政見無關",
          "防疫相關",
          "防疫相關",
          "與政見無關",
          "生態復育",
          "防疫相關",
          "與政見無關",
          "與政見無關",
          "防疫相關",
          "與政見無關",
          "與政見無關",
          "與政見無關",
          "與政見無關",
          "防疫相關",
          "防疫相關",
          "防疫相關",
          "防疫相關",
          "與政見無關",
          "防疫相關",
          "防疫相關",
          "防疫相關",
          "與政見無關",
          "防疫相關",
          "防疫相關",
          "與政見無關",
          "與政見無關",
          "與政見無關",
          "與政見無關",
          "防疫相關",
          "與政見無關",
          "防疫相關",
          "與政見無關",
          "生態復育",
          "防疫相關",
          "不存在文字",
          "防疫相關",
          "與政見無關",
          "與政見無關",
          "與政見無關",
          "與政見無關",
          "防疫相關",
          "生態復育",
          "與政見無關",
          "與政見無關",
          "防疫相關",
          "青年返鄉",
          "與政見無關",
          "生態復育",
          "防疫相關",
          "與政見無關",
          "與政見無關",
          "防疫相關",
          "防疫相關",
          "防疫相關",
          "與政見無關",
          "生態復育",
          "生態復育",
          "與政見無關",
          "生態復育",
          "防疫相關",
          "防疫相關",
          "與政見無關",
          "生態復育",
          "防疫相關",
          "與政見無關",
          "生態復育",
          "與政見無關",
          "與政見無關",
          "與政見無關",
          "與政見無關",
          "防疫相關",
          "生態復育",
          "防疫相關",
          "生態復育",
          "與政見無關",
          "與政見無關",
          "防疫相關",
          "與政見無關",
          "與政見無關",
          "與政見無關",
          "生態復育",
          "生態復育",
          "生態復育",
          "與政見無關",
          "與政見無關",
          "生態復育",
          "與政見無關",
          "防疫相關",
          "與政見無關",
          "生態復育",
          "與政見無關",
          "防疫相關",
          "生態復育",
          "與政見無關",
          "與政見無關",
          "與政見無關",
          "與政見無關",
          "與政見無關",
          "防疫相關",
          "防疫相關",
          "與政見無關",
          "與政見無關",
          "與政見無關",
          "生態復育",
          "與政見無關",
          "防疫相關",
          "與政見無關",
          "與政見無關",
          "與政見無關",
          "青年返鄉",
          "防疫相關",
          "與政見無關",
          "與政見無關",
          "與政見無關",
          "防疫相關",
          "與政見無關",
          "生態復育",
          "與政見無關",
          "防疫相關",
          "與政見無關",
          "防疫相關",
          "與政見無關",
          "與政見無關",
          "與政見無關",
          "生態復育",
          "與政見無關",
          "與政見無關",
          "與政見無關",
          "防疫相關",
          "生態復育",
          "與政見無關",
          "與政見無關",
          "生態復育",
          "防疫相關",
          "生態復育",
          "生態復育",
          "與政見無關",
          "防疫相關",
          "防疫相關",
          "與政見無關",
          "與政見無關",
          "與政見無關",
          "與政見無關",
          "與政見無關",
          "生態復育",
          "與政見無關",
          "與政見無關",
          "防疫相關",
          "防疫相關",
          "防疫相關",
          "與政見無關",
          "與政見無關",
          "防疫相關",
          "生態復育",
          "教育長照",
          "與政見無關",
          "與政見無關",
          "教育長照",
          "與政見無關",
          "與政見無關",
          "與政見無關",
          "與政見無關",
          "與政見無關",
          "與政見無關",
          "防疫相關",
          "生態復育",
          "與政見無關",
          "與政見無關",
          "與政見無關",
          "生態復育",
          "生態復育",
          "與政見無關",
          "與政見無關",
          "生態復育",
          "生態復育",
          "與政見無關",
          "生態復育",
          "與政見無關",
          "與政見無關",
          "與政見無關",
          "防疫相關",
          "與政見無關",
          "青年返鄉",
          "與政見無關",
          "與政見無關",
          "與政見無關",
          "與政見無關",
          "與政見無關",
          "與政見無關",
          "生態復育",
          "與政見無關",
          "與政見無關",
          "防疫相關",
          "與政見無關",
          "與政見無關",
          "與政見無關",
          "教育長照",
          "與政見無關",
          "防疫相關",
          "與政見無關",
          "生態復育",
          "生態復育",
          "與政見無關",
          "與政見無關",
          "與政見無關",
          "生態復育",
          "與政見無關",
          "與政見無關",
          "與政見無關",
          "與政見無關",
          "生態復育",
          "與政見無關",
          "與政見無關",
          "與政見無關",
          "與政見無關",
          "與政見無關",
          "與政見無關",
          "與政見無關",
          "生態復育",
          "與政見無關",
          "與政見無關",
          "與政見無關",
          "生態復育",
          "與政見無關",
          "生態復育",
          "與政見無關",
          "生態復育",
          "與政見無關",
          "與政見無關",
          "生態復育",
          "與政見無關",
          "與政見無關",
          "與政見無關",
          "與政見無關",
          "與政見無關",
          "與政見無關",
          "與政見無關",
          "生態復育",
          "防疫相關",
          "與政見無關",
          "防疫相關",
          "教育長照",
          "與政見無關",
          "生態復育",
          "與政見無關",
          "與政見無關",
          "與政見無關",
          "與政見無關",
          "與政見無關",
          "與政見無關",
          "防疫相關",
          "與政見無關",
          "生態復育",
          "與政見無關",
          "與政見無關",
          "與政見無關",
          "與政見無關",
          "與政見無關",
          "防疫相關",
          "與政見無關",
          "與政見無關",
          "與政見無關",
          "與政見無關",
          "生態復育",
          "與政見無關",
          "與政見無關",
          "與政見無關",
          "與政見無關",
          "與政見無關",
          "生態復育",
          "與政見無關",
          "防疫相關",
          "與政見無關",
          "與政見無關",
          "與政見無關",
          "教育長照",
          "與政見無關",
          "與政見無關",
          "與政見無關",
          "防疫相關",
          "生態復育",
          "生態復育",
          "教育長照",
          "生態復育",
          "與政見無關",
          "與政見無關",
          "與政見無關",
          "生態復育",
          "與政見無關",
          "與政見無關",
          "與政見無關",
          "與政見無關",
          "與政見無關",
          "與政見無關",
          "與政見無關",
          "與政見無關",
          "與政見無關",
          "生態復育",
          "教育長照",
          "與政見無關",
          "防疫相關",
          "與政見無關",
          "與政見無關",
          "與政見無關",
          "不存在文字",
          "與政見無關",
          "防疫相關",
          "防疫相關",
          "與政見無關",
          "生態復育",
          "與政見無關",
          "青年返鄉",
          "與政見無關",
          "與政見無關",
          "與政見無關",
          "與政見無關",
          "與政見無關",
          "生態復育",
          "防疫相關",
          "與政見無關",
          "與政見無關",
          "與政見無關",
          "與政見無關",
          "生態復育",
          "與政見無關",
          "生態復育",
          "教育長照",
          "防疫相關",
          "與政見無關",
          "與政見無關",
          "與政見無關",
          "生態復育",
          "與政見無關",
          "生態復育",
          "防疫相關",
          "生態復育",
          "生態復育",
          "防疫相關",
          "生態復育",
          "生態復育",
          "生態復育",
          "防疫相關",
          "防疫相關",
          "防疫相關",
          "防疫相關",
          "青年返鄉",
          "生態復育",
          "防疫相關",
          "生態復育",
          "與政見無關",
          "與政見無關",
          "與政見無關",
          "與政見無關",
          "與政見無關",
          "與政見無關",
          "與政見無關",
          "與政見無關",
          "與政見無關",
          "與政見無關",
          "與政見無關",
          "與政見無關",
          "與政見無關",
          "不存在文字",
          "生態復育",
          "防疫相關",
          "防疫相關",
          "不存在文字",
          "生態復育",
          "與政見無關",
          "與政見無關",
          "防疫相關",
          "防疫相關",
          "與政見無關",
          "與政見無關",
          "與政見無關",
          "與政見無關",
          "生態復育",
          "生態復育",
          "生態復育",
          "與政見無關",
          "與政見無關",
          "與政見無關",
          "防疫相關",
          "與政見無關",
          "與政見無關",
          "與政見無關",
          "與政見無關",
          "與政見無關",
          "生態復育",
          "防疫相關",
          "與政見無關",
          "與政見無關",
          "與政見無關",
          "與政見無關",
          "青年返鄉",
          "與政見無關",
          "生態復育",
          "與政見無關",
          "與政見無關",
          "生態復育",
          "防疫相關",
          "與政見無關",
          "與政見無關",
          "生態復育",
          "與政見無關",
          "與政見無關",
          "與政見無關",
          "與政見無關",
          "與政見無關",
          "教育長照",
          "與政見無關",
          "與政見無關",
          "與政見無關",
          "生態復育",
          "生態復育",
          "與政見無關",
          "與政見無關",
          "與政見無關",
          "與政見無關",
          "與政見無關",
          "與政見無關",
          "生態復育",
          "與政見無關",
          "生態復育",
          "與政見無關",
          "與政見無關",
          "與政見無關",
          "與政見無關",
          "與政見無關",
          "與政見無關",
          "與政見無關",
          "與政見無關",
          "與政見無關",
          "與政見無關",
          "與政見無關",
          "與政見無關",
          "與政見無關",
          "與政見無關",
          "與政見無關",
          "與政見無關",
          "青年返鄉",
          "與政見無關",
          "生態復育",
          "與政見無關",
          "與政見無關",
          "與政見無關",
          "生態復育",
          "生態復育",
          "生態復育",
          "防疫相關",
          "與政見無關",
          "與政見無關",
          "與政見無關",
          "生態復育",
          "與政見無關",
          "生態復育",
          "防疫相關",
          "防疫相關",
          "防疫相關",
          "防疫相關",
          "生態復育",
          "與政見無關",
          "防疫相關",
          "防疫相關",
          "防疫相關",
          "與政見無關",
          "防疫相關",
          "防疫相關",
          "與政見無關",
          "與政見無關",
          "與政見無關",
          "防疫相關",
          "防疫相關",
          "與政見無關",
          "防疫相關",
          "與政見無關",
          "與政見無關",
          "防疫相關",
          "與政見無關",
          "與政見無關",
          "防疫相關",
          "防疫相關",
          "防疫相關",
          "防疫相關",
          "與政見無關",
          "防疫相關",
          "防疫相關",
          "防疫相關",
          "防疫相關",
          "防疫相關",
          "防疫相關",
          "與政見無關",
          "防疫相關",
          "與政見無關",
          "防疫相關",
          "防疫相關",
          "防疫相關",
          "防疫相關",
          "防疫相關",
          "防疫相關",
          "防疫相關",
          "防疫相關",
          "防疫相關",
          "防疫相關",
          "防疫相關",
          "防疫相關",
          "防疫相關",
          "防疫相關",
          "與政見無關",
          "防疫相關",
          "防疫相關",
          "防疫相關",
          "防疫相關",
          "防疫相關",
          "防疫相關",
          "防疫相關",
          "防疫相關",
          "與政見無關",
          "與政見無關",
          "與政見無關",
          "防疫相關",
          "與政見無關",
          "防疫相關",
          "教育長照",
          "與政見無關",
          "與政見無關",
          "與政見無關",
          "與政見無關",
          "教育長照",
          "與政見無關",
          "生態復育",
          "防疫相關",
          "與政見無關",
          "生態復育",
          "生態復育",
          "生態復育",
          "防疫相關",
          "防疫相關",
          "防疫相關",
          "與政見無關",
          "防疫相關"
         ],
         "xaxis": "x",
         "y": [
          1,
          1,
          1,
          1,
          1,
          1,
          1,
          1,
          1,
          1,
          1,
          1,
          1,
          1,
          1,
          1,
          1,
          1,
          1,
          1,
          1,
          1,
          1,
          1,
          1,
          1,
          1,
          1,
          1,
          1,
          1,
          1,
          1,
          1,
          1,
          1,
          1,
          1,
          1,
          1,
          1,
          1,
          1,
          1,
          1,
          1,
          1,
          1,
          1,
          1,
          1,
          1,
          1,
          1,
          1,
          1,
          1,
          1,
          1,
          1,
          1,
          1,
          1,
          1,
          1,
          1,
          1,
          1,
          1,
          1,
          1,
          1,
          1,
          1,
          1,
          1,
          1,
          1,
          1,
          1,
          1,
          1,
          1,
          1,
          1,
          1,
          1,
          1,
          1,
          1,
          1,
          1,
          1,
          1,
          1,
          1,
          1,
          1,
          1,
          1,
          1,
          1,
          1,
          1,
          1,
          1,
          1,
          1,
          1,
          1,
          1,
          1,
          1,
          1,
          1,
          1,
          1,
          1,
          1,
          1,
          1,
          1,
          1,
          1,
          1,
          1,
          1,
          1,
          1,
          1,
          1,
          1,
          1,
          1,
          1,
          1,
          1,
          1,
          1,
          1,
          1,
          1,
          1,
          1,
          1,
          1,
          1,
          1,
          1,
          1,
          1,
          1,
          1,
          1,
          1,
          1,
          1,
          1,
          1,
          1,
          1,
          1,
          1,
          1,
          1,
          1,
          1,
          1,
          1,
          1,
          1,
          1,
          1,
          1,
          1,
          1,
          1,
          1,
          1,
          1,
          1,
          1,
          1,
          1,
          1,
          1,
          1,
          1,
          1,
          1,
          1,
          1,
          1,
          1,
          1,
          1,
          1,
          1,
          1,
          1,
          1,
          1,
          1,
          1,
          1,
          1,
          1,
          1,
          1,
          1,
          1,
          1,
          1,
          1,
          1,
          1,
          1,
          1,
          1,
          1,
          1,
          1,
          1,
          1,
          1,
          1,
          1,
          1,
          1,
          1,
          1,
          1,
          1,
          1,
          1,
          1,
          1,
          1,
          1,
          1,
          1,
          1,
          1,
          1,
          1,
          1,
          1,
          1,
          1,
          1,
          1,
          1,
          1,
          1,
          1,
          1,
          1,
          1,
          1,
          1,
          1,
          1,
          1,
          1,
          1,
          1,
          1,
          1,
          1,
          1,
          1,
          1,
          1,
          1,
          1,
          1,
          1,
          1,
          1,
          1,
          1,
          1,
          1,
          1,
          1,
          1,
          1,
          1,
          1,
          1,
          1,
          1,
          1,
          1,
          1,
          1,
          1,
          1,
          1,
          1,
          1,
          1,
          1,
          1,
          1,
          1,
          1,
          1,
          1,
          1,
          1,
          1,
          1,
          1,
          1,
          1,
          1,
          1,
          1,
          1,
          1,
          1,
          1,
          1,
          1,
          1,
          1,
          1,
          1,
          1,
          1,
          1,
          1,
          1,
          1,
          1,
          1,
          1,
          1,
          1,
          1,
          1,
          1,
          1,
          1,
          1,
          1,
          1,
          1,
          1,
          1,
          1,
          1,
          1,
          1,
          1,
          1,
          1,
          1,
          1,
          1,
          1,
          1,
          1,
          1,
          1,
          1,
          1,
          1,
          1,
          1,
          1,
          1,
          1,
          1,
          1,
          1,
          1,
          1,
          1,
          1,
          1,
          1,
          1,
          1,
          1,
          1,
          1,
          1,
          1,
          1,
          1,
          1,
          1,
          1,
          1,
          1,
          1,
          1,
          1,
          1,
          1,
          1,
          1,
          1,
          1,
          1,
          1,
          1,
          1,
          1,
          1,
          1,
          1,
          1,
          1,
          1,
          1,
          1,
          1,
          1,
          1,
          1,
          1,
          1,
          1,
          1,
          1,
          1,
          1,
          1,
          1,
          1,
          1,
          1,
          1,
          1,
          1,
          1,
          1,
          1,
          1,
          1,
          1,
          1,
          1,
          1,
          1,
          1,
          1,
          1,
          1,
          1,
          1,
          1,
          1,
          1,
          1,
          1,
          1,
          1,
          1,
          1,
          1,
          1,
          1,
          1,
          1,
          1,
          1,
          1,
          1,
          1,
          1,
          1,
          1,
          1,
          1,
          1,
          1,
          1,
          1,
          1,
          1,
          1,
          1,
          1,
          1,
          1,
          1,
          1,
          1,
          1,
          1,
          1,
          1,
          1,
          1,
          1,
          1,
          1,
          1,
          1,
          1,
          1,
          1,
          1,
          1,
          1,
          1,
          1,
          1,
          1,
          1,
          1,
          1,
          1,
          1,
          1,
          1,
          1,
          1,
          1,
          1,
          1,
          1,
          1,
          1,
          1,
          1,
          1,
          1,
          1,
          1,
          1,
          1,
          1,
          1,
          1,
          1,
          1,
          1,
          1,
          1,
          1,
          1,
          1,
          1,
          1,
          1,
          1,
          1,
          1,
          1,
          1,
          1,
          1,
          1,
          1,
          1,
          1,
          1,
          1,
          1,
          1,
          1,
          1,
          1,
          1,
          1,
          1,
          1,
          1,
          1,
          1,
          1,
          1,
          1,
          1,
          1,
          1,
          1,
          1,
          1,
          1,
          1,
          1,
          1,
          1,
          1,
          1,
          1,
          1,
          1,
          1,
          1,
          1,
          1,
          1,
          1,
          1,
          1,
          1,
          1,
          1,
          1,
          1,
          1,
          1,
          1,
          1,
          1,
          1,
          1,
          1,
          1,
          1,
          1,
          1,
          1,
          1,
          1,
          1,
          1,
          1,
          1,
          1,
          1,
          1,
          1,
          1,
          1,
          1,
          1,
          1,
          1,
          1,
          1,
          1,
          1,
          1,
          1,
          1,
          1,
          1,
          1,
          1,
          1,
          1,
          1,
          1,
          1,
          1,
          1,
          1,
          1,
          1,
          1
         ],
         "yaxis": "y"
        }
       ],
       "layout": {
        "barmode": "relative",
        "legend": {
         "tracegroupgap": 0
        },
        "margin": {
         "t": 60
        },
        "template": {
         "data": {
          "bar": [
           {
            "error_x": {
             "color": "#2a3f5f"
            },
            "error_y": {
             "color": "#2a3f5f"
            },
            "marker": {
             "line": {
              "color": "#E5ECF6",
              "width": 0.5
             },
             "pattern": {
              "fillmode": "overlay",
              "size": 10,
              "solidity": 0.2
             }
            },
            "type": "bar"
           }
          ],
          "barpolar": [
           {
            "marker": {
             "line": {
              "color": "#E5ECF6",
              "width": 0.5
             },
             "pattern": {
              "fillmode": "overlay",
              "size": 10,
              "solidity": 0.2
             }
            },
            "type": "barpolar"
           }
          ],
          "carpet": [
           {
            "aaxis": {
             "endlinecolor": "#2a3f5f",
             "gridcolor": "white",
             "linecolor": "white",
             "minorgridcolor": "white",
             "startlinecolor": "#2a3f5f"
            },
            "baxis": {
             "endlinecolor": "#2a3f5f",
             "gridcolor": "white",
             "linecolor": "white",
             "minorgridcolor": "white",
             "startlinecolor": "#2a3f5f"
            },
            "type": "carpet"
           }
          ],
          "choropleth": [
           {
            "colorbar": {
             "outlinewidth": 0,
             "ticks": ""
            },
            "type": "choropleth"
           }
          ],
          "contour": [
           {
            "colorbar": {
             "outlinewidth": 0,
             "ticks": ""
            },
            "colorscale": [
             [
              0,
              "#0d0887"
             ],
             [
              0.1111111111111111,
              "#46039f"
             ],
             [
              0.2222222222222222,
              "#7201a8"
             ],
             [
              0.3333333333333333,
              "#9c179e"
             ],
             [
              0.4444444444444444,
              "#bd3786"
             ],
             [
              0.5555555555555556,
              "#d8576b"
             ],
             [
              0.6666666666666666,
              "#ed7953"
             ],
             [
              0.7777777777777778,
              "#fb9f3a"
             ],
             [
              0.8888888888888888,
              "#fdca26"
             ],
             [
              1,
              "#f0f921"
             ]
            ],
            "type": "contour"
           }
          ],
          "contourcarpet": [
           {
            "colorbar": {
             "outlinewidth": 0,
             "ticks": ""
            },
            "type": "contourcarpet"
           }
          ],
          "heatmap": [
           {
            "colorbar": {
             "outlinewidth": 0,
             "ticks": ""
            },
            "colorscale": [
             [
              0,
              "#0d0887"
             ],
             [
              0.1111111111111111,
              "#46039f"
             ],
             [
              0.2222222222222222,
              "#7201a8"
             ],
             [
              0.3333333333333333,
              "#9c179e"
             ],
             [
              0.4444444444444444,
              "#bd3786"
             ],
             [
              0.5555555555555556,
              "#d8576b"
             ],
             [
              0.6666666666666666,
              "#ed7953"
             ],
             [
              0.7777777777777778,
              "#fb9f3a"
             ],
             [
              0.8888888888888888,
              "#fdca26"
             ],
             [
              1,
              "#f0f921"
             ]
            ],
            "type": "heatmap"
           }
          ],
          "heatmapgl": [
           {
            "colorbar": {
             "outlinewidth": 0,
             "ticks": ""
            },
            "colorscale": [
             [
              0,
              "#0d0887"
             ],
             [
              0.1111111111111111,
              "#46039f"
             ],
             [
              0.2222222222222222,
              "#7201a8"
             ],
             [
              0.3333333333333333,
              "#9c179e"
             ],
             [
              0.4444444444444444,
              "#bd3786"
             ],
             [
              0.5555555555555556,
              "#d8576b"
             ],
             [
              0.6666666666666666,
              "#ed7953"
             ],
             [
              0.7777777777777778,
              "#fb9f3a"
             ],
             [
              0.8888888888888888,
              "#fdca26"
             ],
             [
              1,
              "#f0f921"
             ]
            ],
            "type": "heatmapgl"
           }
          ],
          "histogram": [
           {
            "marker": {
             "pattern": {
              "fillmode": "overlay",
              "size": 10,
              "solidity": 0.2
             }
            },
            "type": "histogram"
           }
          ],
          "histogram2d": [
           {
            "colorbar": {
             "outlinewidth": 0,
             "ticks": ""
            },
            "colorscale": [
             [
              0,
              "#0d0887"
             ],
             [
              0.1111111111111111,
              "#46039f"
             ],
             [
              0.2222222222222222,
              "#7201a8"
             ],
             [
              0.3333333333333333,
              "#9c179e"
             ],
             [
              0.4444444444444444,
              "#bd3786"
             ],
             [
              0.5555555555555556,
              "#d8576b"
             ],
             [
              0.6666666666666666,
              "#ed7953"
             ],
             [
              0.7777777777777778,
              "#fb9f3a"
             ],
             [
              0.8888888888888888,
              "#fdca26"
             ],
             [
              1,
              "#f0f921"
             ]
            ],
            "type": "histogram2d"
           }
          ],
          "histogram2dcontour": [
           {
            "colorbar": {
             "outlinewidth": 0,
             "ticks": ""
            },
            "colorscale": [
             [
              0,
              "#0d0887"
             ],
             [
              0.1111111111111111,
              "#46039f"
             ],
             [
              0.2222222222222222,
              "#7201a8"
             ],
             [
              0.3333333333333333,
              "#9c179e"
             ],
             [
              0.4444444444444444,
              "#bd3786"
             ],
             [
              0.5555555555555556,
              "#d8576b"
             ],
             [
              0.6666666666666666,
              "#ed7953"
             ],
             [
              0.7777777777777778,
              "#fb9f3a"
             ],
             [
              0.8888888888888888,
              "#fdca26"
             ],
             [
              1,
              "#f0f921"
             ]
            ],
            "type": "histogram2dcontour"
           }
          ],
          "mesh3d": [
           {
            "colorbar": {
             "outlinewidth": 0,
             "ticks": ""
            },
            "type": "mesh3d"
           }
          ],
          "parcoords": [
           {
            "line": {
             "colorbar": {
              "outlinewidth": 0,
              "ticks": ""
             }
            },
            "type": "parcoords"
           }
          ],
          "pie": [
           {
            "automargin": true,
            "type": "pie"
           }
          ],
          "scatter": [
           {
            "marker": {
             "colorbar": {
              "outlinewidth": 0,
              "ticks": ""
             }
            },
            "type": "scatter"
           }
          ],
          "scatter3d": [
           {
            "line": {
             "colorbar": {
              "outlinewidth": 0,
              "ticks": ""
             }
            },
            "marker": {
             "colorbar": {
              "outlinewidth": 0,
              "ticks": ""
             }
            },
            "type": "scatter3d"
           }
          ],
          "scattercarpet": [
           {
            "marker": {
             "colorbar": {
              "outlinewidth": 0,
              "ticks": ""
             }
            },
            "type": "scattercarpet"
           }
          ],
          "scattergeo": [
           {
            "marker": {
             "colorbar": {
              "outlinewidth": 0,
              "ticks": ""
             }
            },
            "type": "scattergeo"
           }
          ],
          "scattergl": [
           {
            "marker": {
             "colorbar": {
              "outlinewidth": 0,
              "ticks": ""
             }
            },
            "type": "scattergl"
           }
          ],
          "scattermapbox": [
           {
            "marker": {
             "colorbar": {
              "outlinewidth": 0,
              "ticks": ""
             }
            },
            "type": "scattermapbox"
           }
          ],
          "scatterpolar": [
           {
            "marker": {
             "colorbar": {
              "outlinewidth": 0,
              "ticks": ""
             }
            },
            "type": "scatterpolar"
           }
          ],
          "scatterpolargl": [
           {
            "marker": {
             "colorbar": {
              "outlinewidth": 0,
              "ticks": ""
             }
            },
            "type": "scatterpolargl"
           }
          ],
          "scatterternary": [
           {
            "marker": {
             "colorbar": {
              "outlinewidth": 0,
              "ticks": ""
             }
            },
            "type": "scatterternary"
           }
          ],
          "surface": [
           {
            "colorbar": {
             "outlinewidth": 0,
             "ticks": ""
            },
            "colorscale": [
             [
              0,
              "#0d0887"
             ],
             [
              0.1111111111111111,
              "#46039f"
             ],
             [
              0.2222222222222222,
              "#7201a8"
             ],
             [
              0.3333333333333333,
              "#9c179e"
             ],
             [
              0.4444444444444444,
              "#bd3786"
             ],
             [
              0.5555555555555556,
              "#d8576b"
             ],
             [
              0.6666666666666666,
              "#ed7953"
             ],
             [
              0.7777777777777778,
              "#fb9f3a"
             ],
             [
              0.8888888888888888,
              "#fdca26"
             ],
             [
              1,
              "#f0f921"
             ]
            ],
            "type": "surface"
           }
          ],
          "table": [
           {
            "cells": {
             "fill": {
              "color": "#EBF0F8"
             },
             "line": {
              "color": "white"
             }
            },
            "header": {
             "fill": {
              "color": "#C8D4E3"
             },
             "line": {
              "color": "white"
             }
            },
            "type": "table"
           }
          ]
         },
         "layout": {
          "annotationdefaults": {
           "arrowcolor": "#2a3f5f",
           "arrowhead": 0,
           "arrowwidth": 1
          },
          "autotypenumbers": "strict",
          "coloraxis": {
           "colorbar": {
            "outlinewidth": 0,
            "ticks": ""
           }
          },
          "colorscale": {
           "diverging": [
            [
             0,
             "#8e0152"
            ],
            [
             0.1,
             "#c51b7d"
            ],
            [
             0.2,
             "#de77ae"
            ],
            [
             0.3,
             "#f1b6da"
            ],
            [
             0.4,
             "#fde0ef"
            ],
            [
             0.5,
             "#f7f7f7"
            ],
            [
             0.6,
             "#e6f5d0"
            ],
            [
             0.7,
             "#b8e186"
            ],
            [
             0.8,
             "#7fbc41"
            ],
            [
             0.9,
             "#4d9221"
            ],
            [
             1,
             "#276419"
            ]
           ],
           "sequential": [
            [
             0,
             "#0d0887"
            ],
            [
             0.1111111111111111,
             "#46039f"
            ],
            [
             0.2222222222222222,
             "#7201a8"
            ],
            [
             0.3333333333333333,
             "#9c179e"
            ],
            [
             0.4444444444444444,
             "#bd3786"
            ],
            [
             0.5555555555555556,
             "#d8576b"
            ],
            [
             0.6666666666666666,
             "#ed7953"
            ],
            [
             0.7777777777777778,
             "#fb9f3a"
            ],
            [
             0.8888888888888888,
             "#fdca26"
            ],
            [
             1,
             "#f0f921"
            ]
           ],
           "sequentialminus": [
            [
             0,
             "#0d0887"
            ],
            [
             0.1111111111111111,
             "#46039f"
            ],
            [
             0.2222222222222222,
             "#7201a8"
            ],
            [
             0.3333333333333333,
             "#9c179e"
            ],
            [
             0.4444444444444444,
             "#bd3786"
            ],
            [
             0.5555555555555556,
             "#d8576b"
            ],
            [
             0.6666666666666666,
             "#ed7953"
            ],
            [
             0.7777777777777778,
             "#fb9f3a"
            ],
            [
             0.8888888888888888,
             "#fdca26"
            ],
            [
             1,
             "#f0f921"
            ]
           ]
          },
          "colorway": [
           "#636efa",
           "#EF553B",
           "#00cc96",
           "#ab63fa",
           "#FFA15A",
           "#19d3f3",
           "#FF6692",
           "#B6E880",
           "#FF97FF",
           "#FECB52"
          ],
          "font": {
           "color": "#2a3f5f"
          },
          "geo": {
           "bgcolor": "white",
           "lakecolor": "white",
           "landcolor": "#E5ECF6",
           "showlakes": true,
           "showland": true,
           "subunitcolor": "white"
          },
          "hoverlabel": {
           "align": "left"
          },
          "hovermode": "closest",
          "mapbox": {
           "style": "light"
          },
          "paper_bgcolor": "white",
          "plot_bgcolor": "#E5ECF6",
          "polar": {
           "angularaxis": {
            "gridcolor": "white",
            "linecolor": "white",
            "ticks": ""
           },
           "bgcolor": "#E5ECF6",
           "radialaxis": {
            "gridcolor": "white",
            "linecolor": "white",
            "ticks": ""
           }
          },
          "scene": {
           "xaxis": {
            "backgroundcolor": "#E5ECF6",
            "gridcolor": "white",
            "gridwidth": 2,
            "linecolor": "white",
            "showbackground": true,
            "ticks": "",
            "zerolinecolor": "white"
           },
           "yaxis": {
            "backgroundcolor": "#E5ECF6",
            "gridcolor": "white",
            "gridwidth": 2,
            "linecolor": "white",
            "showbackground": true,
            "ticks": "",
            "zerolinecolor": "white"
           },
           "zaxis": {
            "backgroundcolor": "#E5ECF6",
            "gridcolor": "white",
            "gridwidth": 2,
            "linecolor": "white",
            "showbackground": true,
            "ticks": "",
            "zerolinecolor": "white"
           }
          },
          "shapedefaults": {
           "line": {
            "color": "#2a3f5f"
           }
          },
          "ternary": {
           "aaxis": {
            "gridcolor": "white",
            "linecolor": "white",
            "ticks": ""
           },
           "baxis": {
            "gridcolor": "white",
            "linecolor": "white",
            "ticks": ""
           },
           "bgcolor": "#E5ECF6",
           "caxis": {
            "gridcolor": "white",
            "linecolor": "white",
            "ticks": ""
           }
          },
          "title": {
           "x": 0.05
          },
          "xaxis": {
           "automargin": true,
           "gridcolor": "white",
           "linecolor": "white",
           "ticks": "",
           "title": {
            "standoff": 15
           },
           "zerolinecolor": "white",
           "zerolinewidth": 2
          },
          "yaxis": {
           "automargin": true,
           "gridcolor": "white",
           "linecolor": "white",
           "ticks": "",
           "title": {
            "standoff": 15
           },
           "zerolinecolor": "white",
           "zerolinewidth": 2
          }
         }
        },
        "xaxis": {
         "anchor": "y",
         "domain": [
          0,
          1
         ],
         "title": {
          "text": "NER"
         }
        },
        "yaxis": {
         "anchor": "x",
         "domain": [
          0,
          1
         ],
         "title": {
          "text": "count"
         }
        }
       }
      },
      "text/html": [
       "<div>                            <div id=\"933b74bf-8207-43ad-8ec7-811e4875e956\" class=\"plotly-graph-div\" style=\"height:525px; width:100%;\"></div>            <script type=\"text/javascript\">                require([\"plotly\"], function(Plotly) {                    window.PLOTLYENV=window.PLOTLYENV || {};                                    if (document.getElementById(\"933b74bf-8207-43ad-8ec7-811e4875e956\")) {                    Plotly.newPlot(                        \"933b74bf-8207-43ad-8ec7-811e4875e956\",                        [{\"alignmentgroup\":\"True\",\"hovertemplate\":\"NER=%{x}<br>count=%{y}<extra></extra>\",\"legendgroup\":\"\",\"marker\":{\"color\":\"#636efa\",\"pattern\":{\"shape\":\"\"}},\"name\":\"\",\"offsetgroup\":\"\",\"orientation\":\"v\",\"showlegend\":false,\"textposition\":\"auto\",\"type\":\"bar\",\"x\":[\"\\u9632\\u75ab\\u76f8\\u95dc\",\"\\u9632\\u75ab\\u76f8\\u95dc\",\"\\u9632\\u75ab\\u76f8\\u95dc\",\"\\u9632\\u75ab\\u76f8\\u95dc\",\"\\u8207\\u653f\\u898b\\u7121\\u95dc\",\"\\u751f\\u614b\\u5fa9\\u80b2\",\"\\u9632\\u75ab\\u76f8\\u95dc\",\"\\u8207\\u653f\\u898b\\u7121\\u95dc\",\"\\u9632\\u75ab\\u76f8\\u95dc\",\"\\u9632\\u75ab\\u76f8\\u95dc\",\"\\u9632\\u75ab\\u76f8\\u95dc\",\"\\u8207\\u653f\\u898b\\u7121\\u95dc\",\"\\u8207\\u653f\\u898b\\u7121\\u95dc\",\"\\u8207\\u653f\\u898b\\u7121\\u95dc\",\"\\u8207\\u653f\\u898b\\u7121\\u95dc\",\"\\u9632\\u75ab\\u76f8\\u95dc\",\"\\u8207\\u653f\\u898b\\u7121\\u95dc\",\"\\u8207\\u653f\\u898b\\u7121\\u95dc\",\"\\u9632\\u75ab\\u76f8\\u95dc\",\"\\u9632\\u75ab\\u76f8\\u95dc\",\"\\u9632\\u75ab\\u76f8\\u95dc\",\"\\u751f\\u614b\\u5fa9\\u80b2\",\"\\u9632\\u75ab\\u76f8\\u95dc\",\"\\u8207\\u653f\\u898b\\u7121\\u95dc\",\"\\u751f\\u614b\\u5fa9\\u80b2\",\"\\u9752\\u5e74\\u8fd4\\u9109\",\"\\u9632\\u75ab\\u76f8\\u95dc\",\"\\u8207\\u653f\\u898b\\u7121\\u95dc\",\"\\u9632\\u75ab\\u76f8\\u95dc\",\"\\u9632\\u75ab\\u76f8\\u95dc\",\"\\u8207\\u653f\\u898b\\u7121\\u95dc\",\"\\u9632\\u75ab\\u76f8\\u95dc\",\"\\u8207\\u653f\\u898b\\u7121\\u95dc\",\"\\u9632\\u75ab\\u76f8\\u95dc\",\"\\u9632\\u75ab\\u76f8\\u95dc\",\"\\u9632\\u75ab\\u76f8\\u95dc\",\"\\u8207\\u653f\\u898b\\u7121\\u95dc\",\"\\u751f\\u614b\\u5fa9\\u80b2\",\"\\u751f\\u614b\\u5fa9\\u80b2\",\"\\u9632\\u75ab\\u76f8\\u95dc\",\"\\u751f\\u614b\\u5fa9\\u80b2\",\"\\u9632\\u75ab\\u76f8\\u95dc\",\"\\u9632\\u75ab\\u76f8\\u95dc\",\"\\u9632\\u75ab\\u76f8\\u95dc\",\"\\u751f\\u614b\\u5fa9\\u80b2\",\"\\u9632\\u75ab\\u76f8\\u95dc\",\"\\u9632\\u75ab\\u76f8\\u95dc\",\"\\u4e0d\\u5b58\\u5728\\u6587\\u5b57\",\"\\u9632\\u75ab\\u76f8\\u95dc\",\"\\u9632\\u75ab\\u76f8\\u95dc\",\"\\u9632\\u75ab\\u76f8\\u95dc\",\"\\u8207\\u653f\\u898b\\u7121\\u95dc\",\"\\u8207\\u653f\\u898b\\u7121\\u95dc\",\"\\u8207\\u653f\\u898b\\u7121\\u95dc\",\"\\u8207\\u653f\\u898b\\u7121\\u95dc\",\"\\u751f\\u614b\\u5fa9\\u80b2\",\"\\u9632\\u75ab\\u76f8\\u95dc\",\"\\u9632\\u75ab\\u76f8\\u95dc\",\"\\u8207\\u653f\\u898b\\u7121\\u95dc\",\"\\u8207\\u653f\\u898b\\u7121\\u95dc\",\"\\u751f\\u614b\\u5fa9\\u80b2\",\"\\u8207\\u653f\\u898b\\u7121\\u95dc\",\"\\u9632\\u75ab\\u76f8\\u95dc\",\"\\u9632\\u75ab\\u76f8\\u95dc\",\"\\u9632\\u75ab\\u76f8\\u95dc\",\"\\u9632\\u75ab\\u76f8\\u95dc\",\"\\u8207\\u653f\\u898b\\u7121\\u95dc\",\"\\u9632\\u75ab\\u76f8\\u95dc\",\"\\u9632\\u75ab\\u76f8\\u95dc\",\"\\u9632\\u75ab\\u76f8\\u95dc\",\"\\u8207\\u653f\\u898b\\u7121\\u95dc\",\"\\u9632\\u75ab\\u76f8\\u95dc\",\"\\u9632\\u75ab\\u76f8\\u95dc\",\"\\u9632\\u75ab\\u76f8\\u95dc\",\"\\u9632\\u75ab\\u76f8\\u95dc\",\"\\u9632\\u75ab\\u76f8\\u95dc\",\"\\u9632\\u75ab\\u76f8\\u95dc\",\"\\u8207\\u653f\\u898b\\u7121\\u95dc\",\"\\u751f\\u614b\\u5fa9\\u80b2\",\"\\u9752\\u5e74\\u8fd4\\u9109\",\"\\u9632\\u75ab\\u76f8\\u95dc\",\"\\u9632\\u75ab\\u76f8\\u95dc\",\"\\u9632\\u75ab\\u76f8\\u95dc\",\"\\u9632\\u75ab\\u76f8\\u95dc\",\"\\u9632\\u75ab\\u76f8\\u95dc\",\"\\u9632\\u75ab\\u76f8\\u95dc\",\"\\u8207\\u653f\\u898b\\u7121\\u95dc\",\"\\u751f\\u614b\\u5fa9\\u80b2\",\"\\u8207\\u653f\\u898b\\u7121\\u95dc\",\"\\u8207\\u653f\\u898b\\u7121\\u95dc\",\"\\u8207\\u653f\\u898b\\u7121\\u95dc\",\"\\u9632\\u75ab\\u76f8\\u95dc\",\"\\u9632\\u75ab\\u76f8\\u95dc\",\"\\u9632\\u75ab\\u76f8\\u95dc\",\"\\u9632\\u75ab\\u76f8\\u95dc\",\"\\u9632\\u75ab\\u76f8\\u95dc\",\"\\u9632\\u75ab\\u76f8\\u95dc\",\"\\u9632\\u75ab\\u76f8\\u95dc\",\"\\u9632\\u75ab\\u76f8\\u95dc\",\"\\u8207\\u653f\\u898b\\u7121\\u95dc\",\"\\u9632\\u75ab\\u76f8\\u95dc\",\"\\u9632\\u75ab\\u76f8\\u95dc\",\"\\u9632\\u75ab\\u76f8\\u95dc\",\"\\u9632\\u75ab\\u76f8\\u95dc\",\"\\u8207\\u653f\\u898b\\u7121\\u95dc\",\"\\u9632\\u75ab\\u76f8\\u95dc\",\"\\u9632\\u75ab\\u76f8\\u95dc\",\"\\u9632\\u75ab\\u76f8\\u95dc\",\"\\u9632\\u75ab\\u76f8\\u95dc\",\"\\u8207\\u653f\\u898b\\u7121\\u95dc\",\"\\u9632\\u75ab\\u76f8\\u95dc\",\"\\u9632\\u75ab\\u76f8\\u95dc\",\"\\u9632\\u75ab\\u76f8\\u95dc\",\"\\u9632\\u75ab\\u76f8\\u95dc\",\"\\u9632\\u75ab\\u76f8\\u95dc\",\"\\u9632\\u75ab\\u76f8\\u95dc\",\"\\u9632\\u75ab\\u76f8\\u95dc\",\"\\u8207\\u653f\\u898b\\u7121\\u95dc\",\"\\u9632\\u75ab\\u76f8\\u95dc\",\"\\u9632\\u75ab\\u76f8\\u95dc\",\"\\u8207\\u653f\\u898b\\u7121\\u95dc\",\"\\u751f\\u614b\\u5fa9\\u80b2\",\"\\u9632\\u75ab\\u76f8\\u95dc\",\"\\u8207\\u653f\\u898b\\u7121\\u95dc\",\"\\u8207\\u653f\\u898b\\u7121\\u95dc\",\"\\u9632\\u75ab\\u76f8\\u95dc\",\"\\u8207\\u653f\\u898b\\u7121\\u95dc\",\"\\u8207\\u653f\\u898b\\u7121\\u95dc\",\"\\u8207\\u653f\\u898b\\u7121\\u95dc\",\"\\u8207\\u653f\\u898b\\u7121\\u95dc\",\"\\u9632\\u75ab\\u76f8\\u95dc\",\"\\u9632\\u75ab\\u76f8\\u95dc\",\"\\u9632\\u75ab\\u76f8\\u95dc\",\"\\u9632\\u75ab\\u76f8\\u95dc\",\"\\u8207\\u653f\\u898b\\u7121\\u95dc\",\"\\u9632\\u75ab\\u76f8\\u95dc\",\"\\u9632\\u75ab\\u76f8\\u95dc\",\"\\u9632\\u75ab\\u76f8\\u95dc\",\"\\u8207\\u653f\\u898b\\u7121\\u95dc\",\"\\u9632\\u75ab\\u76f8\\u95dc\",\"\\u9632\\u75ab\\u76f8\\u95dc\",\"\\u8207\\u653f\\u898b\\u7121\\u95dc\",\"\\u8207\\u653f\\u898b\\u7121\\u95dc\",\"\\u8207\\u653f\\u898b\\u7121\\u95dc\",\"\\u8207\\u653f\\u898b\\u7121\\u95dc\",\"\\u9632\\u75ab\\u76f8\\u95dc\",\"\\u8207\\u653f\\u898b\\u7121\\u95dc\",\"\\u9632\\u75ab\\u76f8\\u95dc\",\"\\u8207\\u653f\\u898b\\u7121\\u95dc\",\"\\u751f\\u614b\\u5fa9\\u80b2\",\"\\u9632\\u75ab\\u76f8\\u95dc\",\"\\u4e0d\\u5b58\\u5728\\u6587\\u5b57\",\"\\u9632\\u75ab\\u76f8\\u95dc\",\"\\u8207\\u653f\\u898b\\u7121\\u95dc\",\"\\u8207\\u653f\\u898b\\u7121\\u95dc\",\"\\u8207\\u653f\\u898b\\u7121\\u95dc\",\"\\u8207\\u653f\\u898b\\u7121\\u95dc\",\"\\u9632\\u75ab\\u76f8\\u95dc\",\"\\u751f\\u614b\\u5fa9\\u80b2\",\"\\u8207\\u653f\\u898b\\u7121\\u95dc\",\"\\u8207\\u653f\\u898b\\u7121\\u95dc\",\"\\u9632\\u75ab\\u76f8\\u95dc\",\"\\u9752\\u5e74\\u8fd4\\u9109\",\"\\u8207\\u653f\\u898b\\u7121\\u95dc\",\"\\u751f\\u614b\\u5fa9\\u80b2\",\"\\u9632\\u75ab\\u76f8\\u95dc\",\"\\u8207\\u653f\\u898b\\u7121\\u95dc\",\"\\u8207\\u653f\\u898b\\u7121\\u95dc\",\"\\u9632\\u75ab\\u76f8\\u95dc\",\"\\u9632\\u75ab\\u76f8\\u95dc\",\"\\u9632\\u75ab\\u76f8\\u95dc\",\"\\u8207\\u653f\\u898b\\u7121\\u95dc\",\"\\u751f\\u614b\\u5fa9\\u80b2\",\"\\u751f\\u614b\\u5fa9\\u80b2\",\"\\u8207\\u653f\\u898b\\u7121\\u95dc\",\"\\u751f\\u614b\\u5fa9\\u80b2\",\"\\u9632\\u75ab\\u76f8\\u95dc\",\"\\u9632\\u75ab\\u76f8\\u95dc\",\"\\u8207\\u653f\\u898b\\u7121\\u95dc\",\"\\u751f\\u614b\\u5fa9\\u80b2\",\"\\u9632\\u75ab\\u76f8\\u95dc\",\"\\u8207\\u653f\\u898b\\u7121\\u95dc\",\"\\u751f\\u614b\\u5fa9\\u80b2\",\"\\u8207\\u653f\\u898b\\u7121\\u95dc\",\"\\u8207\\u653f\\u898b\\u7121\\u95dc\",\"\\u8207\\u653f\\u898b\\u7121\\u95dc\",\"\\u8207\\u653f\\u898b\\u7121\\u95dc\",\"\\u9632\\u75ab\\u76f8\\u95dc\",\"\\u751f\\u614b\\u5fa9\\u80b2\",\"\\u9632\\u75ab\\u76f8\\u95dc\",\"\\u751f\\u614b\\u5fa9\\u80b2\",\"\\u8207\\u653f\\u898b\\u7121\\u95dc\",\"\\u8207\\u653f\\u898b\\u7121\\u95dc\",\"\\u9632\\u75ab\\u76f8\\u95dc\",\"\\u8207\\u653f\\u898b\\u7121\\u95dc\",\"\\u8207\\u653f\\u898b\\u7121\\u95dc\",\"\\u8207\\u653f\\u898b\\u7121\\u95dc\",\"\\u751f\\u614b\\u5fa9\\u80b2\",\"\\u751f\\u614b\\u5fa9\\u80b2\",\"\\u751f\\u614b\\u5fa9\\u80b2\",\"\\u8207\\u653f\\u898b\\u7121\\u95dc\",\"\\u8207\\u653f\\u898b\\u7121\\u95dc\",\"\\u751f\\u614b\\u5fa9\\u80b2\",\"\\u8207\\u653f\\u898b\\u7121\\u95dc\",\"\\u9632\\u75ab\\u76f8\\u95dc\",\"\\u8207\\u653f\\u898b\\u7121\\u95dc\",\"\\u751f\\u614b\\u5fa9\\u80b2\",\"\\u8207\\u653f\\u898b\\u7121\\u95dc\",\"\\u9632\\u75ab\\u76f8\\u95dc\",\"\\u751f\\u614b\\u5fa9\\u80b2\",\"\\u8207\\u653f\\u898b\\u7121\\u95dc\",\"\\u8207\\u653f\\u898b\\u7121\\u95dc\",\"\\u8207\\u653f\\u898b\\u7121\\u95dc\",\"\\u8207\\u653f\\u898b\\u7121\\u95dc\",\"\\u8207\\u653f\\u898b\\u7121\\u95dc\",\"\\u9632\\u75ab\\u76f8\\u95dc\",\"\\u9632\\u75ab\\u76f8\\u95dc\",\"\\u8207\\u653f\\u898b\\u7121\\u95dc\",\"\\u8207\\u653f\\u898b\\u7121\\u95dc\",\"\\u8207\\u653f\\u898b\\u7121\\u95dc\",\"\\u751f\\u614b\\u5fa9\\u80b2\",\"\\u8207\\u653f\\u898b\\u7121\\u95dc\",\"\\u9632\\u75ab\\u76f8\\u95dc\",\"\\u8207\\u653f\\u898b\\u7121\\u95dc\",\"\\u8207\\u653f\\u898b\\u7121\\u95dc\",\"\\u8207\\u653f\\u898b\\u7121\\u95dc\",\"\\u9752\\u5e74\\u8fd4\\u9109\",\"\\u9632\\u75ab\\u76f8\\u95dc\",\"\\u8207\\u653f\\u898b\\u7121\\u95dc\",\"\\u8207\\u653f\\u898b\\u7121\\u95dc\",\"\\u8207\\u653f\\u898b\\u7121\\u95dc\",\"\\u9632\\u75ab\\u76f8\\u95dc\",\"\\u8207\\u653f\\u898b\\u7121\\u95dc\",\"\\u751f\\u614b\\u5fa9\\u80b2\",\"\\u8207\\u653f\\u898b\\u7121\\u95dc\",\"\\u9632\\u75ab\\u76f8\\u95dc\",\"\\u8207\\u653f\\u898b\\u7121\\u95dc\",\"\\u9632\\u75ab\\u76f8\\u95dc\",\"\\u8207\\u653f\\u898b\\u7121\\u95dc\",\"\\u8207\\u653f\\u898b\\u7121\\u95dc\",\"\\u8207\\u653f\\u898b\\u7121\\u95dc\",\"\\u751f\\u614b\\u5fa9\\u80b2\",\"\\u8207\\u653f\\u898b\\u7121\\u95dc\",\"\\u8207\\u653f\\u898b\\u7121\\u95dc\",\"\\u8207\\u653f\\u898b\\u7121\\u95dc\",\"\\u9632\\u75ab\\u76f8\\u95dc\",\"\\u751f\\u614b\\u5fa9\\u80b2\",\"\\u8207\\u653f\\u898b\\u7121\\u95dc\",\"\\u8207\\u653f\\u898b\\u7121\\u95dc\",\"\\u751f\\u614b\\u5fa9\\u80b2\",\"\\u9632\\u75ab\\u76f8\\u95dc\",\"\\u751f\\u614b\\u5fa9\\u80b2\",\"\\u751f\\u614b\\u5fa9\\u80b2\",\"\\u8207\\u653f\\u898b\\u7121\\u95dc\",\"\\u9632\\u75ab\\u76f8\\u95dc\",\"\\u9632\\u75ab\\u76f8\\u95dc\",\"\\u8207\\u653f\\u898b\\u7121\\u95dc\",\"\\u8207\\u653f\\u898b\\u7121\\u95dc\",\"\\u8207\\u653f\\u898b\\u7121\\u95dc\",\"\\u8207\\u653f\\u898b\\u7121\\u95dc\",\"\\u8207\\u653f\\u898b\\u7121\\u95dc\",\"\\u751f\\u614b\\u5fa9\\u80b2\",\"\\u8207\\u653f\\u898b\\u7121\\u95dc\",\"\\u8207\\u653f\\u898b\\u7121\\u95dc\",\"\\u9632\\u75ab\\u76f8\\u95dc\",\"\\u9632\\u75ab\\u76f8\\u95dc\",\"\\u9632\\u75ab\\u76f8\\u95dc\",\"\\u8207\\u653f\\u898b\\u7121\\u95dc\",\"\\u8207\\u653f\\u898b\\u7121\\u95dc\",\"\\u9632\\u75ab\\u76f8\\u95dc\",\"\\u751f\\u614b\\u5fa9\\u80b2\",\"\\u6559\\u80b2\\u9577\\u7167\",\"\\u8207\\u653f\\u898b\\u7121\\u95dc\",\"\\u8207\\u653f\\u898b\\u7121\\u95dc\",\"\\u6559\\u80b2\\u9577\\u7167\",\"\\u8207\\u653f\\u898b\\u7121\\u95dc\",\"\\u8207\\u653f\\u898b\\u7121\\u95dc\",\"\\u8207\\u653f\\u898b\\u7121\\u95dc\",\"\\u8207\\u653f\\u898b\\u7121\\u95dc\",\"\\u8207\\u653f\\u898b\\u7121\\u95dc\",\"\\u8207\\u653f\\u898b\\u7121\\u95dc\",\"\\u9632\\u75ab\\u76f8\\u95dc\",\"\\u751f\\u614b\\u5fa9\\u80b2\",\"\\u8207\\u653f\\u898b\\u7121\\u95dc\",\"\\u8207\\u653f\\u898b\\u7121\\u95dc\",\"\\u8207\\u653f\\u898b\\u7121\\u95dc\",\"\\u751f\\u614b\\u5fa9\\u80b2\",\"\\u751f\\u614b\\u5fa9\\u80b2\",\"\\u8207\\u653f\\u898b\\u7121\\u95dc\",\"\\u8207\\u653f\\u898b\\u7121\\u95dc\",\"\\u751f\\u614b\\u5fa9\\u80b2\",\"\\u751f\\u614b\\u5fa9\\u80b2\",\"\\u8207\\u653f\\u898b\\u7121\\u95dc\",\"\\u751f\\u614b\\u5fa9\\u80b2\",\"\\u8207\\u653f\\u898b\\u7121\\u95dc\",\"\\u8207\\u653f\\u898b\\u7121\\u95dc\",\"\\u8207\\u653f\\u898b\\u7121\\u95dc\",\"\\u9632\\u75ab\\u76f8\\u95dc\",\"\\u8207\\u653f\\u898b\\u7121\\u95dc\",\"\\u9752\\u5e74\\u8fd4\\u9109\",\"\\u8207\\u653f\\u898b\\u7121\\u95dc\",\"\\u8207\\u653f\\u898b\\u7121\\u95dc\",\"\\u8207\\u653f\\u898b\\u7121\\u95dc\",\"\\u8207\\u653f\\u898b\\u7121\\u95dc\",\"\\u8207\\u653f\\u898b\\u7121\\u95dc\",\"\\u8207\\u653f\\u898b\\u7121\\u95dc\",\"\\u751f\\u614b\\u5fa9\\u80b2\",\"\\u8207\\u653f\\u898b\\u7121\\u95dc\",\"\\u8207\\u653f\\u898b\\u7121\\u95dc\",\"\\u9632\\u75ab\\u76f8\\u95dc\",\"\\u8207\\u653f\\u898b\\u7121\\u95dc\",\"\\u8207\\u653f\\u898b\\u7121\\u95dc\",\"\\u8207\\u653f\\u898b\\u7121\\u95dc\",\"\\u6559\\u80b2\\u9577\\u7167\",\"\\u8207\\u653f\\u898b\\u7121\\u95dc\",\"\\u9632\\u75ab\\u76f8\\u95dc\",\"\\u8207\\u653f\\u898b\\u7121\\u95dc\",\"\\u751f\\u614b\\u5fa9\\u80b2\",\"\\u751f\\u614b\\u5fa9\\u80b2\",\"\\u8207\\u653f\\u898b\\u7121\\u95dc\",\"\\u8207\\u653f\\u898b\\u7121\\u95dc\",\"\\u8207\\u653f\\u898b\\u7121\\u95dc\",\"\\u751f\\u614b\\u5fa9\\u80b2\",\"\\u8207\\u653f\\u898b\\u7121\\u95dc\",\"\\u8207\\u653f\\u898b\\u7121\\u95dc\",\"\\u8207\\u653f\\u898b\\u7121\\u95dc\",\"\\u8207\\u653f\\u898b\\u7121\\u95dc\",\"\\u751f\\u614b\\u5fa9\\u80b2\",\"\\u8207\\u653f\\u898b\\u7121\\u95dc\",\"\\u8207\\u653f\\u898b\\u7121\\u95dc\",\"\\u8207\\u653f\\u898b\\u7121\\u95dc\",\"\\u8207\\u653f\\u898b\\u7121\\u95dc\",\"\\u8207\\u653f\\u898b\\u7121\\u95dc\",\"\\u8207\\u653f\\u898b\\u7121\\u95dc\",\"\\u8207\\u653f\\u898b\\u7121\\u95dc\",\"\\u751f\\u614b\\u5fa9\\u80b2\",\"\\u8207\\u653f\\u898b\\u7121\\u95dc\",\"\\u8207\\u653f\\u898b\\u7121\\u95dc\",\"\\u8207\\u653f\\u898b\\u7121\\u95dc\",\"\\u751f\\u614b\\u5fa9\\u80b2\",\"\\u8207\\u653f\\u898b\\u7121\\u95dc\",\"\\u751f\\u614b\\u5fa9\\u80b2\",\"\\u8207\\u653f\\u898b\\u7121\\u95dc\",\"\\u751f\\u614b\\u5fa9\\u80b2\",\"\\u8207\\u653f\\u898b\\u7121\\u95dc\",\"\\u8207\\u653f\\u898b\\u7121\\u95dc\",\"\\u751f\\u614b\\u5fa9\\u80b2\",\"\\u8207\\u653f\\u898b\\u7121\\u95dc\",\"\\u8207\\u653f\\u898b\\u7121\\u95dc\",\"\\u8207\\u653f\\u898b\\u7121\\u95dc\",\"\\u8207\\u653f\\u898b\\u7121\\u95dc\",\"\\u8207\\u653f\\u898b\\u7121\\u95dc\",\"\\u8207\\u653f\\u898b\\u7121\\u95dc\",\"\\u8207\\u653f\\u898b\\u7121\\u95dc\",\"\\u751f\\u614b\\u5fa9\\u80b2\",\"\\u9632\\u75ab\\u76f8\\u95dc\",\"\\u8207\\u653f\\u898b\\u7121\\u95dc\",\"\\u9632\\u75ab\\u76f8\\u95dc\",\"\\u6559\\u80b2\\u9577\\u7167\",\"\\u8207\\u653f\\u898b\\u7121\\u95dc\",\"\\u751f\\u614b\\u5fa9\\u80b2\",\"\\u8207\\u653f\\u898b\\u7121\\u95dc\",\"\\u8207\\u653f\\u898b\\u7121\\u95dc\",\"\\u8207\\u653f\\u898b\\u7121\\u95dc\",\"\\u8207\\u653f\\u898b\\u7121\\u95dc\",\"\\u8207\\u653f\\u898b\\u7121\\u95dc\",\"\\u8207\\u653f\\u898b\\u7121\\u95dc\",\"\\u9632\\u75ab\\u76f8\\u95dc\",\"\\u8207\\u653f\\u898b\\u7121\\u95dc\",\"\\u751f\\u614b\\u5fa9\\u80b2\",\"\\u8207\\u653f\\u898b\\u7121\\u95dc\",\"\\u8207\\u653f\\u898b\\u7121\\u95dc\",\"\\u8207\\u653f\\u898b\\u7121\\u95dc\",\"\\u8207\\u653f\\u898b\\u7121\\u95dc\",\"\\u8207\\u653f\\u898b\\u7121\\u95dc\",\"\\u9632\\u75ab\\u76f8\\u95dc\",\"\\u8207\\u653f\\u898b\\u7121\\u95dc\",\"\\u8207\\u653f\\u898b\\u7121\\u95dc\",\"\\u8207\\u653f\\u898b\\u7121\\u95dc\",\"\\u8207\\u653f\\u898b\\u7121\\u95dc\",\"\\u751f\\u614b\\u5fa9\\u80b2\",\"\\u8207\\u653f\\u898b\\u7121\\u95dc\",\"\\u8207\\u653f\\u898b\\u7121\\u95dc\",\"\\u8207\\u653f\\u898b\\u7121\\u95dc\",\"\\u8207\\u653f\\u898b\\u7121\\u95dc\",\"\\u8207\\u653f\\u898b\\u7121\\u95dc\",\"\\u751f\\u614b\\u5fa9\\u80b2\",\"\\u8207\\u653f\\u898b\\u7121\\u95dc\",\"\\u9632\\u75ab\\u76f8\\u95dc\",\"\\u8207\\u653f\\u898b\\u7121\\u95dc\",\"\\u8207\\u653f\\u898b\\u7121\\u95dc\",\"\\u8207\\u653f\\u898b\\u7121\\u95dc\",\"\\u6559\\u80b2\\u9577\\u7167\",\"\\u8207\\u653f\\u898b\\u7121\\u95dc\",\"\\u8207\\u653f\\u898b\\u7121\\u95dc\",\"\\u8207\\u653f\\u898b\\u7121\\u95dc\",\"\\u9632\\u75ab\\u76f8\\u95dc\",\"\\u751f\\u614b\\u5fa9\\u80b2\",\"\\u751f\\u614b\\u5fa9\\u80b2\",\"\\u6559\\u80b2\\u9577\\u7167\",\"\\u751f\\u614b\\u5fa9\\u80b2\",\"\\u8207\\u653f\\u898b\\u7121\\u95dc\",\"\\u8207\\u653f\\u898b\\u7121\\u95dc\",\"\\u8207\\u653f\\u898b\\u7121\\u95dc\",\"\\u751f\\u614b\\u5fa9\\u80b2\",\"\\u8207\\u653f\\u898b\\u7121\\u95dc\",\"\\u8207\\u653f\\u898b\\u7121\\u95dc\",\"\\u8207\\u653f\\u898b\\u7121\\u95dc\",\"\\u8207\\u653f\\u898b\\u7121\\u95dc\",\"\\u8207\\u653f\\u898b\\u7121\\u95dc\",\"\\u8207\\u653f\\u898b\\u7121\\u95dc\",\"\\u8207\\u653f\\u898b\\u7121\\u95dc\",\"\\u8207\\u653f\\u898b\\u7121\\u95dc\",\"\\u8207\\u653f\\u898b\\u7121\\u95dc\",\"\\u751f\\u614b\\u5fa9\\u80b2\",\"\\u6559\\u80b2\\u9577\\u7167\",\"\\u8207\\u653f\\u898b\\u7121\\u95dc\",\"\\u9632\\u75ab\\u76f8\\u95dc\",\"\\u8207\\u653f\\u898b\\u7121\\u95dc\",\"\\u8207\\u653f\\u898b\\u7121\\u95dc\",\"\\u8207\\u653f\\u898b\\u7121\\u95dc\",\"\\u4e0d\\u5b58\\u5728\\u6587\\u5b57\",\"\\u8207\\u653f\\u898b\\u7121\\u95dc\",\"\\u9632\\u75ab\\u76f8\\u95dc\",\"\\u9632\\u75ab\\u76f8\\u95dc\",\"\\u8207\\u653f\\u898b\\u7121\\u95dc\",\"\\u751f\\u614b\\u5fa9\\u80b2\",\"\\u8207\\u653f\\u898b\\u7121\\u95dc\",\"\\u9752\\u5e74\\u8fd4\\u9109\",\"\\u8207\\u653f\\u898b\\u7121\\u95dc\",\"\\u8207\\u653f\\u898b\\u7121\\u95dc\",\"\\u8207\\u653f\\u898b\\u7121\\u95dc\",\"\\u8207\\u653f\\u898b\\u7121\\u95dc\",\"\\u8207\\u653f\\u898b\\u7121\\u95dc\",\"\\u751f\\u614b\\u5fa9\\u80b2\",\"\\u9632\\u75ab\\u76f8\\u95dc\",\"\\u8207\\u653f\\u898b\\u7121\\u95dc\",\"\\u8207\\u653f\\u898b\\u7121\\u95dc\",\"\\u8207\\u653f\\u898b\\u7121\\u95dc\",\"\\u8207\\u653f\\u898b\\u7121\\u95dc\",\"\\u751f\\u614b\\u5fa9\\u80b2\",\"\\u8207\\u653f\\u898b\\u7121\\u95dc\",\"\\u751f\\u614b\\u5fa9\\u80b2\",\"\\u6559\\u80b2\\u9577\\u7167\",\"\\u9632\\u75ab\\u76f8\\u95dc\",\"\\u8207\\u653f\\u898b\\u7121\\u95dc\",\"\\u8207\\u653f\\u898b\\u7121\\u95dc\",\"\\u8207\\u653f\\u898b\\u7121\\u95dc\",\"\\u751f\\u614b\\u5fa9\\u80b2\",\"\\u8207\\u653f\\u898b\\u7121\\u95dc\",\"\\u751f\\u614b\\u5fa9\\u80b2\",\"\\u9632\\u75ab\\u76f8\\u95dc\",\"\\u751f\\u614b\\u5fa9\\u80b2\",\"\\u751f\\u614b\\u5fa9\\u80b2\",\"\\u9632\\u75ab\\u76f8\\u95dc\",\"\\u751f\\u614b\\u5fa9\\u80b2\",\"\\u751f\\u614b\\u5fa9\\u80b2\",\"\\u751f\\u614b\\u5fa9\\u80b2\",\"\\u9632\\u75ab\\u76f8\\u95dc\",\"\\u9632\\u75ab\\u76f8\\u95dc\",\"\\u9632\\u75ab\\u76f8\\u95dc\",\"\\u9632\\u75ab\\u76f8\\u95dc\",\"\\u9752\\u5e74\\u8fd4\\u9109\",\"\\u751f\\u614b\\u5fa9\\u80b2\",\"\\u9632\\u75ab\\u76f8\\u95dc\",\"\\u751f\\u614b\\u5fa9\\u80b2\",\"\\u8207\\u653f\\u898b\\u7121\\u95dc\",\"\\u8207\\u653f\\u898b\\u7121\\u95dc\",\"\\u8207\\u653f\\u898b\\u7121\\u95dc\",\"\\u8207\\u653f\\u898b\\u7121\\u95dc\",\"\\u8207\\u653f\\u898b\\u7121\\u95dc\",\"\\u8207\\u653f\\u898b\\u7121\\u95dc\",\"\\u8207\\u653f\\u898b\\u7121\\u95dc\",\"\\u8207\\u653f\\u898b\\u7121\\u95dc\",\"\\u8207\\u653f\\u898b\\u7121\\u95dc\",\"\\u8207\\u653f\\u898b\\u7121\\u95dc\",\"\\u8207\\u653f\\u898b\\u7121\\u95dc\",\"\\u8207\\u653f\\u898b\\u7121\\u95dc\",\"\\u8207\\u653f\\u898b\\u7121\\u95dc\",\"\\u4e0d\\u5b58\\u5728\\u6587\\u5b57\",\"\\u751f\\u614b\\u5fa9\\u80b2\",\"\\u9632\\u75ab\\u76f8\\u95dc\",\"\\u9632\\u75ab\\u76f8\\u95dc\",\"\\u4e0d\\u5b58\\u5728\\u6587\\u5b57\",\"\\u751f\\u614b\\u5fa9\\u80b2\",\"\\u8207\\u653f\\u898b\\u7121\\u95dc\",\"\\u8207\\u653f\\u898b\\u7121\\u95dc\",\"\\u9632\\u75ab\\u76f8\\u95dc\",\"\\u9632\\u75ab\\u76f8\\u95dc\",\"\\u8207\\u653f\\u898b\\u7121\\u95dc\",\"\\u8207\\u653f\\u898b\\u7121\\u95dc\",\"\\u8207\\u653f\\u898b\\u7121\\u95dc\",\"\\u8207\\u653f\\u898b\\u7121\\u95dc\",\"\\u751f\\u614b\\u5fa9\\u80b2\",\"\\u751f\\u614b\\u5fa9\\u80b2\",\"\\u751f\\u614b\\u5fa9\\u80b2\",\"\\u8207\\u653f\\u898b\\u7121\\u95dc\",\"\\u8207\\u653f\\u898b\\u7121\\u95dc\",\"\\u8207\\u653f\\u898b\\u7121\\u95dc\",\"\\u9632\\u75ab\\u76f8\\u95dc\",\"\\u8207\\u653f\\u898b\\u7121\\u95dc\",\"\\u8207\\u653f\\u898b\\u7121\\u95dc\",\"\\u8207\\u653f\\u898b\\u7121\\u95dc\",\"\\u8207\\u653f\\u898b\\u7121\\u95dc\",\"\\u8207\\u653f\\u898b\\u7121\\u95dc\",\"\\u751f\\u614b\\u5fa9\\u80b2\",\"\\u9632\\u75ab\\u76f8\\u95dc\",\"\\u8207\\u653f\\u898b\\u7121\\u95dc\",\"\\u8207\\u653f\\u898b\\u7121\\u95dc\",\"\\u8207\\u653f\\u898b\\u7121\\u95dc\",\"\\u8207\\u653f\\u898b\\u7121\\u95dc\",\"\\u9752\\u5e74\\u8fd4\\u9109\",\"\\u8207\\u653f\\u898b\\u7121\\u95dc\",\"\\u751f\\u614b\\u5fa9\\u80b2\",\"\\u8207\\u653f\\u898b\\u7121\\u95dc\",\"\\u8207\\u653f\\u898b\\u7121\\u95dc\",\"\\u751f\\u614b\\u5fa9\\u80b2\",\"\\u9632\\u75ab\\u76f8\\u95dc\",\"\\u8207\\u653f\\u898b\\u7121\\u95dc\",\"\\u8207\\u653f\\u898b\\u7121\\u95dc\",\"\\u751f\\u614b\\u5fa9\\u80b2\",\"\\u8207\\u653f\\u898b\\u7121\\u95dc\",\"\\u8207\\u653f\\u898b\\u7121\\u95dc\",\"\\u8207\\u653f\\u898b\\u7121\\u95dc\",\"\\u8207\\u653f\\u898b\\u7121\\u95dc\",\"\\u8207\\u653f\\u898b\\u7121\\u95dc\",\"\\u6559\\u80b2\\u9577\\u7167\",\"\\u8207\\u653f\\u898b\\u7121\\u95dc\",\"\\u8207\\u653f\\u898b\\u7121\\u95dc\",\"\\u8207\\u653f\\u898b\\u7121\\u95dc\",\"\\u751f\\u614b\\u5fa9\\u80b2\",\"\\u751f\\u614b\\u5fa9\\u80b2\",\"\\u8207\\u653f\\u898b\\u7121\\u95dc\",\"\\u8207\\u653f\\u898b\\u7121\\u95dc\",\"\\u8207\\u653f\\u898b\\u7121\\u95dc\",\"\\u8207\\u653f\\u898b\\u7121\\u95dc\",\"\\u8207\\u653f\\u898b\\u7121\\u95dc\",\"\\u8207\\u653f\\u898b\\u7121\\u95dc\",\"\\u751f\\u614b\\u5fa9\\u80b2\",\"\\u8207\\u653f\\u898b\\u7121\\u95dc\",\"\\u751f\\u614b\\u5fa9\\u80b2\",\"\\u8207\\u653f\\u898b\\u7121\\u95dc\",\"\\u8207\\u653f\\u898b\\u7121\\u95dc\",\"\\u8207\\u653f\\u898b\\u7121\\u95dc\",\"\\u8207\\u653f\\u898b\\u7121\\u95dc\",\"\\u8207\\u653f\\u898b\\u7121\\u95dc\",\"\\u8207\\u653f\\u898b\\u7121\\u95dc\",\"\\u8207\\u653f\\u898b\\u7121\\u95dc\",\"\\u8207\\u653f\\u898b\\u7121\\u95dc\",\"\\u8207\\u653f\\u898b\\u7121\\u95dc\",\"\\u8207\\u653f\\u898b\\u7121\\u95dc\",\"\\u8207\\u653f\\u898b\\u7121\\u95dc\",\"\\u8207\\u653f\\u898b\\u7121\\u95dc\",\"\\u8207\\u653f\\u898b\\u7121\\u95dc\",\"\\u8207\\u653f\\u898b\\u7121\\u95dc\",\"\\u8207\\u653f\\u898b\\u7121\\u95dc\",\"\\u8207\\u653f\\u898b\\u7121\\u95dc\",\"\\u9752\\u5e74\\u8fd4\\u9109\",\"\\u8207\\u653f\\u898b\\u7121\\u95dc\",\"\\u751f\\u614b\\u5fa9\\u80b2\",\"\\u8207\\u653f\\u898b\\u7121\\u95dc\",\"\\u8207\\u653f\\u898b\\u7121\\u95dc\",\"\\u8207\\u653f\\u898b\\u7121\\u95dc\",\"\\u751f\\u614b\\u5fa9\\u80b2\",\"\\u751f\\u614b\\u5fa9\\u80b2\",\"\\u751f\\u614b\\u5fa9\\u80b2\",\"\\u9632\\u75ab\\u76f8\\u95dc\",\"\\u8207\\u653f\\u898b\\u7121\\u95dc\",\"\\u8207\\u653f\\u898b\\u7121\\u95dc\",\"\\u8207\\u653f\\u898b\\u7121\\u95dc\",\"\\u751f\\u614b\\u5fa9\\u80b2\",\"\\u8207\\u653f\\u898b\\u7121\\u95dc\",\"\\u751f\\u614b\\u5fa9\\u80b2\",\"\\u9632\\u75ab\\u76f8\\u95dc\",\"\\u9632\\u75ab\\u76f8\\u95dc\",\"\\u9632\\u75ab\\u76f8\\u95dc\",\"\\u9632\\u75ab\\u76f8\\u95dc\",\"\\u751f\\u614b\\u5fa9\\u80b2\",\"\\u8207\\u653f\\u898b\\u7121\\u95dc\",\"\\u9632\\u75ab\\u76f8\\u95dc\",\"\\u9632\\u75ab\\u76f8\\u95dc\",\"\\u9632\\u75ab\\u76f8\\u95dc\",\"\\u8207\\u653f\\u898b\\u7121\\u95dc\",\"\\u9632\\u75ab\\u76f8\\u95dc\",\"\\u9632\\u75ab\\u76f8\\u95dc\",\"\\u8207\\u653f\\u898b\\u7121\\u95dc\",\"\\u8207\\u653f\\u898b\\u7121\\u95dc\",\"\\u8207\\u653f\\u898b\\u7121\\u95dc\",\"\\u9632\\u75ab\\u76f8\\u95dc\",\"\\u9632\\u75ab\\u76f8\\u95dc\",\"\\u8207\\u653f\\u898b\\u7121\\u95dc\",\"\\u9632\\u75ab\\u76f8\\u95dc\",\"\\u8207\\u653f\\u898b\\u7121\\u95dc\",\"\\u8207\\u653f\\u898b\\u7121\\u95dc\",\"\\u9632\\u75ab\\u76f8\\u95dc\",\"\\u8207\\u653f\\u898b\\u7121\\u95dc\",\"\\u8207\\u653f\\u898b\\u7121\\u95dc\",\"\\u9632\\u75ab\\u76f8\\u95dc\",\"\\u9632\\u75ab\\u76f8\\u95dc\",\"\\u9632\\u75ab\\u76f8\\u95dc\",\"\\u9632\\u75ab\\u76f8\\u95dc\",\"\\u8207\\u653f\\u898b\\u7121\\u95dc\",\"\\u9632\\u75ab\\u76f8\\u95dc\",\"\\u9632\\u75ab\\u76f8\\u95dc\",\"\\u9632\\u75ab\\u76f8\\u95dc\",\"\\u9632\\u75ab\\u76f8\\u95dc\",\"\\u9632\\u75ab\\u76f8\\u95dc\",\"\\u9632\\u75ab\\u76f8\\u95dc\",\"\\u8207\\u653f\\u898b\\u7121\\u95dc\",\"\\u9632\\u75ab\\u76f8\\u95dc\",\"\\u8207\\u653f\\u898b\\u7121\\u95dc\",\"\\u9632\\u75ab\\u76f8\\u95dc\",\"\\u9632\\u75ab\\u76f8\\u95dc\",\"\\u9632\\u75ab\\u76f8\\u95dc\",\"\\u9632\\u75ab\\u76f8\\u95dc\",\"\\u9632\\u75ab\\u76f8\\u95dc\",\"\\u9632\\u75ab\\u76f8\\u95dc\",\"\\u9632\\u75ab\\u76f8\\u95dc\",\"\\u9632\\u75ab\\u76f8\\u95dc\",\"\\u9632\\u75ab\\u76f8\\u95dc\",\"\\u9632\\u75ab\\u76f8\\u95dc\",\"\\u9632\\u75ab\\u76f8\\u95dc\",\"\\u9632\\u75ab\\u76f8\\u95dc\",\"\\u9632\\u75ab\\u76f8\\u95dc\",\"\\u9632\\u75ab\\u76f8\\u95dc\",\"\\u8207\\u653f\\u898b\\u7121\\u95dc\",\"\\u9632\\u75ab\\u76f8\\u95dc\",\"\\u9632\\u75ab\\u76f8\\u95dc\",\"\\u9632\\u75ab\\u76f8\\u95dc\",\"\\u9632\\u75ab\\u76f8\\u95dc\",\"\\u9632\\u75ab\\u76f8\\u95dc\",\"\\u9632\\u75ab\\u76f8\\u95dc\",\"\\u9632\\u75ab\\u76f8\\u95dc\",\"\\u9632\\u75ab\\u76f8\\u95dc\",\"\\u8207\\u653f\\u898b\\u7121\\u95dc\",\"\\u8207\\u653f\\u898b\\u7121\\u95dc\",\"\\u8207\\u653f\\u898b\\u7121\\u95dc\",\"\\u9632\\u75ab\\u76f8\\u95dc\",\"\\u8207\\u653f\\u898b\\u7121\\u95dc\",\"\\u9632\\u75ab\\u76f8\\u95dc\",\"\\u6559\\u80b2\\u9577\\u7167\",\"\\u8207\\u653f\\u898b\\u7121\\u95dc\",\"\\u8207\\u653f\\u898b\\u7121\\u95dc\",\"\\u8207\\u653f\\u898b\\u7121\\u95dc\",\"\\u8207\\u653f\\u898b\\u7121\\u95dc\",\"\\u6559\\u80b2\\u9577\\u7167\",\"\\u8207\\u653f\\u898b\\u7121\\u95dc\",\"\\u751f\\u614b\\u5fa9\\u80b2\",\"\\u9632\\u75ab\\u76f8\\u95dc\",\"\\u8207\\u653f\\u898b\\u7121\\u95dc\",\"\\u751f\\u614b\\u5fa9\\u80b2\",\"\\u751f\\u614b\\u5fa9\\u80b2\",\"\\u751f\\u614b\\u5fa9\\u80b2\",\"\\u9632\\u75ab\\u76f8\\u95dc\",\"\\u9632\\u75ab\\u76f8\\u95dc\",\"\\u9632\\u75ab\\u76f8\\u95dc\",\"\\u8207\\u653f\\u898b\\u7121\\u95dc\",\"\\u9632\\u75ab\\u76f8\\u95dc\"],\"xaxis\":\"x\",\"y\":[1,1,1,1,1,1,1,1,1,1,1,1,1,1,1,1,1,1,1,1,1,1,1,1,1,1,1,1,1,1,1,1,1,1,1,1,1,1,1,1,1,1,1,1,1,1,1,1,1,1,1,1,1,1,1,1,1,1,1,1,1,1,1,1,1,1,1,1,1,1,1,1,1,1,1,1,1,1,1,1,1,1,1,1,1,1,1,1,1,1,1,1,1,1,1,1,1,1,1,1,1,1,1,1,1,1,1,1,1,1,1,1,1,1,1,1,1,1,1,1,1,1,1,1,1,1,1,1,1,1,1,1,1,1,1,1,1,1,1,1,1,1,1,1,1,1,1,1,1,1,1,1,1,1,1,1,1,1,1,1,1,1,1,1,1,1,1,1,1,1,1,1,1,1,1,1,1,1,1,1,1,1,1,1,1,1,1,1,1,1,1,1,1,1,1,1,1,1,1,1,1,1,1,1,1,1,1,1,1,1,1,1,1,1,1,1,1,1,1,1,1,1,1,1,1,1,1,1,1,1,1,1,1,1,1,1,1,1,1,1,1,1,1,1,1,1,1,1,1,1,1,1,1,1,1,1,1,1,1,1,1,1,1,1,1,1,1,1,1,1,1,1,1,1,1,1,1,1,1,1,1,1,1,1,1,1,1,1,1,1,1,1,1,1,1,1,1,1,1,1,1,1,1,1,1,1,1,1,1,1,1,1,1,1,1,1,1,1,1,1,1,1,1,1,1,1,1,1,1,1,1,1,1,1,1,1,1,1,1,1,1,1,1,1,1,1,1,1,1,1,1,1,1,1,1,1,1,1,1,1,1,1,1,1,1,1,1,1,1,1,1,1,1,1,1,1,1,1,1,1,1,1,1,1,1,1,1,1,1,1,1,1,1,1,1,1,1,1,1,1,1,1,1,1,1,1,1,1,1,1,1,1,1,1,1,1,1,1,1,1,1,1,1,1,1,1,1,1,1,1,1,1,1,1,1,1,1,1,1,1,1,1,1,1,1,1,1,1,1,1,1,1,1,1,1,1,1,1,1,1,1,1,1,1,1,1,1,1,1,1,1,1,1,1,1,1,1,1,1,1,1,1,1,1,1,1,1,1,1,1,1,1,1,1,1,1,1,1,1,1,1,1,1,1,1,1,1,1,1,1,1,1,1,1,1,1,1,1,1,1,1,1,1,1,1,1,1,1,1,1,1,1,1,1,1,1,1,1,1,1,1,1,1,1,1,1,1,1,1,1,1,1,1,1,1,1,1,1,1,1,1,1,1,1,1,1,1,1,1,1,1,1,1,1,1,1,1,1,1,1,1,1,1,1,1,1,1,1,1,1,1,1,1,1,1,1,1,1,1,1,1,1,1,1,1,1,1,1,1,1,1,1,1,1,1,1,1,1,1,1,1,1,1,1,1,1,1,1,1,1,1,1,1,1,1,1,1,1,1,1,1,1,1,1,1,1,1,1,1,1,1,1,1,1,1,1,1,1],\"yaxis\":\"y\"}],                        {\"barmode\":\"relative\",\"legend\":{\"tracegroupgap\":0},\"margin\":{\"t\":60},\"template\":{\"data\":{\"bar\":[{\"error_x\":{\"color\":\"#2a3f5f\"},\"error_y\":{\"color\":\"#2a3f5f\"},\"marker\":{\"line\":{\"color\":\"#E5ECF6\",\"width\":0.5},\"pattern\":{\"fillmode\":\"overlay\",\"size\":10,\"solidity\":0.2}},\"type\":\"bar\"}],\"barpolar\":[{\"marker\":{\"line\":{\"color\":\"#E5ECF6\",\"width\":0.5},\"pattern\":{\"fillmode\":\"overlay\",\"size\":10,\"solidity\":0.2}},\"type\":\"barpolar\"}],\"carpet\":[{\"aaxis\":{\"endlinecolor\":\"#2a3f5f\",\"gridcolor\":\"white\",\"linecolor\":\"white\",\"minorgridcolor\":\"white\",\"startlinecolor\":\"#2a3f5f\"},\"baxis\":{\"endlinecolor\":\"#2a3f5f\",\"gridcolor\":\"white\",\"linecolor\":\"white\",\"minorgridcolor\":\"white\",\"startlinecolor\":\"#2a3f5f\"},\"type\":\"carpet\"}],\"choropleth\":[{\"colorbar\":{\"outlinewidth\":0,\"ticks\":\"\"},\"type\":\"choropleth\"}],\"contour\":[{\"colorbar\":{\"outlinewidth\":0,\"ticks\":\"\"},\"colorscale\":[[0.0,\"#0d0887\"],[0.1111111111111111,\"#46039f\"],[0.2222222222222222,\"#7201a8\"],[0.3333333333333333,\"#9c179e\"],[0.4444444444444444,\"#bd3786\"],[0.5555555555555556,\"#d8576b\"],[0.6666666666666666,\"#ed7953\"],[0.7777777777777778,\"#fb9f3a\"],[0.8888888888888888,\"#fdca26\"],[1.0,\"#f0f921\"]],\"type\":\"contour\"}],\"contourcarpet\":[{\"colorbar\":{\"outlinewidth\":0,\"ticks\":\"\"},\"type\":\"contourcarpet\"}],\"heatmap\":[{\"colorbar\":{\"outlinewidth\":0,\"ticks\":\"\"},\"colorscale\":[[0.0,\"#0d0887\"],[0.1111111111111111,\"#46039f\"],[0.2222222222222222,\"#7201a8\"],[0.3333333333333333,\"#9c179e\"],[0.4444444444444444,\"#bd3786\"],[0.5555555555555556,\"#d8576b\"],[0.6666666666666666,\"#ed7953\"],[0.7777777777777778,\"#fb9f3a\"],[0.8888888888888888,\"#fdca26\"],[1.0,\"#f0f921\"]],\"type\":\"heatmap\"}],\"heatmapgl\":[{\"colorbar\":{\"outlinewidth\":0,\"ticks\":\"\"},\"colorscale\":[[0.0,\"#0d0887\"],[0.1111111111111111,\"#46039f\"],[0.2222222222222222,\"#7201a8\"],[0.3333333333333333,\"#9c179e\"],[0.4444444444444444,\"#bd3786\"],[0.5555555555555556,\"#d8576b\"],[0.6666666666666666,\"#ed7953\"],[0.7777777777777778,\"#fb9f3a\"],[0.8888888888888888,\"#fdca26\"],[1.0,\"#f0f921\"]],\"type\":\"heatmapgl\"}],\"histogram\":[{\"marker\":{\"pattern\":{\"fillmode\":\"overlay\",\"size\":10,\"solidity\":0.2}},\"type\":\"histogram\"}],\"histogram2d\":[{\"colorbar\":{\"outlinewidth\":0,\"ticks\":\"\"},\"colorscale\":[[0.0,\"#0d0887\"],[0.1111111111111111,\"#46039f\"],[0.2222222222222222,\"#7201a8\"],[0.3333333333333333,\"#9c179e\"],[0.4444444444444444,\"#bd3786\"],[0.5555555555555556,\"#d8576b\"],[0.6666666666666666,\"#ed7953\"],[0.7777777777777778,\"#fb9f3a\"],[0.8888888888888888,\"#fdca26\"],[1.0,\"#f0f921\"]],\"type\":\"histogram2d\"}],\"histogram2dcontour\":[{\"colorbar\":{\"outlinewidth\":0,\"ticks\":\"\"},\"colorscale\":[[0.0,\"#0d0887\"],[0.1111111111111111,\"#46039f\"],[0.2222222222222222,\"#7201a8\"],[0.3333333333333333,\"#9c179e\"],[0.4444444444444444,\"#bd3786\"],[0.5555555555555556,\"#d8576b\"],[0.6666666666666666,\"#ed7953\"],[0.7777777777777778,\"#fb9f3a\"],[0.8888888888888888,\"#fdca26\"],[1.0,\"#f0f921\"]],\"type\":\"histogram2dcontour\"}],\"mesh3d\":[{\"colorbar\":{\"outlinewidth\":0,\"ticks\":\"\"},\"type\":\"mesh3d\"}],\"parcoords\":[{\"line\":{\"colorbar\":{\"outlinewidth\":0,\"ticks\":\"\"}},\"type\":\"parcoords\"}],\"pie\":[{\"automargin\":true,\"type\":\"pie\"}],\"scatter\":[{\"marker\":{\"colorbar\":{\"outlinewidth\":0,\"ticks\":\"\"}},\"type\":\"scatter\"}],\"scatter3d\":[{\"line\":{\"colorbar\":{\"outlinewidth\":0,\"ticks\":\"\"}},\"marker\":{\"colorbar\":{\"outlinewidth\":0,\"ticks\":\"\"}},\"type\":\"scatter3d\"}],\"scattercarpet\":[{\"marker\":{\"colorbar\":{\"outlinewidth\":0,\"ticks\":\"\"}},\"type\":\"scattercarpet\"}],\"scattergeo\":[{\"marker\":{\"colorbar\":{\"outlinewidth\":0,\"ticks\":\"\"}},\"type\":\"scattergeo\"}],\"scattergl\":[{\"marker\":{\"colorbar\":{\"outlinewidth\":0,\"ticks\":\"\"}},\"type\":\"scattergl\"}],\"scattermapbox\":[{\"marker\":{\"colorbar\":{\"outlinewidth\":0,\"ticks\":\"\"}},\"type\":\"scattermapbox\"}],\"scatterpolar\":[{\"marker\":{\"colorbar\":{\"outlinewidth\":0,\"ticks\":\"\"}},\"type\":\"scatterpolar\"}],\"scatterpolargl\":[{\"marker\":{\"colorbar\":{\"outlinewidth\":0,\"ticks\":\"\"}},\"type\":\"scatterpolargl\"}],\"scatterternary\":[{\"marker\":{\"colorbar\":{\"outlinewidth\":0,\"ticks\":\"\"}},\"type\":\"scatterternary\"}],\"surface\":[{\"colorbar\":{\"outlinewidth\":0,\"ticks\":\"\"},\"colorscale\":[[0.0,\"#0d0887\"],[0.1111111111111111,\"#46039f\"],[0.2222222222222222,\"#7201a8\"],[0.3333333333333333,\"#9c179e\"],[0.4444444444444444,\"#bd3786\"],[0.5555555555555556,\"#d8576b\"],[0.6666666666666666,\"#ed7953\"],[0.7777777777777778,\"#fb9f3a\"],[0.8888888888888888,\"#fdca26\"],[1.0,\"#f0f921\"]],\"type\":\"surface\"}],\"table\":[{\"cells\":{\"fill\":{\"color\":\"#EBF0F8\"},\"line\":{\"color\":\"white\"}},\"header\":{\"fill\":{\"color\":\"#C8D4E3\"},\"line\":{\"color\":\"white\"}},\"type\":\"table\"}]},\"layout\":{\"annotationdefaults\":{\"arrowcolor\":\"#2a3f5f\",\"arrowhead\":0,\"arrowwidth\":1},\"autotypenumbers\":\"strict\",\"coloraxis\":{\"colorbar\":{\"outlinewidth\":0,\"ticks\":\"\"}},\"colorscale\":{\"diverging\":[[0,\"#8e0152\"],[0.1,\"#c51b7d\"],[0.2,\"#de77ae\"],[0.3,\"#f1b6da\"],[0.4,\"#fde0ef\"],[0.5,\"#f7f7f7\"],[0.6,\"#e6f5d0\"],[0.7,\"#b8e186\"],[0.8,\"#7fbc41\"],[0.9,\"#4d9221\"],[1,\"#276419\"]],\"sequential\":[[0.0,\"#0d0887\"],[0.1111111111111111,\"#46039f\"],[0.2222222222222222,\"#7201a8\"],[0.3333333333333333,\"#9c179e\"],[0.4444444444444444,\"#bd3786\"],[0.5555555555555556,\"#d8576b\"],[0.6666666666666666,\"#ed7953\"],[0.7777777777777778,\"#fb9f3a\"],[0.8888888888888888,\"#fdca26\"],[1.0,\"#f0f921\"]],\"sequentialminus\":[[0.0,\"#0d0887\"],[0.1111111111111111,\"#46039f\"],[0.2222222222222222,\"#7201a8\"],[0.3333333333333333,\"#9c179e\"],[0.4444444444444444,\"#bd3786\"],[0.5555555555555556,\"#d8576b\"],[0.6666666666666666,\"#ed7953\"],[0.7777777777777778,\"#fb9f3a\"],[0.8888888888888888,\"#fdca26\"],[1.0,\"#f0f921\"]]},\"colorway\":[\"#636efa\",\"#EF553B\",\"#00cc96\",\"#ab63fa\",\"#FFA15A\",\"#19d3f3\",\"#FF6692\",\"#B6E880\",\"#FF97FF\",\"#FECB52\"],\"font\":{\"color\":\"#2a3f5f\"},\"geo\":{\"bgcolor\":\"white\",\"lakecolor\":\"white\",\"landcolor\":\"#E5ECF6\",\"showlakes\":true,\"showland\":true,\"subunitcolor\":\"white\"},\"hoverlabel\":{\"align\":\"left\"},\"hovermode\":\"closest\",\"mapbox\":{\"style\":\"light\"},\"paper_bgcolor\":\"white\",\"plot_bgcolor\":\"#E5ECF6\",\"polar\":{\"angularaxis\":{\"gridcolor\":\"white\",\"linecolor\":\"white\",\"ticks\":\"\"},\"bgcolor\":\"#E5ECF6\",\"radialaxis\":{\"gridcolor\":\"white\",\"linecolor\":\"white\",\"ticks\":\"\"}},\"scene\":{\"xaxis\":{\"backgroundcolor\":\"#E5ECF6\",\"gridcolor\":\"white\",\"gridwidth\":2,\"linecolor\":\"white\",\"showbackground\":true,\"ticks\":\"\",\"zerolinecolor\":\"white\"},\"yaxis\":{\"backgroundcolor\":\"#E5ECF6\",\"gridcolor\":\"white\",\"gridwidth\":2,\"linecolor\":\"white\",\"showbackground\":true,\"ticks\":\"\",\"zerolinecolor\":\"white\"},\"zaxis\":{\"backgroundcolor\":\"#E5ECF6\",\"gridcolor\":\"white\",\"gridwidth\":2,\"linecolor\":\"white\",\"showbackground\":true,\"ticks\":\"\",\"zerolinecolor\":\"white\"}},\"shapedefaults\":{\"line\":{\"color\":\"#2a3f5f\"}},\"ternary\":{\"aaxis\":{\"gridcolor\":\"white\",\"linecolor\":\"white\",\"ticks\":\"\"},\"baxis\":{\"gridcolor\":\"white\",\"linecolor\":\"white\",\"ticks\":\"\"},\"bgcolor\":\"#E5ECF6\",\"caxis\":{\"gridcolor\":\"white\",\"linecolor\":\"white\",\"ticks\":\"\"}},\"title\":{\"x\":0.05},\"xaxis\":{\"automargin\":true,\"gridcolor\":\"white\",\"linecolor\":\"white\",\"ticks\":\"\",\"title\":{\"standoff\":15},\"zerolinecolor\":\"white\",\"zerolinewidth\":2},\"yaxis\":{\"automargin\":true,\"gridcolor\":\"white\",\"linecolor\":\"white\",\"ticks\":\"\",\"title\":{\"standoff\":15},\"zerolinecolor\":\"white\",\"zerolinewidth\":2}}},\"xaxis\":{\"anchor\":\"y\",\"domain\":[0.0,1.0],\"title\":{\"text\":\"NER\"}},\"yaxis\":{\"anchor\":\"x\",\"domain\":[0.0,1.0],\"title\":{\"text\":\"count\"}}},                        {\"responsive\": true}                    ).then(function(){\n",
       "                            \n",
       "var gd = document.getElementById('933b74bf-8207-43ad-8ec7-811e4875e956');\n",
       "var x = new MutationObserver(function (mutations, observer) {{\n",
       "        var display = window.getComputedStyle(gd).display;\n",
       "        if (!display || display === 'none') {{\n",
       "            console.log([gd, 'removed!']);\n",
       "            Plotly.purge(gd);\n",
       "            observer.disconnect();\n",
       "        }}\n",
       "}});\n",
       "\n",
       "// Listen for the removal of the full notebook cells\n",
       "var notebookContainer = gd.closest('#notebook-container');\n",
       "if (notebookContainer) {{\n",
       "    x.observe(notebookContainer, {childList: true});\n",
       "}}\n",
       "\n",
       "// Listen for the clearing of the current output cell\n",
       "var outputEl = gd.closest('.output');\n",
       "if (outputEl) {{\n",
       "    x.observe(outputEl, {childList: true});\n",
       "}}\n",
       "\n",
       "                        })                };                });            </script>        </div>"
      ]
     },
     "metadata": {},
     "output_type": "display_data"
    }
   ],
   "source": [
    "import plotly.express as px\n",
    "\n",
    "fig = px.bar(fb, x=\"NER\")\n",
    "fig.show()"
   ]
  },
  {
   "cell_type": "code",
   "execution_count": 32,
   "metadata": {},
   "outputs": [
    {
     "data": {
      "text/html": [
       "<div>\n",
       "<style scoped>\n",
       "    .dataframe tbody tr th:only-of-type {\n",
       "        vertical-align: middle;\n",
       "    }\n",
       "\n",
       "    .dataframe tbody tr th {\n",
       "        vertical-align: top;\n",
       "    }\n",
       "\n",
       "    .dataframe thead th {\n",
       "        text-align: right;\n",
       "    }\n",
       "</style>\n",
       "<table border=\"1\" class=\"dataframe\">\n",
       "  <thead>\n",
       "    <tr style=\"text-align: right;\">\n",
       "      <th></th>\n",
       "      <th>Unnamed: 0</th>\n",
       "      <th>post_id</th>\n",
       "      <th>page_id</th>\n",
       "      <th>page_name</th>\n",
       "      <th>page_category</th>\n",
       "      <th>message</th>\n",
       "      <th>story</th>\n",
       "      <th>type</th>\n",
       "      <th>permalink</th>\n",
       "      <th>created_time_gmt</th>\n",
       "      <th>...</th>\n",
       "      <th>link_description</th>\n",
       "      <th>like_count</th>\n",
       "      <th>haha_count</th>\n",
       "      <th>love_count</th>\n",
       "      <th>angry_count</th>\n",
       "      <th>sad_count</th>\n",
       "      <th>wow_count</th>\n",
       "      <th>comment_count</th>\n",
       "      <th>share_count</th>\n",
       "      <th>NER</th>\n",
       "    </tr>\n",
       "  </thead>\n",
       "  <tbody>\n",
       "    <tr>\n",
       "      <th>4</th>\n",
       "      <td>6064</td>\n",
       "      <td>376687563131189_618105605656049</td>\n",
       "      <td>376687563131189</td>\n",
       "      <td>謝衣鳯</td>\n",
       "      <td>Politician</td>\n",
       "      <td>#感謝彰化鄉親的支持\\n#第一天開工馬不停蹄\\n#腰彎得越低做得越多</td>\n",
       "      <td>NaN</td>\n",
       "      <td>album</td>\n",
       "      <td>https://www.facebook.com/376687563131189/posts...</td>\n",
       "      <td>2020-02-01T07:43:49+0000</td>\n",
       "      <td>...</td>\n",
       "      <td>NaN</td>\n",
       "      <td>4755</td>\n",
       "      <td>0</td>\n",
       "      <td>0</td>\n",
       "      <td>0</td>\n",
       "      <td>0</td>\n",
       "      <td>0</td>\n",
       "      <td>307</td>\n",
       "      <td>35</td>\n",
       "      <td>與政見無關</td>\n",
       "    </tr>\n",
       "    <tr>\n",
       "      <th>7</th>\n",
       "      <td>6067</td>\n",
       "      <td>376687563131189_621904855276124</td>\n",
       "      <td>376687563131189</td>\n",
       "      <td>謝衣鳯</td>\n",
       "      <td>Politician</td>\n",
       "      <td>#悶了一週曬曬太陽最防病\\n#週末記得到溪州公園走走\\n\\n「2020花在彰化」1月25日至...</td>\n",
       "      <td>NaN</td>\n",
       "      <td>album</td>\n",
       "      <td>https://www.facebook.com/376687563131189/posts...</td>\n",
       "      <td>2020-02-07T02:19:30+0000</td>\n",
       "      <td>...</td>\n",
       "      <td>NaN</td>\n",
       "      <td>1454</td>\n",
       "      <td>0</td>\n",
       "      <td>0</td>\n",
       "      <td>0</td>\n",
       "      <td>0</td>\n",
       "      <td>0</td>\n",
       "      <td>55</td>\n",
       "      <td>17</td>\n",
       "      <td>與政見無關</td>\n",
       "    </tr>\n",
       "    <tr>\n",
       "      <th>11</th>\n",
       "      <td>6071</td>\n",
       "      <td>376687563131189_626068201526456</td>\n",
       "      <td>376687563131189</td>\n",
       "      <td>謝衣鳯</td>\n",
       "      <td>Politician</td>\n",
       "      <td>漢寶文蛤一級棒👍👍👍\\n\\n彰化縣文蛤養殖為全國第四，漢寶養殖漁業生產區，位於芳苑鄉海岸的海...</td>\n",
       "      <td>NaN</td>\n",
       "      <td>album</td>\n",
       "      <td>https://www.facebook.com/376687563131189/posts...</td>\n",
       "      <td>2020-02-13T04:05:57+0000</td>\n",
       "      <td>...</td>\n",
       "      <td>NaN</td>\n",
       "      <td>1977</td>\n",
       "      <td>0</td>\n",
       "      <td>0</td>\n",
       "      <td>0</td>\n",
       "      <td>0</td>\n",
       "      <td>0</td>\n",
       "      <td>44</td>\n",
       "      <td>25</td>\n",
       "      <td>與政見無關</td>\n",
       "    </tr>\n",
       "    <tr>\n",
       "      <th>12</th>\n",
       "      <td>6072</td>\n",
       "      <td>376687563131189_625607218239221</td>\n",
       "      <td>376687563131189</td>\n",
       "      <td>謝衣鳯</td>\n",
       "      <td>Politician</td>\n",
       "      <td>#拒絕參與政治會被更糟糕的人統治by柏拉圖\\n\\n今天下午國民黨舉行黨主席補選政策說明會，讓...</td>\n",
       "      <td>NaN</td>\n",
       "      <td>photo</td>\n",
       "      <td>https://www.facebook.com/376687563131189/posts...</td>\n",
       "      <td>2020-02-12T12:00:27+0000</td>\n",
       "      <td>...</td>\n",
       "      <td>#拒絕參與政治會被更糟糕的人統治by柏拉圖\\n\\n今天下午國民黨舉行黨主席補選政策說明會，讓...</td>\n",
       "      <td>1133</td>\n",
       "      <td>0</td>\n",
       "      <td>0</td>\n",
       "      <td>0</td>\n",
       "      <td>0</td>\n",
       "      <td>0</td>\n",
       "      <td>33</td>\n",
       "      <td>7</td>\n",
       "      <td>與政見無關</td>\n",
       "    </tr>\n",
       "    <tr>\n",
       "      <th>13</th>\n",
       "      <td>6073</td>\n",
       "      <td>376687563131189_624677838332159</td>\n",
       "      <td>376687563131189</td>\n",
       "      <td>謝衣鳯</td>\n",
       "      <td>Politician</td>\n",
       "      <td>#母親河畔木棉花季親子健行暨攝影比賽\\n#報名時間2月5日至11日\\n#額滿後就提前結束報名...</td>\n",
       "      <td>NaN</td>\n",
       "      <td>album</td>\n",
       "      <td>https://www.facebook.com/376687563131189/posts...</td>\n",
       "      <td>2020-02-11T01:31:26+0000</td>\n",
       "      <td>...</td>\n",
       "      <td>NaN</td>\n",
       "      <td>944</td>\n",
       "      <td>0</td>\n",
       "      <td>0</td>\n",
       "      <td>0</td>\n",
       "      <td>0</td>\n",
       "      <td>0</td>\n",
       "      <td>31</td>\n",
       "      <td>14</td>\n",
       "      <td>與政見無關</td>\n",
       "    </tr>\n",
       "    <tr>\n",
       "      <th>...</th>\n",
       "      <td>...</td>\n",
       "      <td>...</td>\n",
       "      <td>...</td>\n",
       "      <td>...</td>\n",
       "      <td>...</td>\n",
       "      <td>...</td>\n",
       "      <td>...</td>\n",
       "      <td>...</td>\n",
       "      <td>...</td>\n",
       "      <td>...</td>\n",
       "      <td>...</td>\n",
       "      <td>...</td>\n",
       "      <td>...</td>\n",
       "      <td>...</td>\n",
       "      <td>...</td>\n",
       "      <td>...</td>\n",
       "      <td>...</td>\n",
       "      <td>...</td>\n",
       "      <td>...</td>\n",
       "      <td>...</td>\n",
       "      <td>...</td>\n",
       "    </tr>\n",
       "    <tr>\n",
       "      <th>643</th>\n",
       "      <td>6703</td>\n",
       "      <td>376687563131189_986523385480934</td>\n",
       "      <td>376687563131189</td>\n",
       "      <td>謝衣鳯</td>\n",
       "      <td>Politician</td>\n",
       "      <td>太棒了！\\n台灣人的驕傲🦚\\n#麟洋配拿到奧運金牌🏅️🏅️\\n熱炒店終於有上金牌了\\n  💪💪</td>\n",
       "      <td>NaN</td>\n",
       "      <td>mobile_status_update</td>\n",
       "      <td>https://www.facebook.com/376687563131189/posts...</td>\n",
       "      <td>2021-07-31T13:06:13+0000</td>\n",
       "      <td>...</td>\n",
       "      <td>NaN</td>\n",
       "      <td>2005</td>\n",
       "      <td>0</td>\n",
       "      <td>0</td>\n",
       "      <td>0</td>\n",
       "      <td>0</td>\n",
       "      <td>0</td>\n",
       "      <td>86</td>\n",
       "      <td>12</td>\n",
       "      <td>與政見無關</td>\n",
       "    </tr>\n",
       "    <tr>\n",
       "      <th>644</th>\n",
       "      <td>6704</td>\n",
       "      <td>376687563131189_985797265553546</td>\n",
       "      <td>376687563131189</td>\n",
       "      <td>謝衣鳯</td>\n",
       "      <td>Politician</td>\n",
       "      <td>#王齊麟李洋直落二得金牌超強👍\\n#戴資穎戴資穎第一名\\n#戴資穎戴資穎我愛妳\\n#資穎資穎...</td>\n",
       "      <td>NaN</td>\n",
       "      <td>photo</td>\n",
       "      <td>https://www.facebook.com/376687563131189/posts...</td>\n",
       "      <td>2021-07-30T10:36:53+0000</td>\n",
       "      <td>...</td>\n",
       "      <td>#王齊麟李洋直落二得金牌超強👍\\n#戴資穎戴資穎第一名\\n#戴資穎戴資穎我愛妳\\n#資穎資穎...</td>\n",
       "      <td>2954</td>\n",
       "      <td>0</td>\n",
       "      <td>0</td>\n",
       "      <td>0</td>\n",
       "      <td>0</td>\n",
       "      <td>0</td>\n",
       "      <td>85</td>\n",
       "      <td>24</td>\n",
       "      <td>與政見無關</td>\n",
       "    </tr>\n",
       "    <tr>\n",
       "      <th>646</th>\n",
       "      <td>6706</td>\n",
       "      <td>376687563131189_990961301703809</td>\n",
       "      <td>376687563131189</td>\n",
       "      <td>謝衣鳯</td>\n",
       "      <td>Politician</td>\n",
       "      <td>#父親節快樂💖💖💖 \\n\\n今天是八月八日父親節，祝福全天下的父親父親節快樂❣️\\n盧碧颱風...</td>\n",
       "      <td>NaN</td>\n",
       "      <td>photo</td>\n",
       "      <td>https://www.facebook.com/376687563131189/posts...</td>\n",
       "      <td>2021-08-08T00:00:01+0000</td>\n",
       "      <td>...</td>\n",
       "      <td>#父親節快樂💖💖💖 \\n\\n今天是八月八日父親節，祝福全天下的父親父親節快樂❣️\\n盧碧颱風...</td>\n",
       "      <td>1545</td>\n",
       "      <td>0</td>\n",
       "      <td>0</td>\n",
       "      <td>0</td>\n",
       "      <td>0</td>\n",
       "      <td>0</td>\n",
       "      <td>80</td>\n",
       "      <td>29</td>\n",
       "      <td>與政見無關</td>\n",
       "    </tr>\n",
       "    <tr>\n",
       "      <th>649</th>\n",
       "      <td>6709</td>\n",
       "      <td>376687563131189_993297524803520</td>\n",
       "      <td>376687563131189</td>\n",
       "      <td>謝衣鳯</td>\n",
       "      <td>Politician</td>\n",
       "      <td>#中央地方一起勘災\\n#徹底解決淹水問題\\n\\n水利署長說此次芳苑會淹水主要因新街排水大潮來...</td>\n",
       "      <td>NaN</td>\n",
       "      <td>album</td>\n",
       "      <td>https://www.facebook.com/376687563131189/posts...</td>\n",
       "      <td>2021-08-11T04:00:23+0000</td>\n",
       "      <td>...</td>\n",
       "      <td>NaN</td>\n",
       "      <td>1608</td>\n",
       "      <td>0</td>\n",
       "      <td>0</td>\n",
       "      <td>0</td>\n",
       "      <td>0</td>\n",
       "      <td>0</td>\n",
       "      <td>70</td>\n",
       "      <td>12</td>\n",
       "      <td>與政見無關</td>\n",
       "    </tr>\n",
       "    <tr>\n",
       "      <th>656</th>\n",
       "      <td>6716</td>\n",
       "      <td>376687563131189_1002321060567833</td>\n",
       "      <td>376687563131189</td>\n",
       "      <td>謝衣鳯</td>\n",
       "      <td>Politician</td>\n",
       "      <td>#氣候變遷 \\n#淹水新常態\\n#前瞻基礎建設計畫 #水環境建設\\n\\n由於全球氣候變遷導致...</td>\n",
       "      <td>NaN</td>\n",
       "      <td>album</td>\n",
       "      <td>https://www.facebook.com/376687563131189/posts...</td>\n",
       "      <td>2021-08-25T01:50:47+0000</td>\n",
       "      <td>...</td>\n",
       "      <td>NaN</td>\n",
       "      <td>1218</td>\n",
       "      <td>0</td>\n",
       "      <td>0</td>\n",
       "      <td>0</td>\n",
       "      <td>0</td>\n",
       "      <td>0</td>\n",
       "      <td>32</td>\n",
       "      <td>18</td>\n",
       "      <td>與政見無關</td>\n",
       "    </tr>\n",
       "  </tbody>\n",
       "</table>\n",
       "<p>331 rows × 23 columns</p>\n",
       "</div>"
      ],
      "text/plain": [
       "     Unnamed: 0                           post_id          page_id page_name  \\\n",
       "4          6064   376687563131189_618105605656049  376687563131189       謝衣鳯   \n",
       "7          6067   376687563131189_621904855276124  376687563131189       謝衣鳯   \n",
       "11         6071   376687563131189_626068201526456  376687563131189       謝衣鳯   \n",
       "12         6072   376687563131189_625607218239221  376687563131189       謝衣鳯   \n",
       "13         6073   376687563131189_624677838332159  376687563131189       謝衣鳯   \n",
       "..          ...                               ...              ...       ...   \n",
       "643        6703   376687563131189_986523385480934  376687563131189       謝衣鳯   \n",
       "644        6704   376687563131189_985797265553546  376687563131189       謝衣鳯   \n",
       "646        6706   376687563131189_990961301703809  376687563131189       謝衣鳯   \n",
       "649        6709   376687563131189_993297524803520  376687563131189       謝衣鳯   \n",
       "656        6716  376687563131189_1002321060567833  376687563131189       謝衣鳯   \n",
       "\n",
       "    page_category                                            message story  \\\n",
       "4      Politician                 #感謝彰化鄉親的支持\\n#第一天開工馬不停蹄\\n#腰彎得越低做得越多   NaN   \n",
       "7      Politician  #悶了一週曬曬太陽最防病\\n#週末記得到溪州公園走走\\n\\n「2020花在彰化」1月25日至...   NaN   \n",
       "11     Politician  漢寶文蛤一級棒👍👍👍\\n\\n彰化縣文蛤養殖為全國第四，漢寶養殖漁業生產區，位於芳苑鄉海岸的海...   NaN   \n",
       "12     Politician  #拒絕參與政治會被更糟糕的人統治by柏拉圖\\n\\n今天下午國民黨舉行黨主席補選政策說明會，讓...   NaN   \n",
       "13     Politician  #母親河畔木棉花季親子健行暨攝影比賽\\n#報名時間2月5日至11日\\n#額滿後就提前結束報名...   NaN   \n",
       "..            ...                                                ...   ...   \n",
       "643    Politician    太棒了！\\n台灣人的驕傲🦚\\n#麟洋配拿到奧運金牌🏅️🏅️\\n熱炒店終於有上金牌了\\n  💪💪   NaN   \n",
       "644    Politician  #王齊麟李洋直落二得金牌超強👍\\n#戴資穎戴資穎第一名\\n#戴資穎戴資穎我愛妳\\n#資穎資穎...   NaN   \n",
       "646    Politician  #父親節快樂💖💖💖 \\n\\n今天是八月八日父親節，祝福全天下的父親父親節快樂❣️\\n盧碧颱風...   NaN   \n",
       "649    Politician  #中央地方一起勘災\\n#徹底解決淹水問題\\n\\n水利署長說此次芳苑會淹水主要因新街排水大潮來...   NaN   \n",
       "656    Politician  #氣候變遷 \\n#淹水新常態\\n#前瞻基礎建設計畫 #水環境建設\\n\\n由於全球氣候變遷導致...   NaN   \n",
       "\n",
       "                     type                                          permalink  \\\n",
       "4                   album  https://www.facebook.com/376687563131189/posts...   \n",
       "7                   album  https://www.facebook.com/376687563131189/posts...   \n",
       "11                  album  https://www.facebook.com/376687563131189/posts...   \n",
       "12                  photo  https://www.facebook.com/376687563131189/posts...   \n",
       "13                  album  https://www.facebook.com/376687563131189/posts...   \n",
       "..                    ...                                                ...   \n",
       "643  mobile_status_update  https://www.facebook.com/376687563131189/posts...   \n",
       "644                 photo  https://www.facebook.com/376687563131189/posts...   \n",
       "646                 photo  https://www.facebook.com/376687563131189/posts...   \n",
       "649                 album  https://www.facebook.com/376687563131189/posts...   \n",
       "656                 album  https://www.facebook.com/376687563131189/posts...   \n",
       "\n",
       "             created_time_gmt  ...  \\\n",
       "4    2020-02-01T07:43:49+0000  ...   \n",
       "7    2020-02-07T02:19:30+0000  ...   \n",
       "11   2020-02-13T04:05:57+0000  ...   \n",
       "12   2020-02-12T12:00:27+0000  ...   \n",
       "13   2020-02-11T01:31:26+0000  ...   \n",
       "..                        ...  ...   \n",
       "643  2021-07-31T13:06:13+0000  ...   \n",
       "644  2021-07-30T10:36:53+0000  ...   \n",
       "646  2021-08-08T00:00:01+0000  ...   \n",
       "649  2021-08-11T04:00:23+0000  ...   \n",
       "656  2021-08-25T01:50:47+0000  ...   \n",
       "\n",
       "                                      link_description like_count haha_count  \\\n",
       "4                                                  NaN       4755          0   \n",
       "7                                                  NaN       1454          0   \n",
       "11                                                 NaN       1977          0   \n",
       "12   #拒絕參與政治會被更糟糕的人統治by柏拉圖\\n\\n今天下午國民黨舉行黨主席補選政策說明會，讓...       1133          0   \n",
       "13                                                 NaN        944          0   \n",
       "..                                                 ...        ...        ...   \n",
       "643                                                NaN       2005          0   \n",
       "644  #王齊麟李洋直落二得金牌超強👍\\n#戴資穎戴資穎第一名\\n#戴資穎戴資穎我愛妳\\n#資穎資穎...       2954          0   \n",
       "646  #父親節快樂💖💖💖 \\n\\n今天是八月八日父親節，祝福全天下的父親父親節快樂❣️\\n盧碧颱風...       1545          0   \n",
       "649                                                NaN       1608          0   \n",
       "656                                                NaN       1218          0   \n",
       "\n",
       "    love_count  angry_count  sad_count  wow_count  comment_count  share_count  \\\n",
       "4            0            0          0          0            307           35   \n",
       "7            0            0          0          0             55           17   \n",
       "11           0            0          0          0             44           25   \n",
       "12           0            0          0          0             33            7   \n",
       "13           0            0          0          0             31           14   \n",
       "..         ...          ...        ...        ...            ...          ...   \n",
       "643          0            0          0          0             86           12   \n",
       "644          0            0          0          0             85           24   \n",
       "646          0            0          0          0             80           29   \n",
       "649          0            0          0          0             70           12   \n",
       "656          0            0          0          0             32           18   \n",
       "\n",
       "       NER  \n",
       "4    與政見無關  \n",
       "7    與政見無關  \n",
       "11   與政見無關  \n",
       "12   與政見無關  \n",
       "13   與政見無關  \n",
       "..     ...  \n",
       "643  與政見無關  \n",
       "644  與政見無關  \n",
       "646  與政見無關  \n",
       "649  與政見無關  \n",
       "656  與政見無關  \n",
       "\n",
       "[331 rows x 23 columns]"
      ]
     },
     "execution_count": 32,
     "metadata": {},
     "output_type": "execute_result"
    }
   ],
   "source": [
    "fb.loc[fb['NER'] == \"與政見無關\"]"
   ]
  },
  {
   "cell_type": "code",
   "execution_count": null,
   "metadata": {},
   "outputs": [],
   "source": []
  }
 ],
 "metadata": {
  "kernelspec": {
   "display_name": "Python 3",
   "language": "python",
   "name": "python3"
  },
  "language_info": {
   "codemirror_mode": {
    "name": "ipython",
    "version": 3
   },
   "file_extension": ".py",
   "mimetype": "text/x-python",
   "name": "python",
   "nbconvert_exporter": "python",
   "pygments_lexer": "ipython3",
   "version": "3.8.8"
  }
 },
 "nbformat": 4,
 "nbformat_minor": 4
}
